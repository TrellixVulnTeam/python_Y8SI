{
 "cells": [
  {
   "cell_type": "code",
   "execution_count": null,
   "metadata": {},
   "outputs": [],
   "source": [
    "class Person:\n",
    "\n",
    "    # constructor \n",
    "    def __init__(self, name):\n",
    "        self.name = name\n",
    "\n",
    "        # to get name \n",
    "    def getName(self):\n",
    "        return self.name\n",
    "\n",
    "        # to check if this person is an employee\n",
    "    def isEmployee(self):\n",
    "        return False\n",
    "\n",
    "\n",
    "# inheritance or subclass (Note: the person is in bracket)\n",
    "class Employee(Person):\n",
    "\n",
    "    # here we return true \n",
    "    def isEmployee(self):\n",
    "        return True\n",
    "\n",
    "emp = Person('yogesh') # an object of Person \n",
    "print(emp.getName(), emp.isEmployee())  \n",
    "\n",
    "emp2 = Employee('Bikky') # an object of Emplotyee\n",
    "print(emp2.getName(), emp2.isEmployee())\n"
   ]
  }
 ],
 "metadata": {
  "language_info": {
   "name": "python"
  },
  "orig_nbformat": 4
 },
 "nbformat": 4,
 "nbformat_minor": 2
}
