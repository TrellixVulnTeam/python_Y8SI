{
 "cells": [
  {
   "cell_type": "code",
   "execution_count": 5,
   "metadata": {},
   "outputs": [
    {
     "name": "stdout",
     "output_type": "stream",
     "text": [
      "white\n"
     ]
    }
   ],
   "source": [
    "# python program to show that we can create \n",
    "# instance varaible inside methods \n",
    "# \n",
    "# class for vechile \n",
    "class vechile:\n",
    "\n",
    "    # class variable \n",
    "    vechile_type = 'car'\n",
    "\n",
    "    # the init method ot constructor \n",
    "    def __init__(self, company):\n",
    "\n",
    "        # instance variable \n",
    "        self.company = company\n",
    "\n",
    "    # adds an instance variables \n",
    "    def setColor(self, color): # def setColor (obj1, 'White)\n",
    "        self.color = color # obj1.color = 'white\n",
    "\n",
    "\n",
    "    # retriving instance varaible \n",
    "    def getColor(self): # def getColor(obj1)\n",
    "        return self.color # return obj1.color\n",
    "\n",
    "# driver code \n",
    "obj1 = vechile('Tesla')\n",
    "obj1.setColor('white') # vechile.setColor(obj1, 'while)\n",
    "print(obj1.getColor()) # vechile.getColor(obj1)"
   ]
  },
  {
   "cell_type": "code",
   "execution_count": 6,
   "metadata": {},
   "outputs": [
    {
     "name": "stdout",
     "output_type": "stream",
     "text": [
      "object1 details: \n",
      "---------------------------\n",
      "obj1 is a:  car\n",
      "company:  BMW\n",
      "color:  Black\n",
      "\n",
      "object2 details: \n",
      "---------------------------\n",
      "obj2 is a:  car\n",
      "company:  Tesla\n",
      "color:  White\n",
      "\n",
      "Accessing class variables using class name: \n",
      "---------------------------\n",
      "car\n"
     ]
    }
   ],
   "source": [
    "# 2nd part of instance variable \n",
    "\n",
    "# variabvle that are ouside the methods/objects are called class varaible  i.e they are global varaible \n",
    "# variable that are inside methods/objects are called instance variable i.e they are local variable \n",
    "\n",
    "# self = obj\n",
    "\n",
    "class vechile:\n",
    "\n",
    "    # class variable \n",
    "    vechile_type = 'car'\n",
    "\n",
    "    # the init method or constructoir \n",
    "    def __init__(self, company, color):\n",
    "\n",
    "        # instance variable \n",
    "        # in instence variable we need to keep self at begining.\n",
    "            self.company = company\n",
    "            self.color = color\n",
    "\n",
    "# onbjects of vechile class\n",
    "obj1 = vechile('BMW', 'Black')\n",
    "obj2 = vechile('Tesla', 'White')\n",
    "\n",
    "print('object1 details: ')\n",
    "print('---------------------------')\n",
    "print('obj1 is a: ', obj1.vechile_type)\n",
    "print('company: ', obj1.company)\n",
    "print('color: ', obj1.color)\n",
    "\n",
    "print()\n",
    "print('object2 details: ')\n",
    "print('---------------------------')\n",
    "print('obj2 is a: ', obj2.vechile_type)\n",
    "print('company: ', obj2.company)\n",
    "print('color: ', obj2.color)\n",
    "\n",
    "# class variables can access using class name also \n",
    "print()\n",
    "print(\"Accessing class variables using class name: \")\n",
    "print('---------------------------')\n",
    "print(vechile.vechile_type)\n"
   ]
  },
  {
   "cell_type": "code",
   "execution_count": 1,
   "metadata": {},
   "outputs": [
    {
     "name": "stdout",
     "output_type": "stream",
     "text": [
      "100\n",
      "3000\n"
     ]
    }
   ],
   "source": [
    "# constructor and __init__\n",
    "class item:\n",
    "    def __init__(self, name:str, price:float, quantity = 0):\n",
    "        # run validation to the received arguments \n",
    "        assert price >= 0, f'price {price} is not greater than or equal to zero!'\n",
    "        assert quantity >= 0, f'Quantity {quantity} is not greater than or equal to zero!'\n",
    "\n",
    "        # Assign to self object\n",
    "        self.name = name\n",
    "        self.price = price \n",
    "        self.quantity = quantity\n",
    "\n",
    "    def calculate_total_price(self):\n",
    "        return self.price * self.quantity\n",
    "\n",
    "item1 = item(\"Phone\", 100, 2)\n",
    "item2 = item(\"laptop\", 1000, 3)\n",
    "\n",
    "print(item1.calculate_total_price())\n",
    "print(item2.calculate_total_price())"
   ]
  },
  {
   "cell_type": "code",
   "execution_count": null,
   "metadata": {},
   "outputs": [],
   "source": []
  }
 ],
 "metadata": {
  "interpreter": {
   "hash": "73b4fb914614748e1b4d5ae3804a556d6d463f357c4fc043afe155ac08cb1c28"
  },
  "kernelspec": {
   "display_name": "Python 3.9.6 64-bit",
   "language": "python",
   "name": "python3"
  },
  "language_info": {
   "codemirror_mode": {
    "name": "ipython",
    "version": 3
   },
   "file_extension": ".py",
   "mimetype": "text/x-python",
   "name": "python",
   "nbconvert_exporter": "python",
   "pygments_lexer": "ipython3",
   "version": "3.9.6"
  },
  "orig_nbformat": 4
 },
 "nbformat": 4,
 "nbformat_minor": 2
}
