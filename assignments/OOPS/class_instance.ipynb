{
 "cells": [
  {
   "cell_type": "code",
   "execution_count": 5,
   "metadata": {},
   "outputs": [
    {
     "name": "stdout",
     "output_type": "stream",
     "text": [
      "white\n"
     ]
    }
   ],
   "source": [
    "# python program to show that we can create \n",
    "# instance varaible inside methods \n",
    "# \n",
    "# class for vechile \n",
    "class vechile:\n",
    "\n",
    "    # class variable \n",
    "    vechile_type = 'car'\n",
    "\n",
    "    # the init method ot constructor \n",
    "    def __init__(self, company):\n",
    "\n",
    "        # instance variable \n",
    "        self.company = company\n",
    "\n",
    "    # adds an instance variables \n",
    "    def setColor(self, color): # def setColor (obj1, 'White)\n",
    "        self.color = color # obj1.color = 'white\n",
    "\n",
    "\n",
    "    # retriving instance varaible \n",
    "    def getColor(self): # def getColor(obj1)\n",
    "        return self.color # return obj1.color\n",
    "\n",
    "# driver code \n",
    "obj1 = vechile('Tesla')\n",
    "obj1.setColor('white') # vechile.setColor(obj1, 'while)\n",
    "print(obj1.getColor()) # vechile.getColor(obj1)"
   ]
  },
  {
   "cell_type": "code",
   "execution_count": null,
   "metadata": {},
   "outputs": [],
   "source": []
  }
 ],
 "metadata": {
  "interpreter": {
   "hash": "73b4fb914614748e1b4d5ae3804a556d6d463f357c4fc043afe155ac08cb1c28"
  },
  "kernelspec": {
   "display_name": "Python 3.9.6 64-bit",
   "language": "python",
   "name": "python3"
  },
  "language_info": {
   "codemirror_mode": {
    "name": "ipython",
    "version": 3
   },
   "file_extension": ".py",
   "mimetype": "text/x-python",
   "name": "python",
   "nbconvert_exporter": "python",
   "pygments_lexer": "ipython3",
   "version": "3.9.6"
  },
  "orig_nbformat": 4
 },
 "nbformat": 4,
 "nbformat_minor": 2
}
