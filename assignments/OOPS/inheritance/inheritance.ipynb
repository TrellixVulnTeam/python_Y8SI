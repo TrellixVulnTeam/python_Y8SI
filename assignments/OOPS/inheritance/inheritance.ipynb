{
 "cells": [
  {
   "cell_type": "code",
   "execution_count": 1,
   "metadata": {},
   "outputs": [
    {
     "name": "stdout",
     "output_type": "stream",
     "text": [
      "yogesh False\n",
      "Bikky True\n"
     ]
    }
   ],
   "source": [
    "# single inheritance \n",
    "\n",
    "class Person:\n",
    "    # parent class => base class => super class \n",
    "\n",
    "    # constructor \n",
    "    def __init__(self, name):\n",
    "        self.name = name\n",
    "\n",
    "        # to get name \n",
    "    def getName(self):\n",
    "        return self.name\n",
    "\n",
    "        # to check if this person is an employee\n",
    "    def isEmployee(self):\n",
    "        return False\n",
    "\n",
    "\n",
    "# inheritance or subclass (Note: the person is in bracket)\n",
    "class Employee(Person):\n",
    "    # child class => sub-class => derive class \n",
    "\n",
    "    # here we return true \n",
    "    def isEmployee(self):\n",
    "        return True\n",
    "\n",
    "emp = Person('yogesh') # an object of Person \n",
    "print(emp.getName(), emp.isEmployee())  \n",
    "\n",
    "emp2 = Employee('Bikky') # an object of Emplotyee\n",
    "print(emp2.getName(), emp2.isEmployee())\n"
   ]
  },
  {
   "cell_type": "code",
   "execution_count": 25,
   "metadata": {},
   "outputs": [
    {
     "name": "stdout",
     "output_type": "stream",
     "text": [
      "Bikky False\n"
     ]
    }
   ],
   "source": [
    "# constructor over riding :- \n",
    "# constructor over riding cant done\n",
    "\n",
    "class Person:\n",
    "    # parent class \n",
    "\n",
    "    # constructor \n",
    "    def __init__(self, name):\n",
    "        self.name = name\n",
    "\n",
    "        # to get name \n",
    "    def getName(self):\n",
    "        return self.name\n",
    "\n",
    "        # to check if this person is an employee\n",
    "    def isEmployee(self):\n",
    "        return False\n",
    "\n",
    "\n",
    "# inheritance or subclass (Note: the person is in bracket)\n",
    "class Employee(Person):\n",
    "    # child class are also calles subclass \n",
    "\n",
    "\n",
    "    # calling parent class constructor \n",
    "    # becuase we cant have two different construction \n",
    "    \n",
    "    def __init__(self, name):\n",
    "        super().__init__(name) # calling the super function\n",
    "\n",
    "    # def __init__(self, name):\n",
    "    #     Person.__init__(self, name) # calling parent class constructor in child class explicitly  \n",
    "\n",
    "\n",
    "emp2 = Employee('Bikky') # an object of Emplotyee\n",
    "print(emp2.getName(), emp2.isEmployee())\n"
   ]
  },
  {
   "cell_type": "code",
   "execution_count": 31,
   "metadata": {},
   "outputs": [
    {
     "name": "stdout",
     "output_type": "stream",
     "text": [
      "yogesh\n",
      "781110\n",
      "========>\n",
      "yogesh\n",
      "781110\n",
      "100000\n",
      "developer\n"
     ]
    }
   ],
   "source": [
    "# parent class \n",
    "class parent():\n",
    "\n",
    "    # constructor \n",
    "    def __init__(self, name, idnumber):\n",
    "        self.name = name\n",
    "        self.idnumber = idnumber\n",
    "\n",
    "    def display(self):\n",
    "        print(self.name)\n",
    "        print(self.idnumber)\n",
    "\n",
    "# child class \n",
    "class child(parent):\n",
    "\n",
    "    def __init__(self, name, idnumber, salary, post):\n",
    "        self.salary = salary\n",
    "        self.post = post\n",
    "        # invoking the __inti__ of parents class\n",
    "        super().__init__(name, idnumber)\n",
    "        # or using the parents.__init__(self, name, idnumber)\n",
    "\n",
    "    def displayagain(self):\n",
    "        print(self.name)\n",
    "        print(self.idnumber)\n",
    "        print(self.salary)\n",
    "        print(self.post)\n",
    "\n",
    "\n",
    "\n",
    "# creation of an object variables or an instance \n",
    "a = child('yogesh', 781110, 100000, 'developer')\n",
    "\n",
    "# calling a function of the class person using instance s\n",
    "a.display()\n",
    "print('========>')\n",
    "a.displayagain()\n"
   ]
  },
  {
   "cell_type": "code",
   "execution_count": null,
   "metadata": {},
   "outputs": [],
   "source": [
    "# \n",
    "class mother:\n",
    "    mothername = ''\n",
    "    def mother(name):\n",
    "        "
   ]
  },
  {
   "cell_type": "code",
   "execution_count": null,
   "metadata": {},
   "outputs": [],
   "source": [
    "# multilevel inheritance "
   ]
  }
 ],
 "metadata": {
  "language_info": {
   "name": "python"
  },
  "orig_nbformat": 4
 },
 "nbformat": 4,
 "nbformat_minor": 2
}
