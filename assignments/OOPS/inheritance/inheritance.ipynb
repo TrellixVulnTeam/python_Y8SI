{
 "cells": [
  {
   "cell_type": "code",
   "execution_count": 1,
   "metadata": {},
   "outputs": [
    {
     "name": "stdout",
     "output_type": "stream",
     "text": [
      "yogesh False\n",
      "Bikky True\n"
     ]
    }
   ],
   "source": [
    "# single inheritance \n",
    "\n",
    "class Person:\n",
    "    # parent class => base class => super class \n",
    "\n",
    "    # constructor \n",
    "    def __init__(self, name):\n",
    "        self.name = name\n",
    "\n",
    "        # to get name \n",
    "    def getName(self):\n",
    "        return self.name\n",
    "\n",
    "        # to check if this person is an employee\n",
    "    def isEmployee(self)(self):\n",
    "        return False\n",
    "\n",
    "\n",
    "# inheritance or subclass (Note: the person is in bracket)\n",
    "class Employee(Person):\n",
    "    # child class => sub-class => derive class \n",
    "\n",
    "    # here we return true \n",
    "    def isEmployee(self)(self):\n",
    "        return True\n",
    "\n",
    "emp = Person('yogesh') # an object of Person \n",
    "print(emp.getName(), emp.isEmployee(self)())  \n",
    "\n",
    "emp2 = Employee('Bikky') # an object of Emplotyee\n",
    "print(emp2.getName(), emp2.isEmployee(self)())\n"
   ]
  },
  {
   "cell_type": "code",
   "execution_count": 25,
   "metadata": {},
   "outputs": [
    {
     "name": "stdout",
     "output_type": "stream",
     "text": [
      "Bikky False\n"
     ]
    }
   ],
   "source": [
    "# constructor over riding :- \n",
    "# constructor over riding cant done\n",
    "\n",
    "class Person:\n",
    "    # parent class \n",
    "\n",
    "    # constructor \n",
    "    def __init__(self, name):\n",
    "        self.name = name\n",
    "\n",
    "        # to get name \n",
    "    def getName(self):\n",
    "        return self.name\n",
    "\n",
    "        # to check if this person is an employee\n",
    "    def isEmployee(self)(self):\n",
    "        return False\n",
    "\n",
    "\n",
    "# inheritance or subclass (Note: the person is in bracket)\n",
    "class Employee(Person):\n",
    "    # child class are also calles subclass \n",
    "\n",
    "\n",
    "    # calling parent class constructor \n",
    "    # becuase we cant have two different construction \n",
    "    \n",
    "    def __init__(self, name):\n",
    "        super().__init__(name) # calling the super function\n",
    "\n",
    "    # def __init__(self, name):\n",
    "    #     Person.__init__(self, name) # calling parent class constructor in child class explicitly  \n",
    "\n",
    "\n",
    "emp2 = Employee('Bikky') # an object of Emplotyee\n",
    "print(emp2.getName(), emp2.isEmployee(self)())\n"
   ]
  },
  {
   "cell_type": "code",
   "execution_count": 31,
   "metadata": {},
   "outputs": [
    {
     "name": "stdout",
     "output_type": "stream",
     "text": [
      "yogesh\n",
      "781110\n",
      "========>\n",
      "yogesh\n",
      "781110\n",
      "100000\n",
      "developer\n"
     ]
    }
   ],
   "source": [
    "# parent class \n",
    "class parent():\n",
    "\n",
    "    # constructor \n",
    "    def __init__(self, name, idnumber):\n",
    "        self.name = name\n",
    "        self.idnumber = idnumber\n",
    "\n",
    "    def display(self):\n",
    "        print(self.name)\n",
    "        print(self.idnumber)\n",
    "\n",
    "# child class \n",
    "class child(parent):\n",
    "\n",
    "    def __init__(self, name, idnumber, salary, post):\n",
    "        self.salary = salary\n",
    "        self.post = post\n",
    "        # invoking the __inti__ of parents class\n",
    "        super().__init__(name, idnumber)\n",
    "        # or using the parents.__init__(self, name, idnumber)\n",
    "\n",
    "    def displayagain(self):\n",
    "        print(self.name)\n",
    "        print(self.idnumber)\n",
    "        print(self.salary)\n",
    "        print(self.post)\n",
    "\n",
    "\n",
    "\n",
    "# creation of an object variables or an instance \n",
    "a = child('yogesh', 781110, 100000, 'developer')\n",
    "\n",
    "# calling a function of the class person using instance s\n",
    "a.display()\n",
    "print('========>')\n",
    "a.displayagain()\n"
   ]
  },
  {
   "cell_type": "code",
   "execution_count": 6,
   "metadata": {},
   "outputs": [
    {
     "name": "stdout",
     "output_type": "stream",
     "text": [
      "yogesh\n",
      "Not a Department manager\n",
      "Not a Employee\n",
      "a Coder\n"
     ]
    },
    {
     "data": {
      "text/plain": [
       "True"
      ]
     },
     "execution_count": 6,
     "metadata": {},
     "output_type": "execute_result"
    }
   ],
   "source": [
    "# inheritance \n",
    "class Boss:\n",
    "\n",
    "    # constructor \n",
    "    def __init__(self, name):\n",
    "        self.name = name  \n",
    "\n",
    "    def getName(self):\n",
    "        return self.name\n",
    "\n",
    "    def IsDepartmentM(self):\n",
    "        print('Department manager')\n",
    "        return True\n",
    "\n",
    "    def isEmployee(self):\n",
    "        print('Not a Employee')\n",
    "        return False\n",
    "\n",
    "    def code(self):\n",
    "        print('Not a coder')\n",
    "        return False\n",
    "\n",
    "class isDepartment(Boss):\n",
    "\n",
    "    #constructor \n",
    "    def __init__(self, name):\n",
    "        super().__init__(name)\n",
    "\n",
    "    def IsDepartmentM(self):\n",
    "        print('Not a Department manager')\n",
    "        return False\n",
    "\n",
    "    def isEmployee(self):\n",
    "        print('Employee')\n",
    "        return True \n",
    "\n",
    "    def code(self):\n",
    "        print('Not a coder')\n",
    "        return False\n",
    "\n",
    "class isEmployee(isDepartment):\n",
    "\n",
    "    # constructor \n",
    "    def __init__(self, name):\n",
    "        super().__init__(name)\n",
    "        print(self.name)\n",
    "\n",
    "    def IsDepartmentM(self):\n",
    "        print('Not a Department manager')\n",
    "        return False\n",
    "\n",
    "    def isEmployee(self):\n",
    "        print('Not a Employee')\n",
    "        return False\n",
    "\n",
    "\n",
    "    def code(self):\n",
    "        print('A Coder')\n",
    "        return True\n",
    "obj = isEmployee('yogesh')\n",
    "obj.getName()\n",
    "obj.IsDepartmentM()\n",
    "obj.isEmployee()\n",
    "obj.code()\n"
   ]
  },
  {
   "cell_type": "code",
   "execution_count": null,
   "metadata": {},
   "outputs": [],
   "source": []
  }
 ],
 "metadata": {
  "interpreter": {
   "hash": "73b4fb914614748e1b4d5ae3804a556d6d463f357c4fc043afe155ac08cb1c28"
  },
  "kernelspec": {
   "display_name": "Python 3.9.6 64-bit",
   "language": "python",
   "name": "python3"
  },
  "language_info": {
   "codemirror_mode": {
    "name": "ipython",
    "version": 3
   },
   "file_extension": ".py",
   "mimetype": "text/x-python",
   "name": "python",
   "nbconvert_exporter": "python",
   "pygments_lexer": "ipython3",
   "version": "3.9.6"
  },
  "orig_nbformat": 4
 },
 "nbformat": 4,
 "nbformat_minor": 2
}
