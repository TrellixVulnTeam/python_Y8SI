{
 "cells": [
  {
   "cell_type": "code",
   "execution_count": 8,
   "metadata": {},
   "outputs": [
    {
     "name": "stdout",
     "output_type": "stream",
     "text": [
      "Sataman\n",
      "GrandFatherName:  Sataman\n",
      "FatherName:  Deepak\n",
      "ChildName:  Shahisnuta\n"
     ]
    }
   ],
   "source": [
    "# multi level inheritance \n",
    "\n",
    "# base class \n",
    "class Grandfather:\n",
    "\n",
    "    # constructor \n",
    "    def __init__(self, grandfatherName):\n",
    "        self.grandfatherName = grandfatherName\n",
    "\n",
    "# intermidate class \n",
    "class Father(Grandfather):\n",
    "\n",
    "    # constructor \n",
    "    def __init__(self, grandfatherName, fatherName):\n",
    "        self.fatherName = fatherName\n",
    "        \n",
    "        # invoking constructor of grandfather calss\n",
    "        super().__init__(grandfatherName)\n",
    "         \n",
    "# Derive class\n",
    "class son(Father):\n",
    "\n",
    "    # constructor \n",
    "    def __init__(self, grandfatherName, fatherName, childName):\n",
    "        self.childName = childName\n",
    "        \n",
    "        # invoking constructor of grandfather calss\n",
    "        super().__init__(grandfatherName, fatherName)\n",
    "\n",
    "    def display(self):\n",
    "        print('GrandFatherName: ', self.grandfatherName)\n",
    "        print('FatherName: ', self.fatherName)\n",
    "        print('ChildName: ', self.childName)\n",
    "\n",
    "# deive code \n",
    "s1 = son('Sataman', 'Deepak', 'Shahisnuta')\n",
    "print(s1.grandfatherName)\n",
    "s1.display()"
   ]
  },
  {
   "cell_type": "code",
   "execution_count": null,
   "metadata": {},
   "outputs": [],
   "source": []
  }
 ],
 "metadata": {
  "interpreter": {
   "hash": "73b4fb914614748e1b4d5ae3804a556d6d463f357c4fc043afe155ac08cb1c28"
  },
  "kernelspec": {
   "display_name": "Python 3.9.6 64-bit",
   "language": "python",
   "name": "python3"
  },
  "language_info": {
   "codemirror_mode": {
    "name": "ipython",
    "version": 3
   },
   "file_extension": ".py",
   "mimetype": "text/x-python",
   "name": "python",
   "nbconvert_exporter": "python",
   "pygments_lexer": "ipython3",
   "version": "3.9.6"
  },
  "orig_nbformat": 4
 },
 "nbformat": 4,
 "nbformat_minor": 2
}
