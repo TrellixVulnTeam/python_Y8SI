{
 "cells": [
  {
   "cell_type": "code",
   "execution_count": 5,
   "metadata": {},
   "outputs": [
    {
     "name": "stdout",
     "output_type": "stream",
     "text": [
      "Name:  yogesh\n",
      "Age:  19\n"
     ]
    }
   ],
   "source": [
    "# encapsulation is use to restrict the certain code\n",
    "\n",
    "# public Access : default it is Public\n",
    "class Developer:\n",
    "\n",
    "    # constructor\n",
    "    def __init__(self, name, age):\n",
    "        self.name = name\n",
    "        self.age = age\n",
    "\n",
    "    def displayage(self):\n",
    "        print('Age: ', self.age)\n",
    "\n",
    "    def displayName(self):\n",
    "        print('Name: ', self.name)\n",
    "\n",
    "\n",
    "obj = Developer('yogesh', 19)\n",
    "# print('Name: ', obj.name) # calls the developers name\n",
    "obj.displayName()\n",
    "obj.displayage()\n",
    "\n",
    "# obj =\n"
   ]
  },
  {
   "cell_type": "code",
   "execution_count": 11,
   "metadata": {},
   "outputs": [
    {
     "name": "stdout",
     "output_type": "stream",
     "text": [
      "Name:  yogesh\n",
      "Roll:  yogesh\n",
      "Branch:  computer engineer\n"
     ]
    }
   ],
   "source": [
    "# protected:-\n",
    "\n",
    "class developer:\n",
    "\n",
    "    # protected data members and functions\n",
    "    # preotected member are created with underscore at begining\n",
    "    _name = None\n",
    "    _roll = None\n",
    "    _branch = None\n",
    "    # they can be use as public but it is not use publically\n",
    "\n",
    "    def __init__(self, _name, _roll, _branch):\n",
    "        self._name = _name\n",
    "        self._roll = _roll\n",
    "        self._branch = _branch\n",
    "\n",
    "    # protected function\n",
    "    def _displayrollandbranches(self):\n",
    "\n",
    "        # accessing protecting data\n",
    "        print('Roll: ', self._name)\n",
    "        print('Branch: ', self._branch)\n",
    "\n",
    "# derive class\n",
    "\n",
    "\n",
    "class student(developer):\n",
    "\n",
    "    # costructor\n",
    "    def __init__(self, _name, _roll, _branch):\n",
    "        super().__init__(_name, _roll, _branch)\n",
    "\n",
    "    def displayDetail(self):\n",
    "        print('Name: ', self._name)\n",
    "        # print('Name: ', self._name)\n",
    "        self._displayrollandbranches()\n",
    "\n",
    "\n",
    "obj = student('yogesh', 101, 'computer engineer')\n",
    "obj.displayDetail()\n"
   ]
  },
  {
   "cell_type": "code",
   "execution_count": 14,
   "metadata": {},
   "outputs": [
    {
     "name": "stdout",
     "output_type": "stream",
     "text": [
      "Name:  Bickky\n",
      "Age:  23\n"
     ]
    }
   ],
   "source": [
    "# public\n",
    "\n",
    "# program to illustrate public access modifier in a class\n",
    "class Developer:\n",
    "    # constructor\n",
    "    def __init__(self, name, age):\n",
    "        # public data members\n",
    "        self.developername = name\n",
    "        self.developerage = age\n",
    "        # public member function\n",
    "\n",
    "    def displayAge(self):\n",
    "        # accessing public data member\n",
    "        print(\"Age: \", self.developerage)\n",
    "\n",
    "\n",
    "# creating object of the class\n",
    "obj = Developer(\"Bickky\", 23)\n",
    "# accessing public data member\n",
    "print(\"Name: \", obj.developername)\n",
    "# calling public member function of the class\n",
    "obj.displayAge()\n"
   ]
  },
  {
   "cell_type": "code",
   "execution_count": 17,
   "metadata": {},
   "outputs": [
    {
     "name": "stdout",
     "output_type": "stream",
     "text": [
      "Name:  yogesh\n",
      "Roll:  1706256\n",
      "Branch:  Computer Engineering\n"
     ]
    }
   ],
   "source": [
    "# program to illustrate protected access modifier in a class\n",
    "# super class\n",
    "class Student:\n",
    "    # protected data members\n",
    "    _name = None\n",
    "    _roll = None\n",
    "    _branch = None\n",
    "    # constructor\n",
    "    def __init__(self, name, roll, branch):\n",
    "        self._name = name\n",
    "        self._roll = roll\n",
    "        self._branch = branch\n",
    "        # protected member function\n",
    "\n",
    "    def _displayRollAndBranch(self):\n",
    "        # accessing protected data members\n",
    "        print(\"Roll: \", self._roll)\n",
    "        print(\"Branch: \", self._branch)\n",
    "\n",
    "# derived class\n",
    "\n",
    "\n",
    "class Developer(Student):\n",
    "    \n",
    "    # constructor\n",
    "    # def __init__(self, name, roll, branch):\n",
    "        # super().__init__(name, roll, branch)\n",
    "    def __init__(self, name, roll, branch):\n",
    "        Student.__init__(self, name, roll, branch)\n",
    "    \n",
    "    # public member function\n",
    "    def displayDetails(self):\n",
    "        # accessing protected data members of super class\n",
    "        print(\"Name: \", self._name)\n",
    "\n",
    "\n",
    "        # accessing protected member functions of super class\n",
    "        self._displayRollAndBranch()\n",
    "\n",
    "# creating objects of the derived class\n",
    "obj = Developer(\"yogesh\", 1706256, \"Computer Engineering\")\n",
    "\n",
    "# calling public member functions of the class\n",
    "obj.displayDetails()\n"
   ]
  },
  {
   "cell_type": "code",
   "execution_count": 18,
   "metadata": {},
   "outputs": [
    {
     "name": "stdout",
     "output_type": "stream",
     "text": [
      "Name:  yogesh\n",
      "Roll:  1706256\n",
      "Branch:  Computer Engineering\n"
     ]
    }
   ],
   "source": [
    "# private \n",
    "# program to illustrate private access modifier in a class\n",
    "class Student:\n",
    "    # private members\n",
    "    __name = None\n",
    "    __roll = None\n",
    "    __branch = None\n",
    "    # constructor\n",
    "    def __init__(self, name, roll, branch):\n",
    "        self.__name = name\n",
    "        self.__roll = roll\n",
    "        self.__branch = branch\n",
    "    \n",
    "    # private member function\n",
    "    def __displayDetails(self):\n",
    "    # accessing private data members\n",
    "        print(\"Name: \", self.__name)\n",
    "        print(\"Roll: \", self.__roll)\n",
    "        print(\"Branch: \", self.__branch)\n",
    "    \n",
    "    # public member function\n",
    "    def accessPrivateFunction(self):\n",
    "    # accesing private member function\n",
    "        self.__displayDetails()\n",
    "\n",
    "# creating object\n",
    "obj = Student('yogesh', 1706256, 'Computer Engineering')\n",
    "# calling public member function of the class\n",
    "obj.accessPrivateFunction()"
   ]
  },
  {
   "cell_type": "code",
   "execution_count": 20,
   "metadata": {},
   "outputs": [
    {
     "name": "stdout",
     "output_type": "stream",
     "text": [
      "Public Data Member:  Hello\n",
      "Protected Data Member:  7\n",
      "Private Data Member:  Python !\n",
      "Object is accessing protected member: 7\n"
     ]
    }
   ],
   "source": [
    "# program to illustrate access modifiers of a class\n",
    "# super class\n",
    "class Super:\n",
    "    # public data member\n",
    "    var1 = None\n",
    "    # protected data member\n",
    "    _var2 = None\n",
    "    # private data member\n",
    "    __var3 = None\n",
    "    \n",
    "    # constructor\n",
    "    def __init__(self, var1, var2, var3):\n",
    "        self.var1 = var1\n",
    "        self._var2 = var2\n",
    "        self.__var3 = var3\n",
    "\n",
    "        # public member function\n",
    "    def displayPublicMembers(self):\n",
    "    \n",
    "    # accessing public data members\n",
    "        print(\"Public Data Member: \", self.var1)\n",
    "    \n",
    "    # protected member function\n",
    "    def _displayProtectedMembers(self):\n",
    "        # accessing protected data members\n",
    "        print(\"Protected Data Member: \", self._var2)\n",
    "\n",
    "    # private member function\n",
    "    def __displayPrivateMembers(self):\n",
    "        # accessing private data members\n",
    "        print(\"Private Data Member: \", self.__var3)\n",
    "    \n",
    "    # public member function\n",
    "    def accessPrivateMembers(self):\n",
    "        # accessing private member function\n",
    "        self.__displayPrivateMembers()\n",
    "\n",
    "# derived class\n",
    "class Sub(Super):\n",
    "    # constructor\n",
    "    def __init__(self, var1, var2, var3):\n",
    "        Super.__init__(self, var1, var2, var3)\n",
    "\n",
    "    # public member function\n",
    "    def accessProtectedMembers(self):\n",
    "    # accessing protected member functions of super class\n",
    "        self._displayProtectedMembers()\n",
    "    \n",
    "# creating objects of the derived class\n",
    "obj = Sub(\"Hello\", 7, \"Python !\")\n",
    "# calling public member functions of the class\n",
    "obj.displayPublicMembers()\n",
    "obj.accessProtectedMembers()\n",
    "obj.accessPrivateMembers()\n",
    "# Object can access protected member\n",
    "print(\"Object is accessing protected member:\", obj._var2)\n",
    "# object can not access private member, so it will generate Attribute error\n",
    "#print(obj.__var3)"
   ]
  },
  {
   "cell_type": "code",
   "execution_count": null,
   "metadata": {},
   "outputs": [],
   "source": []
  }
 ],
 "metadata": {
  "interpreter": {
   "hash": "73b4fb914614748e1b4d5ae3804a556d6d463f357c4fc043afe155ac08cb1c28"
  },
  "kernelspec": {
   "display_name": "Python 3.9.6 64-bit",
   "language": "python",
   "name": "python3"
  },
  "language_info": {
   "codemirror_mode": {
    "name": "ipython",
    "version": 3
   },
   "file_extension": ".py",
   "mimetype": "text/x-python",
   "name": "python",
   "nbconvert_exporter": "python",
   "pygments_lexer": "ipython3",
   "version": "3.9.6"
  },
  "orig_nbformat": 4
 },
 "nbformat": 4,
 "nbformat_minor": 2
}
