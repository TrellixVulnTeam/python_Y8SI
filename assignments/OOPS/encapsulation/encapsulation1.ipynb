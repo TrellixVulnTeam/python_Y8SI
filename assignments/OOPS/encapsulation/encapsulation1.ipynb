{
 "cells": [
  {
   "cell_type": "code",
   "execution_count": 5,
   "metadata": {},
   "outputs": [
    {
     "name": "stdout",
     "output_type": "stream",
     "text": [
      "Name:  yogesh\n",
      "Age:  19\n"
     ]
    }
   ],
   "source": [
    "# encapsulation is use to restrict the certain code\n",
    "\n",
    "# public Access : default it is Public\n",
    "class Developer:\n",
    "\n",
    "    # constructor\n",
    "    def __init__(self, name, age):\n",
    "        self.name = name\n",
    "        self.age = age\n",
    "\n",
    "    def displayage(self):\n",
    "        print('Age: ', self.age)\n",
    "\n",
    "    def displayName(self):\n",
    "        print('Name: ', self.name)\n",
    "\n",
    "\n",
    "obj = Developer('yogesh', 19)\n",
    "# print('Name: ', obj.name) # calls the developers name\n",
    "obj.displayName()\n",
    "obj.displayage()\n",
    "\n",
    "# obj =\n"
   ]
  },
  {
   "cell_type": "code",
   "execution_count": 11,
   "metadata": {},
   "outputs": [
    {
     "name": "stdout",
     "output_type": "stream",
     "text": [
      "Name:  yogesh\n",
      "Roll:  yogesh\n",
      "Branch:  computer engineer\n"
     ]
    }
   ],
   "source": [
    "# protected:-\n",
    "\n",
    "class developer:\n",
    "\n",
    "    # protected data members and functions\n",
    "    # preotected member are created with underscore at begining\n",
    "    _name = None\n",
    "    _roll = None\n",
    "    _branch = None\n",
    "    # they can be use as public but it is not use publically\n",
    "\n",
    "    def __init__(self, _name, _roll, _branch):\n",
    "        self._name = _name\n",
    "        self._roll = _roll\n",
    "        self._branch = _branch\n",
    "\n",
    "    # protected function\n",
    "    def _displayrollandbranches(self):\n",
    "\n",
    "        # accessing protecting data\n",
    "        print('Roll: ', self._name)\n",
    "        print('Branch: ', self._branch)\n",
    "\n",
    "# derive class\n",
    "\n",
    "\n",
    "class student(developer):\n",
    "\n",
    "    # costructor\n",
    "    def __init__(self, _name, _roll, _branch):\n",
    "        super().__init__(_name, _roll, _branch)\n",
    "\n",
    "    def displayDetail(self):\n",
    "        print('Name: ', self._name)\n",
    "        # print('Name: ', self._name)\n",
    "        self._displayrollandbranches()\n",
    "\n",
    "\n",
    "obj = student('yogesh', 101, 'computer engineer')\n",
    "obj.displayDetail()\n"
   ]
  },
  {
   "cell_type": "code",
   "execution_count": 13,
   "metadata": {},
   "outputs": [],
   "source": [
    "# private \n",
    "# private are make by using double underscore(__) \n",
    "\n"
   ]
  },
  {
   "cell_type": "code",
   "execution_count": null,
   "metadata": {},
   "outputs": [],
   "source": []
  }
 ],
 "metadata": {
  "interpreter": {
   "hash": "73b4fb914614748e1b4d5ae3804a556d6d463f357c4fc043afe155ac08cb1c28"
  },
  "kernelspec": {
   "display_name": "Python 3.9.6 64-bit",
   "language": "python",
   "name": "python3"
  },
  "language_info": {
   "codemirror_mode": {
    "name": "ipython",
    "version": 3
   },
   "file_extension": ".py",
   "mimetype": "text/x-python",
   "name": "python",
   "nbconvert_exporter": "python",
   "pygments_lexer": "ipython3",
   "version": "3.9.6"
  },
  "orig_nbformat": 4
 },
 "nbformat": 4,
 "nbformat_minor": 2
}
