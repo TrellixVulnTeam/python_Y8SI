{
 "cells": [
  {
   "cell_type": "code",
   "execution_count": 4,
   "metadata": {},
   "outputs": [
    {
     "name": "stdout",
     "output_type": "stream",
     "text": [
      "object One\n",
      "yogesh\n",
      "\n",
      "object two\n",
      "shahisnuta\n"
     ]
    }
   ],
   "source": [
    "# prototype: kind of dommy\n",
    "# class\n",
    "class Car:\n",
    "    a = 'yogesh'\n",
    "    b = 'shahisnuta'\n",
    "    c = 'mahesh'\n",
    "    d = 'bhagawati'\n",
    "\n",
    "print('object One')\n",
    "obj1 = Car()\n",
    "print(obj1.a)\n",
    "\n",
    "print()\n",
    "print('object two')\n",
    "obj2 = Car()\n",
    "print(obj2.b)\n",
    "\n",
    "# Both the objects are of car, so we can make as much objects we want and call them "
   ]
  },
  {
   "cell_type": "code",
   "execution_count": null,
   "metadata": {},
   "outputs": [],
   "source": []
  }
 ],
 "metadata": {
  "interpreter": {
   "hash": "73b4fb914614748e1b4d5ae3804a556d6d463f357c4fc043afe155ac08cb1c28"
  },
  "kernelspec": {
   "display_name": "Python 3.9.6 64-bit",
   "language": "python",
   "name": "python3"
  },
  "language_info": {
   "codemirror_mode": {
    "name": "ipython",
    "version": 3
   },
   "file_extension": ".py",
   "mimetype": "text/x-python",
   "name": "python",
   "nbconvert_exporter": "python",
   "pygments_lexer": "ipython3",
   "version": "3.9.6"
  },
  "orig_nbformat": 4
 },
 "nbformat": 4,
 "nbformat_minor": 2
}
