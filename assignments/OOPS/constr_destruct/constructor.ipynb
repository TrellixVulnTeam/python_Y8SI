{
 "cells": [
  {
   "cell_type": "code",
   "execution_count": 2,
   "metadata": {},
   "outputs": [
    {
     "name": "stdout",
     "output_type": "stream",
     "text": [
      "hello, this is yogesh\n",
      "hello, this is Bikky\n"
     ]
    }
   ],
   "source": [
    "# a sample class with init mathod \n",
    "class Person:\n",
    "    # name = 'yogesh'\n",
    "    # init method or constructor \n",
    "\n",
    "    def __init__(self, name):\n",
    "        self.name = name\n",
    "\n",
    "    # sample method \n",
    "    def sayHi(self):\n",
    "        print(f'hello, this is {self.name}')\n",
    "\n",
    "p = Person('yogesh')\n",
    "p.sayHi()\n",
    "\n",
    "a = Person('Bikky')\n",
    "a.sayHi()\n"
   ]
  },
  {
   "cell_type": "code",
   "execution_count": 11,
   "metadata": {},
   "outputs": [
    {
     "name": "stdout",
     "output_type": "stream",
     "text": [
      "First number = 1000\n",
      "Second number = 2000\n",
      "Addition of two number = 3000\n"
     ]
    }
   ],
   "source": [
    "class Addition:\n",
    "    first = 0\n",
    "    second = 0\n",
    "    answer = 0\n",
    "\n",
    "        \n",
    "    # parameterized constructor \n",
    "    def __init__(self, f, s):\n",
    "        self.first = f\n",
    "        self.second = s\n",
    "\n",
    "\n",
    "    def display(self):\n",
    "        print(f'First number = {self.first}')\n",
    "        print(f'Second number = {self.second}')\n",
    "        print(f'Addition of two number = {self.answer}')\n",
    "    \n",
    "    def calculator(self):\n",
    "        self.answer = self.first + self.second\n",
    "\n",
    "# creating object of the class \n",
    "# this will invoke parameterize constructor \n",
    "obj = Addition(1000, 2000)\n",
    "\n",
    "# perform Addition \n",
    "obj.calculator()\n",
    "# display result \n",
    "obj.display()"
   ]
  },
  {
   "cell_type": "code",
   "execution_count": null,
   "metadata": {},
   "outputs": [],
   "source": []
  }
 ],
 "metadata": {
  "interpreter": {
   "hash": "73b4fb914614748e1b4d5ae3804a556d6d463f357c4fc043afe155ac08cb1c28"
  },
  "kernelspec": {
   "display_name": "Python 3.9.6 64-bit",
   "language": "python",
   "name": "python3"
  },
  "language_info": {
   "codemirror_mode": {
    "name": "ipython",
    "version": 3
   },
   "file_extension": ".py",
   "mimetype": "text/x-python",
   "name": "python",
   "nbconvert_exporter": "python",
   "pygments_lexer": "ipython3",
   "version": "3.9.6"
  },
  "orig_nbformat": 4
 },
 "nbformat": 4,
 "nbformat_minor": 2
}
