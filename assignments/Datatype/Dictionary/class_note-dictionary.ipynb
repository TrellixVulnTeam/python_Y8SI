{
 "cells": [
  {
   "cell_type": "code",
   "execution_count": 3,
   "metadata": {},
   "outputs": [
    {
     "name": "stdout",
     "output_type": "stream",
     "text": [
      "{'key1': 'value1', 'key2': 'value2', 'key3': 'value3'}\n",
      "value1\n"
     ]
    }
   ],
   "source": [
    "d = {'key1':'value1', 'key2':'value2', 'key3':'value3'}\n",
    "print(d)\n",
    "\n",
    "# print(d[0]) # error \n",
    "print(d['key1']) # return a value of key1"
   ]
  },
  {
   "cell_type": "code",
   "execution_count": 5,
   "metadata": {},
   "outputs": [
    {
     "name": "stdout",
     "output_type": "stream",
     "text": [
      "{}\n",
      "<class 'dict'>\n"
     ]
    }
   ],
   "source": [
    "d = {}\n",
    "print(d)\n",
    "print(type(d))"
   ]
  },
  {
   "cell_type": "code",
   "execution_count": 6,
   "metadata": {},
   "outputs": [
    {
     "name": "stdout",
     "output_type": "stream",
     "text": [
      "{0: 'a', 1: 'python', 2: 'learning'}\n"
     ]
    }
   ],
   "source": [
    "# adding \n",
    "d = {}\n",
    "d[0] = 'a'\n",
    "d[1] = 'python'\n",
    "d[2] = 'learning'\n",
    "print(d)"
   ]
  },
  {
   "cell_type": "code",
   "execution_count": 10,
   "metadata": {},
   "outputs": [
    {
     "name": "stdout",
     "output_type": "stream",
     "text": [
      "{0: 'a', 1: 'python', 2: 'learning', 'key': (1, 2, 3), 'new_key': {'a': 'python', 'b': 'learnig'}}\n",
      "{0: 'a', 1: 'python', 2: 'learning', 'key': (1, 2, 3), 'new_key': {'a': 'python', 'b': 'learnig'}}\n"
     ]
    },
    {
     "data": {
      "text/plain": [
       "{'a': 'python', 'b': 'learnig'}"
      ]
     },
     "execution_count": 10,
     "metadata": {},
     "output_type": "execute_result"
    }
   ],
   "source": [
    "# makes an tuple \n",
    "d['key'] = 1,2,3\n",
    "print(d)\n",
    "\n",
    "d['new_key'] = {'a':'python', 'b':'learnig'}\n",
    "print(d)\n",
    "\n",
    "d['new_key'] # pass the value that is in new_key"
   ]
  },
  {
   "cell_type": "code",
   "execution_count": 11,
   "metadata": {},
   "outputs": [
    {
     "name": "stdout",
     "output_type": "stream",
     "text": [
      "(1, 2, 3)\n"
     ]
    }
   ],
   "source": [
    "# using get mathod \n",
    "print(d.get('key')) # pass the value that is in key"
   ]
  },
  {
   "cell_type": "code",
   "execution_count": 12,
   "metadata": {},
   "outputs": [
    {
     "name": "stdout",
     "output_type": "stream",
     "text": [
      "learnig\n"
     ]
    }
   ],
   "source": [
    "# accessing the elements of nested dictionary \n",
    "print(d['new_key']['b']) # nested "
   ]
  },
  {
   "cell_type": "code",
   "execution_count": 14,
   "metadata": {},
   "outputs": [
    {
     "ename": "KeyError",
     "evalue": "0",
     "output_type": "error",
     "traceback": [
      "\u001b[1;31m---------------------------------------------------------------------------\u001b[0m",
      "\u001b[1;31mKeyError\u001b[0m                                  Traceback (most recent call last)",
      "\u001b[1;32m~\\AppData\\Local\\Temp/ipykernel_8308/508891939.py\u001b[0m in \u001b[0;36m<module>\u001b[1;34m\u001b[0m\n\u001b[1;32m----> 1\u001b[1;33m \u001b[0mprint\u001b[0m\u001b[1;33m(\u001b[0m\u001b[0md\u001b[0m\u001b[1;33m[\u001b[0m\u001b[1;36m0\u001b[0m\u001b[1;33m]\u001b[0m\u001b[1;33m)\u001b[0m\u001b[1;33m\u001b[0m\u001b[1;33m\u001b[0m\u001b[0m\n\u001b[0m\u001b[0;32m      2\u001b[0m \u001b[1;32mdel\u001b[0m \u001b[0md\u001b[0m\u001b[1;33m[\u001b[0m\u001b[1;36m0\u001b[0m\u001b[1;33m]\u001b[0m\u001b[1;33m\u001b[0m\u001b[1;33m\u001b[0m\u001b[0m\n",
      "\u001b[1;31mKeyError\u001b[0m: 0"
     ]
    }
   ],
   "source": [
    "print(d[0])\n",
    "del d[0]"
   ]
  },
  {
   "cell_type": "code",
   "execution_count": 16,
   "metadata": {},
   "outputs": [
    {
     "name": "stdout",
     "output_type": "stream",
     "text": [
      "1\n",
      "2\n"
     ]
    }
   ],
   "source": [
    "# error becuse there is no keys \n",
    "d = {1:'hello', 2:'yogesh'}\n",
    "for k, i in d.keys():\n",
    "    print(k, i) "
   ]
  },
  {
   "cell_type": "code",
   "execution_count": 3,
   "metadata": {},
   "outputs": [
    {
     "name": "stdout",
     "output_type": "stream",
     "text": [
      "{}\n",
      "{1: 'python', 2: 'javascript', 3: 'Reactjs', 4: 'C++'}\n",
      "{1: 'python', 2: 'C++', 3: 'ReactJS'}\n",
      "{'a': 1, 'b': 2, 'c': 3}\n",
      "{1: 'python', 2: 'C++', 3: 'Js'}\n"
     ]
    }
   ],
   "source": [
    "# creating a dictionary \n",
    "d = {}\n",
    "print(d)\n",
    "\n",
    "# creating dictionary with integer keys\n",
    "Dict = {1:'python', 2:'javascript', 3: 'Reactjs', 4:'C++'}\n",
    "print(Dict)\n",
    "\n",
    "# creating a dictionaru with dict method \n",
    "d = {1:'python', 2:'C++', 3:\"ReactJS\"}\n",
    "d1 = dict(d)\n",
    "print(d1)\n",
    "\n",
    "d2 = dict(a = 1, b = 2, c = 3)\n",
    "print(d2)\n",
    "\n",
    "# creating dictioary with each items as a pair \n",
    "d = dict([(1,'python'), (2, 'C++'), (3, 'Js')])\n",
    "print(d)"
   ]
  },
  {
   "cell_type": "code",
   "execution_count": 6,
   "metadata": {},
   "outputs": [
    {
     "name": "stdout",
     "output_type": "stream",
     "text": [
      "{1: 'python', 2: 'ReactJs', 3: {'A': 'hello', 'B': 'C++'}}\n",
      "\n",
      "{1: 'python', 2: 'C++', 3: 'ReactJs'}\n"
     ]
    }
   ],
   "source": [
    "# nested Dictionary \n",
    "d = {1:'python', 2:'ReactJs', 3:{'A':\"hello\", 'B':\"C++\"}}\n",
    "print(d)\n",
    "\n",
    "print()\n",
    "d2 = dict([(1, 'python'), (2, 'C++'), (3, 'ReactJs')])\n",
    "print(d2)"
   ]
  },
  {
   "cell_type": "code",
   "execution_count": 7,
   "metadata": {},
   "outputs": [
    {
     "name": "stdout",
     "output_type": "stream",
     "text": [
      "{0: 'python', 1: 'java', 2: 1}\n",
      "{0: 'python', 1: 'java', 2: 1, 'value_set': (2, 3, 4)}\n",
      "{0: 'python', 1: 'java', 2: 'welcome', 'value_set': (2, 3, 4)}\n",
      "Adding nested value: \n",
      "{0: 'python', 1: 'java', 2: 'welcome', 'value_set': (2, 3, 4), 5: {'netsed': {'1': 'hello', '2': 'world'}}}\n"
     ]
    }
   ],
   "source": [
    "# creating empty dictionary \n",
    "d = {}\n",
    "\n",
    "# adding elements one at a time\n",
    "d[0] = 'python'\n",
    "d[1] = 'java'\n",
    "d[2] = 1\n",
    "\n",
    "print(d)\n",
    "\n",
    "# Adding set of value to single keys \n",
    "d['value_set'] = 2, 3, 4\n",
    "print(d)\n",
    "\n",
    "# updating existing key's value \n",
    "d[2] = 'welcome'\n",
    "print(d)\n",
    "\n",
    "# Adding Nested key value to Dictionary \n",
    "d[5] = {'netsed' : {'1' : 'hello', '2':'world'}}\n",
    "print('Adding nested value: ')\n",
    "print(d)\n"
   ]
  },
  {
   "cell_type": "code",
   "execution_count": 9,
   "metadata": {},
   "outputs": [
    {
     "name": "stdout",
     "output_type": "stream",
     "text": [
      "C++\n",
      "Accessin a elements using key: \n",
      "python\n"
     ]
    }
   ],
   "source": [
    "# python program to demostrate the elements from Dictionary \n",
    "# Creting dictionay \n",
    "d = {1: 'python', 'name' : 'C++', 3:'ReactJs'}\n",
    "# accessing a elements using key \n",
    "print(d['name'])\n",
    "\n",
    "# accessing a element using key \n",
    "print('Accessin a elements using key: ')\n",
    "print(d[1])"
   ]
  },
  {
   "cell_type": "code",
   "execution_count": 13,
   "metadata": {},
   "outputs": [
    {
     "name": "stdout",
     "output_type": "stream",
     "text": [
      "Accessing a elmenst using get: \n",
      "Django\n",
      "python\n"
     ]
    }
   ],
   "source": [
    "# Creating a Dictionatry \n",
    "d = {1:'python', 2:'for', 3:'Django'}\n",
    "# accessing elments using get() method\n",
    "print('Accessing a elmenst using get: ')\n",
    "print(d.get(3))\n",
    "print(d.get(1))"
   ]
  },
  {
   "cell_type": "code",
   "execution_count": 19,
   "metadata": {},
   "outputs": [
    {
     "name": "stdout",
     "output_type": "stream",
     "text": [
      "{1: 'python'}\n",
      "python\n",
      "\n",
      "Accessing Second key value\n",
      "Django\n"
     ]
    }
   ],
   "source": [
    "# creating dictionary \n",
    "d = {'key' : {1: 'python'}, 'key2': {'name': 'Django'}}\n",
    "\n",
    "# accessing elments using key\n",
    "print(d['key'])\n",
    "print(d['key'][1])\n",
    "\n",
    "# Accessing Second key value\n",
    "print()\n",
    "print('Accessing Second key value') \n",
    "print(d['key2']['name'])"
   ]
  },
  {
   "cell_type": "code",
   "execution_count": 20,
   "metadata": {},
   "outputs": [
    {
     "name": "stdout",
     "output_type": "stream",
     "text": [
      "Inintial Dictionary: \n",
      "{5: 'Wlecome', 6: 'to', 7: 'python', 'A': {1: 'python', 2: 'C++'}, 'B': {1: 'python', 2: 'developers'}}\n",
      "Deleting a specific key: \n",
      "{5: 'Wlecome', 7: 'python', 'A': {1: 'python', 2: 'C++'}, 'B': {1: 'python', 2: 'developers'}}\n",
      "{5: 'Wlecome', 7: 'python', 'A': {1: 'python'}, 'B': {1: 'python', 2: 'developers'}}\n"
     ]
    }
   ],
   "source": [
    "# initial Dictionary \n",
    "d = {5: 'Wlecome', 6: 'to', 7: 'python', 'A' : {1:'python', 2:'C++'}, 'B':{1:'python', 2:'developers'} }\n",
    "print('Inintial Dictionary: ')\n",
    "print(d)\n",
    "\n",
    "# deleting a key value \n",
    "del d[6]\n",
    "\n",
    "print(\"Deleting a specific key: \")\n",
    "print(d)\n",
    "\n",
    "# Deleteting a key from nested dictionay \n",
    "del d['A'][2]\n",
    "print(d)"
   ]
  },
  {
   "cell_type": "code",
   "execution_count": 21,
   "metadata": {},
   "outputs": [
    {
     "name": "stdout",
     "output_type": "stream",
     "text": [
      "Dictionary After Deleting: {'name': 'java', 3: 'Ruby'}\n",
      "value associated to poped key is: python\n"
     ]
    }
   ],
   "source": [
    "# creating a dictionary \n",
    "a = {1:'python', 'name' : 'java', 3:'Ruby'}\n",
    "\n",
    "# deleting a key \n",
    "# using pop() method \n",
    "pop_ele = a.pop(1)\n",
    "print('Dictionary After Deleting: ' + str(a))\n",
    "print('value associated to poped key is: ' + str(pop_ele))"
   ]
  },
  {
   "cell_type": "code",
   "execution_count": 24,
   "metadata": {},
   "outputs": [
    {
     "name": "stdout",
     "output_type": "stream",
     "text": [
      "{1: 'python', 2: 'for', 3: 'Django'}\n",
      "deleting entire Dictionary\n",
      "{}\n"
     ]
    }
   ],
   "source": [
    "# creating a dictionary \n",
    "Dict = {1 : 'python', 2: 'for', 3:'Django'}\n",
    "print(Dict)\n",
    "\n",
    "# deleting entire Dictionary \n",
    "Dict.clear()\n",
    "print('deleting entire Dictionary')\n",
    "print(Dict)"
   ]
  },
  {
   "cell_type": "code",
   "execution_count": 25,
   "metadata": {},
   "outputs": [
    {
     "name": "stdout",
     "output_type": "stream",
     "text": [
      "Orginal dictionary:  {1: 'geeks', 2: 'for', 3: 'greek'}\n",
      "copied dictionary:  {1: 'geeks', 2: 'for', 3: 'greek'}\n",
      "new:  {}\n",
      "orginal:  {1: 'geeks', 2: 'for', 3: 'greek'}\n"
     ]
    }
   ],
   "source": [
    "# python program to demostrate woking of dictionary copy \n",
    "original = {1:'geeks', 2:'for', 3:'greek'}\n",
    "\n",
    "# copyting using copy() function\n",
    "new = original.copy()\n",
    "print('Orginal dictionary: ', original)\n",
    "print('copied dictionary: ', new)\n",
    "\n",
    "# romoving all elements form the list \n",
    "# only new list become emply as copy()\n",
    "# does shallow copy \n",
    "new.clear()\n",
    "\n",
    "print('new: ', new)\n",
    "print('orginal: ', original)\n"
   ]
  },
  {
   "cell_type": "code",
   "execution_count": 26,
   "metadata": {},
   "outputs": [
    {
     "name": "stdout",
     "output_type": "stream",
     "text": [
      "dict_values([50000, 1000, 5000])\n",
      "56000\n"
     ]
    }
   ],
   "source": [
    "# python program to for illustration of values() method in finding totoal salary \n",
    "\n",
    "# store the name and corresponding salaries \n",
    "salary = {'A' : 50000, 'B': 1000, 'C': 5000}\n",
    "\n",
    "# store the salaries only \n",
    "list1 = salary.values()\n",
    "print(list1)\n",
    "print(sum(list1)) # printing theall the salary "
   ]
  },
  {
   "cell_type": "code",
   "execution_count": 27,
   "metadata": {},
   "outputs": [
    {
     "name": "stdout",
     "output_type": "stream",
     "text": [
      "Dictionary:  {'A': 'Python', 'B': 'RectJs', 'C': None}\n",
      "Thrid_value:  None\n",
      "Dictionary:  {'A': 'Python', 'B': 'RectJs', 'C': None, 'D': 'Geeks'}\n",
      "Founrth_value:  Geeks\n"
     ]
    }
   ],
   "source": [
    "# python program to show woking of setdefault() method in dictionary \n",
    "# dictionary with single items\n",
    "d = {'A':'Python', 'B':'RectJs'}\n",
    "\n",
    "# using setdefault() method\n",
    "# when key is not in the dictionaty \n",
    "thrid_value = d.setdefault('C')\n",
    "print('Dictionary: ', d) \n",
    "print(\"Thrid_value: \", thrid_value)\n",
    "\n",
    "# using setdefault() method \n",
    "# when key is not in the dictionay \n",
    "fourth_value = d.setdefault('D', 'Geeks')\n",
    "print(\"Dictionary: \", d)\n",
    "print(\"Founrth_value: \", fourth_value)"
   ]
  },
  {
   "cell_type": "code",
   "execution_count": 37,
   "metadata": {},
   "outputs": [
    {
     "name": "stdout",
     "output_type": "stream",
     "text": [
      "dict_keys(['A', 'B'])\n",
      "dict_keys([])\n",
      "dict_keys(['C'])\n",
      "A\n",
      "B\n",
      "None\n",
      "None\n"
     ]
    }
   ],
   "source": [
    "# python program to demostrate the working condition of key in dictionary \n",
    "\n",
    "# Dictionary with two key \n",
    "d = {'A':'hellp', 'B':'python Developer'}\n",
    "# printing the keys of dictionary \n",
    "print(d.keys())\n",
    "\n",
    "\n",
    "# creating empty Dictionary \n",
    "empty_d = {}\n",
    "\n",
    "# printing keys of empty dictionary \n",
    "print(empty_d.keys())\n",
    "\n",
    "# adding elements to a dictionary \n",
    "empty_d.update({'C':'ReactJs'})\n",
    "print(empty_d.keys())\n",
    "\n",
    "# practical application \n",
    "for key in d.keys():\n",
    "    print(key)\n",
    "\n",
    "for key in d.values():\n",
    "    print(d.get(key)) # gives value in key "
   ]
  },
  {
   "cell_type": "code",
   "execution_count": 1,
   "metadata": {},
   "outputs": [
    {
     "name": "stdout",
     "output_type": "stream",
     "text": [
      "dict_items([('A', 'python'), ('B', 'C++'), ('C', 'ReactJs')])\n",
      "A : python\n",
      "B : C++\n",
      "C : ReactJs\n"
     ]
    }
   ],
   "source": [
    "# python program to show the working condition of items() method in dictionary \n",
    "\n",
    "# dictionay with three items \n",
    "d = {'A':'python', 'B':'C++', 'C':'ReactJs'}\n",
    "\n",
    "# printing the items of dictionary \n",
    "print(d.items())\n",
    "\n",
    "# practical application if items() method \n",
    "for i, j in d.items():\n",
    "    print(i,':', j)"
   ]
  },
  {
   "cell_type": "code",
   "execution_count": null,
   "metadata": {},
   "outputs": [],
   "source": []
  }
 ],
 "metadata": {
  "interpreter": {
   "hash": "73b4fb914614748e1b4d5ae3804a556d6d463f357c4fc043afe155ac08cb1c28"
  },
  "kernelspec": {
   "display_name": "Python 3.9.6 64-bit",
   "language": "python",
   "name": "python3"
  },
  "language_info": {
   "codemirror_mode": {
    "name": "ipython",
    "version": 3
   },
   "file_extension": ".py",
   "mimetype": "text/x-python",
   "name": "python",
   "nbconvert_exporter": "python",
   "pygments_lexer": "ipython3",
   "version": "3.7.8rc1"
  },
  "orig_nbformat": 4
 },
 "nbformat": 4,
 "nbformat_minor": 2
}
