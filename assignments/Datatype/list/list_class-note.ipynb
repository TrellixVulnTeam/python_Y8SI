{
 "cells": [
  {
   "cell_type": "code",
   "execution_count": 1,
   "metadata": {},
   "outputs": [
    {
     "name": "stdout",
     "output_type": "stream",
     "text": [
      "[1, 2, 4, 1, 2, 5, 4, 1, 2]\n"
     ]
    }
   ],
   "source": [
    "# duplicate value are allowed \n",
    "a = [ 1, 2, 4, 1, 2, 5, 4, 1, 2]\n",
    "print(a)"
   ]
  },
  {
   "cell_type": "code",
   "execution_count": 2,
   "metadata": {},
   "outputs": [
    {
     "name": "stdout",
     "output_type": "stream",
     "text": [
      "9\n"
     ]
    }
   ],
   "source": [
    "# length of list from above data  \n",
    "print(len(a))\n"
   ]
  },
  {
   "cell_type": "code",
   "execution_count": 4,
   "metadata": {},
   "outputs": [
    {
     "name": "stdout",
     "output_type": "stream",
     "text": [
      "[1, 2, 4, 5, 6, 7]\n"
     ]
    }
   ],
   "source": [
    "# adding elements to a list (append)\n",
    "l = [1, 2, 4, 5, 6]\n",
    "l.append(7) # add the value at the end of the list \n",
    "print(l) "
   ]
  },
  {
   "cell_type": "code",
   "execution_count": 5,
   "metadata": {},
   "outputs": [
    {
     "name": "stdout",
     "output_type": "stream",
     "text": [
      "list after adding the value from range is: \n",
      "[1, 2, 3]\n"
     ]
    }
   ],
   "source": [
    "l2 = []\n",
    "# appending the list with loop \n",
    "for i in range(1, 4):\n",
    "    l2.append(i)\n",
    "\n",
    "print('list after adding the value from range is: ')\n",
    "print(l2) # from loop "
   ]
  },
  {
   "cell_type": "code",
   "execution_count": 7,
   "metadata": {},
   "outputs": [
    {
     "name": "stdout",
     "output_type": "stream",
     "text": [
      "appending the tuple in list \n",
      "['a, 2, 3']\n",
      "1\n"
     ]
    }
   ],
   "source": [
    "l3 = []\n",
    "# appending the tuple \n",
    "l3.append(('a, 2, 3'))\n",
    "print('appending the tuple in list ')\n",
    "print(l3)\n",
    "print(len(l3)) # return 1 because the  ther is one list "
   ]
  },
  {
   "cell_type": "code",
   "execution_count": 9,
   "metadata": {},
   "outputs": [
    {
     "name": "stdout",
     "output_type": "stream",
     "text": [
      "appending the tuple in list \n",
      "['a, 2, 3', [1, 2, 3]]\n",
      "2\n"
     ]
    }
   ],
   "source": [
    "l3 = []\n",
    "# appending the tuple \n",
    "l3.append(('a, 2, 3'))\n",
    "l3.append([1,2,3])\n",
    "print('appending the tuple in list ')\n",
    "print(l3)\n",
    "print(len(l3)) # return 1 because the  ther is one list "
   ]
  },
  {
   "cell_type": "code",
   "execution_count": 10,
   "metadata": {},
   "outputs": [],
   "source": [
    "# insert module \n",
    "l = [1, 2, 3, 4]\n"
   ]
  },
  {
   "cell_type": "code",
   "execution_count": 13,
   "metadata": {},
   "outputs": [
    {
     "name": "stdout",
     "output_type": "stream",
     "text": [
      "appending the tuple in list \n",
      "['a', '2', '3', 1, 2, 3]\n",
      "6\n"
     ]
    }
   ],
   "source": [
    "# extend module: add multiple elements\n",
    "l3 = []\n",
    "# appending the tuple \n",
    "l3.extend(('a23'))\n",
    "l3.extend([1,2,3])\n",
    "print('appending the tuple in list ')\n",
    "print(l3)\n",
    "print(len(l3))  # it adds the values at the end of list "
   ]
  },
  {
   "cell_type": "code",
   "execution_count": 18,
   "metadata": {},
   "outputs": [
    {
     "name": "stdout",
     "output_type": "stream",
     "text": [
      "1\n",
      "3\n",
      "5\n",
      "7\n",
      "9\n"
     ]
    }
   ],
   "source": [
    "a = [1, 3, 5, 7, 9]\n",
    "length = len(a)\n",
    "i = 0\n",
    "while i < length:\n",
    "    print(a[i])\n",
    "    i+=1"
   ]
  },
  {
   "cell_type": "code",
   "execution_count": 20,
   "metadata": {},
   "outputs": [
    {
     "name": "stdout",
     "output_type": "stream",
     "text": [
      "[]\n",
      "[10, 20, 14]\n",
      "hello\n",
      "world\n",
      "[['hello', 'world'], ['python']]\n",
      "['hello', 'world']\n",
      "hello\n"
     ]
    }
   ],
   "source": [
    "# Python program to demonstrate\n",
    "# Creation of List\n",
    "# Creating a List\n",
    "l = []\n",
    "print(l)\n",
    "# Creating a List of numbers\n",
    "l = [10, 20, 14]\n",
    "print(l)\n",
    "# Creating a List of strings and accessing\n",
    "# using index\n",
    "l = [\"hello\", \"world\"]\n",
    "print(l[0])\n",
    "print(l[1])\n",
    "# Creating a Multi-Dimensional List\n",
    "# (By Nesting a list inside a List)\n",
    "l = [['hello', 'world'] , ['python']]\n",
    "print(l)\n",
    "print(l[0])\n",
    "print(l[0][0])"
   ]
  },
  {
   "cell_type": "code",
   "execution_count": 21,
   "metadata": {},
   "outputs": [
    {
     "name": "stdout",
     "output_type": "stream",
     "text": [
      "[1, 2, 3, 4, 5, 6, 7]\n",
      "['hello', 1, 2, 'world', 6, 'python']\n"
     ]
    }
   ],
   "source": [
    "# creating a list with value of Numbers \n",
    "# (haveing duplicate value )\n",
    "l = [1, 2, 3, 4, 5, 6, 7]\n",
    "print(l)\n",
    "\n",
    "# creating a list with mic type of value \n",
    "# having numbers and string\n",
    "l = ['hello', 1, 2, 'world', 6, 'python']\n",
    "print(l)"
   ]
  },
  {
   "cell_type": "code",
   "execution_count": 23,
   "metadata": {},
   "outputs": [
    {
     "name": "stdout",
     "output_type": "stream",
     "text": [
      "5\n",
      "9\n"
     ]
    }
   ],
   "source": [
    "# creating list \n",
    "l = [1, 2, 3, 4, 5]\n",
    "print(len(l))\n",
    "\n",
    "# creating list of number and string \n",
    "l = [1, 2, 'hello', 2, 4, 'world', 8, 7, 'yogesh']\n",
    "print(len(l))"
   ]
  },
  {
   "cell_type": "code",
   "execution_count": 24,
   "metadata": {},
   "outputs": [
    {
     "name": "stdout",
     "output_type": "stream",
     "text": [
      "list after append method.....\n",
      "[7, 8, 9]\n"
     ]
    }
   ],
   "source": [
    "# python program to demostrate the adding of list elements\n",
    "# append method \n",
    "l = []\n",
    "l.append(7)\n",
    "l.append(8)\n",
    "l.append(9)\n",
    "print('list after append method.....')\n",
    "print(l)"
   ]
  },
  {
   "cell_type": "code",
   "execution_count": 25,
   "metadata": {},
   "outputs": [
    {
     "name": "stdout",
     "output_type": "stream",
     "text": [
      "Append  after iteration....\n",
      "[1, 2, 3, 4]\n"
     ]
    }
   ],
   "source": [
    "# append using iteration \n",
    "l = []\n",
    "for i in range(1, 5):\n",
    "    l.append(i)\n",
    "\n",
    "print('Append  after iteration....')\n",
    "print(l)"
   ]
  },
  {
   "cell_type": "code",
   "execution_count": 26,
   "metadata": {},
   "outputs": [
    {
     "name": "stdout",
     "output_type": "stream",
     "text": [
      "['for', 'python', 'developer', 'the biggest offer']\n"
     ]
    }
   ],
   "source": [
    "# adding tuple to a list \n",
    "l2 = ['for', 'python']\n",
    "l2.append(('developer'))\n",
    "l2.append(('the biggest offer'))\n",
    "print(l2)"
   ]
  },
  {
   "cell_type": "code",
   "execution_count": 27,
   "metadata": {},
   "outputs": [
    {
     "name": "stdout",
     "output_type": "stream",
     "text": [
      "['this is a ', 'python course ', ['for'], ['python developer']]\n"
     ]
    }
   ],
   "source": [
    "# adding list to a list \n",
    "l3 = ['this is a ', 'python course ']\n",
    "l3.append(['for'])\n",
    "l3.append(['python developer'])\n",
    "print(l3)"
   ]
  },
  {
   "cell_type": "code",
   "execution_count": 30,
   "metadata": {},
   "outputs": [
    {
     "name": "stdout",
     "output_type": "stream",
     "text": [
      "initial lis: \n",
      "[1, 2, 3, 4]\n",
      "after the insert of elements at specific position(index):- \n",
      "[1, 8, 2, 5, 3, 4]\n"
     ]
    }
   ],
   "source": [
    "# python program to demostrate the insert method\n",
    "# creating a list \n",
    "l = [1, 2, 3, 4]\n",
    "print('initial lis: ')\n",
    "print(l)\n",
    "\n",
    "# adding of elements at specific position(index)\n",
    "l.insert(2, 5)\n",
    "l.insert(1, 8)\n",
    "print('after the insert of elements at specific position(index):- ')\n",
    "print(l)"
   ]
  },
  {
   "cell_type": "code",
   "execution_count": 33,
   "metadata": {},
   "outputs": [
    {
     "name": "stdout",
     "output_type": "stream",
     "text": [
      "initial list emelents:- \n",
      "[1, 2, 3, 4]\n",
      "after the updates;- \n",
      "[1, 2, 3, 4, 8, 'python', 'developer']\n"
     ]
    }
   ],
   "source": [
    "# python program to demostarte the adding of element in list \n",
    "# creating a list \n",
    "l = [1, 2, 3, 4]\n",
    "print('initial list emelents:- ')\n",
    "print(l)\n",
    "\n",
    "# adding multivalue to the end of the list \n",
    "l.extend([8, 'python', 'developer'])\n",
    "print('after the updates;- ')\n",
    "print(l) "
   ]
  },
  {
   "cell_type": "code",
   "execution_count": 2,
   "metadata": {},
   "outputs": [
    {
     "name": "stdout",
     "output_type": "stream",
     "text": [
      "Accessing a elements from the list:- \n",
      "python\n",
      "C++\n",
      "Accessing a elements from a multi-dimentional list:- \n",
      "java\n",
      "Ruby\n"
     ]
    }
   ],
   "source": [
    "# python program to demostrate accessing of element from list \n",
    "# creating a list with multiple values\n",
    "l = ['python', 'javascript', 'C++']\n",
    "\n",
    "# accessing the elememts from the list using index number\n",
    "print('Accessing a elements from the list:- ')\n",
    "print(l[0])\n",
    "print(l[2])\n",
    "\n",
    "# creating a multi-dimentional list \n",
    "l1 = [['python', 'java'], ['Ruby']]\n",
    "# accessing an elements from the multi-dimentional list using \n",
    "# index number \n",
    "print('Accessing a elements from a multi-dimentional list:- ')\n",
    "print(l1[0][1]) # it return the value of index zero of index one\n",
    "print(l1[1][0]) # it returns a value if index one of index zero"
   ]
  },
  {
   "cell_type": "code",
   "execution_count": 3,
   "metadata": {},
   "outputs": [
    {
     "name": "stdout",
     "output_type": "stream",
     "text": [
      "accessing elements using negative index\n",
      "flask\n",
      "Django\n"
     ]
    }
   ],
   "source": [
    "l = [1, 2, 'python', 4, 'Django', 6, 'flask']\n",
    "# accessing an elements using\n",
    "# negative indexing \n",
    "print('accessing elements using negative index')\n",
    "print(l[-1])\n",
    "# print the third last element of list \n",
    "print(l[-3])"
   ]
  },
  {
   "cell_type": "code",
   "execution_count": 4,
   "metadata": {},
   "outputs": [
    {
     "name": "stdout",
     "output_type": "stream",
     "text": [
      "Intial list: \n",
      "[1, 2, 3, 4, 5, 6, 7, 8, 9, 10, 11, 12]\n",
      "list afterremoval of two elements:- \n",
      "[1, 2, 3, 4, 7, 8, 9, 10, 11, 12]\n",
      "list after removing a range of elements\n",
      "[7, 8, 9, 10, 11, 12]\n"
     ]
    }
   ],
   "source": [
    "# python program to demostrate the removal of elements in a list\n",
    "# creating a list\n",
    "l = [1, 2, 3, 4, 5, 6, \n",
    "    7, 8, 9, 10, 11, 12]\n",
    "print('Intial list: ')\n",
    "print(l)\n",
    "\n",
    "# removinf elemnet from list using removie element() method \n",
    "l.remove(5)\n",
    "l.remove(6)\n",
    "\n",
    "print('list afterremoval of two elements:- ')\n",
    "print(l)\n",
    "\n",
    "# removing list using iteration method\n",
    "for i in range(1, 5):\n",
    "    l.remove(i)\n",
    "print(\"list after removing a range of elements\")\n",
    "print(l)"
   ]
  },
  {
   "cell_type": "code",
   "execution_count": 5,
   "metadata": {},
   "outputs": [
    {
     "name": "stdout",
     "output_type": "stream",
     "text": [
      "list after popping an element:- \n",
      "list after popping s specific elements: \n",
      "[1, 2, 4]\n"
     ]
    }
   ],
   "source": [
    "# pop \n",
    "l = [1, 2, 3, 4, 5]\n",
    "# removing element from list using pop() method \n",
    "print('list after popping an element:- ')\n",
    "l.pop() # by default it will remove last value \n",
    "\n",
    "# removing element at a \n",
    "# specific lication from the set using pop() method \n",
    "l.pop(2)# it will remove 2 from list \n",
    "print('list after popping s specific elements: ')\n",
    "print(l)"
   ]
  },
  {
   "cell_type": "code",
   "execution_count": 6,
   "metadata": {},
   "outputs": [
    {
     "name": "stdout",
     "output_type": "stream",
     "text": [
      "[1, 2, 3, 4, 5, 6, 7, 8, 9, 10, 11, 12]\n",
      "[]\n"
     ]
    }
   ],
   "source": [
    "# clear()\n",
    "l = [1, 2, 3, 4, 5, 6, 7, 8, 9, 10, 11, 12]\n",
    "print(l)\n",
    "l.clear() # clear all the list \n",
    "print(l)"
   ]
  },
  {
   "cell_type": "code",
   "execution_count": null,
   "metadata": {},
   "outputs": [],
   "source": [
    "# slicing \n",
    "[start: stop: steps]\n",
    "# which means that slicing will start from index start\n",
    "# will go up to stop in step of steps.\n",
    "# Default value of start is 0, stop is last index of list\n",
    "# and for step it is 1"
   ]
  },
  {
   "cell_type": "code",
   "execution_count": 8,
   "metadata": {},
   "outputs": [
    {
     "name": "stdout",
     "output_type": "stream",
     "text": [
      "[1, 2, 3, 4, 5, 6, 7, 8, 9, 10]\n",
      "[2, 3, 4, 5]\n",
      "[7, 8]\n",
      "[2, 3, 4, 5, 6, 7, 8, 9, 10]\n",
      "[1, 2, 3, 4, 5]\n",
      "[1, 3, 5, 7, 9]\n",
      "[10, 9, 8, 7, 6, 5, 4, 3, 2, 1]\n"
     ]
    }
   ],
   "source": [
    "# list contain all number from 1 to 11\n",
    "lst = list(range(1, 11))\n",
    "print(lst)\n",
    "\n",
    "# index 1: index 5\n",
    "lst1 = lst[1:5]\n",
    "print(lst1)\n",
    "\n",
    "# index 6 to : index 8\n",
    "lst2 = lst[6:8]\n",
    "print(lst2)\n",
    "\n",
    "# index 1 to : \n",
    "lst3 = lst[1:]\n",
    "print(lst3)\n",
    "\n",
    "# index : to 5\n",
    "lst4 = lst[: 5]\n",
    "print(lst4)\n",
    "\n",
    "# step 2\n",
    "lst5 = lst[0::2]\n",
    "print(lst5)\n",
    "\n",
    "# reverse \n",
    "lst6 = lst[::-1]\n",
    "print(lst6)\n"
   ]
  },
  {
   "cell_type": "code",
   "execution_count": 11,
   "metadata": {},
   "outputs": [
    {
     "name": "stdout",
     "output_type": "stream",
     "text": [
      "print initial list:\n",
      "['A', 'B', 'C', 'D', 'E', 'F', 'G', 'H', 'I', 'J', 'K', 'L', 'M']\n",
      "the elements between index 3 to 8: \n",
      "['D', 'E', 'F', 'G', 'H']\n",
      "after first sliceing: \n",
      "['F', 'G', 'H', 'I', 'J', 'K', 'L', 'M']\n",
      "reversing the elements: \n",
      "['M', 'L', 'K', 'J', 'I', 'H', 'G', 'F', 'E', 'D', 'C', 'B', 'A']\n",
      "reversing elements of list in reverse order in step of 2\n",
      "['M', 'K', 'I', 'G', 'E', 'C', 'A']\n"
     ]
    }
   ],
   "source": [
    "# creating a list \n",
    "l = ['A', 'B', 'C', 'D', 'E', 'F', 'G', 'H', 'I', 'J', 'K', 'L', 'M']\n",
    "\n",
    "print('print initial list:')\n",
    "print(l)\n",
    "\n",
    "# display element of range \n",
    "l1 = l[3:8]\n",
    "print('the elements between index 3 to 8: ')\n",
    "print(l1)\n",
    "\n",
    "# display elements from index 5 to end\n",
    "l2 = l[5:]\n",
    "print('after first sliceing: ')\n",
    "print(l2)\n",
    "\n",
    "# reversing the element \n",
    "l3 = l[::-1]\n",
    "print('reversing the elements: ')\n",
    "print(l3)\n",
    "\n",
    "# reversing in index of 2\n",
    "l4 = l[::-2]\n",
    "print('reversing elements of list in reverse order in step of 2')\n",
    "print(l4)"
   ]
  },
  {
   "cell_type": "code",
   "execution_count": 12,
   "metadata": {},
   "outputs": [
    {
     "name": "stdout",
     "output_type": "stream",
     "text": [
      "[1, 4, 5, 7, 8]\n",
      "length of list:  5\n"
     ]
    }
   ],
   "source": [
    " # python ptogram to demostrate the length of list \n",
    "#  singin naive method \n",
    "\n",
    "# initializIing list\n",
    "l = [1, 4, 5 , 7, 8]\n",
    "\n",
    "# python test list \n",
    "print(l)\n",
    "# finding the length of list \n",
    "# using loop \n",
    "# initializing counter \n",
    "Counter = 0\n",
    "for i in l:\n",
    "    # increment counter \n",
    "    Counter += 1\n",
    "\n",
    "print('length of list: ', Counter)"
   ]
  },
  {
   "cell_type": "code",
   "execution_count": 13,
   "metadata": {},
   "outputs": [
    {
     "name": "stdout",
     "output_type": "stream",
     "text": [
      "length of list is:  4\n"
     ]
    }
   ],
   "source": [
    "# python program to demostrate working of len()\n",
    "a = []\n",
    "a.append('python')\n",
    "a.append('django')\n",
    "a.append('web development')\n",
    "a.append('javascript')\n",
    "print(\"length of list is: \", len(a))"
   ]
  },
  {
   "cell_type": "code",
   "execution_count": 14,
   "metadata": {},
   "outputs": [
    {
     "name": "stdout",
     "output_type": "stream",
     "text": [
      "1\n",
      "5\n",
      "7\n",
      "8\n",
      "10\n",
      "5\n",
      "3\n"
     ]
    }
   ],
   "source": [
    "# iterating over list \n",
    "l = [ 1, 5, 7, 8, 10, 5, 3]\n",
    "#using for loop \n",
    "for i in l:\n",
    "    print(i)"
   ]
  },
  {
   "cell_type": "code",
   "execution_count": 17,
   "metadata": {},
   "outputs": [
    {
     "name": "stdout",
     "output_type": "stream",
     "text": [
      "0 1\n",
      "1 4\n",
      "2 7\n",
      "3 8\n",
      "4 9\n",
      "5 10\n",
      "6 2\n",
      "7 3\n"
     ]
    }
   ],
   "source": [
    "# method 2\n",
    "# loop and range \n",
    "# iterating over a list \n",
    "l = [1, 4, 7, 8, 9, 10, 2, 3]\n",
    "length = len(l)\n",
    "for i in range(length):\n",
    "    print(i, end=' ' )# index of lists \n",
    "    print(l[i]) # value of list "
   ]
  },
  {
   "cell_type": "code",
   "execution_count": 18,
   "metadata": {},
   "outputs": [
    {
     "name": "stdout",
     "output_type": "stream",
     "text": [
      "0 1\n",
      "1 2\n",
      "2 4\n",
      "3 5\n",
      "4 7\n",
      "5 8\n",
      "6 3\n"
     ]
    }
   ],
   "source": [
    "# method-3\n",
    "# using while loop \n",
    "l = [1, 2, 4, 5, 7, 8, 3]\n",
    "# length = len(l) \n",
    "i = 0\n",
    "while i<len(l):\n",
    "    print(i, end=' ')\n",
    "    print(l[i])\n",
    "    i += 1"
   ]
  },
  {
   "cell_type": "markdown",
   "metadata": {},
   "source": []
  },
  {
   "cell_type": "code",
   "execution_count": 19,
   "metadata": {},
   "outputs": [
    {
     "name": "stdout",
     "output_type": "stream",
     "text": [
      "1\n",
      "2\n",
      "5\n",
      "4\n",
      "7\n",
      "8\n",
      "9\n"
     ]
    },
    {
     "data": {
      "text/plain": [
       "[None, None, None, None, None, None, None]"
      ]
     },
     "execution_count": 19,
     "metadata": {},
     "output_type": "execute_result"
    }
   ],
   "source": [
    "# method - 4\n",
    "# using comperehension \n",
    "l = [1,2,5,4,7,8,9]\n",
    "[print(i) for i in l]"
   ]
  },
  {
   "cell_type": "code",
   "execution_count": 21,
   "metadata": {},
   "outputs": [
    {
     "name": "stdout",
     "output_type": "stream",
     "text": [
      "0 1\n",
      "1 4\n",
      "2 5\n",
      "3 7\n",
      "4 8\n",
      "5 2\n"
     ]
    }
   ],
   "source": [
    "# method - 5\n",
    "l = [1, 4, 5, 7, 8, 2]\n",
    "for i, v in enumerate(l):\n",
    "    print(i, end=' ') \n",
    "    print(v) \n"
   ]
  },
  {
   "cell_type": "code",
   "execution_count": 27,
   "metadata": {},
   "outputs": [
    {
     "name": "stdout",
     "output_type": "stream",
     "text": [
      "[1, 4, 7, 8, 9, 2, 7, 3, 8, 9, 2, 1]\n",
      "[7, 3, 8, 9, 2, 1, 1, 4, 7, 8, 9, 2, 7, 3, 8, 9, 2, 1]\n"
     ]
    }
   ],
   "source": [
    "# native method \n",
    "l1 = [1, 4, 7, 8, 9, 2]\n",
    "l2 = [7, 3, 8, 9, 2, 1]\n",
    "\n",
    "for i in l2:\n",
    "    l1.append(i) # adding l2 in l1\n",
    "print(l1)\n",
    "\n",
    "for i in l1:\n",
    "    l2.append(i) # add l1 in l2\n",
    "print(l2)"
   ]
  },
  {
   "cell_type": "code",
   "execution_count": 29,
   "metadata": {},
   "outputs": [
    {
     "name": "stdout",
     "output_type": "stream",
     "text": [
      "[4, 2, 3, 6, 9, 7, 1, 4, 5, 7, 8, 8]\n"
     ]
    }
   ],
   "source": [
    "# using + operator \n",
    "l3 = [1, 4, 5, 7,8, 8]\n",
    "l4 = [4, 2, 3, 6,9, 7]\n",
    "l5 = l4 + l3\n",
    "print(l5)"
   ]
  },
  {
   "cell_type": "code",
   "execution_count": 31,
   "metadata": {},
   "outputs": [
    {
     "name": "stdout",
     "output_type": "stream",
     "text": [
      "[7, 3, 8, 9, 2, 1, 5, 8, 7, 1, 6, 2]\n"
     ]
    }
   ],
   "source": [
    "# using comprehensio \n",
    "\n",
    "# initializing list \n",
    "l1 = [7, 3, 8, 9, 2, 1]\n",
    "l2 = [5, 8, 7, 1, 6, 2]\n",
    "\n",
    "# using expreshension to Concatenate\n",
    "result = [y for x in [l1, l2] for y in x]\n",
    "print(result)"
   ]
  },
  {
   "cell_type": "code",
   "execution_count": 32,
   "metadata": {},
   "outputs": [
    {
     "name": "stdout",
     "output_type": "stream",
     "text": [
      "[1, 4, 7, 8, 5, 2, 7, 89, 3, 2, 4]\n"
     ]
    }
   ],
   "source": [
    "# method - 4\n",
    "# extend method\n",
    "# initializing the list \n",
    "l3 = [1, 4, 7, 8, 5]\n",
    "l4 = [2, 7, 89, 3, 2, 4]\n",
    "l3.extend(l4)\n",
    "print(l3)"
   ]
  },
  {
   "cell_type": "code",
   "execution_count": 33,
   "metadata": {},
   "outputs": [
    {
     "name": "stdout",
     "output_type": "stream",
     "text": [
      "[1, 4, 5, 7, 87, 4, 8, 9, 7, 2, 12]\n"
     ]
    }
   ],
   "source": [
    "# method - 5\n",
    "# using * operator \n",
    "l1 = [1, 4, 5, 7, 87 ]\n",
    "l2 = [4, 8, 9, 7, 2, 12]\n",
    "\n",
    "# using * operator to concat \n",
    "result = [*l1, *l2]\n",
    "print(result)"
   ]
  },
  {
   "cell_type": "code",
   "execution_count": 6,
   "metadata": {},
   "outputs": [
    {
     "name": "stdout",
     "output_type": "stream",
     "text": [
      "0\n",
      "0\n"
     ]
    }
   ],
   "source": [
    "# python program to demostrate the list index() method \n",
    "l = [1, 2, 3, 1, 2, 3, 4, 1, 2, 5, 1, 2,4]\n",
    "# will print index of 4 in the list \n",
    "print(l.index(1))\n",
    "\n",
    "l2 = ['cat', 'hat', 'bat', 'sat', 'mat']\n",
    "print(l2.index('cat'))"
   ]
  },
  {
   "cell_type": "code",
   "execution_count": 17,
   "metadata": {},
   "outputs": [
    {
     "name": "stdout",
     "output_type": "stream",
     "text": [
      "2\n",
      "3\n"
     ]
    }
   ],
   "source": [
    "l = [1, 2, 3, 1, 2, 3, 4, 1, 2, 5, 1, 2,4]\n",
    "# Will print the index of '4' in list1\n",
    "print(l.index(3))\n",
    "l2 = ['cat', 'bat', 'mat', 'cat', 'pet']\n",
    "# Will print the index of 'cat' in list2\n",
    "print(l2.index('cat', 2))"
   ]
  },
  {
   "cell_type": "code",
   "execution_count": 19,
   "metadata": {},
   "outputs": [
    {
     "name": "stdout",
     "output_type": "stream",
     "text": [
      "4\n",
      "2\n",
      "2\n"
     ]
    }
   ],
   "source": [
    "# python program to demostrate the count number times an \n",
    "# object appears in a list using counter()\n",
    "l = [1, 2, 3, 1, 2, 3, 4, 1, 2, 5, 1, 2,4]\n",
    "\n",
    "# performing the counterfunction \n",
    "print(l.count(1))\n",
    "\n",
    "l1 = ['a', 'b', 'c', 'a', 'k', 'a', 'b', 'c']\n",
    "print(l1.count('b'))\n",
    "\n",
    "l2 = ['cat', 'bat', 'mat', 'cat', 'pet']\n",
    "print(l2.count('cat'))"
   ]
  },
  {
   "cell_type": "code",
   "execution_count": 30,
   "metadata": {},
   "outputs": [
    {
     "name": "stdout",
     "output_type": "stream",
     "text": [
      "before sort:- \n",
      "[1, 3, 11, 15, 20, 4, 2, 5, 7]\n",
      "After sort in decending order:- \n",
      "[1, 2, 3, 4, 5, 7, 11, 15, 20]\n",
      "\n",
      "befor sort:- \n",
      "[1.2, 4.5, 2.4, 6.17, 1.78, 2.48, 6.9]\n",
      "After sort in decending order:- \n",
      "[1.2, 1.78, 2.4, 2.48, 4.5, 6.17, 6.9]\n",
      "\n",
      "before sort:- \n",
      "['hello', 'python', 'world', 'bikky', 'yogesh']\n",
      "After sort in decending order:- \n",
      "['bikky', 'hello', 'python', 'world', 'yogesh']\n"
     ]
    }
   ],
   "source": [
    "# list of intiger \n",
    "l = [1, 3, 11, 15, 20,4,2, 5, 7]\n",
    "print('before sort:- ')\n",
    "print(l)\n",
    "\n",
    "# sorting of intigers\n",
    "print('After order:- ')\n",
    "l.sort()\n",
    "print(l) # sort the elements in assending order\n",
    "\n",
    "# list floating point number\n",
    "print() \n",
    "floa = [1.2,  4.5, 2.4, 6.17, 1.78, 2.48, 6.9]\n",
    "print('befor sort:- ')\n",
    "print(floa)\n",
    "\n",
    "print('After order:- ')\n",
    "floa.sort()\n",
    "print(floa)\n",
    "\n",
    "# sorting list \n",
    "print()\n",
    "words = ['hello', 'python', 'world', 'bikky', 'yogesh']\n",
    "print('before sort:- ')\n",
    "print(words)\n",
    "\n",
    "print('After order:- ')\n",
    "words.sort()\n",
    "print(words)"
   ]
  },
  {
   "cell_type": "code",
   "execution_count": 32,
   "metadata": {},
   "outputs": [
    {
     "name": "stdout",
     "output_type": "stream",
     "text": [
      "[1, 2, 5, 2, 3, 4, 7]\n",
      "desending order:- \n",
      "[7, 5, 4, 3, 2, 2, 1]\n",
      "\n",
      "befor sort:- \n",
      "[1.2, 4.5, 2.4, 6.17, 1.78, 2.48, 6.9]\n",
      "After sort in decending order:- \n",
      "[6.9, 6.17, 4.5, 2.48, 2.4, 1.78, 1.2]\n",
      "\n",
      "before sort:- \n",
      "['hello', 'python', 'world', 'bikky', 'yogesh']\n",
      "After sort in decending order:- \n",
      "['yogesh', 'world', 'python', 'hello', 'bikky']\n"
     ]
    }
   ],
   "source": [
    "# to sort the list in deseding order \n",
    "# list intiger \n",
    "a = [1, 2, 5, 2,3, 4, 7]\n",
    "print(a)\n",
    "\n",
    "# sorting in reverse \n",
    "print('desending order:- ')\n",
    "a.sort(reverse = True)\n",
    "print(a)\n",
    "\n",
    "print() \n",
    "floa = [1.2,  4.5, 2.4, 6.17, 1.78, 2.48, 6.9]\n",
    "print('befor sort:- ')\n",
    "print(floa)\n",
    "\n",
    "print('After sort in decending order:- ')\n",
    "floa.sort(reverse=True)\n",
    "print(floa)\n",
    "\n",
    "# sorting list \n",
    "print()\n",
    "words = ['hello', 'python', 'world', 'bikky', 'yogesh']\n",
    "print('before sort:- ')\n",
    "print(words)\n",
    "\n",
    "print('After sort in decending order:- ')\n",
    "words.sort(reverse=True)\n",
    "print(words)"
   ]
  },
  {
   "cell_type": "code",
   "execution_count": 35,
   "metadata": {},
   "outputs": [
    {
     "name": "stdout",
     "output_type": "stream",
     "text": [
      "[1, 2, 3, 4, 5, 7, 8]\n",
      "[8, 7, 5, 4, 3, 2, 1]\n"
     ]
    }
   ],
   "source": [
    "# python program to demostrate the working condition of \n",
    "# sort() and reverse()\n",
    "a = [1, 4, 5, 8, 7, 3, 2] \n",
    "\n",
    "# using of sort()\n",
    "a.sort() # assending order \n",
    "print(a)\n",
    "\n",
    "# using of reverse \n",
    "a.reverse() # decending order \n",
    "print(a)"
   ]
  },
  {
   "cell_type": "code",
   "execution_count": 37,
   "metadata": {},
   "outputs": [
    {
     "name": "stdout",
     "output_type": "stream",
     "text": [
      "[1, 4, 5, 8, 7, 3, 2]\n",
      "[1, 4, 5, 8, 7, 3, 2, 10]\n",
      "[1, 2, 3, 4, 5, 7, 8, 10]\n"
     ]
    }
   ],
   "source": [
    "# python program to demostrate the working of \n",
    "# list.copy() ==> shallow copy \n",
    "a = [1, 4, 5, 8, 7, 3, 2] \n",
    "\n",
    "# using copy to make a shallow copy \n",
    "b = a.copy()\n",
    "# diplay the copyed data \n",
    "print(b)\n",
    "\n",
    "# Adding new elements to a list\n",
    "b.append(10)\n",
    "\n",
    "# printing the updated value \n",
    "print(b)\n",
    "\n",
    "# sort the data \n",
    "b.sort()\n",
    "print(b)"
   ]
  },
  {
   "cell_type": "code",
   "execution_count": 40,
   "metadata": {},
   "outputs": [
    {
     "name": "stdout",
     "output_type": "stream",
     "text": [
      "[1, 4, 5, 8, 7, 3, 2]\n",
      "[1, 2, 3, 4, 5, 7, 8, 10, 10, 10]\n",
      "[1, 4, 5, 8, 7, 3, 2]\n",
      "[1, 4, 5, 8, 7, 3, 2, 15]\n",
      "[1, 2, 3, 4, 5, 7, 8, 15]\n",
      "[1, 2, 3, 4, 5, 7, 8, 15]\n",
      "[1, 2, 3, 4, 5, 7, 8, 15, 20]\n"
     ]
    }
   ],
   "source": [
    "# python program to demostrate the technique of \n",
    "# deep and shallow copy \n",
    "a = [1, 4, 5, 8, 7, 3, 2] \n",
    "\n",
    "# copying data using = \n",
    "b = b \n",
    "print(a)\n",
    "print(b)\n",
    "\n",
    "b.append(10)\n",
    " \n",
    "# shallow copy - change to nestaed list is reflected, \n",
    "# same as copy.copy(), slicing \n",
    "c = a.copy()\n",
    "print(c)\n",
    "\n",
    "# appending in c\n",
    "c.append(15)\n",
    "print(c)\n",
    "\n",
    "# sorting the value \n",
    "c.sort()\n",
    "print(c)\n",
    "# importing copy function \n",
    "import copy\n",
    "# deepcopy \n",
    "d = copy.deepcopy(c)\n",
    "print(d)\n",
    "\n",
    "d.append(20)\n",
    "print(d)"
   ]
  },
  {
   "cell_type": "code",
   "execution_count": null,
   "metadata": {},
   "outputs": [],
   "source": []
  }
 ],
 "metadata": {
  "interpreter": {
   "hash": "73b4fb914614748e1b4d5ae3804a556d6d463f357c4fc043afe155ac08cb1c28"
  },
  "kernelspec": {
   "display_name": "Python 3.9.6 64-bit",
   "language": "python",
   "name": "python3"
  },
  "language_info": {
   "codemirror_mode": {
    "name": "ipython",
    "version": 3
   },
   "file_extension": ".py",
   "mimetype": "text/x-python",
   "name": "python",
   "nbconvert_exporter": "python",
   "pygments_lexer": "ipython3",
   "version": "3.9.6"
  },
  "orig_nbformat": 4
 },
 "nbformat": 4,
 "nbformat_minor": 2
}
