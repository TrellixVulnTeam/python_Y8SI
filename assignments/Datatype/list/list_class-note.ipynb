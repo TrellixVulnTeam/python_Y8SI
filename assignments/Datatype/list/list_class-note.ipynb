{
 "cells": [
  {
   "cell_type": "code",
   "execution_count": 1,
   "metadata": {},
   "outputs": [
    {
     "name": "stdout",
     "output_type": "stream",
     "text": [
      "[1, 2, 4, 1, 2, 5, 4, 1, 2]\n"
     ]
    }
   ],
   "source": [
    "# duplicate value are allowed \n",
    "a = [ 1, 2, 4, 1, 2, 5, 4, 1, 2]\n",
    "print(a)"
   ]
  },
  {
   "cell_type": "code",
   "execution_count": 2,
   "metadata": {},
   "outputs": [
    {
     "name": "stdout",
     "output_type": "stream",
     "text": [
      "9\n"
     ]
    }
   ],
   "source": [
    "# length of list from above data  \n",
    "print(len(a))\n"
   ]
  },
  {
   "cell_type": "code",
   "execution_count": 4,
   "metadata": {},
   "outputs": [
    {
     "name": "stdout",
     "output_type": "stream",
     "text": [
      "[1, 2, 4, 5, 6, 7]\n"
     ]
    }
   ],
   "source": [
    "# adding elements to a list (append)\n",
    "l = [1, 2, 4, 5, 6]\n",
    "l.append(7) # add the value at the end of the list \n",
    "print(l) "
   ]
  },
  {
   "cell_type": "code",
   "execution_count": 5,
   "metadata": {},
   "outputs": [
    {
     "name": "stdout",
     "output_type": "stream",
     "text": [
      "list after adding the value from range is: \n",
      "[1, 2, 3]\n"
     ]
    }
   ],
   "source": [
    "l2 = []\n",
    "# appending the list with loop \n",
    "for i in range(1, 4):\n",
    "    l2.append(i)\n",
    "\n",
    "print('list after adding the value from range is: ')\n",
    "print(l2) # from loop "
   ]
  },
  {
   "cell_type": "code",
   "execution_count": 7,
   "metadata": {},
   "outputs": [
    {
     "name": "stdout",
     "output_type": "stream",
     "text": [
      "appending the tuple in list \n",
      "['a, 2, 3']\n",
      "1\n"
     ]
    }
   ],
   "source": [
    "l3 = []\n",
    "# appending the tuple \n",
    "l3.append(('a, 2, 3'))\n",
    "print('appending the tuple in list ')\n",
    "print(l3)\n",
    "print(len(l3)) # return 1 because the  ther is one list "
   ]
  },
  {
   "cell_type": "code",
   "execution_count": 9,
   "metadata": {},
   "outputs": [
    {
     "name": "stdout",
     "output_type": "stream",
     "text": [
      "appending the tuple in list \n",
      "['a, 2, 3', [1, 2, 3]]\n",
      "2\n"
     ]
    }
   ],
   "source": [
    "l3 = []\n",
    "# appending the tuple \n",
    "l3.append(('a, 2, 3'))\n",
    "l3.append([1,2,3])\n",
    "print('appending the tuple in list ')\n",
    "print(l3)\n",
    "print(len(l3)) # return 1 because the  ther is one list "
   ]
  },
  {
   "cell_type": "code",
   "execution_count": 10,
   "metadata": {},
   "outputs": [],
   "source": [
    "# insert module \n",
    "l = [1, 2, 3, 4]\n"
   ]
  },
  {
   "cell_type": "code",
   "execution_count": 13,
   "metadata": {},
   "outputs": [
    {
     "name": "stdout",
     "output_type": "stream",
     "text": [
      "appending the tuple in list \n",
      "['a', '2', '3', 1, 2, 3]\n",
      "6\n"
     ]
    }
   ],
   "source": [
    "# extend module: add multiple elements\n",
    "l3 = []\n",
    "# appending the tuple \n",
    "l3.extend(('a23'))\n",
    "l3.extend([1,2,3])\n",
    "print('appending the tuple in list ')\n",
    "print(l3)\n",
    "print(len(l3))  # it adds the values at the end of list "
   ]
  },
  {
   "cell_type": "code",
   "execution_count": 18,
   "metadata": {},
   "outputs": [
    {
     "name": "stdout",
     "output_type": "stream",
     "text": [
      "1\n",
      "3\n",
      "5\n",
      "7\n",
      "9\n"
     ]
    }
   ],
   "source": [
    "a = [1, 3, 5, 7, 9]\n",
    "length = len(a)\n",
    "i = 0\n",
    "while i < length:\n",
    "    print(a[i])\n",
    "    i+=1"
   ]
  },
  {
   "cell_type": "code",
   "execution_count": null,
   "metadata": {},
   "outputs": [],
   "source": []
  }
 ],
 "metadata": {
  "interpreter": {
   "hash": "73b4fb914614748e1b4d5ae3804a556d6d463f357c4fc043afe155ac08cb1c28"
  },
  "kernelspec": {
   "display_name": "Python 3.9.6 64-bit",
   "language": "python",
   "name": "python3"
  },
  "language_info": {
   "codemirror_mode": {
    "name": "ipython",
    "version": 3
   },
   "file_extension": ".py",
   "mimetype": "text/x-python",
   "name": "python",
   "nbconvert_exporter": "python",
   "pygments_lexer": "ipython3",
   "version": "3.9.6"
  },
  "orig_nbformat": 4
 },
 "nbformat": 4,
 "nbformat_minor": 2
}
