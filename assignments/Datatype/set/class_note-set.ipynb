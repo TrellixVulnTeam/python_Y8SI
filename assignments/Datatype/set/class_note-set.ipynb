{
 "cells": [
  {
   "cell_type": "code",
   "execution_count": 1,
   "metadata": {},
   "outputs": [
    {
     "name": "stdout",
     "output_type": "stream",
     "text": [
      "\n"
     ]
    }
   ],
   "source": [
    "# creating a empty set \n",
    "s = set() # typoe caseing tuple to set  \n",
    "print()"
   ]
  },
  {
   "cell_type": "code",
   "execution_count": 3,
   "metadata": {},
   "outputs": [
    {
     "name": "stdout",
     "output_type": "stream",
     "text": [
      "{1, 2, 3, 4, 5, 7}\n",
      "<class 'set'>\n"
     ]
    }
   ],
   "source": [
    "# set doesnot contain repeated value \n",
    "a = {1, 2, 3, 4, 2, 4, 5, 7, 5, 2}\n",
    "print(a)\n",
    "print(type(a))"
   ]
  },
  {
   "cell_type": "code",
   "execution_count": 5,
   "metadata": {},
   "outputs": [
    {
     "name": "stdout",
     "output_type": "stream",
     "text": [
      "{'python', 'khanal', 'yoges'}\n"
     ]
    }
   ],
   "source": [
    "# set never gives a value in random order,\n",
    "a = ['yoges', 'khanal', 'python']\n",
    "print(set(a))"
   ]
  },
  {
   "cell_type": "code",
   "execution_count": 9,
   "metadata": {},
   "outputs": [
    {
     "name": "stdout",
     "output_type": "stream",
     "text": [
      "{1, 2, 3, 4, 5}\n",
      "{1, 2, 3, 4, 5, 6, 7}\n"
     ]
    }
   ],
   "source": [
    "# adding elements in set \n",
    "# add()  \n",
    "# update()\n",
    "l = [1, 2, 3, 4, 5]\n",
    "s1 = set(l) # return \n",
    "print(s1)\n",
    "s1.update([6, 5, 7]) # inplace \n",
    "print(s1)"
   ]
  },
  {
   "cell_type": "code",
   "execution_count": 10,
   "metadata": {},
   "outputs": [
    {
     "ename": "TypeError",
     "evalue": "'set' object is not subscriptable",
     "output_type": "error",
     "traceback": [
      "\u001b[1;31m---------------------------------------------------------------------------\u001b[0m",
      "\u001b[1;31mTypeError\u001b[0m                                 Traceback (most recent call last)",
      "\u001b[1;32m~\\AppData\\Local\\Temp/ipykernel_10792/3084199846.py\u001b[0m in \u001b[0;36m<module>\u001b[1;34m\u001b[0m\n\u001b[0;32m      2\u001b[0m \u001b[0ml\u001b[0m \u001b[1;33m=\u001b[0m \u001b[1;33m[\u001b[0m\u001b[1;36m1\u001b[0m\u001b[1;33m,\u001b[0m \u001b[1;36m2\u001b[0m\u001b[1;33m,\u001b[0m \u001b[1;36m3\u001b[0m\u001b[1;33m,\u001b[0m \u001b[1;36m4\u001b[0m\u001b[1;33m,\u001b[0m \u001b[1;36m5\u001b[0m\u001b[1;33m]\u001b[0m\u001b[1;33m\u001b[0m\u001b[1;33m\u001b[0m\u001b[0m\n\u001b[0;32m      3\u001b[0m \u001b[0ml\u001b[0m \u001b[1;33m=\u001b[0m \u001b[0mset\u001b[0m\u001b[1;33m(\u001b[0m\u001b[0ml\u001b[0m\u001b[1;33m)\u001b[0m\u001b[1;33m\u001b[0m\u001b[1;33m\u001b[0m\u001b[0m\n\u001b[1;32m----> 4\u001b[1;33m \u001b[0mprint\u001b[0m\u001b[1;33m(\u001b[0m\u001b[0ml\u001b[0m\u001b[1;33m[\u001b[0m\u001b[1;36m0\u001b[0m\u001b[1;33m]\u001b[0m\u001b[1;33m)\u001b[0m\u001b[1;33m\u001b[0m\u001b[1;33m\u001b[0m\u001b[0m\n\u001b[0m",
      "\u001b[1;31mTypeError\u001b[0m: 'set' object is not subscriptable"
     ]
    }
   ],
   "source": [
    "# error \n",
    "l = [1, 2, 3, 4, 5]\n",
    "l = set(l)\n",
    "print(l[0])"
   ]
  },
  {
   "cell_type": "code",
   "execution_count": 13,
   "metadata": {},
   "outputs": [
    {
     "name": "stdout",
     "output_type": "stream",
     "text": [
      "1 2 3 4 5 \n",
      "False\n"
     ]
    }
   ],
   "source": [
    "# using for loop to access set \n",
    "l = [1, 2, 3, 4, 5]\n",
    "l = set(l)\n",
    "for i in l:\n",
    "    print(i, end=' ')\n",
    "\n",
    "print()\n",
    "# membership \n",
    "# not in set \n",
    "print('e' in l)"
   ]
  },
  {
   "cell_type": "code",
   "execution_count": 1,
   "metadata": {},
   "outputs": [
    {
     "name": "stdout",
     "output_type": "stream",
     "text": [
      "{'to machine learning', 'welcome', 'everyone', 'hello'}\n"
     ]
    }
   ],
   "source": [
    "# creating set with list \n",
    "l = ['hello' ,'everyone', 'welcome', 'to machine learning']\n",
    "s = set(l)\n",
    "print(s)"
   ]
  },
  {
   "cell_type": "code",
   "execution_count": 2,
   "metadata": {},
   "outputs": [
    {
     "name": "stdout",
     "output_type": "stream",
     "text": [
      "{1, 2, 3, 4, 5, 7, 8}\n",
      "{1, 2, 'programmers', 'python'}\n"
     ]
    }
   ],
   "source": [
    "# creating a set with a list of number \n",
    "# having a duplicate value \n",
    "l = [1, 2, 3, 4, 5, 1, 2, 5, 7, 8]\n",
    "s = set(l)\n",
    "print(s)\n",
    "\n",
    "\n",
    "# creating a set with a mixed type of value \n",
    "# having number and string \n",
    "l1 = ['python', 1, 'programmers',2]\n",
    "s2 = set(l1) \n",
    "print(s2)\n"
   ]
  },
  {
   "cell_type": "code",
   "execution_count": 4,
   "metadata": {},
   "outputs": [
    {
     "name": "stdout",
     "output_type": "stream",
     "text": [
      "set()\n",
      "{(6, 5), 7, 8, 9, (4, 5)}\n",
      "After adding of elements: \n",
      "{1, 2, 3, 4, 5}\n"
     ]
    }
   ],
   "source": [
    "# python program to demostrate the addiong of elements in set\n",
    "s = set()\n",
    "print(s)\n",
    "\n",
    "# adding elemets and tuple to the set \n",
    "s.add(8)\n",
    "s.add(9)\n",
    "s.add(7)\n",
    "s.add((6, 5))\n",
    "s.add((4, 5))\n",
    "print(s)\n",
    "\n",
    "# adding elements to the set using iteration \n",
    "s1 = set()\n",
    "for i in range(1, 6):\n",
    "    s1.add(i)\n",
    "\n",
    "print('After adding of elements: ')\n",
    "print(s1)"
   ]
  },
  {
   "cell_type": "code",
   "execution_count": 5,
   "metadata": {},
   "outputs": [
    {
     "name": "stdout",
     "output_type": "stream",
     "text": [
      "{1, 2, 3, 4, 5, 7, 8, 9}\n"
     ]
    }
   ],
   "source": [
    "# python program to demostrate the \n",
    "# adding of elmenets in a set \n",
    "\n",
    "# adding of element of the set \n",
    "#  using updated function\n",
    "\n",
    "l = [1, 2, 3, 3, 3, 4, 6, 2]\n",
    "# sorting the elments of list \n",
    "s = set(l)\n",
    "s1.update([7, 8, 9])\n",
    "print(s1) "
   ]
  },
  {
   "cell_type": "code",
   "execution_count": 8,
   "metadata": {},
   "outputs": [
    {
     "name": "stdout",
     "output_type": "stream",
     "text": [
      "a c b d \n",
      "False\n"
     ]
    }
   ],
   "source": [
    "# python program to demostrate \n",
    "# Accessing of elements is a set\n",
    "\n",
    "# creating a set \n",
    "a = {'a', 'b', 'c', 'd'}\n",
    "# print(a[0])\n",
    "\n",
    "# Accessing elements using fro loop \n",
    "for i in a:\n",
    "    print(i, end=' ')\n",
    "\n",
    "# chicking the elements using in keyword \n",
    "print()\n",
    "print('e' in a)"
   ]
  },
  {
   "cell_type": "code",
   "execution_count": 14,
   "metadata": {},
   "outputs": [
    {
     "name": "stdout",
     "output_type": "stream",
     "text": [
      "{1, 2, 3, 4, 5, 8, 9, 10}\n",
      "{1, 2, 3, 4, 5, 10}\n",
      "{5, 10}\n"
     ]
    }
   ],
   "source": [
    "# python program to demostrate the deleting of elements in set \n",
    "# creating a set\n",
    "s = set([1, 2, 3, 4, 5, 6, 7, 8, 9, 10])\n",
    "\n",
    "# removing elements from set \n",
    "# using remove method \n",
    "s.remove(7)\n",
    "s.remove(6)\n",
    "print(s)\n",
    "\n",
    "# removing elements from set using discards \n",
    "s.discard(8)\n",
    "s.discard(9)\n",
    "print(s)\n",
    "\n",
    "# removing elements from set using iteration method \n",
    "for i in range(1, 5):\n",
    "    s.remove(i)\n",
    "\n",
    "print(s)"
   ]
  },
  {
   "cell_type": "code",
   "execution_count": 2,
   "metadata": {},
   "outputs": [
    {
     "name": "stdout",
     "output_type": "stream",
     "text": [
      "{35, 5, 40, 10, 45, 15, 20, 25, 30}\n",
      "{5, 40, 10, 45, 15, 20, 25, 30}\n",
      "{40, 10, 45, 15, 20, 25, 30}\n",
      "{10, 45, 15, 20, 25, 30}\n"
     ]
    }
   ],
   "source": [
    "# python program to demostrate deleting of elements in set \n",
    "# pop() method\n",
    "# creating a set \n",
    "s =  set([5, 10, 15, 20, 25, 30, 35, 40, 45])\n",
    "print(s)\n",
    "\n",
    "# removing elmenets from a set using pop method \n",
    "s.pop()\n",
    "print(s)\n",
    "\n",
    "s.pop()\n",
    "print(s)\n",
    "\n",
    "s.pop()\n",
    "print(s)"
   ]
  },
  {
   "cell_type": "code",
   "execution_count": 3,
   "metadata": {},
   "outputs": [
    {
     "name": "stdout",
     "output_type": "stream",
     "text": [
      "{1, 2, 4, 5, 6, 8, 9}\n",
      "set()\n"
     ]
    }
   ],
   "source": [
    "# python program to demostarete the deleting of set with clear method \n",
    "# creating a set \n",
    "s = set([1, 2, 4, 5, 6, 8, 9])\n",
    "print(s)\n",
    "\n",
    "# removing all elements from set using clear() function \n",
    "s.clear() # clear all the data from set  \n",
    "print(s) "
   ]
  },
  {
   "cell_type": "code",
   "execution_count": 4,
   "metadata": {},
   "outputs": [
    {
     "name": "stdout",
     "output_type": "stream",
     "text": [
      "printing the original set\n",
      "{1, 2, 3, 4, 5, 6}\n",
      "printing the copyed value \n",
      "{1, 2, 3, 4, 5, 6}\n",
      "adding elements to second, first does not change\n",
      "{1, 2, 3, 4, 5, 6}\n",
      "{1, 2, 3, 4, 5, 6, 7}\n"
     ]
    }
   ],
   "source": [
    "# python program to demostrate the copy \n",
    "# creating using set copy is shallow\n",
    "s1 = {1, 2, 3, 4, 5, 6}\n",
    "s2 = s1.copy()\n",
    "\n",
    "# printing the original set \n",
    "print('printing the original set')\n",
    "print(s1)\n",
    "\n",
    "# printing the copyed value\n",
    "print('printing the copyed value ')\n",
    "print(s2)\n",
    "\n",
    "# adding elements to second, first does not change\n",
    "print('adding elements to second, first does not change')\n",
    "s1.add(6)\n",
    "s2.add(7)\n",
    "\n",
    "# after adding \n",
    "print(s1)\n",
    "print(s2)"
   ]
  },
  {
   "cell_type": "code",
   "execution_count": 5,
   "metadata": {},
   "outputs": [
    {
     "name": "stdout",
     "output_type": "stream",
     "text": [
      "set1 U set2:  {1, 2, 3, 4, 5, 6, 7, 8, 9}\n",
      "set1 U set2 U set3:  {1, 2, 3, 4, 5, 6, 7, 8, 9}\n"
     ]
    }
   ],
   "source": [
    "# union \n",
    "# python program to demostrate the union () function \n",
    "set1 = {2, 4, 6, 8}\n",
    "set2 = {1, 3, 5, 7, 9}\n",
    "set3 = {5, 6, 7, 8, 9}\n",
    "\n",
    "# union of two set \n",
    "print('set1 U set2: ', set1.union(set2))\n",
    "\n",
    "# union of three set \n",
    "print('set1 U set2 U set3: ', set1.union(set2, set3))"
   ]
  },
  {
   "cell_type": "code",
   "execution_count": 7,
   "metadata": {},
   "outputs": [
    {
     "name": "stdout",
     "output_type": "stream",
     "text": [
      "{40, 10, 50, 20, 30}\n",
      "{200, 100, 400, 300}\n"
     ]
    }
   ],
   "source": [
    "# python ptogram to demostrate the difference()\n",
    "# drive code \n",
    "a = {10, 20, 30, 40, 50}\n",
    "b = {100, 200, 300, 400}\n",
    "print(a.difference(b))\n",
    "print(b.difference(a))\n",
    "\n",
    "# print(a - b)\n",
    "# print(b - a)"
   ]
  },
  {
   "cell_type": "code",
   "execution_count": 8,
   "metadata": {},
   "outputs": [
    {
     "name": "stdout",
     "output_type": "stream",
     "text": [
      "{50, 20, 40, 10, 30}\n"
     ]
    }
   ],
   "source": [
    "# difference_updat()\n",
    "# python program to demostarete the difference between two set \n",
    "# using differnce_update() between setA and setB\n",
    "\n",
    "# drive code \n",
    "A = {10, 20, 30, 40, 50}\n",
    "B = {100, 200, 300, 400, 500}\n",
    "\n",
    "# modifies A and B return None \n",
    "A.difference_update(B)\n",
    "print(A)\n"
   ]
  },
  {
   "cell_type": "code",
   "execution_count": 9,
   "metadata": {},
   "outputs": [
    {
     "name": "stdout",
     "output_type": "stream",
     "text": [
      "set1 intersection set2:  {8, 4, 6}\n",
      "set1 intersection set2 intersection set3:  {8, 4, 6}\n"
     ]
    }
   ],
   "source": [
    "# python program to demostarete intersecttion() function\n",
    "set1 = {2, 4, 6, 8}\n",
    "set2 = {4, 6, 8, 10}\n",
    "set3 = {4, 6, 8}\n",
    "\n",
    "# union of two set\n",
    "print(\"set1 intersection set2: \", set1.intersection(set2))\n",
    "\n",
    "# union of three set\n",
    "print('set1 intersection set2 intersection set3: ', set1.intersection(set2, set3))\n"
   ]
  },
  {
   "cell_type": "code",
   "execution_count": 10,
   "metadata": {},
   "outputs": [
    {
     "name": "stdout",
     "output_type": "stream",
     "text": [
      "{4, 6}\n",
      "{4, 6}\n"
     ]
    }
   ],
   "source": [
    "# python program to demostrate intersection_update()\n",
    "set1 = {2, 4, 5, 6}\n",
    "set2 = {4, 6, 7, 8}\n",
    "set3 = {4, 6, 8}\n",
    "\n",
    "# intersection of two sets\n",
    "set1.intersection_update(set2)\n",
    "print(set1)\n",
    "\n",
    "# intersection of three set\n",
    "set1.intersection_update(set2, set3)\n",
    "print(set1)"
   ]
  },
  {
   "cell_type": "code",
   "execution_count": 11,
   "metadata": {},
   "outputs": [
    {
     "name": "stdout",
     "output_type": "stream",
     "text": [
      "set1 and set2 are dijoin?:  True\n",
      "set1 and set3 are disjoint?:  False\n"
     ]
    }
   ],
   "source": [
    "# python program to demostrate the isjoin() function \n",
    "set1 = {2, 4, 5, 6}\n",
    "set2 = {7, 8, 9, 10}\n",
    "set3 = {1, 2}\n",
    "\n",
    "# checking of disjoin of two sets \n",
    "print('set1 and set2 are dijoin?: ', set1.isdisjoint(set2))\n",
    "\n",
    "# checking of disjoin of three sets\n",
    "print('set1 and set3 are disjoint?: ', set1.isdisjoint(set3))"
   ]
  },
  {
   "cell_type": "code",
   "execution_count": 13,
   "metadata": {},
   "outputs": [
    {
     "name": "stdout",
     "output_type": "stream",
     "text": [
      "True\n",
      "False\n"
     ]
    }
   ],
   "source": [
    "# python program to demostrate working of \n",
    "# issubset()\n",
    "A = {4, 1, 3, 5}\n",
    "B = {6, 0, 4, 1, 5, 0, 3, 5} \n",
    "\n",
    "# return True \n",
    "print(A.issubset(B))\n",
    "\n",
    "# return False \n",
    "# B is not subset of A\n",
    "print(B.issubset(A))"
   ]
  },
  {
   "cell_type": "code",
   "execution_count": 14,
   "metadata": {},
   "outputs": [
    {
     "name": "stdout",
     "output_type": "stream",
     "text": [
      "A.issuperset(B):  True\n",
      "B.issuperset(A):  False\n"
     ]
    }
   ],
   "source": [
    "# ussuperset()\n",
    "# python program to demostrate the working of \n",
    "# issuperset()\n",
    "\n",
    "A ={4, 1, 3, 5}\n",
    "B = {6, 0, 4, 1, 5, 0, 3, 5}\n",
    "\n",
    "# True\n",
    "print('A.issuperset(B): ', A.issubset(B))\n",
    "\n",
    "# B issuperset of A \n",
    "# False\n",
    "print(\"B.issuperset(A): \", B.issubset(A))"
   ]
  },
  {
   "cell_type": "code",
   "execution_count": 1,
   "metadata": {},
   "outputs": [
    {
     "name": "stdout",
     "output_type": "stream",
     "text": [
      "{1, 2, 3, 5, 6, 7, 8, 9}\n"
     ]
    }
   ],
   "source": [
    "# python program to demostrate the \n",
    "# symmetric_difference()\n",
    "set_A = {1, 2, 3, 4, 5}\n",
    "set_B = {6, 7, 8, 9, 4}\n",
    "print(set_A.symmetric_difference(set_B))"
   ]
  },
  {
   "cell_type": "code",
   "execution_count": 2,
   "metadata": {},
   "outputs": [
    {
     "name": "stdout",
     "output_type": "stream",
     "text": [
      "A =  {'e', 'd', 'r', 'h', 'W'}\n",
      "B =  {'o', 'd', 'r', 'W', 'l'}\n",
      "reslut =  None\n"
     ]
    }
   ],
   "source": [
    "# python program to demostrate the working of \n",
    "# symentric_Difference_update()\n",
    "\n",
    "A = {'h','e', 'l', 'l', 'o'}\n",
    "B = {'W', 'o', 'r', 'l', 'd'}\n",
    "\n",
    "# result is always none\n",
    "result = A.symmetric_difference_update(B)\n",
    "\n",
    "print('A = ', A)\n",
    "print('B = ', B)\n",
    "print('reslut = ', result)"
   ]
  },
  {
   "cell_type": "code",
   "execution_count": null,
   "metadata": {},
   "outputs": [],
   "source": []
  }
 ],
 "metadata": {
  "interpreter": {
   "hash": "73b4fb914614748e1b4d5ae3804a556d6d463f357c4fc043afe155ac08cb1c28"
  },
  "kernelspec": {
   "display_name": "Python 3.9.6 64-bit",
   "language": "python",
   "name": "python3"
  },
  "language_info": {
   "codemirror_mode": {
    "name": "ipython",
    "version": 3
   },
   "file_extension": ".py",
   "mimetype": "text/x-python",
   "name": "python",
   "nbconvert_exporter": "python",
   "pygments_lexer": "ipython3",
   "version": "3.9.6"
  },
  "orig_nbformat": 4
 },
 "nbformat": 4,
 "nbformat_minor": 2
}
