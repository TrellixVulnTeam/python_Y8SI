{
 "cells": [
  {
   "cell_type": "code",
   "execution_count": 1,
   "metadata": {},
   "outputs": [
    {
     "name": "stdout",
     "output_type": "stream",
     "text": [
      "(1, 2, 3, 4, 5)\n",
      "<class 'tuple'>\n"
     ]
    }
   ],
   "source": [
    "# if we dont keep brackets then also it will be tuple \n",
    "# packing tuple \n",
    "t = 1, 2, 3, 4, 5\n",
    "print(t)\n",
    "print(type(t))"
   ]
  },
  {
   "cell_type": "code",
   "execution_count": 2,
   "metadata": {},
   "outputs": [
    {
     "name": "stdout",
     "output_type": "stream",
     "text": [
      "1\n",
      "2\n",
      "3\n",
      "4\n",
      "5\n"
     ]
    }
   ],
   "source": [
    "#  tuple unpacking \n",
    "a, b, c, d, e = t # from above data \n",
    "# the variables must be equal to value \n",
    "print(a)\n",
    "print(b)\n",
    "print(c)\n",
    "print(d)\n",
    "print(e)"
   ]
  },
  {
   "cell_type": "code",
   "execution_count": 3,
   "metadata": {},
   "outputs": [
    {
     "name": "stdout",
     "output_type": "stream",
     "text": [
      "((0, 1, 2, 3, 4, 5), ('google', 'python'))\n"
     ]
    }
   ],
   "source": [
    "# nested tuple \n",
    "t1 = (0, 1, 2, 3, 4, 5)\n",
    "t2 = ('google', 'python')\n",
    "t3 = (t1, t2)\n",
    "print(t3)"
   ]
  },
  {
   "cell_type": "code",
   "execution_count": 5,
   "metadata": {},
   "outputs": [
    {
     "name": "stdout",
     "output_type": "stream",
     "text": [
      "google\n",
      "<class 'str'>\n",
      "('google',)\n",
      "<class 'tuple'>\n",
      "('microsoft', 'microsoft', 'microsoft')\n",
      "<class 'tuple'>\n"
     ]
    }
   ],
   "source": [
    "# tuple repretation \n",
    "t = ('google') # this is a string \n",
    "t1 = ('google', ) # this is a tuple because there is present of comma \n",
    "t2 = ('microsoft', )*3 # repeating the tuple 2 more times \n",
    "print(t)\n",
    "print(type(t))\n",
    "print(t1)\n",
    "print(type(t1))\n",
    "print(t2)\n",
    "print(type(t2))"
   ]
  },
  {
   "cell_type": "code",
   "execution_count": 8,
   "metadata": {},
   "outputs": [
    {
     "name": "stdout",
     "output_type": "stream",
     "text": [
      "0\n",
      "5\n",
      "1\n",
      "4\n"
     ]
    }
   ],
   "source": [
    "# accessing the tuple \n",
    "t1 = (0, 1, 2, 3, 4, 5)\n",
    "print(t1[0]) \n",
    "print(t1[-1]) \n",
    "print(t1[1]) \n",
    "print(t1[-2]) "
   ]
  },
  {
   "cell_type": "code",
   "execution_count": 10,
   "metadata": {},
   "outputs": [
    {
     "name": "stdout",
     "output_type": "stream",
     "text": [
      "(0, 1, 2, 3, 4)\n",
      "('python', 'google')\n",
      "(0, 1, 2, 3, 4, 'python', 'google')\n"
     ]
    }
   ],
   "source": [
    "# concatination of tuple \n",
    "t1 = (0, 1, 2, 3, 4)\n",
    "t2 = ('python', 'google')\n",
    "t3 = t1 + t2\n",
    "print(t1)\n",
    "print(t2)\n",
    "print(t3)"
   ]
  },
  {
   "cell_type": "code",
   "execution_count": 11,
   "metadata": {},
   "outputs": [
    {
     "ename": "TypeError",
     "evalue": "can only concatenate tuple (not \"list\") to tuple",
     "output_type": "error",
     "traceback": [
      "\u001b[1;31m---------------------------------------------------------------------------\u001b[0m",
      "\u001b[1;31mTypeError\u001b[0m                                 Traceback (most recent call last)",
      "\u001b[1;32m~\\AppData\\Local\\Temp/ipykernel_13220/3859948087.py\u001b[0m in \u001b[0;36m<module>\u001b[1;34m\u001b[0m\n\u001b[0;32m      2\u001b[0m \u001b[0mt1\u001b[0m \u001b[1;33m=\u001b[0m \u001b[1;33m(\u001b[0m\u001b[1;36m0\u001b[0m\u001b[1;33m,\u001b[0m \u001b[1;36m1\u001b[0m\u001b[1;33m,\u001b[0m \u001b[1;36m2\u001b[0m\u001b[1;33m,\u001b[0m \u001b[1;36m3\u001b[0m\u001b[1;33m,\u001b[0m \u001b[1;36m4\u001b[0m\u001b[1;33m)\u001b[0m\u001b[1;33m\u001b[0m\u001b[1;33m\u001b[0m\u001b[0m\n\u001b[0;32m      3\u001b[0m \u001b[0mt2\u001b[0m \u001b[1;33m=\u001b[0m \u001b[1;33m[\u001b[0m\u001b[1;34m'python'\u001b[0m\u001b[1;33m,\u001b[0m \u001b[1;34m'google'\u001b[0m\u001b[1;33m]\u001b[0m\u001b[1;33m\u001b[0m\u001b[1;33m\u001b[0m\u001b[0m\n\u001b[1;32m----> 4\u001b[1;33m \u001b[0mt3\u001b[0m \u001b[1;33m=\u001b[0m \u001b[0mt1\u001b[0m \u001b[1;33m+\u001b[0m \u001b[0mt2\u001b[0m\u001b[1;33m\u001b[0m\u001b[1;33m\u001b[0m\u001b[0m\n\u001b[0m\u001b[0;32m      5\u001b[0m \u001b[0mprint\u001b[0m\u001b[1;33m(\u001b[0m\u001b[0mt3\u001b[0m\u001b[1;33m)\u001b[0m \u001b[1;31m# error because t1 and t2 are not same datatype\u001b[0m\u001b[1;33m\u001b[0m\u001b[1;33m\u001b[0m\u001b[0m\n",
      "\u001b[1;31mTypeError\u001b[0m: can only concatenate tuple (not \"list\") to tuple"
     ]
    }
   ],
   "source": [
    "# python allow same datatype to join\n",
    "t1 = (0, 1, 2, 3, 4)\n",
    "t2 = ['python', 'google']\n",
    "t3 = t1 + t2\n",
    "print(t3) # error because t1 and t2 are not same datatype \n"
   ]
  },
  {
   "cell_type": "code",
   "execution_count": 13,
   "metadata": {},
   "outputs": [
    {
     "name": "stdout",
     "output_type": "stream",
     "text": [
      "('p', 'y', 't', 'h', 'o', 'n', 'f', 'o', 'r', 'd', 'e', 'v', 'e', 'l', 'o', 'p', 'e', 'm', 'e', 'n', 't')\n",
      "('y', 't', 'h', 'o', 'n', 'f', 'o', 'r', 'd', 'e', 'v', 'e', 'l', 'o', 'p', 'e', 'm', 'e', 'n', 't')\n",
      "('p', 'y', 't', 'h', 'o')\n",
      "('t', 'n', 'e', 'm', 'e', 'p', 'o', 'l', 'e', 'v', 'e', 'd', 'r', 'o', 'f', 'n', 'o', 'h', 't', 'y', 'p')\n",
      "('p', 't', 'o', 'f', 'r', 'e', 'e', 'o', 'e', 'e', 't')\n",
      "('y', 't', 'h', 'o')\n"
     ]
    }
   ],
   "source": [
    "# slicing in tuple \n",
    "t1 = tuple('pythonfordevelopement')\n",
    "# it will display all \n",
    "print(t1[:])\n",
    "# it will start from index 1 to end\n",
    "print(t1[1:])\n",
    "# it will go from index 0  to index 4 i.e element 1 to 5\n",
    "print(t1[:5])\n",
    "# reverse the tuple\n",
    "print(t1[::-1])\n",
    "# it will all the elements in 2's step\n",
    "print(t1[::2])\n",
    "# it will display from index 1 to 4 \n",
    "print(t1[1:5])"
   ]
  },
  {
   "cell_type": "code",
   "execution_count": 14,
   "metadata": {},
   "outputs": [
    {
     "name": "stdout",
     "output_type": "stream",
     "text": [
      "(1, 54, 4, 2, 3)\n"
     ]
    },
    {
     "ename": "NameError",
     "evalue": "name 't' is not defined",
     "output_type": "error",
     "traceback": [
      "\u001b[1;31m---------------------------------------------------------------------------\u001b[0m",
      "\u001b[1;31mNameError\u001b[0m                                 Traceback (most recent call last)",
      "\u001b[1;32m~\\AppData\\Local\\Temp/ipykernel_13220/3659670395.py\u001b[0m in \u001b[0;36m<module>\u001b[1;34m\u001b[0m\n\u001b[0;32m      3\u001b[0m \u001b[0mprint\u001b[0m\u001b[1;33m(\u001b[0m\u001b[0mt\u001b[0m\u001b[1;33m)\u001b[0m\u001b[1;33m\u001b[0m\u001b[1;33m\u001b[0m\u001b[0m\n\u001b[0;32m      4\u001b[0m \u001b[1;32mdel\u001b[0m \u001b[0mt\u001b[0m\u001b[1;33m\u001b[0m\u001b[1;33m\u001b[0m\u001b[0m\n\u001b[1;32m----> 5\u001b[1;33m \u001b[0mprint\u001b[0m\u001b[1;33m(\u001b[0m\u001b[0mt\u001b[0m\u001b[1;33m)\u001b[0m\u001b[1;33m\u001b[0m\u001b[1;33m\u001b[0m\u001b[0m\n\u001b[0m",
      "\u001b[1;31mNameError\u001b[0m: name 't' is not defined"
     ]
    }
   ],
   "source": [
    "# deleting the tuple \n",
    "t = (1, 54, 4,2, 3)\n",
    "print(t)\n",
    "del t # delete all the variable \n",
    "print(t) # error "
   ]
  },
  {
   "cell_type": "code",
   "execution_count": null,
   "metadata": {},
   "outputs": [],
   "source": [
    "# tuple method\n",
    "# method \n",
    "# please take it from note "
   ]
  },
  {
   "cell_type": "code",
   "execution_count": null,
   "metadata": {},
   "outputs": [],
   "source": [
    "# function with tuple\n"
   ]
  }
 ],
 "metadata": {
  "interpreter": {
   "hash": "73b4fb914614748e1b4d5ae3804a556d6d463f357c4fc043afe155ac08cb1c28"
  },
  "kernelspec": {
   "display_name": "Python 3.9.6 64-bit",
   "language": "python",
   "name": "python3"
  },
  "language_info": {
   "codemirror_mode": {
    "name": "ipython",
    "version": 3
   },
   "file_extension": ".py",
   "mimetype": "text/x-python",
   "name": "python",
   "nbconvert_exporter": "python",
   "pygments_lexer": "ipython3",
   "version": "3.9.6"
  },
  "orig_nbformat": 4
 },
 "nbformat": 4,
 "nbformat_minor": 2
}
