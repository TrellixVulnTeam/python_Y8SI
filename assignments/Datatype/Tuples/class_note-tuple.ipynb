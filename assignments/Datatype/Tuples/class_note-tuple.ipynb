{
 "cells": [
  {
   "cell_type": "code",
   "execution_count": 1,
   "metadata": {},
   "outputs": [
    {
     "name": "stdout",
     "output_type": "stream",
     "text": [
      "(1, 2, 3, 4, 5)\n",
      "<class 'tuple'>\n"
     ]
    }
   ],
   "source": [
    "# if we dont keep brackets then also it will be tuple \n",
    "# packing tuple \n",
    "t = 1, 2, 3, 4, 5\n",
    "print(t)\n",
    "print(type(t))"
   ]
  },
  {
   "cell_type": "code",
   "execution_count": 2,
   "metadata": {},
   "outputs": [
    {
     "name": "stdout",
     "output_type": "stream",
     "text": [
      "1\n",
      "2\n",
      "3\n",
      "4\n",
      "5\n"
     ]
    }
   ],
   "source": [
    "#  tuple unpacking \n",
    "a, b, c, d, e = t # from above data \n",
    "# the variables must be equal to value \n",
    "print(a)\n",
    "print(b)\n",
    "print(c)\n",
    "print(d)\n",
    "print(e)"
   ]
  },
  {
   "cell_type": "code",
   "execution_count": 3,
   "metadata": {},
   "outputs": [
    {
     "name": "stdout",
     "output_type": "stream",
     "text": [
      "((0, 1, 2, 3, 4, 5), ('google', 'python'))\n"
     ]
    }
   ],
   "source": [
    "# nested tuple \n",
    "t1 = (0, 1, 2, 3, 4, 5)\n",
    "t2 = ('google', 'python')\n",
    "t3 = (t1, t2)\n",
    "print(t3)"
   ]
  },
  {
   "cell_type": "code",
   "execution_count": 5,
   "metadata": {},
   "outputs": [
    {
     "name": "stdout",
     "output_type": "stream",
     "text": [
      "google\n",
      "<class 'str'>\n",
      "('google',)\n",
      "<class 'tuple'>\n",
      "('microsoft', 'microsoft', 'microsoft')\n",
      "<class 'tuple'>\n"
     ]
    }
   ],
   "source": [
    "# tuple repretation \n",
    "t = ('google') # this is a string \n",
    "t1 = ('google', ) # this is a tuple because there is present of comma \n",
    "t2 = ('microsoft', )*3 # repeating the tuple 2 more times \n",
    "print(t)\n",
    "print(type(t))\n",
    "print(t1)\n",
    "print(type(t1))\n",
    "print(t2)\n",
    "print(type(t2))"
   ]
  },
  {
   "cell_type": "code",
   "execution_count": 8,
   "metadata": {},
   "outputs": [
    {
     "name": "stdout",
     "output_type": "stream",
     "text": [
      "0\n",
      "5\n",
      "1\n",
      "4\n"
     ]
    }
   ],
   "source": [
    "# accessing the tuple \n",
    "t1 = (0, 1, 2, 3, 4, 5)\n",
    "print(t1[0]) \n",
    "print(t1[-1]) \n",
    "print(t1[1]) \n",
    "print(t1[-2]) "
   ]
  },
  {
   "cell_type": "code",
   "execution_count": 10,
   "metadata": {},
   "outputs": [
    {
     "name": "stdout",
     "output_type": "stream",
     "text": [
      "(0, 1, 2, 3, 4)\n",
      "('python', 'google')\n",
      "(0, 1, 2, 3, 4, 'python', 'google')\n"
     ]
    }
   ],
   "source": [
    "# concatination of tuple \n",
    "t1 = (0, 1, 2, 3, 4)\n",
    "t2 = ('python', 'google')\n",
    "t3 = t1 + t2\n",
    "print(t1)\n",
    "print(t2)\n",
    "print(t3)"
   ]
  },
  {
   "cell_type": "code",
   "execution_count": 11,
   "metadata": {},
   "outputs": [
    {
     "ename": "TypeError",
     "evalue": "can only concatenate tuple (not \"list\") to tuple",
     "output_type": "error",
     "traceback": [
      "\u001b[1;31m---------------------------------------------------------------------------\u001b[0m",
      "\u001b[1;31mTypeError\u001b[0m                                 Traceback (most recent call last)",
      "\u001b[1;32m~\\AppData\\Local\\Temp/ipykernel_13220/3859948087.py\u001b[0m in \u001b[0;36m<module>\u001b[1;34m\u001b[0m\n\u001b[0;32m      2\u001b[0m \u001b[0mt1\u001b[0m \u001b[1;33m=\u001b[0m \u001b[1;33m(\u001b[0m\u001b[1;36m0\u001b[0m\u001b[1;33m,\u001b[0m \u001b[1;36m1\u001b[0m\u001b[1;33m,\u001b[0m \u001b[1;36m2\u001b[0m\u001b[1;33m,\u001b[0m \u001b[1;36m3\u001b[0m\u001b[1;33m,\u001b[0m \u001b[1;36m4\u001b[0m\u001b[1;33m)\u001b[0m\u001b[1;33m\u001b[0m\u001b[1;33m\u001b[0m\u001b[0m\n\u001b[0;32m      3\u001b[0m \u001b[0mt2\u001b[0m \u001b[1;33m=\u001b[0m \u001b[1;33m[\u001b[0m\u001b[1;34m'python'\u001b[0m\u001b[1;33m,\u001b[0m \u001b[1;34m'google'\u001b[0m\u001b[1;33m]\u001b[0m\u001b[1;33m\u001b[0m\u001b[1;33m\u001b[0m\u001b[0m\n\u001b[1;32m----> 4\u001b[1;33m \u001b[0mt3\u001b[0m \u001b[1;33m=\u001b[0m \u001b[0mt1\u001b[0m \u001b[1;33m+\u001b[0m \u001b[0mt2\u001b[0m\u001b[1;33m\u001b[0m\u001b[1;33m\u001b[0m\u001b[0m\n\u001b[0m\u001b[0;32m      5\u001b[0m \u001b[0mprint\u001b[0m\u001b[1;33m(\u001b[0m\u001b[0mt3\u001b[0m\u001b[1;33m)\u001b[0m \u001b[1;31m# error because t1 and t2 are not same datatype\u001b[0m\u001b[1;33m\u001b[0m\u001b[1;33m\u001b[0m\u001b[0m\n",
      "\u001b[1;31mTypeError\u001b[0m: can only concatenate tuple (not \"list\") to tuple"
     ]
    }
   ],
   "source": [
    "# python allow same datatype to join\n",
    "t1 = (0, 1, 2, 3, 4)\n",
    "t2 = ['python', 'google']\n",
    "t3 = t1 + t2\n",
    "print(t3) # error because t1 and t2 are not same datatype \n"
   ]
  },
  {
   "cell_type": "code",
   "execution_count": 13,
   "metadata": {},
   "outputs": [
    {
     "name": "stdout",
     "output_type": "stream",
     "text": [
      "('p', 'y', 't', 'h', 'o', 'n', 'f', 'o', 'r', 'd', 'e', 'v', 'e', 'l', 'o', 'p', 'e', 'm', 'e', 'n', 't')\n",
      "('y', 't', 'h', 'o', 'n', 'f', 'o', 'r', 'd', 'e', 'v', 'e', 'l', 'o', 'p', 'e', 'm', 'e', 'n', 't')\n",
      "('p', 'y', 't', 'h', 'o')\n",
      "('t', 'n', 'e', 'm', 'e', 'p', 'o', 'l', 'e', 'v', 'e', 'd', 'r', 'o', 'f', 'n', 'o', 'h', 't', 'y', 'p')\n",
      "('p', 't', 'o', 'f', 'r', 'e', 'e', 'o', 'e', 'e', 't')\n",
      "('y', 't', 'h', 'o')\n"
     ]
    }
   ],
   "source": [
    "# slicing in tuple \n",
    "t1 = tuple('pythonfordevelopement')\n",
    "# it will display all \n",
    "print(t1[:])\n",
    "# it will start from index 1 to end\n",
    "print(t1[1:])\n",
    "# it will go from index 0  to index 4 i.e element 1 to 5\n",
    "print(t1[:5])\n",
    "# reverse the tuple\n",
    "print(t1[::-1])\n",
    "# it will all the elements in 2's step\n",
    "print(t1[::2])\n",
    "# it will display from index 1 to 4 \n",
    "print(t1[1:5])"
   ]
  },
  {
   "cell_type": "code",
   "execution_count": 14,
   "metadata": {},
   "outputs": [
    {
     "name": "stdout",
     "output_type": "stream",
     "text": [
      "(1, 54, 4, 2, 3)\n"
     ]
    },
    {
     "ename": "NameError",
     "evalue": "name 't' is not defined",
     "output_type": "error",
     "traceback": [
      "\u001b[1;31m---------------------------------------------------------------------------\u001b[0m",
      "\u001b[1;31mNameError\u001b[0m                                 Traceback (most recent call last)",
      "\u001b[1;32m~\\AppData\\Local\\Temp/ipykernel_13220/3659670395.py\u001b[0m in \u001b[0;36m<module>\u001b[1;34m\u001b[0m\n\u001b[0;32m      3\u001b[0m \u001b[0mprint\u001b[0m\u001b[1;33m(\u001b[0m\u001b[0mt\u001b[0m\u001b[1;33m)\u001b[0m\u001b[1;33m\u001b[0m\u001b[1;33m\u001b[0m\u001b[0m\n\u001b[0;32m      4\u001b[0m \u001b[1;32mdel\u001b[0m \u001b[0mt\u001b[0m\u001b[1;33m\u001b[0m\u001b[1;33m\u001b[0m\u001b[0m\n\u001b[1;32m----> 5\u001b[1;33m \u001b[0mprint\u001b[0m\u001b[1;33m(\u001b[0m\u001b[0mt\u001b[0m\u001b[1;33m)\u001b[0m\u001b[1;33m\u001b[0m\u001b[1;33m\u001b[0m\u001b[0m\n\u001b[0m",
      "\u001b[1;31mNameError\u001b[0m: name 't' is not defined"
     ]
    }
   ],
   "source": [
    "# deleting the tuple \n",
    "t = (1, 54, 4,2, 3)\n",
    "print(t)\n",
    "del t # delete all the variable \n",
    "print(t) # error "
   ]
  },
  {
   "cell_type": "code",
   "execution_count": null,
   "metadata": {},
   "outputs": [],
   "source": [
    "# tuple method\n",
    "# method \n",
    "# please take it from note "
   ]
  },
  {
   "cell_type": "code",
   "execution_count": 2,
   "metadata": {},
   "outputs": [
    {
     "name": "stdout",
     "output_type": "stream",
     "text": [
      "creating an empty tuple\n",
      "()\n",
      "creating tuple with braces\n",
      "(1, 2, 3, 40)\n",
      "creating tuple with string \n",
      "('hello', 'python', 'develoiper')\n",
      "creating tuple with list\n",
      "(1, 2, 3, 4, 5)\n",
      "creating tuple with built in function\n",
      "('h', 'e', 'l', 'l', 'o')\n"
     ]
    }
   ],
   "source": [
    "# creating an empty tuple \n",
    "print('creating an empty tuple')\n",
    "to = ()\n",
    "print(to)\n",
    "\n",
    "# creating tuple with braces\n",
    "print('creating tuple with braces')\n",
    "t = (1, 2, 3, 40)\n",
    "print(t)\n",
    "\n",
    "# creating tuple with string \n",
    "print('creating tuple with string ')\n",
    "t1 = ('hello', 'python', 'develoiper')\n",
    "print(t1)\n",
    "\n",
    "# creating tuple with list \n",
    "print('creating tuple with list')\n",
    "l = [ 1, 2, 3, 4, 5]\n",
    "l = tuple(l)\n",
    "print(l)\n",
    "\n",
    "# creating tuple with built in function \n",
    "print('creating tuple with built in function')\n",
    "s = 'hello'\n",
    "s = tuple(s)\n",
    "print(s)"
   ]
  },
  {
   "cell_type": "code",
   "execution_count": 5,
   "metadata": {},
   "outputs": [
    {
     "name": "stdout",
     "output_type": "stream",
     "text": [
      "tuple packing\n",
      "(1, 2, 3, 4, 50)\n",
      "1\n",
      "2\n",
      "3\n",
      "4\n",
      "50\n"
     ]
    }
   ],
   "source": [
    "# tuple packing \n",
    "\n",
    "t = 1, 2, 3, 4, 50\n",
    "a, b, c, d, e = t\n",
    "print('tuple packing')\n",
    "print(t)\n",
    "print(a)\n",
    "print(b)\n",
    "print(c)\n",
    "print(d)\n",
    "print(e)"
   ]
  },
  {
   "cell_type": "code",
   "execution_count": 6,
   "metadata": {},
   "outputs": [
    {
     "name": "stdout",
     "output_type": "stream",
     "text": [
      "creating tuple with mix data tuple\n",
      "(4, 'hello', 7, 'python')\n",
      "creating tuple with nested tuple\n",
      "((1, 4, 5, 6, 7), ('python', 'hello', 'google'))\n",
      "creating tuple with repeatation\n",
      "google developergoogle developergoogle developer\n"
     ]
    }
   ],
   "source": [
    "# creating tuple with mix data tuple \n",
    "t = (4, 'hello', 7, 'python')\n",
    "print('creating tuple with mix data tuple')\n",
    "print(t)\n",
    "\n",
    "# creating tuple with nested tuple \n",
    "t1 = (1, 4, 5, 6, 7)\n",
    "t2 = ('python', 'hello', 'google')\n",
    "t3 = (t1, t2)\n",
    "print('creating tuple with nested tuple')\n",
    "print(t3)\n",
    "\n",
    "# creating tuple with repeatition \n",
    "t = ('google developer') * 3\n",
    "print('creating tuple with repeatation')\n",
    "print(t)\n",
    "\n"
   ]
  },
  {
   "cell_type": "code",
   "execution_count": 9,
   "metadata": {},
   "outputs": [
    {
     "name": "stdout",
     "output_type": "stream",
     "text": [
      "\n",
      "Accessing elements \n",
      "1\n",
      "2\n",
      "3\n",
      "\n",
      "Accessing elements from negative indexing\n",
      "3\n",
      "2\n",
      "1\n",
      "tuple unpacking and packing\n",
      "('hello', 'python', 'developer', 'are u learing', 'ml?')\n",
      "hello\n",
      "python\n",
      "developer\n",
      "are u learing\n",
      "ml?\n"
     ]
    }
   ],
   "source": [
    "# accessing tuple \n",
    "t = (1, 2, 3)\n",
    "print()\n",
    "print('Accessing elements ')\n",
    "print(t[0])\n",
    "print(t[1])\n",
    "print(t[2])\n",
    "\n",
    "print()\n",
    "print('Accessing elements from negative indexing')\n",
    "print(t[-1])\n",
    "print(t[-2])\n",
    "print(t[-3])\n",
    "\n",
    "# unpacking and packing \n",
    "print('tuple unpacking and packing')\n",
    "t1 = ('hello', 'python', 'developer', 'are u learing', 'ml?')\n",
    "a, b, c, d, e = t1\n",
    "print(t1)\n",
    "print(a)\n",
    "print(b)\n",
    "print(c)\n",
    "print(d)\n",
    "print(e)"
   ]
  },
  {
   "cell_type": "code",
   "execution_count": 10,
   "metadata": {},
   "outputs": [
    {
     "name": "stdout",
     "output_type": "stream",
     "text": [
      "concatenation of tuple using +\n",
      "(0, 1, 2, 3)\n",
      "('python', 'hello', 'developer')\n",
      "concatenation of tuple using +\n",
      "(0, 1, 2, 3, 'python', 'hello', 'developer')\n",
      "only same datatype are allow to concatenate the tuple\n"
     ]
    },
    {
     "ename": "TypeError",
     "evalue": "can only concatenate tuple (not \"list\") to tuple",
     "output_type": "error",
     "traceback": [
      "\u001b[1;31m---------------------------------------------------------------------------\u001b[0m",
      "\u001b[1;31mTypeError\u001b[0m                                 Traceback (most recent call last)",
      "\u001b[1;32m~\\AppData\\Local\\Temp/ipykernel_6640/3663071220.py\u001b[0m in \u001b[0;36m<module>\u001b[1;34m\u001b[0m\n\u001b[0;32m     13\u001b[0m \u001b[0mprint\u001b[0m\u001b[1;33m(\u001b[0m\u001b[1;34m'only same datatype are allow to concatenate the tuple'\u001b[0m\u001b[1;33m)\u001b[0m\u001b[1;33m\u001b[0m\u001b[1;33m\u001b[0m\u001b[0m\n\u001b[0;32m     14\u001b[0m \u001b[0ml1\u001b[0m \u001b[1;33m=\u001b[0m \u001b[1;33m[\u001b[0m\u001b[1;36m1\u001b[0m\u001b[1;33m,\u001b[0m \u001b[1;36m2\u001b[0m\u001b[1;33m,\u001b[0m \u001b[1;36m3\u001b[0m\u001b[1;33m,\u001b[0m \u001b[1;36m4\u001b[0m\u001b[1;33m,\u001b[0m \u001b[1;36m5\u001b[0m\u001b[1;33m,\u001b[0m \u001b[1;36m6\u001b[0m\u001b[1;33m]\u001b[0m\u001b[1;33m\u001b[0m\u001b[1;33m\u001b[0m\u001b[0m\n\u001b[1;32m---> 15\u001b[1;33m \u001b[0ml2\u001b[0m \u001b[1;33m=\u001b[0m \u001b[0mt1\u001b[0m \u001b[1;33m+\u001b[0m \u001b[0ml1\u001b[0m\u001b[1;33m\u001b[0m\u001b[1;33m\u001b[0m\u001b[0m\n\u001b[0m\u001b[0;32m     16\u001b[0m \u001b[0mprint\u001b[0m\u001b[1;33m(\u001b[0m\u001b[0ml2\u001b[0m\u001b[1;33m)\u001b[0m \u001b[1;31m# error\u001b[0m\u001b[1;33m\u001b[0m\u001b[1;33m\u001b[0m\u001b[0m\n",
      "\u001b[1;31mTypeError\u001b[0m: can only concatenate tuple (not \"list\") to tuple"
     ]
    }
   ],
   "source": [
    "# concatenation of tuple using +\n",
    "print('concatenation of tuple using +')\n",
    "t1 = (0, 1, 2, 3)\n",
    "t2 = ('python', 'hello', 'developer')\n",
    "t3 = t1 + t2\n",
    "print(t1)\n",
    "print(t2)\n",
    "print('concatenation of tuple using +')\n",
    "print(t3)\n",
    "\n",
    "\n",
    "# only same datatype are allow to concatenate the tuplle\n",
    "print('only same datatype are allow to concatenate the tuple') \n",
    "l1 = [1, 2, 3, 4, 5, 6]\n",
    "l2 = t1 + l1\n",
    "print(l2) # error "
   ]
  },
  {
   "cell_type": "code",
   "execution_count": 11,
   "metadata": {},
   "outputs": [
    {
     "name": "stdout",
     "output_type": "stream",
     "text": [
      "printing the elements of tuple\n",
      "('p', 'y', 't', 'h', 'o', 'n', 'd', 'e', 'v', 'e', 'l', 'o', 'p', 'e', 'r')\n",
      "removing first element\n",
      "('y', 't', 'h', 'o', 'n', 'd', 'e', 'v', 'e', 'l', 'o', 'p', 'e', 'r')\n",
      "printing upto 5th element \n",
      "('p', 'y', 't', 'h', 'o')\n",
      "reversing the string\n",
      "('r', 'e', 'p', 'o', 'l', 'e', 'v', 'e', 'd', 'n', 'o', 'h', 't', 'y', 'p')\n",
      "printing all the elements of tuple in step of 2\n",
      "('p', 't', 'o', 'd', 'v', 'l', 'p', 'r')\n",
      "printing the elements from 1 to 5\n",
      "('y', 't', 'h', 'o')\n"
     ]
    }
   ],
   "source": [
    "# slicing of tuple \n",
    "# slicing of tuple with number \n",
    "t = tuple('pythondeveloper')\n",
    "\n",
    "# printing the elements of tuple \n",
    "print('printing the elements of tuple')\n",
    "print(t[:])\n",
    "\n",
    "# removing first element \n",
    "print('removing first element')\n",
    "print(t[1:])\n",
    "\n",
    "# printing upto 5th element  \n",
    "print('printing upto 5th element ')\n",
    "print(t[:5])\n",
    "\n",
    "# reversing the string \n",
    "print('reversing the string')\n",
    "print(t[::-1])\n",
    "\n",
    "# printing all the elements of tuple in step of 2\n",
    "print('printing all the elements of tuple in step of 2')\n",
    "print(t[::2])\n",
    "\n",
    "# printing the elements of a Range\n",
    "print('printing the elements from 1 to 5')\n",
    "print(t[1:5]) \n"
   ]
  },
  {
   "cell_type": "code",
   "execution_count": 12,
   "metadata": {},
   "outputs": [
    {
     "name": "stdout",
     "output_type": "stream",
     "text": [
      "before deleting tuple\n",
      "(0, 1, 2, 3, 4, 5)\n",
      "After deleting tuple\n"
     ]
    },
    {
     "ename": "NameError",
     "evalue": "name 't' is not defined",
     "output_type": "error",
     "traceback": [
      "\u001b[1;31m---------------------------------------------------------------------------\u001b[0m",
      "\u001b[1;31mNameError\u001b[0m                                 Traceback (most recent call last)",
      "\u001b[1;32m~\\AppData\\Local\\Temp/ipykernel_6640/971106272.py\u001b[0m in \u001b[0;36m<module>\u001b[1;34m\u001b[0m\n\u001b[0;32m      5\u001b[0m \u001b[1;32mdel\u001b[0m \u001b[0mt\u001b[0m\u001b[1;33m\u001b[0m\u001b[1;33m\u001b[0m\u001b[0m\n\u001b[0;32m      6\u001b[0m \u001b[0mprint\u001b[0m\u001b[1;33m(\u001b[0m\u001b[1;34m'After deleting tuple'\u001b[0m\u001b[1;33m)\u001b[0m\u001b[1;33m\u001b[0m\u001b[1;33m\u001b[0m\u001b[0m\n\u001b[1;32m----> 7\u001b[1;33m \u001b[0mprint\u001b[0m\u001b[1;33m(\u001b[0m\u001b[0mt\u001b[0m\u001b[1;33m)\u001b[0m \u001b[1;31m# error\u001b[0m\u001b[1;33m\u001b[0m\u001b[1;33m\u001b[0m\u001b[0m\n\u001b[0m",
      "\u001b[1;31mNameError\u001b[0m: name 't' is not defined"
     ]
    }
   ],
   "source": [
    "# deleting tuple \n",
    "t = (0, 1, 2, 3, 4, 5)\n",
    "print('before deleting tuple')\n",
    "print(t)\n",
    "del t\n",
    "print('After deleting tuple')\n",
    "print(t) # error "
   ]
  },
  {
   "cell_type": "code",
   "execution_count": 18,
   "metadata": {},
   "outputs": [
    {
     "name": "stdout",
     "output_type": "stream",
     "text": [
      "the string is repeated for: 1\n",
      "the number is repeated for: 6\n",
      "counting list and tuple as a elements in tuple\n",
      "the given nested tuple is repeatred for: 2\n",
      "1\n"
     ]
    }
   ],
   "source": [
    "# creating a tuple \n",
    "t1 = (0, 1, 2, 3, 1, 2, 3, 0, 1, 0, 1, 2, 2, 1, 3, 1)\n",
    "t2 = ('python', 'c++', 'java', 'js', 'ruby', 'Angular')\n",
    "\n",
    "# count the appearence of 1\n",
    "res = t2.count('c++')\n",
    "print(f'the string is repeated for: {res}')\n",
    "\n",
    "print(f\"the number is repeated for: {t1.count(1)}\")\n",
    "\n",
    "# counting list and tuple as a elements in tuple\n",
    "print('counting list and tuple as a elements in tuple') \n",
    "t3 = (0, 1, (2, 3), [4, 5], (2, 3), ('python', 'js'))\n",
    "\n",
    "print(f'the given nested tuple is repeatred for: {t3.count((2, 3))}')\n",
    "\n",
    "print(t3.count([4,5]))"
   ]
  },
  {
   "cell_type": "code",
   "execution_count": 24,
   "metadata": {},
   "outputs": [
    {
     "name": "stdout",
     "output_type": "stream",
     "text": [
      "getting the index of 1\n",
      "1\n",
      "getting the index of 1 after 5th index \n",
      "1 is at 8 position after 5th index\n"
     ]
    }
   ],
   "source": [
    "# creating a tuple \n",
    "t = (0, 1, 2, 3, 1, 2, 0, 3, 1, 4, 5, 1, 1, 2)\n",
    "\n",
    "# getting the index of 1\n",
    "print('getting the index of 1')\n",
    "res = t.index(1)\n",
    "print(res)\n",
    "\n",
    "\n",
    "# getting the index of 1 after 5th index \n",
    "print('getting the index of 1 after 5th index ')\n",
    "res = t.index(1, 5)\n",
    "print(f'1 is at {res} position after 5th index')\n",
    "\n"
   ]
  },
  {
   "cell_type": "code",
   "execution_count": 28,
   "metadata": {},
   "outputs": [
    {
     "name": "stdout",
     "output_type": "stream",
     "text": [
      "all\n",
      "True\n",
      "any\n",
      "True\n",
      "len\n",
      "3\n",
      "max\n",
      "3\n",
      "min\n",
      "1\n",
      "sum\n",
      "6\n",
      "0 1\n",
      "1 2\n",
      "2 3\n",
      "sorted\n",
      "[1, 2, 3]\n",
      "<class 'list'>\n",
      "(1, 2, 3)\n"
     ]
    }
   ],
   "source": [
    "t = (1, 2, 3)\n",
    "t1 = all(t)\n",
    "t2 = any(t)\n",
    "t3 = len(t)\n",
    "t4 = max(t)\n",
    "t5 = min(t)\n",
    "t6 = sum(t)\n",
    "\n",
    "print('all')\n",
    "print(t1)\n",
    "print('any')\n",
    "print(t2)\n",
    "print('len')\n",
    "print(t3)\n",
    "print('max')\n",
    "print(t4)\n",
    "print('min')\n",
    "print(t5)\n",
    "print('sum')\n",
    "print(t6)\n",
    "\n",
    "t7 = enumerate(t)\n",
    "# print(t7)\n",
    "for i, v in t7:\n",
    "    print(i, v)\n",
    "\n",
    "print('sorted')\n",
    "t8 = sorted(t)\n",
    "print(t8)\n",
    "print(type(t8))\n",
    "print(t)"
   ]
  },
  {
   "cell_type": "code",
   "execution_count": null,
   "metadata": {},
   "outputs": [],
   "source": []
  }
 ],
 "metadata": {
  "interpreter": {
   "hash": "73b4fb914614748e1b4d5ae3804a556d6d463f357c4fc043afe155ac08cb1c28"
  },
  "kernelspec": {
   "display_name": "Python 3.9.6 64-bit",
   "language": "python",
   "name": "python3"
  },
  "language_info": {
   "codemirror_mode": {
    "name": "ipython",
    "version": 3
   },
   "file_extension": ".py",
   "mimetype": "text/x-python",
   "name": "python",
   "nbconvert_exporter": "python",
   "pygments_lexer": "ipython3",
   "version": "3.9.6"
  },
  "orig_nbformat": 4
 },
 "nbformat": 4,
 "nbformat_minor": 2
}
