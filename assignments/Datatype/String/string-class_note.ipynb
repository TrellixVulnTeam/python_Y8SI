{
 "cells": [
  {
   "cell_type": "code",
   "execution_count": null,
   "metadata": {},
   "outputs": [],
   "source": [
    "# string are immutable which cant be chage \n",
    "# example of immutable \n",
    "a = 'hello'\n",
    "a[4] = 'y' # this is immutable, where we cant change the character of the string \n",
    "print(a[4])"
   ]
  },
  {
   "cell_type": "code",
   "execution_count": null,
   "metadata": {},
   "outputs": [],
   "source": [
    "# creating a string \n",
    "a = 'string'\n",
    "print(a)\n",
    "\n",
    "# single quotation \n",
    "a = 'hello python programmer'\n",
    "print(a)\n",
    "\n",
    "# double quotation \n",
    "a = \"hello python programmer\"\n",
    "print(a)\n",
    "\n",
    "# tripe quotation \n",
    "a ='''hello....\n",
    "python....\n",
    "programmer....'''\n",
    "print(a)"
   ]
  },
  {
   "cell_type": "code",
   "execution_count": null,
   "metadata": {},
   "outputs": [],
   "source": [
    "# ACCESSING THE character in string \n",
    "a = 'python programming'\n",
    "print(a[0]) # gives first value \n",
    "print(a[-1]) # gives last value\n"
   ]
  },
  {
   "cell_type": "code",
   "execution_count": null,
   "metadata": {},
   "outputs": [],
   "source": [
    "# string sclicing \n",
    "# range of character in that string \n",
    "\n",
    "# syntax: string_name[start: end : step]\n",
    "a = 'pythonprogramming'\n",
    "print('print from position 0 to 10: ', a[0:10])\n",
    "print('print from position 0 to 10 in step of 2: ', a[0:10:2])\n",
    "print('print from position 0 to end in step of 2: ', a[0: :2])\n",
    "print('print from position 0 to end: ', a[6: ])\n",
    "print('print from position 6 to 13: ', a[6:13])\n",
    "\n",
    "# at the time of - value \n",
    "a = 'hello python programmers '\n",
    "print(a[-9: -2]) # always start from big digit and end with small, because -2 is near to 0 than -9."
   ]
  },
  {
   "cell_type": "code",
   "execution_count": null,
   "metadata": {},
   "outputs": [],
   "source": [
    "# deleting/updating from string \n",
    "\n",
    "# Deleting the string \n",
    "a = 'hello'\n",
    "del a # deleting the string with del keyword \n",
    "# print(a) # this throw an error because there is no value as we already\n",
    "#  deleated 'a' \n",
    "\n",
    "# updating / re-assign the stting\n",
    "a = 'python program' # updating the a with new string  \n",
    "print(a)"
   ]
  },
  {
   "cell_type": "code",
   "execution_count": null,
   "metadata": {},
   "outputs": [],
   "source": [
    "# escape sequencing \n",
    "a = '''hey i'm yogesh \"from kathmandu\"'''\n",
    "print(a) # multi use of quotation \n",
    "b = 'hey i\\'m yogesh from \\\"kahmandu\\\"' # scape sequence \n",
    "print(b)\n",
    "w = \"https:\\\\\\\\www.google.com\"\n",
    "print(w)\n",
    "x = r'hey i\\'m yogesh from \\\"kahmandu\\\"' # 'r' ignores the escape sequence and \n",
    "# return as it is \n",
    "print(x)"
   ]
  },
  {
   "cell_type": "code",
   "execution_count": null,
   "metadata": {},
   "outputs": [],
   "source": [
    "# escape sequencing \n",
    "a = '''hey i'm yogesh \"from kathmandu\"'''\n",
    "print(a) # multi use of quotation \n",
    "b = 'hey i\\'m yogesh from \\\"kahmandu\\\"' # scape sequence \n",
    "print(b)\n",
    "w = \"https:\\\\\\\\www.google.com\"\n",
    "print(w)\n",
    "x = r'hey i\\'m yogesh from \\\"kahmandu\\\"' # 'r' ignores the escape sequence and \n",
    "# return as it is \n",
    "print(x)"
   ]
  },
  {
   "cell_type": "code",
   "execution_count": null,
   "metadata": {},
   "outputs": [],
   "source": [
    "# f-string \n",
    "z = f'{a} is best {b} language and {c} is best framwork '\n",
    "print(z)"
   ]
  },
  {
   "cell_type": "code",
   "execution_count": null,
   "metadata": {},
   "outputs": [],
   "source": [
    "# formated mathod \n",
    "a = 'python'\n",
    "b = 'programming'\n",
    "c = 'Django'\n",
    "s = \"{} {} {}\".format(a, b, c)\n",
    "print(s)\n",
    "\n",
    "# we can manipulate it as we like \n",
    "s = \"{} {} {}\".format(b, c, a) # manipulated \n",
    "# s = \"{} {} {}\".format(b, a) # throws an orror because it a functio and have \n",
    "# to pass all the value as we define with {} \n",
    "print(s)\n",
    "\n",
    "# positional format\n",
    "# i love doing python programming in Django\n",
    "s = \"i love doing {0} {1} in {2}\".format(a, b, c) # positional formating  \n",
    "print(s)\n",
    "\n",
    "# format method \n",
    "x = 'i love {} {} and {} framework {}'.format(a, b, c, b)\n",
    "print(x)\n",
    "\n",
    "# f-string\n",
    "y = \"{l} {f} {g}\".format(l = 'hey', f = 'how are u?', g = 'python...')\n",
    "print(y)"
   ]
  },
  {
   "cell_type": "code",
   "execution_count": null,
   "metadata": {},
   "outputs": [],
   "source": [
    "# python string operation concatenation \n",
    "a = 'hello'\n",
    "b = 'do you like programming in python?'\n",
    "c = a + ' ' + b\n",
    "print(c)"
   ]
  },
  {
   "cell_type": "code",
   "execution_count": null,
   "metadata": {},
   "outputs": [],
   "source": [
    "# using comma(,) : comma gives a single white space \n",
    "var1 = 'hello'\n",
    "var2 = 'world'\n",
    "print(var1, var2)\n",
    "\n",
    "# using comma(,) : comma gives a single white space \n",
    "var1 = 'hello'\n",
    "var2 = 'python programmer....'\n",
    "print(var1, var2)"
   ]
  },
  {
   "cell_type": "code",
   "execution_count": null,
   "metadata": {},
   "outputs": [],
   "source": [
    "# using comma(,) : comma gives a single white space \n",
    "var1 = 'hello'\n",
    "var2 = 'world'\n",
    "print(var1, var2)\n",
    "\n",
    "# using comma(,) : comma gives a single white space \n",
    "var1 = 'hello'\n",
    "var2 = 'python programmer....'\n",
    "print(var1, var2)"
   ]
  },
  {
   "cell_type": "code",
   "execution_count": null,
   "metadata": {},
   "outputs": [],
   "source": [
    "# iterating throuth string \n",
    "a = 'hellopythonprogrammers'\n",
    "for i in a:\n",
    "    print(i, end=' ')"
   ]
  },
  {
   "cell_type": "code",
   "execution_count": null,
   "metadata": {},
   "outputs": [],
   "source": [
    "# using range len() function \n",
    "a = 'hellopythonprogrammers'\n",
    "for i in range(0, len(a)):\n",
    "    print(a[i], end=' ') # iterating a string 'a'"
   ]
  },
  {
   "cell_type": "code",
   "execution_count": null,
   "metadata": {},
   "outputs": [],
   "source": [
    "# revision/recall range \n",
    "a = range(0, 5)\n",
    "print(a) # as range is assign in a \n",
    "# to iterate through a value of range \n",
    "for i in a:\n",
    "    print(i, end=' ')    \n",
    "print(type(a))"
   ]
  },
  {
   "cell_type": "code",
   "execution_count": null,
   "metadata": {},
   "outputs": [],
   "source": [
    "# enumurate() is a advance looping function \n",
    "# enumerate gives a index and value, but its is always our choice to print as we like i.e. index, value.\n",
    "string = 'python'\n",
    "# inxed, value\n",
    "for index, value in enumerate(string):\n",
    "# for i, v in enumerate(string):\n",
    "    print(index, end='') # index of string value \n",
    "    print(value, end=' ') # value that is in string"
   ]
  },
  {
   "cell_type": "code",
   "execution_count": null,
   "metadata": {},
   "outputs": [],
   "source": [
    "# enumurate() is a advance looping function \n",
    "# enumerate gives a index and value, but its is always our choice to print as we like i.e. index, value.\n",
    "string = 'python'\n",
    "# inxed, value\n",
    "for index, value in enumerate(string):\n",
    "# for i, v in enumerate(string):\n",
    "    print(index, end='') # index of string value \n",
    "    print(value, end=' ') # value that is in string"
   ]
  },
  {
   "cell_type": "code",
   "execution_count": null,
   "metadata": {},
   "outputs": [],
   "source": [
    "# iterating over a particular elements \n",
    "# to reverse string \n",
    "a = 'pythonprogrammer'\n",
    "print(a)\n",
    "r = a[::-1] # this simply reverse the string \n",
    "print(r)\n",
    "for i in a[::-1]:\n",
    "    print(i, end=' ') # reversing the stfing using loop \n",
    "\n",
    "# reverse string with reversed()\n",
    "print('')\n",
    "for i in reversed(a):\n",
    "    print(i, end=' ') # revers the string using reversed function \n",
    "\n",
    "print()\n",
    "for i in reversed(r): # we have reverse the vlaue of a in r \n",
    "    print(i, end=' ') # re-reversing the reverse value\n",
    "\n",
    "\n",
    "# itereting over a particular element \n",
    "a = 'pythonprogramming'\n",
    "r = a[:8:2]\n",
    "print(r)\n",
    "\n",
    "# running above code in loop \n",
    "for i in a[6:13:]:\n",
    "    print(i, end='')\n",
    "\n",
    "print()\n",
    "for i in a[::2]:\n",
    "    print(i, end='')"
   ]
  },
  {
   "cell_type": "code",
   "execution_count": null,
   "metadata": {},
   "outputs": [],
   "source": [
    "# string membership test \n",
    "a = 'pythonprogramming' \n",
    "t = 'p'\n",
    "q = 'z'\n",
    "print(t in a) # is present certain string or not \n",
    "print(q not in a)  # z is not prsent in string a"
   ]
  },
  {
   "cell_type": "code",
   "execution_count": null,
   "metadata": {},
   "outputs": [],
   "source": [
    "# empty string is always a false \n",
    "a = ''\n",
    "# non empty string is always a true \n",
    "b = ' '\n",
    "c = 'print'\n",
    "print(a and b) # the first condition is false so it will print a same false value \n",
    "print(repr())\n",
    "print(a or c) # print the true value\n",
    "\n",
    "# repr() : repr is used to print the string along with the quotes\n",
    "str1 = '' # empty string \n",
    "str2 = 'python'\n",
    "print(repr(str1 and str2))\n",
    "print(repr(str1 or str2))\n",
    "\n",
    "str1 = 'for'\n",
    "print(repr(str1 and str2))\n",
    "print(repr(str2 and str1))\n",
    "print(repr(str1 or str2))\n",
    "print(repr(str2 or str1))\n",
    "\n",
    "str1 = 'geeks'\n",
    "print(repr(str1))\n",
    "print(repr(not str1)) # return true or false \n",
    "\n",
    "str1 = ''\n",
    "print(repr( not str1)) # true"
   ]
  },
  {
   "cell_type": "code",
   "execution_count": null,
   "metadata": {},
   "outputs": [],
   "source": [
    "# spliting a string in python \n",
    "x = 'hello programmers'\n",
    "y = x.split() # default split string on the basis of space \n",
    "print(y)\n",
    "print(type(y)) # makes an list \n",
    "\n",
    "x = 'hello-programmers-what-are-you-doing?'\n",
    "y = x.split('-') # spliting the string on the basis of -\n",
    "print(y)"
   ]
  },
  {
   "cell_type": "code",
   "execution_count": null,
   "metadata": {},
   "outputs": [],
   "source": [
    "# find \n",
    "str1 = \"hello pro for pro programmers\"\n",
    "str2 = \"pro\"\n",
    "print(str1.find(str2, 4)) # it looks from left-right"
   ]
  },
  {
   "cell_type": "code",
   "execution_count": null,
   "metadata": {},
   "outputs": [],
   "source": [
    "# rfund() function \n",
    "str1 = \"hello pro for pro programmers\"\n",
    "str2 = \"pro\"\n",
    "print(str1.rfind(str2, 4)) # it looks from right-left"
   ]
  },
  {
   "cell_type": "code",
   "execution_count": null,
   "metadata": {},
   "outputs": [],
   "source": [
    "# find and rfind\n",
    "str1 = \"hello pro for pro programmers\"\n",
    "str2 = \"pro\"\n",
    "print(str1.find(str2, 4)) # it looks from left-right\n",
    "print(str1.rfind(str2, 4)) # it looks from right-left"
   ]
  },
  {
   "cell_type": "code",
   "execution_count": null,
   "metadata": {},
   "outputs": [],
   "source": [
    "# starts with and ends with \n",
    "# start with return true or false value \n",
    "a = 'hello'\n",
    "b = 'hello boss'\n",
    "print(a.startswith(b)) # a start with b? No"
   ]
  },
  {
   "cell_type": "code",
   "execution_count": null,
   "metadata": {},
   "outputs": [],
   "source": [
    "# ends with \n",
    "a = 'welcome to world largest python programming campaign'\n",
    "b = 'campaign'\n",
    "print(a.endswith(b)) # a end with b? yes"
   ]
  },
  {
   "cell_type": "code",
   "execution_count": null,
   "metadata": {},
   "outputs": [],
   "source": [
    "# islower()\n",
    "str1 = 'python programming is BEST'\n",
    "str2 = 'PYTHON IS BEST language TO LEARN'\n",
    "print()\n",
    "# print(str2.lower()) # it convert to lower string \n",
    "\n",
    "# lowercase \n",
    "print()\n",
    "if str1.islower():\n",
    "    print(f'yes the string is in lowercase: {str1}')\n",
    "else:\n",
    "    print(f'no the string are not in lowercase: {str1}')\n",
    "    if str1!= str1.upper():\n",
    "        print(f\"the string is converted to uppercase: {str1.upper()}\")\n",
    "    else:\n",
    "        print(f'the string is already in uppercase: {str1}')\n",
    "\n",
    "# uppercase\n",
    "print()\n",
    "if str2.isupper():\n",
    "    print(f'the character is string and uppercase: {str2}')\n",
    "else:\n",
    "    print(f'No the character are not uppercase: {str2}')\n",
    "    if str2 != str2.upper():\n",
    "        print(f'the string is converted to lower case: {str2.lower()}')"
   ]
  },
  {
   "cell_type": "code",
   "execution_count": null,
   "metadata": {},
   "outputs": [],
   "source": [
    "# lower() function\n",
    "a = 'HELLO THIS IS STRING CONVERSION TO LOWER CASE'\n",
    "print(a.lower())"
   ]
  },
  {
   "cell_type": "code",
   "execution_count": null,
   "metadata": {},
   "outputs": [],
   "source": [
    "# upper() function\n",
    "a = 'hello this is string conversion to uppercase'\n",
    "print(a.upper())"
   ]
  },
  {
   "cell_type": "code",
   "execution_count": null,
   "metadata": {},
   "outputs": [],
   "source": [
    "# checking either the condition islower or isupper case \n",
    "a = 'hello'\n",
    "if a.islower():\n",
    "    print(f'Convert to upper: {a.upper()}')\n",
    "else:\n",
    "    print(f'convert to lower: {a.lower()}')"
   ]
  },
  {
   "cell_type": "code",
   "execution_count": null,
   "metadata": {},
   "outputs": [],
   "source": [
    "# title() function\n",
    "a = 'hello this is python programmer'\n",
    "print(a.title())"
   ]
  },
  {
   "cell_type": "code",
   "execution_count": null,
   "metadata": {},
   "outputs": [],
   "source": [
    "# len() function\n",
    "a = 'hello this is python programmer'\n",
    "print(f'the length of string a is: {len(a)}')"
   ]
  },
  {
   "cell_type": "code",
   "execution_count": null,
   "metadata": {},
   "outputs": [],
   "source": [
    "# printing the occurance of \"python\" in string, \n",
    "# prints 2 as it only check till 15th element\n",
    "str = 'python for Automation and Scriptiong'\n",
    "print(\"number of apperance of \"\"python:\"\" is: \", end=' ')\n",
    "print(str.count(\"python\", 0, 15))"
   ]
  },
  {
   "cell_type": "code",
   "execution_count": null,
   "metadata": {},
   "outputs": [],
   "source": [
    "# Python code to demonstrate working of\n",
    "# center(), ljust() and rjust()\n",
    "str = \"Python is the coolest programming language in the world\"\n",
    "# Printing the string after centering with '-'\n",
    "print (\"The string after centering with '-' is : \",end=\"\")\n",
    "print ( str.center(25,'-'))"
   ]
  },
  {
   "cell_type": "code",
   "execution_count": null,
   "metadata": {},
   "outputs": [],
   "source": [
    "# just() in python \n",
    "str = \"Python is the coolest programming language in the world\"\n",
    "print (\"The string after ljust is : \",end=\"\")\n",
    "print(str.ljust(20, '-'))"
   ]
  },
  {
   "cell_type": "code",
   "execution_count": null,
   "metadata": {},
   "outputs": [],
   "source": [
    "# use of just() in python \n",
    "str = \"Python is the coolest programming language in the world\"\n",
    "print (\"The string after rjust is : \",end=\"\")\n",
    "print(str.rjust(20, '-'))"
   ]
  },
  {
   "cell_type": "code",
   "execution_count": null,
   "metadata": {},
   "outputs": [],
   "source": [
    "# isalpha()\n",
    "a = \"hello there...\"\n",
    "b = '123hello'\n",
    "c = '  '\n",
    "\n",
    "if (a.isalpha()):\n",
    "    print('the condition is true and returns a alphabates')\n",
    "else:\n",
    "    print('false')"
   ]
  },
  {
   "cell_type": "code",
   "execution_count": null,
   "metadata": {},
   "outputs": [],
   "source": [
    "#isnum()\n",
    "a = \"hello there...\"\n",
    "b = '123hello'\n",
    "c = '  '\n",
    "if b.isalnum():\n",
    "    print('the condition is true and returns a alphabates and number')\n",
    "else:\n",
    "    print('false')"
   ]
  },
  {
   "cell_type": "code",
   "execution_count": null,
   "metadata": {},
   "outputs": [],
   "source": [
    "# isspace()\n",
    "a = \"hello there...\"\n",
    "b = '123hello'\n",
    "c = '  '\n",
    "if c.isspace():\n",
    "    print('the condition is true and will display space')\n",
    "else:\n",
    "    print('false')"
   ]
  },
  {
   "cell_type": "code",
   "execution_count": null,
   "metadata": {},
   "outputs": [],
   "source": [
    "# join() mathod/ function \n",
    "x = 'hey there'\n",
    "y = 'how are i doing ?'\n",
    "z = ' '.join([x, y])\n",
    "z1 = '-'.join([x, y])\n",
    "print(z)\n",
    "print(z1)"
   ]
  },
  {
   "cell_type": "code",
   "execution_count": 1,
   "metadata": {},
   "outputs": [
    {
     "name": "stdout",
     "output_type": "stream",
     "text": [
      "...hellp programmers how are u doing ?...\n",
      "string after strip all \".\" is: hellp programmers how are u doing ?\n"
     ]
    }
   ],
   "source": [
    "# python to demostarte the working of strip() \n",
    "str = '...hellp programmers how are u doing ?...'\n",
    "print(str) # display as it is in the string \n",
    "print('string after strip all \".\" is: ', end='')\n",
    "print(str.strip(\".\")) # remove all the dots from the string "
   ]
  },
  {
   "cell_type": "code",
   "execution_count": 2,
   "metadata": {},
   "outputs": [
    {
     "name": "stdout",
     "output_type": "stream",
     "text": [
      "... hello programmers how are u doing ?...\n",
      "after 'lstrip':  hello programmers how are u doing ?...\n"
     ]
    }
   ],
   "source": [
    "# python to demostrate the lstrpi\n",
    "str = '... hello programmers how are u doing ?...'\n",
    "print(str)\n",
    "print('after \\'lstrip\\': ', end='')\n",
    "print(str.lstrip('.')) # remove all the dosts from left side "
   ]
  },
  {
   "cell_type": "code",
   "execution_count": 3,
   "metadata": {},
   "outputs": [
    {
     "name": "stdout",
     "output_type": "stream",
     "text": [
      "... hello python programmers how are u doing?\n",
      "after 'rstrip': ... hello python programmers how are u doing?\n"
     ]
    }
   ],
   "source": [
    "# python program to demostrate the rtrip \n",
    "str = '... hello python programmers how are u doing?'\n",
    "print(str)\n",
    "print('after \\'rstrip\\': ', end='')\n",
    "print(str.rstrip('.')) # remove all the dots from right side "
   ]
  },
  {
   "cell_type": "code",
   "execution_count": 10,
   "metadata": {},
   "outputs": [
    {
     "name": "stdout",
     "output_type": "stream",
     "text": [
      "Maximum of 4,12,43.3,19 and 100 is : 100\n"
     ]
    }
   ],
   "source": [
    "\n",
    "# Python code to demonstrate the working of\n",
    "# max()\n",
    " \n",
    "# printing the maximum of 4,12,43.3,19,100\n",
    "print(\"Maximum of 4,12,43.3,19 and 100 is : \",end=\"\")\n",
    "print (max( 4,12,43.3,19,100 ) )"
   ]
  },
  {
   "cell_type": "code",
   "execution_count": 13,
   "metadata": {},
   "outputs": [
    {
     "name": "stdout",
     "output_type": "stream",
     "text": [
      "minimum of 4, 12, 43, 3, 17, 100 is:  3\n"
     ]
    }
   ],
   "source": [
    "# python program to demostarte the working od \n",
    "# min()\n",
    "# printing the minimum of 4, 12, 43, 3, 17, 100\n",
    "print(\"minimum of 4, 12, 43, 3, 17, 100 is: \", end=' ')\n",
    "print(min(4, 12, 43, 3, 17, 100))"
   ]
  },
  {
   "cell_type": "code",
   "execution_count": 14,
   "metadata": {},
   "outputs": [
    {
     "name": "stdout",
     "output_type": "stream",
     "text": [
      "The minimum value character is : a\n",
      "The maximum value character is : r\n"
     ]
    }
   ],
   "source": [
    "# Python code to demonstrate working of\n",
    "# min() and max()\n",
    "str = \"machinelearning\"\n",
    "# using min() to print the smallest character\n",
    "# prints 'a'\n",
    "print (\"The minimum value character is : \" + min(str))\n",
    "# using max() to print the largest character\n",
    "# prints 'r'\n",
    "print (\"The maximum value character is : \" + max(str))"
   ]
  },
  {
   "cell_type": "code",
   "execution_count": 26,
   "metadata": {},
   "outputs": [
    {
     "name": "stdout",
     "output_type": "stream",
     "text": [
      "{103: 97, 102: 98, 111: 99}\n"
     ]
    }
   ],
   "source": [
    "# python program to demostrate the working condition of \n",
    "#  maketrans()\n",
    "# from string import maketrans fro maketrans()\n",
    "\n",
    "str = 'artificialintelligence'\n",
    "str1 = 'gfo'\n",
    "str2 = 'abc'\n",
    "# using maketrance () to map elements of str1 to str2\n",
    "mapping = str.maketrans(str1, str2)\n",
    "print(mapping)"
   ]
  },
  {
   "cell_type": "code",
   "execution_count": 29,
   "metadata": {},
   "outputs": [
    {
     "name": "stdout",
     "output_type": "stream",
     "text": [
      "artibicial intelliaence\n"
     ]
    }
   ],
   "source": [
    "# python program to demostrate the working condition of \n",
    "#  translate()\n",
    "# from string import maketrans fro translate()\n",
    "\n",
    "str = 'artificial intelligence'\n",
    "str1 = 'gfo'\n",
    "str2 = 'abc'\n",
    "# using translate() to map elements of str1 to str2\n",
    "mapping = str.maketrans(str1, str2)\n",
    "print(str.translate(mapping))"
   ]
  },
  {
   "cell_type": "code",
   "execution_count": 32,
   "metadata": {},
   "outputs": [
    {
     "name": "stdout",
     "output_type": "stream",
     "text": [
      "Before replacemet:  C++ is a programming language from c++ python was developed.\n",
      "after the replacement of string we get: \n",
      "python is a programming language from c++ python was developed.\n"
     ]
    }
   ],
   "source": [
    "# python program to demostrate the woking of \n",
    "# replace()\n",
    "str = \"C++ is a programming language from c++ python was developed.\"\n",
    "str1 = 'C++'\n",
    "str2 = \"python\"\n",
    "print('Before replacemet: ', str)\n",
    "print('after the replacement of string we get: ')\n",
    "print(str.replace(str1, str2, 1))"
   ]
  },
  {
   "cell_type": "code",
   "execution_count": 34,
   "metadata": {},
   "outputs": [
    {
     "name": "stdout",
     "output_type": "stream",
     "text": [
      "python  for     Data Science\n",
      "python  for Data Science\n",
      "python    for  Data Science\n"
     ]
    }
   ],
   "source": [
    "# python program to demostrate the working of \n",
    "# expandtabs()\n",
    "string = 'python\\tfor\\tData Science'\n",
    "\n",
    "# no parameters, by default size of 8\n",
    "print(string.expandtabs())\n",
    "\n",
    "#  tab size taken as 2\n",
    "print(string.expandtabs(2))\n",
    "\n",
    "#  tab size taken as 5\n",
    "print(string.expandtabs(5))"
   ]
  },
  {
   "cell_type": "code",
   "execution_count": 35,
   "metadata": {},
   "outputs": [
    {
     "name": "stdout",
     "output_type": "stream",
     "text": [
      "['python', 'for', 'artificial', 'intelligence']\n",
      "['python', ' for', ' artificial', ' intelligency']\n",
      "['python', 'for', 'artificial', 'intelligency']\n",
      "['ca', 'ba', 'ra', 'sa', 'fa', '']\n"
     ]
    }
   ],
   "source": [
    "text = 'python for artificial intelligence'\n",
    "\n",
    "# splits at space \n",
    "print(text.split()) \n",
    "\n",
    "words = 'python, for, artificial, intelligency'\n",
    "# splits the word with comma \n",
    "print(words.split(','))\n",
    "\n",
    "word = 'python:for:artificial:intelligency'\n",
    "# splite on the basis of :\n",
    "print(word.split(':'))\n",
    "\n",
    "word = 'catbatratsatfat'\n",
    "# split on the basis of t\n",
    "print(word.split())"
   ]
  },
  {
   "cell_type": "code",
   "execution_count": 38,
   "metadata": {},
   "outputs": [
    {
     "name": "stdout",
     "output_type": "stream",
     "text": [
      "('python ', 'is', ' best')\n",
      "('python is best', '', '')\n",
      "('python ', 'is', \" good, isn' it\")\n"
     ]
    }
   ],
   "source": [
    "# python program to demostarate the working of \n",
    "# partition()\n",
    "string = 'python is best'\n",
    "\n",
    "# 'is' seperator is found \n",
    "print(string.partition('is'))\n",
    "\n",
    "# 'not' seperator is not found\n",
    "print(string.partition('not'))\n",
    "\n",
    "string = 'python is good, isn\\' it'\n",
    "\n",
    "# splits at first occurance of 'is'\n",
    "print(string.partition('is'))"
   ]
  },
  {
   "cell_type": "code",
   "execution_count": null,
   "metadata": {},
   "outputs": [],
   "source": []
  }
 ],
 "metadata": {
  "interpreter": {
   "hash": "73b4fb914614748e1b4d5ae3804a556d6d463f357c4fc043afe155ac08cb1c28"
  },
  "kernelspec": {
   "display_name": "Python 3.9.6 64-bit",
   "language": "python",
   "name": "python3"
  },
  "language_info": {
   "codemirror_mode": {
    "name": "ipython",
    "version": 3
   },
   "file_extension": ".py",
   "mimetype": "text/x-python",
   "name": "python",
   "nbconvert_exporter": "python",
   "pygments_lexer": "ipython3",
   "version": "3.9.6"
  },
  "orig_nbformat": 4
 },
 "nbformat": 4,
 "nbformat_minor": 2
}
