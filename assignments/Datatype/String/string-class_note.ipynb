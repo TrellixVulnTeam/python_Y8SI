{
 "cells": [
  {
   "cell_type": "code",
   "execution_count": null,
   "metadata": {},
   "outputs": [],
   "source": [
    "# string are immutable which cant be chage \n",
    "# example of immutable \n",
    "a = 'hello'\n",
    "a[4] = 'y' # this is immutable, where we cant change the character of the string \n",
    "print(a[4])"
   ]
  },
  {
   "cell_type": "code",
   "execution_count": null,
   "metadata": {},
   "outputs": [],
   "source": [
    "# creating a string \n",
    "a = 'string'\n",
    "print(a)\n",
    "\n",
    "# single quotation \n",
    "a = 'hello python programmer'\n",
    "print(a)\n",
    "\n",
    "# double quotation \n",
    "a = \"hello python programmer\"\n",
    "print(a)\n",
    "\n",
    "# tripe quotation \n",
    "a ='''hello....\n",
    "python....\n",
    "programmer....'''\n",
    "print(a)"
   ]
  },
  {
   "cell_type": "code",
   "execution_count": null,
   "metadata": {},
   "outputs": [],
   "source": [
    "# ACCESSING THE character in string \n",
    "a = 'python programming'\n",
    "print(a[0]) # gives first value \n",
    "print(a[-1]) # gives last value\n"
   ]
  },
  {
   "cell_type": "code",
   "execution_count": null,
   "metadata": {},
   "outputs": [],
   "source": [
    "# string sclicing \n",
    "# range of character in that string \n",
    "\n",
    "# syntax: string_name[start: end : step]\n",
    "a = 'pythonprogramming'\n",
    "print('print from position 0 to 10: ', a[0:10])\n",
    "print('print from position 0 to 10 in step of 2: ', a[0:10:2])\n",
    "print('print from position 0 to end in step of 2: ', a[0: :2])\n",
    "print('print from position 0 to end: ', a[6: ])\n",
    "print('print from position 6 to 13: ', a[6:13])\n",
    "\n",
    "# at the time of - value \n",
    "a = 'hello python programmers '\n",
    "print(a[-9: -2]) # always start from big digit and end with small, because -2 is near to 0 than -9."
   ]
  },
  {
   "cell_type": "code",
   "execution_count": null,
   "metadata": {},
   "outputs": [],
   "source": [
    "# deleting/updating from string \n",
    "\n",
    "# Deleting the string \n",
    "a = 'hello'\n",
    "del a # deleting the string with del keyword \n",
    "# print(a) # this throw an error because there is no value as we already\n",
    "#  deleated 'a' \n",
    "\n",
    "# updating / re-assign the stting\n",
    "a = 'python program' # updating the a with new string  \n",
    "print(a)"
   ]
  },
  {
   "cell_type": "code",
   "execution_count": null,
   "metadata": {},
   "outputs": [],
   "source": [
    "# escape sequencing \n",
    "a = '''hey i'm yogesh \"from kathmandu\"'''\n",
    "print(a) # multi use of quotation \n",
    "b = 'hey i\\'m yogesh from \\\"kahmandu\\\"' # scape sequence \n",
    "print(b)\n",
    "w = \"https:\\\\\\\\www.google.com\"\n",
    "print(w)\n",
    "x = r'hey i\\'m yogesh from \\\"kahmandu\\\"' # 'r' ignores the escape sequence and \n",
    "# return as it is \n",
    "print(x)"
   ]
  },
  {
   "cell_type": "code",
   "execution_count": null,
   "metadata": {},
   "outputs": [],
   "source": [
    "# escape sequencing \n",
    "a = '''hey i'm yogesh \"from kathmandu\"'''\n",
    "print(a) # multi use of quotation \n",
    "b = 'hey i\\'m yogesh from \\\"kahmandu\\\"' # scape sequence \n",
    "print(b)\n",
    "w = \"https:\\\\\\\\www.google.com\"\n",
    "print(w)\n",
    "x = r'hey i\\'m yogesh from \\\"kahmandu\\\"' # 'r' ignores the escape sequence and \n",
    "# return as it is \n",
    "print(x)"
   ]
  },
  {
   "cell_type": "code",
   "execution_count": null,
   "metadata": {},
   "outputs": [],
   "source": [
    "# f-string \n",
    "z = f'{a} is best {b} language and {c} is best framwork '\n",
    "print(z)"
   ]
  },
  {
   "cell_type": "code",
   "execution_count": null,
   "metadata": {},
   "outputs": [],
   "source": [
    "# formated mathod \n",
    "a = 'python'\n",
    "b = 'programming'\n",
    "c = 'Django'\n",
    "s = \"{} {} {}\".format(a, b, c)\n",
    "print(s)\n",
    "\n",
    "# we can manipulate it as we like \n",
    "s = \"{} {} {}\".format(b, c, a) # manipulated \n",
    "# s = \"{} {} {}\".format(b, a) # throws an orror because it a functio and have \n",
    "# to pass all the value as we define with {} \n",
    "print(s)\n",
    "\n",
    "# positional format\n",
    "# i love doing python programming in Django\n",
    "s = \"i love doing {0} {1} in {2}\".format(a, b, c) # positional formating  \n",
    "print(s)\n",
    "\n",
    "# format method \n",
    "x = 'i love {} {} and {} framework {}'.format(a, b, c, b)\n",
    "print(x)\n",
    "\n",
    "# f-string\n",
    "y = \"{l} {f} {g}\".format(l = 'hey', f = 'how are u?', g = 'python...')\n",
    "print(y)"
   ]
  },
  {
   "cell_type": "code",
   "execution_count": null,
   "metadata": {},
   "outputs": [],
   "source": [
    "# python string operation concatenation \n",
    "a = 'hello'\n",
    "b = 'do you like programming in python?'\n",
    "c = a + ' ' + b\n",
    "print(c)"
   ]
  },
  {
   "cell_type": "code",
   "execution_count": null,
   "metadata": {},
   "outputs": [],
   "source": [
    "# using comma(,) : comma gives a single white space \n",
    "var1 = 'hello'\n",
    "var2 = 'world'\n",
    "print(var1, var2)\n",
    "\n",
    "# using comma(,) : comma gives a single white space \n",
    "var1 = 'hello'\n",
    "var2 = 'python programmer....'\n",
    "print(var1, var2)"
   ]
  },
  {
   "cell_type": "code",
   "execution_count": null,
   "metadata": {},
   "outputs": [],
   "source": [
    "# using comma(,) : comma gives a single white space \n",
    "var1 = 'hello'\n",
    "var2 = 'world'\n",
    "print(var1, var2)\n",
    "\n",
    "# using comma(,) : comma gives a single white space \n",
    "var1 = 'hello'\n",
    "var2 = 'python programmer....'\n",
    "print(var1, var2)"
   ]
  },
  {
   "cell_type": "code",
   "execution_count": null,
   "metadata": {},
   "outputs": [],
   "source": [
    "# iterating throuth string \n",
    "a = 'hellopythonprogrammers'\n",
    "for i in a:\n",
    "    print(i, end=' ')"
   ]
  },
  {
   "cell_type": "code",
   "execution_count": null,
   "metadata": {},
   "outputs": [],
   "source": [
    "# using range len() function \n",
    "a = 'hellopythonprogrammers'\n",
    "for i in range(0, len(a)):\n",
    "    print(a[i], end=' ') # iterating a string 'a'"
   ]
  },
  {
   "cell_type": "code",
   "execution_count": null,
   "metadata": {},
   "outputs": [],
   "source": [
    "# revision/recall range \n",
    "a = range(0, 5)\n",
    "print(a) # as range is assign in a \n",
    "# to iterate through a value of range \n",
    "for i in a:\n",
    "    print(i, end=' ')    \n",
    "print(type(a))"
   ]
  },
  {
   "cell_type": "code",
   "execution_count": null,
   "metadata": {},
   "outputs": [],
   "source": [
    "# enumurate() is a advance looping function \n",
    "# enumerate gives a index and value, but its is always our choice to print as we like i.e. index, value.\n",
    "string = 'python'\n",
    "# inxed, value\n",
    "for index, value in enumerate(string):\n",
    "# for i, v in enumerate(string):\n",
    "    print(index, end='') # index of string value \n",
    "    print(value, end=' ') # value that is in string"
   ]
  },
  {
   "cell_type": "code",
   "execution_count": null,
   "metadata": {},
   "outputs": [],
   "source": [
    "# enumurate() is a advance looping function \n",
    "# enumerate gives a index and value, but its is always our choice to print as we like i.e. index, value.\n",
    "string = 'python'\n",
    "# inxed, value\n",
    "for index, value in enumerate(string):\n",
    "# for i, v in enumerate(string):\n",
    "    print(index, end='') # index of string value \n",
    "    print(value, end=' ') # value that is in string"
   ]
  },
  {
   "cell_type": "code",
   "execution_count": null,
   "metadata": {},
   "outputs": [],
   "source": [
    "# iterating over a particular elements \n",
    "# to reverse string \n",
    "a = 'pythonprogrammer'\n",
    "print(a)\n",
    "r = a[::-1] # this simply reverse the string \n",
    "print(r)\n",
    "for i in a[::-1]:\n",
    "    print(i, end=' ') # reversing the stfing using loop \n",
    "\n",
    "# reverse string with reversed()\n",
    "print('')\n",
    "for i in reversed(a):\n",
    "    print(i, end=' ') # revers the string using reversed function \n",
    "\n",
    "print()\n",
    "for i in reversed(r): # we have reverse the vlaue of a in r \n",
    "    print(i, end=' ') # re-reversing the reverse value\n",
    "\n",
    "\n",
    "# itereting over a particular element \n",
    "a = 'pythonprogramming'\n",
    "r = a[:8:2]\n",
    "print(r)\n",
    "\n",
    "# running above code in loop \n",
    "for i in a[6:13:]:\n",
    "    print(i, end='')\n",
    "\n",
    "print()\n",
    "for i in a[::2]:\n",
    "    print(i, end='')"
   ]
  },
  {
   "cell_type": "code",
   "execution_count": null,
   "metadata": {},
   "outputs": [],
   "source": [
    "# string membership test \n",
    "a = 'pythonprogramming' \n",
    "t = 'p'\n",
    "q = 'z'\n",
    "print(t in a) # is present certain string or not \n",
    "print(q not in a)  # z is not prsent in string a"
   ]
  },
  {
   "cell_type": "code",
   "execution_count": null,
   "metadata": {},
   "outputs": [],
   "source": [
    "# empty string is always a false \n",
    "a = ''\n",
    "# non empty string is always a true \n",
    "b = ' '\n",
    "c = 'print'\n",
    "print(a and b) # the first condition is false so it will print a same false value \n",
    "print(repr())\n",
    "print(a or c) # print the true value\n",
    "\n",
    "# repr() : repr is used to print the string along with the quotes\n",
    "str1 = '' # empty string \n",
    "str2 = 'python'\n",
    "print(repr(str1 and str2))\n",
    "print(repr(str1 or str2))\n",
    "\n",
    "str1 = 'for'\n",
    "print(repr(str1 and str2))\n",
    "print(repr(str2 and str1))\n",
    "print(repr(str1 or str2))\n",
    "print(repr(str2 or str1))\n",
    "\n",
    "str1 = 'geeks'\n",
    "print(repr(str1))\n",
    "print(repr(not str1)) # return true or false \n",
    "\n",
    "str1 = ''\n",
    "print(repr( not str1)) # true"
   ]
  },
  {
   "cell_type": "code",
   "execution_count": null,
   "metadata": {},
   "outputs": [],
   "source": [
    "# spliting a string in python \n",
    "x = 'hello programmers'\n",
    "y = x.split() # default split string on the basis of space \n",
    "print(y)\n",
    "print(type(y)) # makes an list \n",
    "\n",
    "x = 'hello-programmers-what-are-you-doing?'\n",
    "y = x.split('-') # spliting the string on the basis of -\n",
    "print(y)"
   ]
  },
  {
   "cell_type": "code",
   "execution_count": null,
   "metadata": {},
   "outputs": [],
   "source": [
    "# find \n",
    "str1 = \"hello pro for pro programmers\"\n",
    "str2 = \"pro\"\n",
    "print(str1.find(str2, 4)) # it looks from left-right"
   ]
  },
  {
   "cell_type": "code",
   "execution_count": null,
   "metadata": {},
   "outputs": [],
   "source": [
    "# rfund() function \n",
    "str1 = \"hello pro for pro programmers\"\n",
    "str2 = \"pro\"\n",
    "print(str1.rfind(str2, 4)) # it looks from right-left"
   ]
  },
  {
   "cell_type": "code",
   "execution_count": null,
   "metadata": {},
   "outputs": [],
   "source": [
    "# find and rfind\n",
    "str1 = \"hello pro for pro programmers\"\n",
    "str2 = \"pro\"\n",
    "print(str1.find(str2, 4)) # it looks from left-right\n",
    "print(str1.rfind(str2, 4)) # it looks from right-left"
   ]
  },
  {
   "cell_type": "code",
   "execution_count": null,
   "metadata": {},
   "outputs": [],
   "source": [
    "# starts with and ends with \n",
    "# start with return true or false value \n",
    "a = 'hello'\n",
    "b = 'hello boss'\n",
    "print(a.startswith(b)) # a start with b? No"
   ]
  },
  {
   "cell_type": "code",
   "execution_count": null,
   "metadata": {},
   "outputs": [],
   "source": [
    "# ends with \n",
    "a = 'welcome to world largest python programming campaign'\n",
    "b = 'campaign'\n",
    "print(a.endswith(b)) # a end with b? yes"
   ]
  },
  {
   "cell_type": "code",
   "execution_count": null,
   "metadata": {},
   "outputs": [],
   "source": [
    "# islower()\n",
    "str1 = 'python programming is BEST'\n",
    "str2 = 'PYTHON IS BEST language TO LEARN'\n",
    "print()\n",
    "# print(str2.lower()) # it convert to lower string \n",
    "\n",
    "# lowercase \n",
    "print()\n",
    "if str1.islower():\n",
    "    print(f'yes the string is in lowercase: {str1}')\n",
    "else:\n",
    "    print(f'no the string are not in lowercase: {str1}')\n",
    "    if str1!= str1.upper():\n",
    "        print(f\"the string is converted to uppercase: {str1.upper()}\")\n",
    "    else:\n",
    "        print(f'the string is already in uppercase: {str1}')\n",
    "\n",
    "# uppercase\n",
    "print()\n",
    "if str2.isupper():\n",
    "    print(f'the character is string and uppercase: {str2}')\n",
    "else:\n",
    "    print(f'No the character are not uppercase: {str2}')\n",
    "    if str2 != str2.upper():\n",
    "        print(f'the string is converted to lower case: {str2.lower()}')"
   ]
  },
  {
   "cell_type": "code",
   "execution_count": null,
   "metadata": {},
   "outputs": [],
   "source": [
    "# lower() function\n",
    "a = 'HELLO THIS IS STRING CONVERSION TO LOWER CASE'\n",
    "print(a.lower())"
   ]
  },
  {
   "cell_type": "code",
   "execution_count": null,
   "metadata": {},
   "outputs": [],
   "source": [
    "# upper() function\n",
    "a = 'hello this is string conversion to uppercase'\n",
    "print(a.upper())"
   ]
  },
  {
   "cell_type": "code",
   "execution_count": null,
   "metadata": {},
   "outputs": [],
   "source": [
    "# checking either the condition islower or isupper case \n",
    "a = 'hello'\n",
    "if a.islower():\n",
    "    print(f'Convert to upper: {a.upper()}')\n",
    "else:\n",
    "    print(f'convert to lower: {a.lower()}')"
   ]
  },
  {
   "cell_type": "code",
   "execution_count": null,
   "metadata": {},
   "outputs": [],
   "source": [
    "# title() function\n",
    "a = 'hello this is python programmer'\n",
    "print(a.title())"
   ]
  },
  {
   "cell_type": "code",
   "execution_count": null,
   "metadata": {},
   "outputs": [],
   "source": [
    "# len() function\n",
    "a = 'hello this is python programmer'\n",
    "print(f'the length of string a is: {len(a)}')"
   ]
  },
  {
   "cell_type": "code",
   "execution_count": null,
   "metadata": {},
   "outputs": [],
   "source": [
    "# printing the occurance of \"python\" in string, \n",
    "# prints 2 as it only check till 15th element\n",
    "str = 'python for Automation and Scriptiong'\n",
    "print(\"number of apperance of \"\"python:\"\" is: \", end=' ')\n",
    "print(str.count(\"python\", 0, 15))"
   ]
  },
  {
   "cell_type": "code",
   "execution_count": null,
   "metadata": {},
   "outputs": [],
   "source": [
    "# Python code to demonstrate working of\n",
    "# center(), ljust() and rjust()\n",
    "str = \"Python is the coolest programming language in the world\"\n",
    "# Printing the string after centering with '-'\n",
    "print (\"The string after centering with '-' is : \",end=\"\")\n",
    "print ( str.center(25,'-'))"
   ]
  },
  {
   "cell_type": "code",
   "execution_count": null,
   "metadata": {},
   "outputs": [],
   "source": [
    "# just() in python \n",
    "str = \"Python is the coolest programming language in the world\"\n",
    "print (\"The string after ljust is : \",end=\"\")\n",
    "print(str.ljust(20, '-'))"
   ]
  },
  {
   "cell_type": "code",
   "execution_count": null,
   "metadata": {},
   "outputs": [],
   "source": [
    "# use of just() in python \n",
    "str = \"Python is the coolest programming language in the world\"\n",
    "print (\"The string after rjust is : \",end=\"\")\n",
    "print(str.rjust(20, '-'))"
   ]
  },
  {
   "cell_type": "code",
   "execution_count": null,
   "metadata": {},
   "outputs": [],
   "source": [
    "# isalpha()\n",
    "a = \"hello there...\"\n",
    "b = '123hello'\n",
    "c = '  '\n",
    "\n",
    "if (a.isalpha()):\n",
    "    print('the condition is true and returns a alphabates')\n",
    "else:\n",
    "    print('false')"
   ]
  },
  {
   "cell_type": "code",
   "execution_count": null,
   "metadata": {},
   "outputs": [],
   "source": [
    "#isnum()\n",
    "a = \"hello there...\"\n",
    "b = '123hello'\n",
    "c = '  '\n",
    "if b.isalnum():\n",
    "    print('the condition is true and returns a alphabates and number')\n",
    "else:\n",
    "    print('false')"
   ]
  },
  {
   "cell_type": "code",
   "execution_count": null,
   "metadata": {},
   "outputs": [],
   "source": [
    "# isspace()\n",
    "a = \"hello there...\"\n",
    "b = '123hello'\n",
    "c = '  '\n",
    "if c.isspace():\n",
    "    print('the condition is true and will display space')\n",
    "else:\n",
    "    print('false')"
   ]
  },
  {
   "cell_type": "code",
   "execution_count": null,
   "metadata": {},
   "outputs": [],
   "source": [
    "# join() mathod/ function \n",
    "x = 'hey there'\n",
    "y = 'how are i doing ?'\n",
    "z = ' '.join([x, y])\n",
    "z1 = '-'.join([x, y])\n",
    "print(z)\n",
    "print(z1)"
   ]
  },
  {
   "cell_type": "code",
   "execution_count": 1,
   "metadata": {},
   "outputs": [
    {
     "name": "stdout",
     "output_type": "stream",
     "text": [
      "...hellp programmers how are u doing ?...\n",
      "string after strip all \".\" is: hellp programmers how are u doing ?\n"
     ]
    }
   ],
   "source": [
    "# python to demostarte the working of strip() \n",
    "str = '...hellp programmers how are u doing ?...'\n",
    "print(str) # display as it is in the string \n",
    "print('string after strip all \".\" is: ', end='')\n",
    "print(str.strip(\".\")) # remove all the dots from the string "
   ]
  },
  {
   "cell_type": "code",
   "execution_count": 2,
   "metadata": {},
   "outputs": [
    {
     "name": "stdout",
     "output_type": "stream",
     "text": [
      "... hello programmers how are u doing ?...\n",
      "after 'lstrip':  hello programmers how are u doing ?...\n"
     ]
    }
   ],
   "source": [
    "# python to demostrate the lstrpi\n",
    "str = '... hello programmers how are u doing ?...'\n",
    "print(str)\n",
    "print('after \\'lstrip\\': ', end='')\n",
    "print(str.lstrip('.')) # remove all the dosts from left side "
   ]
  },
  {
   "cell_type": "code",
   "execution_count": 3,
   "metadata": {},
   "outputs": [
    {
     "name": "stdout",
     "output_type": "stream",
     "text": [
      "... hello python programmers how are u doing?\n",
      "after 'rstrip': ... hello python programmers how are u doing?\n"
     ]
    }
   ],
   "source": [
    "# python program to demostrate the rtrip \n",
    "str = '... hello python programmers how are u doing?'\n",
    "print(str)\n",
    "print('after \\'rstrip\\': ', end='')\n",
    "print(str.rstrip('.')) # remove all the dots from right side "
   ]
  },
  {
   "cell_type": "code",
   "execution_count": 10,
   "metadata": {},
   "outputs": [
    {
     "name": "stdout",
     "output_type": "stream",
     "text": [
      "Maximum of 4,12,43.3,19 and 100 is : 100\n"
     ]
    }
   ],
   "source": [
    "\n",
    "# Python code to demonstrate the working of\n",
    "# max()\n",
    " \n",
    "# printing the maximum of 4,12,43.3,19,100\n",
    "print(\"Maximum of 4,12,43.3,19 and 100 is : \",end=\"\")\n",
    "print (max( 4,12,43.3,19,100 ) )"
   ]
  },
  {
   "cell_type": "code",
   "execution_count": 13,
   "metadata": {},
   "outputs": [
    {
     "name": "stdout",
     "output_type": "stream",
     "text": [
      "minimum of 4, 12, 43, 3, 17, 100 is:  3\n"
     ]
    }
   ],
   "source": [
    "# python program to demostarte the working od \n",
    "# min()\n",
    "# printing the minimum of 4, 12, 43, 3, 17, 100\n",
    "print(\"minimum of 4, 12, 43, 3, 17, 100 is: \", end=' ')\n",
    "print(min(4, 12, 43, 3, 17, 100))"
   ]
  },
  {
   "cell_type": "code",
   "execution_count": 14,
   "metadata": {},
   "outputs": [
    {
     "name": "stdout",
     "output_type": "stream",
     "text": [
      "The minimum value character is : a\n",
      "The maximum value character is : r\n"
     ]
    }
   ],
   "source": [
    "# Python code to demonstrate working of\n",
    "# min() and max()\n",
    "str = \"machinelearning\"\n",
    "# using min() to print the smallest character\n",
    "# prints 'a'\n",
    "print (\"The minimum value character is : \" + min(str))\n",
    "# using max() to print the largest character\n",
    "# prints 'r'\n",
    "print (\"The maximum value character is : \" + max(str))"
   ]
  },
  {
   "cell_type": "code",
   "execution_count": 26,
   "metadata": {},
   "outputs": [
    {
     "name": "stdout",
     "output_type": "stream",
     "text": [
      "{103: 97, 102: 98, 111: 99}\n"
     ]
    }
   ],
   "source": [
    "# python program to demostrate the working condition of \n",
    "#  maketrans()\n",
    "# from string import maketrans fro maketrans()\n",
    "\n",
    "str = 'artificialintelligence'\n",
    "str1 = 'gfo'\n",
    "str2 = 'abc'\n",
    "# using maketrance () to map elements of str1 to str2\n",
    "mapping = str.maketrans(str1, str2)\n",
    "print(mapping)"
   ]
  },
  {
   "cell_type": "code",
   "execution_count": 29,
   "metadata": {},
   "outputs": [
    {
     "name": "stdout",
     "output_type": "stream",
     "text": [
      "artibicial intelliaence\n"
     ]
    }
   ],
   "source": [
    "# python program to demostrate the working condition of \n",
    "#  translate()\n",
    "# from string import maketrans fro translate()\n",
    "\n",
    "str = 'artificial intelligence'\n",
    "str1 = 'gfo'\n",
    "str2 = 'abc'\n",
    "# using translate() to map elements of str1 to str2\n",
    "mapping = str.maketrans(str1, str2)\n",
    "print(str.translate(mapping))"
   ]
  },
  {
   "cell_type": "code",
   "execution_count": 32,
   "metadata": {},
   "outputs": [
    {
     "name": "stdout",
     "output_type": "stream",
     "text": [
      "Before replacemet:  C++ is a programming language from c++ python was developed.\n",
      "after the replacement of string we get: \n",
      "python is a programming language from c++ python was developed.\n"
     ]
    }
   ],
   "source": [
    "# python program to demostrate the woking of \n",
    "# replace()\n",
    "str = \"C++ is a programming language from c++ python was developed.\"\n",
    "str1 = 'C++'\n",
    "str2 = \"python\"\n",
    "print('Before replacemet: ', str)\n",
    "print('after the replacement of string we get: ')\n",
    "print(str.replace(str1, str2, 1))"
   ]
  },
  {
   "cell_type": "code",
   "execution_count": 34,
   "metadata": {},
   "outputs": [
    {
     "name": "stdout",
     "output_type": "stream",
     "text": [
      "python  for     Data Science\n",
      "python  for Data Science\n",
      "python    for  Data Science\n"
     ]
    }
   ],
   "source": [
    "# python program to demostrate the working of \n",
    "# expandtabs()\n",
    "string = 'python\\tfor\\tData Science'\n",
    "\n",
    "# no parameters, by default size of 8\n",
    "print(string.expandtabs())\n",
    "\n",
    "#  tab size taken as 2\n",
    "print(string.expandtabs(2))\n",
    "\n",
    "#  tab size taken as 5\n",
    "print(string.expandtabs(5))"
   ]
  },
  {
   "cell_type": "code",
   "execution_count": 35,
   "metadata": {},
   "outputs": [
    {
     "name": "stdout",
     "output_type": "stream",
     "text": [
      "['python', 'for', 'artificial', 'intelligence']\n",
      "['python', ' for', ' artificial', ' intelligency']\n",
      "['python', 'for', 'artificial', 'intelligency']\n",
      "['ca', 'ba', 'ra', 'sa', 'fa', '']\n"
     ]
    }
   ],
   "source": [
    "text = 'python for artificial intelligence'\n",
    "\n",
    "# splits at space \n",
    "print(text.split()) \n",
    "\n",
    "words = 'python, for, artificial, intelligency'\n",
    "# splits the word with comma \n",
    "print(words.split(','))\n",
    "\n",
    "word = 'python:for:artificial:intelligency'\n",
    "# splite on the basis of :\n",
    "print(word.split(':'))\n",
    "\n",
    "word = 'catbatratsatfat'\n",
    "# split on the basis of t\n",
    "print(word.split())"
   ]
  },
  {
   "cell_type": "code",
   "execution_count": 38,
   "metadata": {},
   "outputs": [
    {
     "name": "stdout",
     "output_type": "stream",
     "text": [
      "('python ', 'is', ' best')\n",
      "('python is best', '', '')\n",
      "('python ', 'is', \" good, isn' it\")\n"
     ]
    }
   ],
   "source": [
    "# python program to demostarate the working of \n",
    "# partition()\n",
    "string = 'python is best'\n",
    "\n",
    "# 'is' seperator is found \n",
    "print(string.partition('is'))\n",
    "\n",
    "# 'not' seperator is not found\n",
    "print(string.partition('not'))\n",
    "\n",
    "string = 'python is good, isn\\' it'\n",
    "\n",
    "# splits at first occurance of 'is'\n",
    "print(string.partition('is'))"
   ]
  },
  {
   "cell_type": "code",
   "execution_count": 2,
   "metadata": {},
   "outputs": [
    {
     "name": "stdout",
     "output_type": "stream",
     "text": [
      "String with the use of Single Quotes: \n",
      "Welcome to the Python World\n",
      "\n",
      "String with the use of Double Quotes: \n",
      "I'm a Python Programmer\n",
      "\n",
      "String with the use of Triple Quotes: \n",
      "I'm a Python Programmer and I live in a world of \"Python\"\n",
      "\n",
      "Creating a multiline String: \n",
      "Python\n",
      "For\n",
      "Ml and AI\n"
     ]
    }
   ],
   "source": [
    "# Notes \n",
    "# Python Program for\n",
    "# Creation of String\n",
    "# Creating a String\n",
    "# with single Quotes\n",
    "String1 = 'Welcome to the Python World'\n",
    "print(\"String with the use of Single Quotes: \")\n",
    "print(String1)\n",
    "# Creating a String\n",
    "# with double Quotes\n",
    "String1 = \"I'm a Python Programmer\"\n",
    "print(\"\\nString with the use of Double Quotes: \")\n",
    "print(String1)\n",
    "# Creating a String\n",
    "# with triple Quotes\n",
    "String1 = '''I'm a Python Programmer and I live in a world of \"Python\"'''\n",
    "print(\"\\nString with the use of Triple Quotes: \")\n",
    "print(String1)\n",
    "# Creating String with triple\n",
    "# Quotes allows multiple lines\n",
    "String1 = '''Python\n",
    "For\n",
    "Ml and AI'''\n",
    "print(\"\\nCreating a multiline String: \")\n",
    "print(String1)"
   ]
  },
  {
   "cell_type": "code",
   "execution_count": 1,
   "metadata": {},
   "outputs": [
    {
     "name": "stdout",
     "output_type": "stream",
     "text": [
      "Initial String: \n",
      "Python Progamming\n",
      "\n",
      "Slicing characters from 3-12: \n",
      "hon Proga\n",
      "\n",
      "Slicing characters between 3rd and 2nd last character: \n",
      "hon Progammi\n",
      "lco\n",
      "oet\n",
      "wo\n"
     ]
    }
   ],
   "source": [
    "# Python Program to\n",
    "# demonstrate String slicing\n",
    "# Creating a String\n",
    "String1 = \"Python Progamming\"\n",
    "print(\"Initial String: \")\n",
    "print(String1)\n",
    "# Printing 3rd to 12th character\n",
    "print(\"\\nSlicing characters from 3-12: \")\n",
    "print(String1[3:12])\n",
    "# Printing characters between\n",
    "# 3rd and 2nd last character\n",
    "print(\"\\nSlicing characters between \" +\n",
    "\"3rd and 2nd last character: \")\n",
    "print(String1[3:-2])\n",
    "# A python program to illustrate\n",
    "# print substrings of a string\n",
    "x = \"Welcome to python world\"\n",
    "# Prints substring from 2nd to 5th character\n",
    "print (x[2:5])\n",
    "# Prints substring stepping up 2nd character\n",
    "# from 4th to 10th character\n",
    "print (x[4:10:2])\n",
    "# Prints 3rd character from rear from 3 to 5\n",
    "print (x[-5:-3])"
   ]
  },
  {
   "cell_type": "code",
   "execution_count": 3,
   "metadata": {},
   "outputs": [
    {
     "name": "stdout",
     "output_type": "stream",
     "text": [
      "Initial String: \n",
      "Hello, I'm a Python Developer\n"
     ]
    },
    {
     "ename": "TypeError",
     "evalue": "'str' object does not support item assignment",
     "output_type": "error",
     "traceback": [
      "\u001b[1;31m---------------------------------------------------------------------------\u001b[0m",
      "\u001b[1;31mTypeError\u001b[0m                                 Traceback (most recent call last)",
      "\u001b[1;32m~\\AppData\\Local\\Temp/ipykernel_10828/1612098553.py\u001b[0m in \u001b[0;36m<module>\u001b[1;34m\u001b[0m\n\u001b[0;32m      6\u001b[0m \u001b[1;31m# Updating a character\u001b[0m\u001b[1;33m\u001b[0m\u001b[1;33m\u001b[0m\u001b[1;33m\u001b[0m\u001b[0m\n\u001b[0;32m      7\u001b[0m \u001b[1;31m# of the String\u001b[0m\u001b[1;33m\u001b[0m\u001b[1;33m\u001b[0m\u001b[1;33m\u001b[0m\u001b[0m\n\u001b[1;32m----> 8\u001b[1;33m \u001b[0mString1\u001b[0m\u001b[1;33m[\u001b[0m\u001b[1;36m2\u001b[0m\u001b[1;33m]\u001b[0m \u001b[1;33m=\u001b[0m \u001b[1;34m'p'\u001b[0m\u001b[1;33m\u001b[0m\u001b[1;33m\u001b[0m\u001b[0m\n\u001b[0m\u001b[0;32m      9\u001b[0m \u001b[0mprint\u001b[0m\u001b[1;33m(\u001b[0m\u001b[1;34m\"\\nUpdating character at 2nd Index: \"\u001b[0m\u001b[1;33m)\u001b[0m\u001b[1;33m\u001b[0m\u001b[1;33m\u001b[0m\u001b[0m\n\u001b[0;32m     10\u001b[0m \u001b[0mprint\u001b[0m\u001b[1;33m(\u001b[0m\u001b[0mString1\u001b[0m\u001b[1;33m)\u001b[0m\u001b[1;33m\u001b[0m\u001b[1;33m\u001b[0m\u001b[0m\n",
      "\u001b[1;31mTypeError\u001b[0m: 'str' object does not support item assignment"
     ]
    }
   ],
   "source": [
    "# Python Program to Update\n",
    "# character of a String\n",
    "String1 = \"Hello, I'm a Python Developer\"\n",
    "print(\"Initial String: \")\n",
    "print(String1)\n",
    "# Updating a character\n",
    "# of the String\n",
    "String1[2] = 'p'\n",
    "print(\"\\nUpdating character at 2nd Index: \")\n",
    "print(String1)"
   ]
  },
  {
   "cell_type": "code",
   "execution_count": 4,
   "metadata": {},
   "outputs": [
    {
     "name": "stdout",
     "output_type": "stream",
     "text": [
      "Initial String: \n",
      "Hello, I'm a Python Developer\n",
      "\n",
      "Updated String: \n",
      "Welcome to the Python World\n"
     ]
    }
   ],
   "source": [
    "# Python Program to Update\n",
    "# entire String\n",
    "String1 = \"Hello, I'm a Python Developer\"\n",
    "print(\"Initial String: \")\n",
    "print(String1)\n",
    "# Updating a String\n",
    "String1 = \"Welcome to the Python World\"\n",
    "print(\"\\nUpdated String: \")\n",
    "print(String1)"
   ]
  },
  {
   "cell_type": "code",
   "execution_count": 9,
   "metadata": {},
   "outputs": [
    {
     "name": "stdout",
     "output_type": "stream",
     "text": [
      "Initial String: \n",
      "Hello, I'm a Python Developer\n",
      "e\n"
     ]
    },
    {
     "ename": "TypeError",
     "evalue": "'str' object doesn't support item deletion",
     "output_type": "error",
     "traceback": [
      "\u001b[1;31m---------------------------------------------------------------------------\u001b[0m",
      "\u001b[1;31mTypeError\u001b[0m                                 Traceback (most recent call last)",
      "\u001b[1;32m~\\AppData\\Local\\Temp/ipykernel_10828/4288945798.py\u001b[0m in \u001b[0;36m<module>\u001b[1;34m\u001b[0m\n\u001b[0;32m      7\u001b[0m \u001b[1;31m# Deleting a character\u001b[0m\u001b[1;33m\u001b[0m\u001b[1;33m\u001b[0m\u001b[1;33m\u001b[0m\u001b[0m\n\u001b[0;32m      8\u001b[0m \u001b[1;31m# of the String\u001b[0m\u001b[1;33m\u001b[0m\u001b[1;33m\u001b[0m\u001b[1;33m\u001b[0m\u001b[0m\n\u001b[1;32m----> 9\u001b[1;33m \u001b[1;32mdel\u001b[0m \u001b[0mString1\u001b[0m\u001b[1;33m[\u001b[0m\u001b[1;36m2\u001b[0m\u001b[1;33m]\u001b[0m\u001b[1;33m\u001b[0m\u001b[1;33m\u001b[0m\u001b[0m\n\u001b[0m\u001b[0;32m     10\u001b[0m \u001b[0mprint\u001b[0m\u001b[1;33m(\u001b[0m\u001b[1;34m\"\\nDeleting character at 2nd Index: \"\u001b[0m\u001b[1;33m)\u001b[0m\u001b[1;33m\u001b[0m\u001b[1;33m\u001b[0m\u001b[0m\n\u001b[0;32m     11\u001b[0m \u001b[0mprint\u001b[0m\u001b[1;33m(\u001b[0m\u001b[0mString1\u001b[0m\u001b[1;33m)\u001b[0m\u001b[1;33m\u001b[0m\u001b[1;33m\u001b[0m\u001b[0m\n",
      "\u001b[1;31mTypeError\u001b[0m: 'str' object doesn't support item deletion"
     ]
    }
   ],
   "source": [
    "# Python Program to Delete\n",
    "# characters from a String\n",
    "String1 = \"Hello, I'm a Python Developer\"\n",
    "print(\"Initial String: \")\n",
    "print(String1)\n",
    "print(String1[1])\n",
    "# Deleting a character\n",
    "# of the String\n",
    "del String1[2]\n",
    "print(\"\\nDeleting character at 2nd Index: \")\n",
    "print(String1)"
   ]
  },
  {
   "cell_type": "code",
   "execution_count": 10,
   "metadata": {},
   "outputs": [
    {
     "name": "stdout",
     "output_type": "stream",
     "text": [
      "Initial String with use of Triple Quotes: \n",
      "I'm a \"Python Developer\"\n",
      "\n",
      "Escaping Single Quote: \n",
      "I'm a \"Python Developer\"\n",
      "\n",
      "Escaping Double Quotes: \n",
      "I'm a \"Python Developer\"\n",
      "\n",
      "Escaping Backslashes: \n",
      "C:\\Python\\Programs\\\n"
     ]
    }
   ],
   "source": [
    "# Python Program for\n",
    "# Escape Sequencing\n",
    "# of String\n",
    "# Initial String\n",
    "String1 = '''I'm a \"Python Developer\"'''\n",
    "print(\"Initial String with use of Triple Quotes: \")\n",
    "print(String1)\n",
    "# Escaping Single Quote\n",
    "String1 = 'I\\'m a \"Python Developer\"'\n",
    "print(\"\\nEscaping Single Quote: \")\n",
    "print(String1)\n",
    "# Escaping Double Quotes\n",
    "String1 = \"I'm a \\\"Python Developer\\\"\"\n",
    "print(\"\\nEscaping Double Quotes: \")\n",
    "print(String1)\n",
    "# Printing Paths with the\n",
    "# use of Escape Sequences\n",
    "String1 = \"C:\\\\Python\\\\Programs\\\\\"\n",
    "print(\"\\nEscaping Backslashes: \")\n",
    "print(String1)"
   ]
  },
  {
   "cell_type": "code",
   "execution_count": 11,
   "metadata": {},
   "outputs": [
    {
     "name": "stdout",
     "output_type": "stream",
     "text": [
      "\n",
      "Printing in HEX with the use of Escape Sequences: \n",
      "This is HEX representation\n",
      "\n",
      "Printing Raw String in HEX Format: \n",
      "This is \\x61 \\ngood example\n"
     ]
    }
   ],
   "source": [
    "# Printing Hex in HEX\n",
    "String1 = \"This is \\x48\\x45\\x58 representation\"\n",
    "print(\"\\nPrinting in HEX with the use of Escape Sequences: \")\n",
    "print(String1)\n",
    "# Using raw String to\n",
    "# ignore Escape Sequences\n",
    "String1 = r\"This is \\x61 \\ngood example\"\n",
    "print(\"\\nPrinting Raw String in HEX Format: \")\n",
    "print(String1)"
   ]
  },
  {
   "cell_type": "code",
   "execution_count": 12,
   "metadata": {},
   "outputs": [
    {
     "name": "stdout",
     "output_type": "stream",
     "text": [
      "Print String in default order: \n",
      "Python for web development\n",
      "\n",
      "Print String in Positional order: \n",
      "for python data science\n",
      "\n",
      "Print String in order of Keywords: \n",
      "machine learning for python\n"
     ]
    }
   ],
   "source": [
    "# Python Program for\n",
    "# Formatting of Strings\n",
    "# Default order\n",
    "String1 = \"{} {} {}\".format('Python', 'for', 'web development')\n",
    "print(\"Print String in default order: \")\n",
    "print(String1)\n",
    "# Positional Formatting\n",
    "String1 = \"{1} {0} {2}\".format('python', 'for', 'data science')\n",
    "print(\"\\nPrint String in Positional order: \")\n",
    "print(String1)\n",
    "# Keyword Formatting\n",
    "String1 = \"{l} {f} {g}\".format(g='python', f='for', l='machine learning')\n",
    "print(\"\\nPrint String in order of Keywords: \")\n",
    "print(String1)"
   ]
  },
  {
   "cell_type": "code",
   "execution_count": 13,
   "metadata": {},
   "outputs": [
    {
     "name": "stdout",
     "output_type": "stream",
     "text": [
      "python is a programming language\n",
      "Hello, My name is Bickky and I'm 24 years old.\n"
     ]
    }
   ],
   "source": [
    "# Python3 program introducing f-string\n",
    "val = 'python'\n",
    "lang = 'language'\n",
    "print(f\"{val} is a programming {lang}\")\n",
    "\n",
    "name = 'Bickky'\n",
    "age = 24\n",
    "print(f\"Hello, My name is {name} and I'm {age} years old.\")"
   ]
  },
  {
   "cell_type": "code",
   "execution_count": 14,
   "metadata": {},
   "outputs": [
    {
     "name": "stdout",
     "output_type": "stream",
     "text": [
      "Hello World\n"
     ]
    }
   ],
   "source": [
    "# Python program to demonstrate\n",
    "# string concatenation\n",
    "# Defining strings\n",
    "var1 = \"Hello \"\n",
    "var2 = \"World\"\n",
    "# + Operator is used to combine strings\n",
    "var3 = var1 + var2\n",
    "print(var3)\n"
   ]
  },
  {
   "cell_type": "code",
   "execution_count": 15,
   "metadata": {},
   "outputs": [
    {
     "name": "stdout",
     "output_type": "stream",
     "text": [
      "HelloWorld\n",
      "Hello World\n"
     ]
    }
   ],
   "source": [
    "# Python program to demonstrate\n",
    "# string concatenation\n",
    "\n",
    "var1 = \"Hello\"\n",
    "var2 = \"World\"\n",
    "# join() method is used to combine the strings\n",
    "print(\"\".join([var1, var2]))\n",
    "# join() method is used here to combine\n",
    "# the string with a separator Space(\" \")\n",
    "var3 = \" \".join([var1, var2])\n",
    "print(var3)"
   ]
  },
  {
   "cell_type": "code",
   "execution_count": 16,
   "metadata": {},
   "outputs": [
    {
     "name": "stdout",
     "output_type": "stream",
     "text": [
      "Hello World\n"
     ]
    }
   ],
   "source": [
    "# Python program to demonstrate\n",
    "# string concatenation\n",
    "var1 = \"Hello\"\n",
    "var2 = \"World\"\n",
    "# , to combine data types with a single whitespace.\n",
    "print(var1, var2)"
   ]
  },
  {
   "cell_type": "code",
   "execution_count": 18,
   "metadata": {},
   "outputs": [
    {
     "name": "stdout",
     "output_type": "stream",
     "text": [
      "p y t h o n p r o g r a m m i n g \n",
      "\n",
      "P\n",
      "y\n",
      "t\n",
      "h\n",
      "o\n",
      "n\n"
     ]
    }
   ],
   "source": [
    "# Python program to iterate over characters of a string\n",
    "# Code #1\n",
    "string_name = \"pythonprogramming\"\n",
    "# Iterate over the string\n",
    "for element in string_name:\n",
    "    print(element, end=' ')\n",
    "print(\"\\n\")\n",
    "\n",
    "# Code #2\n",
    "string_name = \"Python\"\n",
    "# Iterate over index\n",
    "for element in range(0, len(string_name)):\n",
    "    print(string_name[element])"
   ]
  },
  {
   "cell_type": "code",
   "execution_count": 20,
   "metadata": {},
   "outputs": [
    {
     "name": "stdout",
     "output_type": "stream",
     "text": [
      "G\n",
      "e\n",
      "e\n",
      "k\n",
      "s\n"
     ]
    }
   ],
   "source": [
    "# Python program to iterate over characters of a string\n",
    "string_name = \"Geeks\"\n",
    "# Iterate over the string\n",
    "for i, v in enumerate(string_name):\n",
    "    print(v)"
   ]
  },
  {
   "cell_type": "code",
   "execution_count": 22,
   "metadata": {},
   "outputs": [
    {
     "name": "stdout",
     "output_type": "stream",
     "text": [
      "n o h t y P \n",
      "\n",
      "g\n",
      "n\n",
      "i\n",
      "m\n",
      "m\n",
      "a\n",
      "r\n",
      "g\n",
      "o\n",
      "r\n",
      "p\n",
      "n\n",
      "o\n",
      "h\n",
      "t\n",
      "y\n",
      "p\n"
     ]
    }
   ],
   "source": [
    "# Python program to iterate over characters of a string\n",
    "# Code #1\n",
    "string_name = \"Python\"\n",
    "# slicing the string in reverse fashion\n",
    "for element in string_name[ : :-1]:\n",
    "    print(element, end =' ')\n",
    "print('\\n')\n",
    "# Code #2\n",
    "string_name = \"pythonprogramming\"\n",
    "# Getting length of string\n",
    "ran = len(string_name)\n",
    "# using reversed() function\n",
    "for element in reversed(range(0, ran)):\n",
    "    print(string_name[element])"
   ]
  },
  {
   "cell_type": "code",
   "execution_count": 24,
   "metadata": {},
   "outputs": [
    {
     "name": "stdout",
     "output_type": "stream",
     "text": [
      "p y t h o n p r "
     ]
    }
   ],
   "source": [
    "# Python program to iterate over particular set of element.\n",
    "string_name = \"pythonprogamming\"\n",
    "# string_name[start:end:step]\n",
    "for element in string_name[0:8:1]:\n",
    "    print(element, end =' ')"
   ]
  },
  {
   "cell_type": "code",
   "execution_count": 25,
   "metadata": {},
   "outputs": [
    {
     "name": "stdout",
     "output_type": "stream",
     "text": [
      "''\n",
      "''\n",
      "'python'\n",
      "'python'\n",
      "'python'\n",
      "'for'\n",
      "'for'\n",
      "'python'\n",
      "False\n",
      "True\n"
     ]
    }
   ],
   "source": [
    "str1 = ''\n",
    "str2 = 'python'\n",
    "# repr is used to print the string along with the quotes\n",
    "# Returns str1\n",
    "print(repr(str1 and str2))\n",
    "# Returns str1\n",
    "print(repr(str2 and str1))\n",
    "# Returns str2\n",
    "print(repr(str1 or str2))\n",
    "# Returns str2\n",
    "print(repr(str2 or str1))\n",
    "str1 = 'for'\n",
    "# Returns str2\n",
    "print(repr(str1 and str2))\n",
    "# Returns str1\n",
    "print(repr(str2 and str1))\n",
    "# Returns str1\n",
    "print(repr(str1 or str2))\n",
    "# Returns str2\n",
    "print(repr(str2 or str1))\n",
    "str1='geeks'\n",
    "# Returns False\n",
    "print(repr(not str1))\n",
    "str1 = ''\n",
    "# Returns True\n",
    "print(repr(not str1))"
   ]
  },
  {
   "cell_type": "code",
   "execution_count": 26,
   "metadata": {},
   "outputs": [
    {
     "name": "stdout",
     "output_type": "stream",
     "text": [
      "['Python', 'Javascript', 'C++']\n",
      "['Python', '\\nJavascript \\nC++']\n"
     ]
    }
   ],
   "source": [
    "line = \"Python \\nJavascript \\nC++\"\n",
    "print(line.split())\n",
    "print(line.split(' ', 1))"
   ]
  },
  {
   "cell_type": "code",
   "execution_count": 27,
   "metadata": {},
   "outputs": [
    {
     "name": "stdout",
     "output_type": "stream",
     "text": [
      "The first occurrence of str2 is at : 9\n",
      "The last occurrence of str2 is at : 23\n"
     ]
    }
   ],
   "source": [
    "# Python code to demonstrate working of\n",
    "# find() and rfind()\n",
    "str = \"pythonforpython is for python\"\n",
    "str2 = \"python\"\n",
    "# using find() to find first occurrence of str2\n",
    "# returns 8\n",
    "print (\"The first occurrence of str2 is at : \", end=\"\")\n",
    "print (str.find( str2, 4) )\n",
    "# using rfind() to find last occurrence of str2\n",
    "# returns 21\n",
    "print (\"The last occurrence of str2 is at : \", end=\"\")\n",
    "print ( str.rfind( str2, 4) )"
   ]
  },
  {
   "cell_type": "code",
   "execution_count": 28,
   "metadata": {},
   "outputs": [
    {
     "name": "stdout",
     "output_type": "stream",
     "text": [
      "All characters in str are not upper cased\n",
      "All characters in str1 are not lower cased\n"
     ]
    }
   ],
   "source": [
    "# Python code to demonstrate working of\n",
    "# isupper() and islower()\n",
    "str = \"Python Programming\"\n",
    "str1 = \"Web Development\"\n",
    "# checking if all characters in str are upper cased\n",
    "if str.isupper() :\n",
    "    print (\"All characters in str are upper cased\")\n",
    "else :\n",
    "    print (\"All characters in str are not upper cased\")\n",
    "# checking if all characters in str1 are lower cased\n",
    "if str1.islower() :\n",
    "    print (\"All characters in str1 are lower cased\")\n",
    "else :\n",
    "    print (\"All characters in str1 are not lower cased\")"
   ]
  },
  {
   "cell_type": "code",
   "execution_count": 29,
   "metadata": {},
   "outputs": [
    {
     "name": "stdout",
     "output_type": "stream",
     "text": [
      " The lower case converted string is : python is used for web development, machine learning and ai\n",
      " The upper case converted string is : PYTHON IS USED FOR WEB DEVELOPMENT, MACHINE LEARNING AND AI\n",
      " The swap case converted string is : pYTHON IS USED FOR wEB dEVELOPMENT, mACHINE lEARNING AND ai\n",
      " The title case converted string is : Python Is Used For Web Development, Machine Learning And Ai\n"
     ]
    }
   ],
   "source": [
    "# Python code to demonstrate working of\n",
    "# upper(), lower(), swapcase() and title()\n",
    "str = \"Python is used for Web Development, Machine Learning and AI\"\n",
    "# Converting string into its lower case\n",
    "str1 = str.lower()\n",
    "print (\" The lower case converted string is : \" + str1)\n",
    "# Converting string into its upper case\n",
    "str2 = str.upper()\n",
    "print (\" The upper case converted string is : \" + str2)\n",
    "# Converting string into its swapped case\n",
    "str3 = str.swapcase()\n",
    "print (\" The swap case converted string is : \" + str3)\n",
    "# Converting string into its title case\n",
    "str4 = str.title()\n",
    "print (\" The title case converted string is : \" + str4)"
   ]
  },
  {
   "cell_type": "code",
   "execution_count": 30,
   "metadata": {},
   "outputs": [
    {
     "name": "stdout",
     "output_type": "stream",
     "text": [
      " The length of string is :  35\n",
      " Number of appearance of python is : 1\n"
     ]
    }
   ],
   "source": [
    "# Python code to demonstrate working of\n",
    "# len() and count()\n",
    "str = \"python for Automation and Scripting\"\n",
    "# Printing length of string using len()\n",
    "print (\" The length of string is : \", len(str));\n",
    "# Printing occurrence of \"python\" in string\n",
    "# Prints 2 as it only checks till 15th element\n",
    "print (\" Number of appearance of \"\"python\"\" is : \",end=\"\")\n",
    "print (str.count(\"python\",0,15))"
   ]
  },
  {
   "cell_type": "code",
   "execution_count": 31,
   "metadata": {},
   "outputs": [
    {
     "name": "stdout",
     "output_type": "stream",
     "text": [
      "The string after centering with '-' is : Python is the coolest programming language in the world\n",
      "The string after ljust is : Python is the coolest programming language in the world\n",
      "The string after rjust is : Python is the coolest programming language in the world\n"
     ]
    }
   ],
   "source": [
    "# Python code to demonstrate working of\n",
    "# center(), ljust() and rjust()\n",
    "str = \"Python is the coolest programming language in the world\"\n",
    "# Printing the string after centering with '-'\n",
    "print (\"The string after centering with '-' is : \",end=\"\")\n",
    "print ( str.center(20,'-'))\n",
    "# Printing the string after ljust()\n",
    "print (\"The string after ljust is : \",end=\"\")\n",
    "print ( str.ljust(20,'-'))\n",
    "# Printing the string after rjust()\n",
    "print (\"The string after rjust is : \",end=\"\")\n",
    "print ( str.rjust(20,'-'))"
   ]
  },
  {
   "cell_type": "code",
   "execution_count": 33,
   "metadata": {},
   "outputs": [
    {
     "name": "stdout",
     "output_type": "stream",
     "text": [
      "All characters are not alphabets in str\n",
      "All characters are numbers in str1\n",
      "All characters are not spaces in str1\n"
     ]
    }
   ],
   "source": [
    "# Python code to demonstrate working of\n",
    "# isalpha(), isalnum(), isspace()\n",
    "str = \"Hello world\"\n",
    "str1 = \"123\"\n",
    "# Checking if str has all alphabets\n",
    "if (str.isalpha()):\n",
    "    print (\"All characters are alphabets in str\")\n",
    "else : print (\"All characters are not alphabets in str\")\n",
    "# Checking if str1 has all numbers\n",
    "if (str1.isalnum()):\n",
    "    print (\"All characters are numbers in str1\")\n",
    "else : print (\"All characters are not numbers in str1\")\n",
    "# Checking if str1 has all spaces\n",
    "if (str1.isspace()):\n",
    "    print (\"All characters are spaces in str1\")\n",
    "else : print (\"All characters are not spaces in str1\")"
   ]
  },
  {
   "cell_type": "code",
   "execution_count": 34,
   "metadata": {},
   "outputs": [
    {
     "name": "stdout",
     "output_type": "stream",
     "text": [
      "The string after joining is : django_is_used_for_backend_development\n"
     ]
    }
   ],
   "source": [
    "# Python code to demonstrate working of\n",
    "# join()\n",
    "str = \"_\"\n",
    "str1 = ( \"django\", \"is\", \"used\",\"for\",\"backend\",\"development\" )\n",
    "# using join() to join sequence str1 with str\n",
    "print (\"The string after joining is : \", end=\"\")\n",
    "print ( str.join(str1))"
   ]
  },
  {
   "cell_type": "code",
   "execution_count": 35,
   "metadata": {},
   "outputs": [
    {
     "name": "stdout",
     "output_type": "stream",
     "text": [
      " String after stripping all '-' is : helloworld\n",
      " String after stripping all leading '-' is : helloworld---\n",
      " String after stripping all trailing '-' is : ---helloworld\n"
     ]
    }
   ],
   "source": [
    "# Python code to demonstrate working of\n",
    "# strip(), lstrip() and rstrip()\n",
    "str = \"---helloworld---\"\n",
    "# using strip() to delete all '-'\n",
    "print ( \" String after stripping all '-' is : \", end=\"\")\n",
    "print ( str.strip('-') )\n",
    "# using lstrip() to delete all trailing '-'\n",
    "print ( \" String after stripping all leading '-' is : \", end=\"\")\n",
    "print ( str.lstrip('-') )\n",
    "# using rstrip() to delete all leading '-'\n",
    "print ( \" String after stripping all trailing '-' is : \", end=\"\")\n",
    "print ( str.rstrip('-') )"
   ]
  },
  {
   "cell_type": "code",
   "execution_count": 36,
   "metadata": {},
   "outputs": [
    {
     "name": "stdout",
     "output_type": "stream",
     "text": [
      "The minimum value character is : a\n",
      "The maximum value character is : r\n"
     ]
    }
   ],
   "source": [
    "# Python code to demonstrate working of\n",
    "# min() and max()\n",
    "str = \"machinelearning\"\n",
    "# using min() to print the smallest character\n",
    "# prints 'a'\n",
    "print (\"The minimum value character is : \" + min(str))\n",
    "# using max() to print the largest character\n",
    "# prints 'r'\n",
    "print (\"The maximum value character is : \" + max(str))"
   ]
  },
  {
   "cell_type": "code",
   "execution_count": 39,
   "metadata": {},
   "outputs": [
    {
     "ename": "ImportError",
     "evalue": "cannot import name 'maketrans' from 'string' (C:\\Users\\yogesh\\AppData\\Local\\Programs\\Python\\Python39\\lib\\string.py)",
     "output_type": "error",
     "traceback": [
      "\u001b[1;31m---------------------------------------------------------------------------\u001b[0m",
      "\u001b[1;31mImportError\u001b[0m                               Traceback (most recent call last)",
      "\u001b[1;32m~\\AppData\\Local\\Temp/ipykernel_10828/2873096585.py\u001b[0m in \u001b[0;36m<module>\u001b[1;34m\u001b[0m\n\u001b[0;32m      1\u001b[0m \u001b[1;31m# Python code to demonstrate working of\u001b[0m\u001b[1;33m\u001b[0m\u001b[1;33m\u001b[0m\u001b[1;33m\u001b[0m\u001b[0m\n\u001b[0;32m      2\u001b[0m \u001b[1;31m# maketrans() and translate()\u001b[0m\u001b[1;33m\u001b[0m\u001b[1;33m\u001b[0m\u001b[1;33m\u001b[0m\u001b[0m\n\u001b[1;32m----> 3\u001b[1;33m \u001b[1;32mfrom\u001b[0m \u001b[0mstring\u001b[0m \u001b[1;32mimport\u001b[0m \u001b[0mmaketrans\u001b[0m \u001b[1;31m# for maketrans()\u001b[0m\u001b[1;33m\u001b[0m\u001b[1;33m\u001b[0m\u001b[0m\n\u001b[0m\u001b[0;32m      4\u001b[0m \u001b[0mstr1\u001b[0m \u001b[1;33m=\u001b[0m \u001b[1;34m\"artificialintelligence\"\u001b[0m\u001b[1;33m\u001b[0m\u001b[1;33m\u001b[0m\u001b[0m\n\u001b[0;32m      5\u001b[0m \u001b[0mstr2\u001b[0m \u001b[1;33m=\u001b[0m \u001b[1;34m\"gfo\"\u001b[0m\u001b[1;33m\u001b[0m\u001b[1;33m\u001b[0m\u001b[0m\n",
      "\u001b[1;31mImportError\u001b[0m: cannot import name 'maketrans' from 'string' (C:\\Users\\yogesh\\AppData\\Local\\Programs\\Python\\Python39\\lib\\string.py)"
     ]
    }
   ],
   "source": [
    "# Python code to demonstrate working of\n",
    "# maketrans() and translate()\n",
    "from string import maketrans # for maketrans()\n",
    "str1 = \"artificialintelligence\"\n",
    "str2 = \"gfo\"\n",
    "str3 = \"abc\"\n",
    "# using maktrans() to map elements of str2 with str1\n",
    "mapped = maketrans( str2, str3 )\n",
    "# using translate() to translate using the mapping\n",
    "print(\"The string after translation using mapped elements is : \")\n",
    "print(str1.translate(mapped))"
   ]
  },
  {
   "cell_type": "code",
   "execution_count": 40,
   "metadata": {},
   "outputs": [
    {
     "name": "stdout",
     "output_type": "stream",
     "text": [
      "The string after replacing strings is : Python is a programming language\n"
     ]
    }
   ],
   "source": [
    "# Python code to demonstrate working of\n",
    "# replace()\n",
    "str = \"C++ is a programming language\"\n",
    "str1 = \"C++\"\n",
    "str2 = \"Python\"\n",
    "# using replace() to replace str2 with str1 in str\n",
    "# only changes 2 occurrences\n",
    "print (\"The string after replacing strings is : \", end=\"\")\n",
    "print (str.replace( str1, str2, 2))"
   ]
  },
  {
   "cell_type": "code",
   "execution_count": 41,
   "metadata": {},
   "outputs": [
    {
     "name": "stdout",
     "output_type": "stream",
     "text": [
      "Python  for     Data Science\n",
      "Python  for Data Science\n",
      "Python    for  Data Science\n"
     ]
    }
   ],
   "source": [
    "# Python code to illustrate expandtabs()\n",
    "string = 'Python\\tfor\\tData Science'\n",
    "# No parameters, by default size is 8\n",
    "print (string.expandtabs())\n",
    "# tab size taken as 2\n",
    "print(string.expandtabs(2))\n",
    "# tab size taken as 5\n",
    "print(string.expandtabs(5))"
   ]
  },
  {
   "cell_type": "code",
   "execution_count": 42,
   "metadata": {},
   "outputs": [
    {
     "name": "stdout",
     "output_type": "stream",
     "text": [
      "['python', 'for', 'artificial', 'intelligence']\n",
      "['python', ' for', ' artificial', 'intelligence']\n",
      "['python', 'for', 'machine', 'learning']\n",
      "['Ca', 'Ba', 'Sa', 'Fa', 'Or']\n"
     ]
    }
   ],
   "source": [
    "text = 'python for artificial intelligence'\n",
    "# Splits at space\n",
    "print(text.split())\n",
    "word = 'python, for, artificial,intelligence'\n",
    "# Splits at ','\n",
    "print(word.split(','))\n",
    "word = 'python:for:machine:learning'\n",
    "# Splitting at ':'\n",
    "print(word.split(':'))\n",
    "word = 'CatBatSatFatOr'\n",
    "# Splitting at t\n",
    "print(word.split('t'))"
   ]
  },
  {
   "cell_type": "code",
   "execution_count": 43,
   "metadata": {},
   "outputs": [
    {
     "name": "stdout",
     "output_type": "stream",
     "text": [
      "('python ', 'is ', 'best')\n",
      "('python is best', '', '')\n",
      "('python ', 'is', \" good, isn't it\")\n"
     ]
    }
   ],
   "source": [
    "string = \"python is best\"\n",
    "# 'is' separator is found\n",
    "print(string.partition('is '))\n",
    "# 'not' separator is not found\n",
    "print(string.partition('bad '))\n",
    "string = \"python is good, isn't it\"\n",
    "# splits at first occurrence of 'is'\n",
    "print(string.partition('is'))"
   ]
  },
  {
   "cell_type": "code",
   "execution_count": null,
   "metadata": {},
   "outputs": [],
   "source": []
  }
 ],
 "metadata": {
  "interpreter": {
   "hash": "73b4fb914614748e1b4d5ae3804a556d6d463f357c4fc043afe155ac08cb1c28"
  },
  "kernelspec": {
   "display_name": "Python 3.9.6 64-bit",
   "language": "python",
   "name": "python3"
  },
  "language_info": {
   "codemirror_mode": {
    "name": "ipython",
    "version": 3
   },
   "file_extension": ".py",
   "mimetype": "text/x-python",
   "name": "python",
   "nbconvert_exporter": "python",
   "pygments_lexer": "ipython3",
   "version": "3.9.6"
  },
  "orig_nbformat": 4
 },
 "nbformat": 4,
 "nbformat_minor": 2
}
