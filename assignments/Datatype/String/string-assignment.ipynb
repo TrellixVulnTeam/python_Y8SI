{
 "cells": [
  {
   "cell_type": "code",
   "execution_count": 14,
   "metadata": {},
   "outputs": [
    {
     "name": "stdout",
     "output_type": "stream",
     "text": [
      "hsegoy\n",
      "hsegoy"
     ]
    }
   ],
   "source": [
    "# reverse the words in given string \n",
    "a = input('Enter a string to reverse: ')\n",
    "# print(a[0::-1])\n",
    "# using string clicing method \n",
    "for i in a[::-1]:\n",
    "    print(i, end='')\n",
    "\n",
    "print()\n",
    "# using looping method \n",
    "for i in reversed(a):\n",
    "    print(i, end='')"
   ]
  },
  {
   "cell_type": "code",
   "execution_count": 32,
   "metadata": {},
   "outputs": [
    {
     "name": "stdout",
     "output_type": "stream",
     "text": [
      "string have  6 lenght\n",
      "0 p 1 y 2 t 3 h 4 o 5 n 6   7 p 8 r 9 o 10 g 11 r 12 a 13 m 14 m 15 e 16 r 17 s 18   \n",
      "string have lenth of 18\n"
     ]
    }
   ],
   "source": [
    "# prython program to find the length if string \n",
    "string_len = input(\"Enter a string to find it's length: \")\n",
    "string_len = len(string_len)\n",
    "print(\"string have \", string_len, 'lenght') \n",
    "\n",
    "\n",
    "# using enumerate() \n",
    "\n",
    "# string_len = 'python programming'\n",
    "string_len = input('Enter a string to count its length: ')\n",
    "for i, v in enumerate(string_len):\n",
    "    print( i, v, end=' ')\n",
    "print()\n",
    "print(f\"string have lenth of {i}\")"
   ]
  },
  {
   "cell_type": "code",
   "execution_count": 52,
   "metadata": {},
   "outputs": [
    {
     "name": "stdout",
     "output_type": "stream",
     "text": [
      "y o g e s h \n",
      "'yogesh' string have 2 vowel alphabates\n"
     ]
    }
   ],
   "source": [
    "# program to count number of vowels in string \n",
    "def vowel():\n",
    "    vow = input('Enter a string: ')\n",
    "    count = 0\n",
    "    for i, v in enumerate(vow):\n",
    "        print(v, end= ' ')\n",
    "        if v == 'a' or v == 'e' or v == 'i' or v == 'o' or v == 'u':\n",
    "            count += 1\n",
    "    print()\n",
    "    print(f'{repr(vow)} string have {count} vowel alphabates') \n",
    "\n",
    "vowel()"
   ]
  },
  {
   "cell_type": "code",
   "execution_count": 5,
   "metadata": {},
   "outputs": [
    {
     "name": "stdout",
     "output_type": "stream",
     "text": [
      "joinging the string by ,: this line,which is,splited in various block,and,is going to join,by,comma using join function,of string\n"
     ]
    }
   ],
   "source": [
    "# not understanding \n",
    "\n",
    "\n",
    "# program to split and join a string \n",
    "line = ('this line  which is  splited in various block  and  is going to join  by  comma using join function  of string')\n",
    "line = line.split('  ')\n",
    "join = input('Enter a special character that i want to join with: ')\n",
    "x = join.join(line)\n",
    "print(f'joinging the string by {join}: {x}')"
   ]
  },
  {
   "cell_type": "code",
   "execution_count": 6,
   "metadata": {},
   "outputs": [
    {
     "name": "stdout",
     "output_type": "stream",
     "text": [
      "yogesh string is not palindrome\n"
     ]
    }
   ],
   "source": [
    "#Program to check whether the string is Symmetrical or Palindrome\n",
    "\n",
    "#A string is said to be a palindrome string if one half of the string is the reverse of the other half or if a string appears same when read forward or backward\n",
    "\n",
    "s = input('Enter a string: ')\n",
    "l = len(s)\n",
    "mid = int(l / 2)\n",
    " \n",
    "if l % 2 == 0:  # even\n",
    "    first_str = s[:mid]\n",
    "    second_str = s[mid:]\n",
    "else:  # odd\n",
    "    first_str = s[:mid]\n",
    "    second_str = s[mid+1:]\n",
    "\n",
    "if first_str == second_str[::-1]:  \n",
    "    print(s, 'string is palindrome')\n",
    "else:\n",
    "    print(s, 'string is not palindrome')\n"
   ]
  },
  {
   "cell_type": "code",
   "execution_count": null,
   "metadata": {},
   "outputs": [],
   "source": []
  }
 ],
 "metadata": {
  "interpreter": {
   "hash": "73b4fb914614748e1b4d5ae3804a556d6d463f357c4fc043afe155ac08cb1c28"
  },
  "kernelspec": {
   "display_name": "Python 3.9.6 64-bit",
   "language": "python",
   "name": "python3"
  },
  "language_info": {
   "codemirror_mode": {
    "name": "ipython",
    "version": 3
   },
   "file_extension": ".py",
   "mimetype": "text/x-python",
   "name": "python",
   "nbconvert_exporter": "python",
   "pygments_lexer": "ipython3",
   "version": "3.9.6"
  },
  "orig_nbformat": 4
 },
 "nbformat": 4,
 "nbformat_minor": 2
}
