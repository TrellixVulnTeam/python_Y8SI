{
 "cells": [
  {
   "cell_type": "code",
   "execution_count": 1,
   "metadata": {},
   "outputs": [
    {
     "name": "stdout",
     "output_type": "stream",
     "text": [
      "Hello\n"
     ]
    }
   ],
   "source": [
    "# userdefine function \n",
    "# simple function \n",
    "def hello():\n",
    "    print('Hello')\n",
    "hello()"
   ]
  },
  {
   "cell_type": "code",
   "execution_count": 3,
   "metadata": {},
   "outputs": [
    {
     "name": "stdout",
     "output_type": "stream",
     "text": [
      "hello yogesh\n"
     ]
    }
   ],
   "source": [
    "# parameter: which holds the value which we pass \n",
    "def display(name): # name parameter / arguments will store the value which we pass from below  where we have call the function \n",
    "    print(f'hello {name}')\n",
    "display('yogesh') # it will pass all the datatypes "
   ]
  },
  {
   "cell_type": "code",
   "execution_count": 4,
   "metadata": {},
   "outputs": [
    {
     "name": "stdout",
     "output_type": "stream",
     "text": [
      "hey yogesh khanal\n"
     ]
    }
   ],
   "source": [
    "def display_name(firstname, lastname):\n",
    "    print(f'hey {firstname} {lastname}')\n",
    "display_name('yogesh', 'khanal') # passing the value to parameters  \n",
    "# we have to pass all the value that we define in parameter and if we dont wanna a pass any value we can pass the empty value here.... as shown below \n",
    "display_name(' ', ' ') # passing an empty value to parameter "
   ]
  },
  {
   "cell_type": "code",
   "execution_count": 5,
   "metadata": {},
   "outputs": [
    {
     "name": "stdout",
     "output_type": "stream",
     "text": [
      "hello  10 20 30\n"
     ]
    }
   ],
   "source": [
    "def re_assign_value(a, b, c):\n",
    "    # re defining the value \n",
    "    a = 10\n",
    "    b = 20\n",
    "    c = 30\n",
    "    print('hello ', a, b, c) # display an re-assigned value \n",
    "re_assign_value(1, 2, 3) # passing the value to parameters "
   ]
  },
  {
   "cell_type": "code",
   "execution_count": 8,
   "metadata": {},
   "outputs": [
    {
     "name": "stdout",
     "output_type": "stream",
     "text": [
      "Even\n"
     ]
    }
   ],
   "source": [
    "# if-else condition \n",
    "def evenodd(x):\n",
    "    if x%2==0:\n",
    "        print('Even')\n",
    "    else:\n",
    "        print('odd')\n",
    "\n",
    "evenodd(2)"
   ]
  },
  {
   "cell_type": "code",
   "execution_count": 15,
   "metadata": {},
   "outputs": [
    {
     "name": "stdout",
     "output_type": "stream",
     "text": [
      "string 20\n"
     ]
    }
   ],
   "source": [
    "# string concadination \n",
    "def fun(x, y, z):\n",
    "    z = x + str(y)\n",
    "    print(z) # although we pass the value of z we again re-assign the value of z\n",
    "fun('string ', 20, 10)"
   ]
  },
  {
   "cell_type": "code",
   "execution_count": 18,
   "metadata": {},
   "outputs": [
    {
     "name": "stdout",
     "output_type": "stream",
     "text": [
      "x:  10\n",
      "y:  20\n",
      "z:  30\n"
     ]
    }
   ],
   "source": [
    "# default arguments \n",
    "def myfun(x=10, y=20, z=30): # if we wont pass the value from below then it will  diaplay an defalu value but if we pass the value on it then it will display tha value which we pass from below.\n",
    "    print('x: ', x)\n",
    "    print('y: ', y)\n",
    "    print('z: ', z)\n",
    "# myfun('string', 1, 5.2)\n",
    "myfun()\n",
    "\n",
    "# Note: if we wont keep the default value and wont pass from below then also it will throw an error "
   ]
  },
  {
   "cell_type": "code",
   "execution_count": 20,
   "metadata": {},
   "outputs": [
    {
     "name": "stdout",
     "output_type": "stream",
     "text": [
      "x:  9\n",
      "y:  4\n"
     ]
    }
   ],
   "source": [
    "# keyword arguments \n",
    "def fun(x, y):\n",
    "    print('x: ', x)\n",
    "    print('y: ',y)\n",
    "fun(y=4, x=9) # order doesnot matter here \n",
    "# Note: according to declaration of parameters the value can pass in any-order "
   ]
  },
  {
   "cell_type": "code",
   "execution_count": 26,
   "metadata": {},
   "outputs": [
    {
     "name": "stdout",
     "output_type": "stream",
     "text": [
      "<class 'tuple'>\n",
      "(1, 2, 'yogesh', 5)\n"
     ]
    }
   ],
   "source": [
    "# single arguments = * ==> convert to tuple\n",
    "def arg(*args):\n",
    "    print(type(args))\n",
    "    print(args) \n",
    "    # for i in arg:\n",
    "        # print(i, end=' ')\n",
    "\n",
    "arg(1, 2, 'yogesh', 5)"
   ]
  },
  {
   "cell_type": "code",
   "execution_count": null,
   "metadata": {},
   "outputs": [],
   "source": [
    "# keyword arguments = ** ==> convert to dictionary \n",
    "def kwargs(**kwargs):\n",
    "    print(type(kwargs))\n",
    "    print(kwargs)\n",
    "\n",
    "kwargs(x = 1, y= 2, z = 'python')"
   ]
  }
 ],
 "metadata": {
  "interpreter": {
   "hash": "73b4fb914614748e1b4d5ae3804a556d6d463f357c4fc043afe155ac08cb1c28"
  },
  "kernelspec": {
   "display_name": "Python 3.9.6 64-bit",
   "language": "python",
   "name": "python3"
  },
  "language_info": {
   "codemirror_mode": {
    "name": "ipython",
    "version": 3
   },
   "file_extension": ".py",
   "mimetype": "text/x-python",
   "name": "python",
   "nbconvert_exporter": "python",
   "pygments_lexer": "ipython3",
   "version": "3.9.6"
  },
  "orig_nbformat": 4
 },
 "nbformat": 4,
 "nbformat_minor": 2
}
