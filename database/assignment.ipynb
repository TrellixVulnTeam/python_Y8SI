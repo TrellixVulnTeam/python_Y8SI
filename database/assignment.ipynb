{
 "cells": [
  {
   "cell_type": "code",
   "execution_count": 14,
   "metadata": {},
   "outputs": [
    {
     "name": "stdout",
     "output_type": "stream",
     "text": [
      "Database Created successfullt to SQLite server\n",
      "\n",
      "Databse table is Created\n",
      "Record Inserted successfully into Database\n",
      "\n",
      "The SQLite connection is closed\n"
     ]
    }
   ],
   "source": [
    "import sqlite3\n",
    "\n",
    "try:\n",
    "    serverConnection = sqlite3.connect('Assignment_Database.db')\n",
    "    crsr = serverConnection.cursor()\n",
    "    print('Database Created successfullt to SQLite server')\n",
    "    print()\n",
    "\n",
    "    # create a table \n",
    "    insert_query = \"\"\"CREATE TABLE welcome (id INTEGER PRIMARY KEY, fname VARCHAR(20), lname VARCHAR(20))\"\"\"\n",
    "    crsr.execute(insert_query)\n",
    "    serverConnection.commit()\n",
    "    print(\"Databse table is Created\")\n",
    "\n",
    "# inserting value into databes \n",
    "    insert_query = \"INSERT INTO assignment_database VALUES (1, 'Ajaya', 'Rai')\"\n",
    "    crsr.execute(insert_query)\n",
    "    serverConnection.commit()\n",
    "\n",
    "# insert data into databse using forloop \n",
    "# primary key \n",
    "    id = [2, 3, 4, 5, 6]\n",
    "\n",
    "# fname \n",
    "    fname = ['Bisal', 'Rawan', 'Bivishan', 'Dasarath']\n",
    "\n",
    "# lname \n",
    "    lname = ['Kunwar', 'King','Maha-mantri', 'RoyalKing']\n",
    "\n",
    "\n",
    "    for i in range(5):\n",
    "        crsr.execute(\n",
    "            f\"INSERT INTO assignment_data ({id[i]}, '{fname[i]}', '{lname[i]}')\")\n",
    "        serverConnection.commit()\n",
    "\n",
    "    # crsr.close() # closing the database \n",
    "    print('Record Inserted successfully into Database')\n",
    "    print()\n",
    "\n",
    "\n",
    "    id = [2, 3, 4, 5, 6]\n",
    "    f_name = ['Name1', 'Name2', 'Name3', 'Name4', 'Name5']\n",
    "    l_name = ['Lastname1', 'Lastname2', 'Lastname3', 'Lastname4', 'Lastname5']\n",
    "    for i in range(5):\n",
    "        crsr.execute(\n",
    "        f'INSERT INTO welcome VALUES ({id[i]}, \"{f_name[i]}\", \"{l_name[i]}\")')\n",
    "        serverConnection.commit()\n",
    "\n",
    "\n",
    "\n",
    "except sqlite3.Error as error:\n",
    "    serverConnection.commit()\n",
    "    print('Failed to insert data into database', error)\n",
    "    print()\n",
    "\n",
    "finally:\n",
    "    if serverConnection:\n",
    "        serverConnection.close()\n",
    "        print('The SQLite connection is closed')\n"
   ]
  },
  {
   "cell_type": "code",
   "execution_count": null,
   "metadata": {},
   "outputs": [],
   "source": []
  }
 ],
 "metadata": {
  "interpreter": {
   "hash": "d228e4a46486f17535ae5053cd36a1c5beabe34bcabcfa546a6958f5c5d52e5f"
  },
  "kernelspec": {
   "display_name": "Python 3.7.8rc1 64-bit",
   "language": "python",
   "name": "python3"
  },
  "language_info": {
   "codemirror_mode": {
    "name": "ipython",
    "version": 3
   },
   "file_extension": ".py",
   "mimetype": "text/x-python",
   "name": "python",
   "nbconvert_exporter": "python",
   "pygments_lexer": "ipython3",
   "version": "3.7.8rc1"
  },
  "orig_nbformat": 4
 },
 "nbformat": 4,
 "nbformat_minor": 2
}
