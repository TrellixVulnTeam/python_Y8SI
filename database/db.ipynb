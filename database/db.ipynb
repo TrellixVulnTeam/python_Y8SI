{
 "cells": [
  {
   "cell_type": "code",
   "execution_count": null,
   "metadata": {},
   "outputs": [],
   "source": [
    "import sqlite3\n",
    "# connecting to database\n",
    "connection = sqlite3.connect('student.db')\n",
    "\n",
    "# cursor\n",
    "crsr = connection.cursor()\n",
    "\n",
    "# sql command \n"
   ]
  }
 ],
 "metadata": {
  "language_info": {
   "name": "python"
  },
  "orig_nbformat": 4
 },
 "nbformat": 4,
 "nbformat_minor": 2
}
