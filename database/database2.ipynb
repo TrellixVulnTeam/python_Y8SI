{
 "cells": [
  {
   "cell_type": "code",
   "execution_count": 1,
   "metadata": {},
   "outputs": [],
   "source": [
    "import sqlite3\n",
    "# connecting to database \n",
    "connection = sqlite3.connect(\"my_database.db\")\n",
    "\n",
    "# cursor \n",
    "crsr = connection.cursor()"
   ]
  },
  {
   "cell_type": "code",
   "execution_count": 4,
   "metadata": {},
   "outputs": [
    {
     "ename": "OperationalError",
     "evalue": "table sample1 already exists",
     "output_type": "error",
     "traceback": [
      "\u001b[1;31m---------------------------------------------------------------------------\u001b[0m",
      "\u001b[1;31mOperationalError\u001b[0m                          Traceback (most recent call last)",
      "\u001b[1;32m~\\AppData\\Local\\Temp/ipykernel_7644/5033657.py\u001b[0m in \u001b[0;36m<module>\u001b[1;34m\u001b[0m\n\u001b[0;32m      9\u001b[0m     );'''\n\u001b[0;32m     10\u001b[0m \u001b[1;33m\u001b[0m\u001b[0m\n\u001b[1;32m---> 11\u001b[1;33m \u001b[0mcrsr\u001b[0m\u001b[1;33m.\u001b[0m\u001b[0mexecute\u001b[0m\u001b[1;33m(\u001b[0m\u001b[0msql_commands\u001b[0m\u001b[1;33m)\u001b[0m\u001b[1;33m\u001b[0m\u001b[1;33m\u001b[0m\u001b[0m\n\u001b[0m\u001b[0;32m     12\u001b[0m \u001b[0mconnection\u001b[0m\u001b[1;33m.\u001b[0m\u001b[0mcommit\u001b[0m\u001b[1;33m(\u001b[0m\u001b[1;33m)\u001b[0m\u001b[1;33m\u001b[0m\u001b[1;33m\u001b[0m\u001b[0m\n\u001b[0;32m     13\u001b[0m \u001b[1;33m\u001b[0m\u001b[0m\n",
      "\u001b[1;31mOperationalError\u001b[0m: table sample1 already exists"
     ]
    }
   ],
   "source": [
    "# SQL commanda to create a table \n",
    "sql_commands = '''CREATE TABLE sample1 (\n",
    "    sid INTEGER PRIMARY KEY, \n",
    "    fname VARCHAR(20), \n",
    "    lname VARCHAR(20), \n",
    "    course_name VARCHAR(20),\n",
    "    gender VARCHAR(1), \n",
    "    join_data DATE\n",
    "    );'''\n",
    "\n",
    "crsr.execute(sql_commands)\n",
    "connection.commit()\n",
    "\n",
    "\n",
    "# fetching daya\n",
    "# primary key \n",
    "\n",
    "pk = [1, 2, 3, 4, 5]\n",
    "\n",
    "# f_name of students \n",
    "f_name = ['Ajaya', 'Bisal', 'Bikash', 'Dinesh', 'Laxman']\n",
    "\n",
    "# l_name of students \n",
    "l_name = ['Rai', 'Basent', 'Tamang', 'Phadara', 'Sapkota']\n",
    "\n",
    "# gender of students \n",
    "gender = ['M', 'M', 'M', 'M', 'M']\n",
    "\n",
    "# course name \n",
    "course_name = ['Python', 'Django', 'JS', 'React', 'SQL']\n",
    "\n",
    "# data of join\n",
    "date = ['01-01-2022', '01-01-2022', '01-01-2022', '01-01-2022', '01-01-2022']\n",
    "\n",
    "for i in range(5):\n",
    "    # this is a q-mark style \n",
    "    crsr.execute(\n",
    "        f'''UPDATE sample1 SET (\"{f_name[i]}\", \"{l_name[i]}\", \"{course_name[i]}\", \"{gender[i]}\", {date[i]}) WHERE '''\n",
    "    )\n",
    "    connection.commit() \n",
    "\n",
    "# execute the statements  \n",
    "# crsr.execute(sql_commands)\n",
    "\n",
    "# To save the changes in the files. Never skip this.\n",
    "# If we skip this, nothing will be saved in the database.\n",
    "\n",
    "# connection.commit()"
   ]
  },
  {
   "cell_type": "code",
   "execution_count": null,
   "metadata": {},
   "outputs": [],
   "source": []
  }
 ],
 "metadata": {
  "interpreter": {
   "hash": "d228e4a46486f17535ae5053cd36a1c5beabe34bcabcfa546a6958f5c5d52e5f"
  },
  "kernelspec": {
   "display_name": "Python 3.7.8rc1 64-bit",
   "language": "python",
   "name": "python3"
  },
  "language_info": {
   "codemirror_mode": {
    "name": "ipython",
    "version": 3
   },
   "file_extension": ".py",
   "mimetype": "text/x-python",
   "name": "python",
   "nbconvert_exporter": "python",
   "pygments_lexer": "ipython3",
   "version": "3.7.8rc1"
  },
  "orig_nbformat": 4
 },
 "nbformat": 4,
 "nbformat_minor": 2
}
