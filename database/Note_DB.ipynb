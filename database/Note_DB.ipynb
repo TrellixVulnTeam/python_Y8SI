{
 "cells": [
  {
   "cell_type": "code",
   "execution_count": 1,
   "metadata": {},
   "outputs": [
    {
     "name": "stdout",
     "output_type": "stream",
     "text": [
      "Connected to the database\n"
     ]
    }
   ],
   "source": [
    "# the folowing data are for information about SQL_database \n",
    "\n",
    "import sqlite3\n",
    "# connecting to the database\n",
    "connection = sqlite3.connect(\"database_name.db\")\n",
    "# cursor\n",
    "crsr = connection.cursor()\n",
    "# print statement will execute if there\n",
    "# are no errors\n",
    "print(\"Connected to the database\")\n",
    "# close the connection\n",
    "# connection.close()\n"
   ]
  },
  {
   "cell_type": "code",
   "execution_count": 2,
   "metadata": {},
   "outputs": [
    {
     "data": {
      "text/plain": [
       "<sqlite3.Cursor at 0x1d06e02c110>"
      ]
     },
     "execution_count": 2,
     "metadata": {},
     "output_type": "execute_result"
    }
   ],
   "source": [
    "# inserting data into table \n",
    "import sqlite3\n",
    "# connecting to the database\n",
    "connection = sqlite3.connect(\"database_name.db\")\n",
    "# cursor\n",
    "crsr = connection.cursor()\n",
    "# SQL command to create a table in the database\n",
    "sql_command = \"\"\"CREATE TABLE student_details (\n",
    "sid INTEGER PRIMARY KEY,\n",
    "fname VARCHAR(20),\n",
    "lname VARCHAR(30),\n",
    "gender CHAR(1),\n",
    "dob DATE);\"\"\"\n",
    "# execute the statement\n",
    "crsr.execute(sql_command)\n",
    "# close the connection\n",
    "# connection.close()\n"
   ]
  },
  {
   "cell_type": "code",
   "execution_count": 1,
   "metadata": {},
   "outputs": [
    {
     "ename": "OperationalError",
     "evalue": "no such table: student_details",
     "output_type": "error",
     "traceback": [
      "\u001b[1;31m---------------------------------------------------------------------------\u001b[0m",
      "\u001b[1;31mOperationalError\u001b[0m                          Traceback (most recent call last)",
      "\u001b[1;32m~\\AppData\\Local\\Temp/ipykernel_3344/2746664615.py\u001b[0m in \u001b[0;36m<module>\u001b[1;34m\u001b[0m\n\u001b[0;32m     11\u001b[0m sql_command = \"\"\"INSERT INTO student_details VALUES (2301, \"firstName1\",\n\u001b[0;32m     12\u001b[0m \"Lastname1\", \"M\", \"1997-03-28\");\"\"\"\n\u001b[1;32m---> 13\u001b[1;33m \u001b[0mcrsr\u001b[0m\u001b[1;33m.\u001b[0m\u001b[0mexecute\u001b[0m\u001b[1;33m(\u001b[0m\u001b[0msql_command\u001b[0m\u001b[1;33m)\u001b[0m\u001b[1;33m\u001b[0m\u001b[1;33m\u001b[0m\u001b[0m\n\u001b[0m\u001b[0;32m     14\u001b[0m \u001b[1;31m# Python code to demonstrate table creation and\u001b[0m\u001b[1;33m\u001b[0m\u001b[1;33m\u001b[0m\u001b[1;33m\u001b[0m\u001b[0m\n\u001b[0;32m     15\u001b[0m \u001b[1;31m# insertions with SQL\u001b[0m\u001b[1;33m\u001b[0m\u001b[1;33m\u001b[0m\u001b[1;33m\u001b[0m\u001b[0m\n",
      "\u001b[1;31mOperationalError\u001b[0m: no such table: student_details"
     ]
    }
   ],
   "source": [
    "#inserting data \n",
    "#  Python code to demonstrate table creation and\n",
    "# insertions with SQL\n",
    "# importing module\n",
    "import sqlite3\n",
    "# connecting to the database\n",
    "connection = sqlite3.connect(\"database_name.db\")\n",
    "# cursor\n",
    "crsr = connection.cursor()\n",
    "# SQL command to insert the data in the table\n",
    "sql_command = \"\"\"INSERT INTO student_details VALUES (2301, \"firstName1\",\n",
    "\"Lastname1\", \"M\", \"1997-03-28\");\"\"\"\n",
    "crsr.execute(sql_command)\n",
    "# Python code to demonstrate table creation and\n",
    "# insertions with SQL\n",
    "# importing module\n",
    "# connecting to the database\n",
    "connection = sqlite3.connect(\"database_name.db\")\n",
    "# cursor\n",
    "crsr = connection.cursor()\n",
    "# SQL command to insert the data in the table\n",
    "sql_command = \"\"\"INSERT INTO student_details VALUES (2301, \"firstName1\",\n",
    "\"Lastname1\", \"M\", \"1997-03-28\");\"\"\"\n",
    "crsr.execute(sql_command)\n"
   ]
  },
  {
   "cell_type": "code",
   "execution_count": 9,
   "metadata": {},
   "outputs": [
    {
     "ename": "OperationalError",
     "evalue": "database is locked",
     "output_type": "error",
     "traceback": [
      "\u001b[1;31m---------------------------------------------------------------------------\u001b[0m",
      "\u001b[1;31mOperationalError\u001b[0m                          Traceback (most recent call last)",
      "\u001b[1;32m~\\AppData\\Local\\Temp/ipykernel_13096/765607772.py\u001b[0m in \u001b[0;36m<module>\u001b[1;34m\u001b[0m\n\u001b[0;32m     19\u001b[0m     \u001b[1;31m# This is the q-mark style:\u001b[0m\u001b[1;33m\u001b[0m\u001b[1;33m\u001b[0m\u001b[1;33m\u001b[0m\u001b[0m\n\u001b[0;32m     20\u001b[0m     crsr.execute(\n\u001b[1;32m---> 21\u001b[1;33m     f'INSERT INTO student_details VALUES ({pk[i]}, \"{f_name[i]}\", \"{l_name[i]}\", \"{gender[i]}\", \"{date[i]}\")')\n\u001b[0m\u001b[0;32m     22\u001b[0m \u001b[1;31m# To save the changes in the files. Never skip this.\u001b[0m\u001b[1;33m\u001b[0m\u001b[1;33m\u001b[0m\u001b[1;33m\u001b[0m\u001b[0m\n\u001b[0;32m     23\u001b[0m \u001b[1;31m# If we skip this, nothing will be saved in the database.\u001b[0m\u001b[1;33m\u001b[0m\u001b[1;33m\u001b[0m\u001b[1;33m\u001b[0m\u001b[0m\n",
      "\u001b[1;31mOperationalError\u001b[0m: database is locked"
     ]
    }
   ],
   "source": [
    "# fetching data \n",
    "# importing module\n",
    "import sqlite3\n",
    "# connecting to the database\n",
    "connection = sqlite3.connect(\"database_name.db\")\n",
    "# cursor\n",
    "crsr = connection.cursor()\n",
    "# primary key\n",
    "pk = [3, 4, 5, 6, 7]\n",
    "# Enter 5 students first names\n",
    "f_name = ['Name1', 'Name2', 'Name3', 'Name4', 'Name5']\n",
    "# Enter 5 students last names\n",
    "l_name = ['Lastname1', 'Lastname2', 'Lastname3', 'Lastname4', 'Lastname5']\n",
    "# Enter their gender respectively\n",
    "gender = ['M', 'F', 'M', 'M', 'F']\n",
    "# Enter their jpining data respectively\n",
    "date = ['2019-08-24', '2020-01-01', '2018-05-14', '2015-02-02', '2018-05-14']\n",
    "for i in range(5):\n",
    "    # This is the q-mark style:\n",
    "    crsr.execute(\n",
    "    f'INSERT INTO student_details VALUES ({pk[i]}, \"{f_name[i]}\", \"{l_name[i]}\", \"{gender[i]}\", \"{date[i]}\")')\n",
    "# To save the changes in the files. Never skip this.\n",
    "# If we skip this, nothing will be saved in the database.\n",
    "connection.commit()\n",
    "# close the connection\n",
    "# connection.close()\n"
   ]
  },
  {
   "cell_type": "code",
   "execution_count": 8,
   "metadata": {},
   "outputs": [],
   "source": [
    "# importing the module\n",
    "import sqlite3\n",
    "# connect withe the myTable database\n",
    "connection = sqlite3.connect(\"database_name.db\")\n",
    "# cursor object\n",
    "crsr = connection.cursor()\n",
    "# execute the command to fetch all the data from the table emp\n",
    "crsr.execute(\"SELECT * FROM student_details\")\n",
    "# store all the fetched data in the ans variable\n",
    "ans = crsr.fetchall()\n",
    "# Since we have already selected all the data entries\n",
    "# using the \"SELECT *\" SQL command and stored them in\n",
    "# the ans variable, all we need to do now is to print\n",
    "# out the ans variable\n",
    "for i in ans:\n",
    "    print(i)\n"
   ]
  },
  {
   "cell_type": "code",
   "execution_count": 7,
   "metadata": {},
   "outputs": [
    {
     "ename": "OperationalError",
     "evalue": "database is locked",
     "output_type": "error",
     "traceback": [
      "\u001b[1;31m---------------------------------------------------------------------------\u001b[0m",
      "\u001b[1;31mOperationalError\u001b[0m                          Traceback (most recent call last)",
      "\u001b[1;32m~\\AppData\\Local\\Temp/ipykernel_13096/4062162747.py\u001b[0m in \u001b[0;36m<module>\u001b[1;34m\u001b[0m\n\u001b[0;32m      8\u001b[0m \u001b[0mcursor\u001b[0m \u001b[1;33m=\u001b[0m \u001b[0mconn\u001b[0m\u001b[1;33m.\u001b[0m\u001b[0mcursor\u001b[0m\u001b[1;33m(\u001b[0m\u001b[1;33m)\u001b[0m\u001b[1;33m\u001b[0m\u001b[1;33m\u001b[0m\u001b[0m\n\u001b[0;32m      9\u001b[0m \u001b[1;31m# Updating\u001b[0m\u001b[1;33m\u001b[0m\u001b[1;33m\u001b[0m\u001b[1;33m\u001b[0m\u001b[0m\n\u001b[1;32m---> 10\u001b[1;33m \u001b[0mcursor\u001b[0m\u001b[1;33m.\u001b[0m\u001b[0mexecute\u001b[0m\u001b[1;33m(\u001b[0m\u001b[1;34m'''UPDATE student_details SET lname = \"lastname7\" WHERE fname=\"Name4\";'''\u001b[0m\u001b[1;33m)\u001b[0m\u001b[1;33m\u001b[0m\u001b[1;33m\u001b[0m\u001b[0m\n\u001b[0m\u001b[0;32m     11\u001b[0m \u001b[1;31m# Commit your changes in the database\u001b[0m\u001b[1;33m\u001b[0m\u001b[1;33m\u001b[0m\u001b[1;33m\u001b[0m\u001b[0m\n\u001b[0;32m     12\u001b[0m \u001b[0mconn\u001b[0m\u001b[1;33m.\u001b[0m\u001b[0mcommit\u001b[0m\u001b[1;33m(\u001b[0m\u001b[1;33m)\u001b[0m\u001b[1;33m\u001b[0m\u001b[1;33m\u001b[0m\u001b[0m\n",
      "\u001b[1;31mOperationalError\u001b[0m: database is locked"
     ]
    }
   ],
   "source": [
    "# updating data \n",
    "# Import module\n",
    "import sqlite3\n",
    "# Connecting to sqlite\n",
    "conn = sqlite3.connect('database_name.db')\n",
    "# Creating a cursor object using\n",
    "# the cursor() method\n",
    "cursor = conn.cursor()\n",
    "# Updating\n",
    "cursor.execute('''UPDATE student_details SET lname = \"lastname7\" WHERE fname=\"Name4\";''')\n",
    "# Commit your changes in the database\n",
    "conn.commit()\n",
    "# Closing the connection\n",
    "# conn.close()"
   ]
  },
  {
   "cell_type": "code",
   "execution_count": null,
   "metadata": {},
   "outputs": [],
   "source": [
    "# Deleting Data\n",
    "# Import module\n",
    "import sqlite3\n",
    "# Connecting to sqlite\n",
    "conn = sqlite3.connect('database_name.db')\n",
    "# Creating a cursor object using\n",
    "# the cursor() method\n",
    "cursor = conn.cursor()\n",
    "# Updating\n",
    "cursor.execute('''DELETE FROM student_details WHERE fname=\"Name1\";''')\n",
    "# Commit your changes in the database\n",
    "conn.commit()\n",
    "# Closing the connection\n",
    "# conn.close()"
   ]
  },
  {
   "cell_type": "code",
   "execution_count": 10,
   "metadata": {},
   "outputs": [
    {
     "ename": "OperationalError",
     "evalue": "database is locked",
     "output_type": "error",
     "traceback": [
      "\u001b[1;31m---------------------------------------------------------------------------\u001b[0m",
      "\u001b[1;31mOperationalError\u001b[0m                          Traceback (most recent call last)",
      "\u001b[1;32m~\\AppData\\Local\\Temp/ipykernel_13096/2425730693.py\u001b[0m in \u001b[0;36m<module>\u001b[1;34m\u001b[0m\n\u001b[0;32m      8\u001b[0m \u001b[0mcursor\u001b[0m \u001b[1;33m=\u001b[0m \u001b[0mconn\u001b[0m\u001b[1;33m.\u001b[0m\u001b[0mcursor\u001b[0m\u001b[1;33m(\u001b[0m\u001b[1;33m)\u001b[0m\u001b[1;33m\u001b[0m\u001b[1;33m\u001b[0m\u001b[0m\n\u001b[0;32m      9\u001b[0m \u001b[1;31m# Updating\u001b[0m\u001b[1;33m\u001b[0m\u001b[1;33m\u001b[0m\u001b[1;33m\u001b[0m\u001b[0m\n\u001b[1;32m---> 10\u001b[1;33m \u001b[0mcursor\u001b[0m\u001b[1;33m.\u001b[0m\u001b[0mexecute\u001b[0m\u001b[1;33m(\u001b[0m\u001b[1;34m'''DROP TABLE student_details;'''\u001b[0m\u001b[1;33m)\u001b[0m\u001b[1;33m\u001b[0m\u001b[1;33m\u001b[0m\u001b[0m\n\u001b[0m\u001b[0;32m     11\u001b[0m \u001b[1;31m# Commit your changes in the database\u001b[0m\u001b[1;33m\u001b[0m\u001b[1;33m\u001b[0m\u001b[1;33m\u001b[0m\u001b[0m\n\u001b[0;32m     12\u001b[0m \u001b[0mconn\u001b[0m\u001b[1;33m.\u001b[0m\u001b[0mcommit\u001b[0m\u001b[1;33m(\u001b[0m\u001b[1;33m)\u001b[0m\u001b[1;33m\u001b[0m\u001b[1;33m\u001b[0m\u001b[0m\n",
      "\u001b[1;31mOperationalError\u001b[0m: database is locked"
     ]
    }
   ],
   "source": [
    "# deleting table \n",
    "# Import module\n",
    "import sqlite3\n",
    "# Connecting to sqlite\n",
    "conn = sqlite3.connect('database_name.db')\n",
    "# Creating a cursor object using\n",
    "# the cursor() method\n",
    "cursor = conn.cursor()\n",
    "# Updating\n",
    "cursor.execute('''DROP TABLE student_details;''')\n",
    "# Commit your changes in the database\n",
    "conn.commit()\n",
    "# Closing the connection\n",
    "conn.close()"
   ]
  }
 ],
 "metadata": {
  "interpreter": {
   "hash": "d228e4a46486f17535ae5053cd36a1c5beabe34bcabcfa546a6958f5c5d52e5f"
  },
  "kernelspec": {
   "display_name": "Python 3.7.8rc1 64-bit",
   "language": "python",
   "name": "python3"
  },
  "language_info": {
   "codemirror_mode": {
    "name": "ipython",
    "version": 3
   },
   "file_extension": ".py",
   "mimetype": "text/x-python",
   "name": "python",
   "nbconvert_exporter": "python",
   "pygments_lexer": "ipython3",
   "version": "3.7.8"
  },
  "orig_nbformat": 4
 },
 "nbformat": 4,
 "nbformat_minor": 2
}
