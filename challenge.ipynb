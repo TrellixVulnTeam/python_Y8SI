{
 "cells": [
  {
   "cell_type": "code",
   "execution_count": 1,
   "metadata": {},
   "outputs": [
    {
     "name": "stdout",
     "output_type": "stream",
     "text": [
      "(1, 2, 3, 4)\n"
     ]
    }
   ],
   "source": [
    "# tuple \n",
    "list1 = [1, 2, 3, 4]\n",
    "print(tuple(list1))"
   ]
  },
  {
   "cell_type": "code",
   "execution_count": 6,
   "metadata": {},
   "outputs": [
    {
     "name": "stdout",
     "output_type": "stream",
     "text": [
      "('python', 'learning')\n"
     ]
    }
   ],
   "source": [
    "list1 = ('python', 'learning')\n",
    "print(tuple(list1))\n"
   ]
  },
  {
   "cell_type": "code",
   "execution_count": 4,
   "metadata": {},
   "outputs": [
    {
     "name": "stdout",
     "output_type": "stream",
     "text": [
      "('p', 'y', 't', 'h', 'o', 'n')\n"
     ]
    }
   ],
   "source": [
    "# creacting tuple with builtin function \n",
    "tuple1 = tuple('python')\n",
    "print(tuple1)"
   ]
  },
  {
   "cell_type": "code",
   "execution_count": 8,
   "metadata": {},
   "outputs": [
    {
     "name": "stdout",
     "output_type": "stream",
     "text": [
      "(1, 2, 3, 'python', 'programming')\n"
     ]
    }
   ],
   "source": [
    "tuple1 = (1, 2, 3)\n",
    "tuple2 = ('python', 'programming')\n",
    "tuple3 = tuple1 + tuple2\n",
    "print(tuple3) # print all the statements of tuple 1 and 2"
   ]
  },
  {
   "cell_type": "code",
   "execution_count": 15,
   "metadata": {},
   "outputs": [
    {
     "name": "stdout",
     "output_type": "stream",
     "text": [
      "1 2 3 5 4 3 "
     ]
    }
   ],
   "source": [
    "# accessing tuple \n",
    "tuple1 = tuple([1, 2, 3, 4, 5])\n",
    "print(tuple1[0], end=' ')\n",
    "print(tuple1[1], end=' ')\n",
    "print(tuple1[2], end=' ')\n",
    "print(tuple1[-1], end=' ')\n",
    "print(tuple1[-2], end=' ')\n",
    "print(tuple1[-3], end=' ')"
   ]
  },
  {
   "cell_type": "code",
   "execution_count": 16,
   "metadata": {},
   "outputs": [],
   "source": [
    "# boolean \n",
    "# true or false"
   ]
  },
  {
   "cell_type": "code",
   "execution_count": 22,
   "metadata": {},
   "outputs": [
    {
     "name": "stdout",
     "output_type": "stream",
     "text": [
      "{'r', 'd', 'h', 'l', 'p', 'y', 'o', 't', ' ', 'e', 'i', 'g', 's', 'a', 'n'}\n",
      "{1, 2, 3, 'how are you doing?', 'hello'}\n"
     ]
    }
   ],
   "source": [
    "# set with use of string\n",
    "set1 = set('python learning is good')\n",
    "print(set1)\n",
    "\n",
    "# set with list \n",
    "set1 = set(['hello', 1, 2, 3, 'how are you doing?'])\n",
    "print(set1)"
   ]
  },
  {
   "cell_type": "code",
   "execution_count": 34,
   "metadata": {},
   "outputs": [
    {
     "name": "stdout",
     "output_type": "stream",
     "text": [
      "1\n",
      "1\n",
      "1\n",
      "1\n",
      "1\n",
      "1\n",
      "program terminated\n",
      "True\n",
      "hello bro how are u?\n",
      "where u came from?\n",
      "program terminated with: {'hello bro how are u?', 'where u came from?'}\n"
     ]
    }
   ],
   "source": [
    "# accessing the elsemts of set \n",
    "# it cant be accessed by refreing to an index\n",
    "set1 = set(['hello', 'sabina', 1, 2,3, 'how are u ?'])\n",
    "for i in set1:\n",
    "    print(1)\n",
    "print('program terminated')\n",
    "\n",
    "# check either the given word is in set1 or not?\n",
    "print('hello' in set1) # returns true or false \n",
    "\n",
    "set2 = {'hello bro how are u?', 'where u came from?'}\n",
    "for i in set2:\n",
    "    print(i)\n",
    "print(f'program terminated with: {set2}')"
   ]
  },
  {
   "cell_type": "code",
   "execution_count": 41,
   "metadata": {},
   "outputs": [
    {
     "name": "stdout",
     "output_type": "stream",
     "text": [
      "1\n",
      "a\n",
      "2\n",
      "program terminarted\n"
     ]
    }
   ],
   "source": [
    "# dictionary \n",
    "dict1 = {1: 'python', 'a': 'learning is always a best idea', 2: 15}\n",
    "for i in dict1:\n",
    "    print(i)\n",
    "print('program terminarted')"
   ]
  },
  {
   "cell_type": "code",
   "execution_count": 45,
   "metadata": {},
   "outputs": [
    {
     "name": "stdout",
     "output_type": "stream",
     "text": [
      "{1: 'python', 2: 'is always best', 'a': 'doest this program works ?'}\n"
     ]
    }
   ],
   "source": [
    "Dict = dict([(1, 'python'), (2, 'is always best'), ('a', 'doest this program works ?')]) # inside dictionary built-in-function list is created and inside ir tuple is created \n",
    "print(Dict)"
   ]
  },
  {
   "cell_type": "code",
   "execution_count": 65,
   "metadata": {},
   "outputs": [
    {
     "name": "stdout",
     "output_type": "stream",
     "text": [
      "the quotent and remainder is : (2, 2)\n"
     ]
    }
   ],
   "source": [
    "# operator\n",
    "# modulo  \n",
    "a = 10\n",
    "b = 4\n",
    "print(f'the quotent and remainder is : {divmod(a, b)}')"
   ]
  },
  {
   "cell_type": "code",
   "execution_count": 73,
   "metadata": {},
   "outputs": [
    {
     "name": "stdout",
     "output_type": "stream",
     "text": [
      "8.0\n",
      "64.0\n"
     ]
    }
   ],
   "source": [
    "import math\n",
    "a = math.pow(4, 3)\n",
    "print(math.pow(2, 3))\n",
    "print(a)"
   ]
  },
  {
   "cell_type": "code",
   "execution_count": 75,
   "metadata": {},
   "outputs": [
    {
     "name": "stdout",
     "output_type": "stream",
     "text": [
      "3\n",
      "2\n"
     ]
    }
   ],
   "source": [
    "# floor and ceil\n",
    "a = 2.3\n",
    "print(math.ceil(a))\n",
    "print(math.floor(a))"
   ]
  },
  {
   "cell_type": "code",
   "execution_count": 79,
   "metadata": {},
   "outputs": [
    {
     "name": "stdout",
     "output_type": "stream",
     "text": [
      "ececuted\n"
     ]
    }
   ],
   "source": [
    "a = 10\n",
    "if a == 0 or 'hello':\n",
    "    print('ececuted')\n",
    "else:\n",
    "    print('terminated')"
   ]
  },
  {
   "cell_type": "code",
   "execution_count": 81,
   "metadata": {},
   "outputs": [
    {
     "name": "stdout",
     "output_type": "stream",
     "text": [
      "executed\n"
     ]
    }
   ],
   "source": [
    "a = 10\n",
    "if not a == 0:\n",
    "    print('executed')\n",
    "else:\n",
    "    print('terminated')"
   ]
  },
  {
   "cell_type": "code",
   "execution_count": 84,
   "metadata": {},
   "outputs": [
    {
     "name": "stdout",
     "output_type": "stream",
     "text": [
      "10\n",
      "20\n",
      "10\n",
      "100\n"
     ]
    }
   ],
   "source": [
    "a = 10\n",
    "# Assign value\n",
    "b = a\n",
    "print(b)\n",
    "# Add and assign value\n",
    "b += a\n",
    "print(b)\n",
    "# Subtract and assign value\n",
    "b -= a\n",
    "print(b)\n",
    "# multiply and assign\n",
    "b *= a\n",
    "print(b)"
   ]
  },
  {
   "cell_type": "code",
   "execution_count": 89,
   "metadata": {},
   "outputs": [
    {
     "name": "stdout",
     "output_type": "stream",
     "text": [
      "1791479367344\n",
      "1791479367344\n",
      "True\n"
     ]
    }
   ],
   "source": [
    "a = 'yogesh'\n",
    "b = 'yogesh'\n",
    "print(id(a))\n",
    "print(id(b))\n",
    "print(a is b)"
   ]
  },
  {
   "cell_type": "code",
   "execution_count": 92,
   "metadata": {},
   "outputs": [
    {
     "name": "stdout",
     "output_type": "stream",
     "text": [
      "Executed\n"
     ]
    }
   ],
   "source": [
    "a = 5.2\n",
    "if type(a) is not int:\n",
    "    print('Executed')\n",
    "else:\n",
    "    print('terminated')"
   ]
  },
  {
   "cell_type": "code",
   "execution_count": 93,
   "metadata": {},
   "outputs": [
    {
     "name": "stdout",
     "output_type": "stream",
     "text": [
      "x is NOT present in given list\n"
     ]
    }
   ],
   "source": [
    "x = 24\n",
    "y = 20\n",
    "list = [10, 20, 30, 40, 50 ]\n",
    "if ( x not in list ):\n",
    "    print(\"x is NOT present in given list\")\n",
    "else:\n",
    "    print(\"x is present in given list\")"
   ]
  },
  {
   "cell_type": "code",
   "execution_count": 94,
   "metadata": {},
   "outputs": [
    {
     "name": "stdout",
     "output_type": "stream",
     "text": [
      "610\n"
     ]
    }
   ],
   "source": [
    "a = 10 + 20 * 30\n",
    "print(a)"
   ]
  },
  {
   "cell_type": "code",
   "execution_count": 101,
   "metadata": {},
   "outputs": [
    {
     "name": "stdout",
     "output_type": "stream",
     "text": [
      "64\n"
     ]
    }
   ],
   "source": [
    "a = (2**3)**2\n",
    "print(a)"
   ]
  },
  {
   "cell_type": "code",
   "execution_count": 102,
   "metadata": {},
   "outputs": [
    {
     "name": "stdout",
     "output_type": "stream",
     "text": [
      "terminated\n"
     ]
    }
   ],
   "source": [
    "y = 0\n",
    "if y != 0:\n",
    "    print(\"Executed\")\n",
    "else:\n",
    "    print('terminated')"
   ]
  },
  {
   "cell_type": "code",
   "execution_count": 106,
   "metadata": {},
   "outputs": [
    {
     "name": "stdout",
     "output_type": "stream",
     "text": [
      "1 : hello\n",
      "2 : this is python learning\n",
      "\n"
     ]
    }
   ],
   "source": [
    "d = {1: 'hello', 2 : 'this is python learning'}\n",
    "for i in d:\n",
    "    print(f'{i} : {d[i]}')\n",
    "print()"
   ]
  },
  {
   "cell_type": "markdown",
   "metadata": {},
   "source": []
  },
  {
   "cell_type": "code",
   "execution_count": 4,
   "metadata": {},
   "outputs": [
    {
     "ename": "ValueError",
     "evalue": "invalid literal for int() with base 10: ''",
     "output_type": "error",
     "traceback": [
      "\u001b[1;31m---------------------------------------------------------------------------\u001b[0m",
      "\u001b[1;31mValueError\u001b[0m                                Traceback (most recent call last)",
      "\u001b[1;32m~\\AppData\\Local\\Temp/ipykernel_13076/147533855.py\u001b[0m in \u001b[0;36m<module>\u001b[1;34m\u001b[0m\n\u001b[0;32m      1\u001b[0m \u001b[1;31m# first challange : 2.14 sec\u001b[0m\u001b[1;33m\u001b[0m\u001b[1;33m\u001b[0m\u001b[1;33m\u001b[0m\u001b[0m\n\u001b[1;32m----> 2\u001b[1;33m \u001b[0ma\u001b[0m \u001b[1;33m=\u001b[0m \u001b[0mint\u001b[0m\u001b[1;33m(\u001b[0m\u001b[0minput\u001b[0m\u001b[1;33m(\u001b[0m\u001b[1;34m'Enter a number: '\u001b[0m\u001b[1;33m)\u001b[0m\u001b[1;33m)\u001b[0m\u001b[1;33m\u001b[0m\u001b[1;33m\u001b[0m\u001b[0m\n\u001b[0m\u001b[0;32m      3\u001b[0m \u001b[0mb\u001b[0m \u001b[1;33m=\u001b[0m \u001b[0mint\u001b[0m\u001b[1;33m(\u001b[0m\u001b[0minput\u001b[0m\u001b[1;33m(\u001b[0m\u001b[1;34m'Enter a number: '\u001b[0m\u001b[1;33m)\u001b[0m\u001b[1;33m)\u001b[0m\u001b[1;33m\u001b[0m\u001b[1;33m\u001b[0m\u001b[0m\n\u001b[0;32m      4\u001b[0m \u001b[0mc\u001b[0m \u001b[1;33m=\u001b[0m \u001b[0ma\u001b[0m \u001b[1;33m+\u001b[0m \u001b[0mb\u001b[0m\u001b[1;33m\u001b[0m\u001b[1;33m\u001b[0m\u001b[0m\n\u001b[0;32m      5\u001b[0m \u001b[0md\u001b[0m \u001b[1;33m=\u001b[0m \u001b[0mstr\u001b[0m\u001b[1;33m(\u001b[0m\u001b[0ma\u001b[0m\u001b[1;33m)\u001b[0m \u001b[1;33m+\u001b[0m \u001b[0mstr\u001b[0m\u001b[1;33m(\u001b[0m\u001b[0mb\u001b[0m\u001b[1;33m)\u001b[0m\u001b[1;33m\u001b[0m\u001b[1;33m\u001b[0m\u001b[0m\n",
      "\u001b[1;31mValueError\u001b[0m: invalid literal for int() with base 10: ''"
     ]
    }
   ],
   "source": [
    "# first round 1: 2.14 sec\n",
    "a = int(input('Enter a number: '))\n",
    "b = int(input('Enter a number: '))\n",
    "c = a + b\n",
    "d = str(a) + str(b) \n",
    "print(c)\n",
    "print(d)\n",
    "\n",
    "\n",
    "# opponet challenge\n",
    "a = input(\"Enter a string: \")\n",
    "b = input('Enter a string: ')\n",
    "c = a + ' ' + b \n",
    "print(c)"
   ]
  },
  {
   "cell_type": "code",
   "execution_count": 2,
   "metadata": {},
   "outputs": [
    {
     "name": "stdout",
     "output_type": "stream",
     "text": [
      "a:  yogesh\n",
      "b:  5\n"
     ]
    }
   ],
   "source": [
    "# second round 2 \n",
    "# round 2\n",
    "a = input('Enter a number: ')\n",
    "b = input('Enter a number: ')\n",
    "(a, b) = (b, a)\n",
    "print('a: ', a)\n",
    "print('b: ', b)"
   ]
  },
  {
   "cell_type": "code",
   "execution_count": 1,
   "metadata": {},
   "outputs": [
    {
     "name": "stdout",
     "output_type": "stream",
     "text": [
      "1 5 6 7 8 9 10 pytho"
     ]
    }
   ],
   "source": [
    "# round 3\n",
    "a = [1, 2, 3, 4, 5, 6, 7, 8, 9, 10]\n",
    "for i in a:\n",
    "    if i == 2 or i == 3 or i == 4:\n",
    "        continue\n",
    "    else:\n",
    "        print(i, end=' ')\n",
    "\n",
    "\n",
    "# opponent question \n",
    "a = 'python programming'\n",
    "for i in a:\n",
    "    if i == 'n':\n",
    "        break\n",
    "    print(i, end='')"
   ]
  },
  {
   "cell_type": "code",
   "execution_count": 3,
   "metadata": {},
   "outputs": [
    {
     "name": "stdout",
     "output_type": "stream",
     "text": [
      "verified\n"
     ]
    }
   ],
   "source": [
    "# importing the model\n",
    "import getpass\n",
    "# defining the dictionary to store the value of user name and password \n",
    "database = {'username': 'yogesh', 'password':'123456'}\n",
    "username = input('Enter your name: ')\n",
    "password = getpass.getpass('Enter your password: ')\n",
    "for i in database.keys():\n",
    "    if username == i:\n",
    "        while password != database.get(i):\n",
    "            password = getpass.getpass('Enter your Password Again: ')\n",
    "            break\n",
    "print('verified')"
   ]
  },
  {
   "cell_type": "code",
   "execution_count": null,
   "metadata": {},
   "outputs": [],
   "source": []
  }
 ],
 "metadata": {
  "interpreter": {
   "hash": "73b4fb914614748e1b4d5ae3804a556d6d463f357c4fc043afe155ac08cb1c28"
  },
  "kernelspec": {
   "display_name": "Python 3.9.6 64-bit",
   "language": "python",
   "name": "python3"
  },
  "language_info": {
   "codemirror_mode": {
    "name": "ipython",
    "version": 3
   },
   "file_extension": ".py",
   "mimetype": "text/x-python",
   "name": "python",
   "nbconvert_exporter": "python",
   "pygments_lexer": "ipython3",
   "version": "3.9.6"
  },
  "orig_nbformat": 4
 },
 "nbformat": 4,
 "nbformat_minor": 2
}
