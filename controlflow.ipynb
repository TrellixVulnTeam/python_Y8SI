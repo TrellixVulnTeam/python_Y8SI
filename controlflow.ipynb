{
 "cells": [
  {
   "cell_type": "code",
   "execution_count": 31,
   "metadata": {},
   "outputs": [
    {
     "name": "stdout",
     "output_type": "stream",
     "text": [
      "condition executed\n"
     ]
    }
   ],
   "source": [
    "# python program to illustrate if statement \n",
    "i = 10\n",
    "\n",
    "if (i > 15):\n",
    "    print('The statement is false.')\n",
    "print('condition executed')"
   ]
  },
  {
   "cell_type": "code",
   "execution_count": 32,
   "metadata": {},
   "outputs": [
    {
     "name": "stdout",
     "output_type": "stream",
     "text": [
      "i am greater than 15\n",
      "i'm in else block \n"
     ]
    }
   ],
   "source": [
    "# python program to illustrate if else statement \n",
    "\n",
    "i = 20\n",
    "if i < 15:\n",
    "    print('I IS smaller than 15')\n",
    "    print('i\\'m in if block')\n",
    "else:\n",
    "    print('i am greater than 15')\n",
    "    print('i\\'m in else block ')\n"
   ]
  },
  {
   "cell_type": "code",
   "execution_count": 33,
   "metadata": {},
   "outputs": [
    {
     "name": "stdout",
     "output_type": "stream",
     "text": [
      "[10, 12]\n"
     ]
    }
   ],
   "source": [
    "# if else inf list comprehension \n",
    "# explicit function \n",
    "def digitSum(n):\n",
    "    dsum  = 0\n",
    "    for elements in str(n):\n",
    "        dsum += int(elements)\n",
    "    return dsum\n",
    "\n",
    "# initializing the list \n",
    "list = [302,  254, 451, 651]\n",
    "# using the function on odd elements of list \n",
    "newList = [digitSum(i) for i in list if i & 1]\n",
    "\n",
    "# display new list \n",
    "print(newList)"
   ]
  },
  {
   "cell_type": "code",
   "execution_count": 34,
   "metadata": {},
   "outputs": [
    {
     "name": "stdout",
     "output_type": "stream",
     "text": [
      "[16, 3, 18, 18]\n"
     ]
    }
   ],
   "source": [
    "# Explicit function\n",
    "def digitSum(n):\n",
    "    dsum = 0\n",
    "    for ele in str(n):\n",
    "        dsum += int(ele)\n",
    "    return dsum\n",
    "\n",
    "# Initializing list\n",
    "List = [367, 111, 562, 945, 6726, 873]\n",
    "# Using the function on odd elements of the list\n",
    "newList = [digitSum(i) for i in List if i & 1]\n",
    "# Displaying new list\n",
    "print(newList)"
   ]
  },
  {
   "cell_type": "code",
   "execution_count": 35,
   "metadata": {},
   "outputs": [
    {
     "name": "stdout",
     "output_type": "stream",
     "text": [
      "i is 20\n"
     ]
    }
   ],
   "source": [
    "# python program to illustrate ef-elif-else condition\n",
    "i = 20\n",
    "if (i == 10):\n",
    "    print('i is 10')\n",
    "elif i == 15:\n",
    "    print('i is 15')\n",
    "elif i == 20:\n",
    "    print('i is 20')\n",
    "else:\n",
    "    print('program executed')"
   ]
  },
  {
   "cell_type": "code",
   "execution_count": 36,
   "metadata": {},
   "outputs": [
    {
     "name": "stdout",
     "output_type": "stream",
     "text": [
      "True\n",
      "False\n",
      "True\n",
      "True\n",
      "True\n"
     ]
    }
   ],
   "source": [
    "# changing comprehension of program \n",
    "# python code to illustrate chaining comparision operator \n",
    "x = 5\n",
    "print(1 < x < 10) # True\n",
    "print(10 < x < 20) # False \n",
    "print(x < 10 < x * 10 < 100) # True\n",
    "print(10 > x <= 9) # True  \n",
    "print(5 == x > 4) # True"
   ]
  },
  {
   "cell_type": "code",
   "execution_count": 37,
   "metadata": {},
   "outputs": [
    {
     "name": "stdout",
     "output_type": "stream",
     "text": [
      "List Iteration\n",
      "python for framework and make money \n",
      "Tuple iteration\n",
      "python for framework and make money \n",
      "Iteration over String\n",
      "python python python python python python \n",
      "Iteration over dictionary\n",
      "a: hello\n",
      "1: 100\n",
      "b: learn code\n",
      "\n"
     ]
    }
   ],
   "source": [
    "# pyton program to illustrate iteration of list \n",
    "print(\"List Iteration\")\n",
    "l = ['python', 'for', 'framework', 'and', 'make money']\n",
    "for i in l:\n",
    "    print(i, end=' ')\n",
    "\n",
    "# iterating over a tuple (immutable)\n",
    "print('\\nTuple iteration')\n",
    "t = ('python', 'for', 'framework', 'and', 'make money')\n",
    "for i in t:\n",
    "    print(i, end=' ')\n",
    "\n",
    "print('\\nIteration over String')\n",
    "s = 'python'\n",
    "for i in s:\n",
    "    print(s, end=' ')\n",
    "\n",
    "print('\\nIteration over dictionary')\n",
    "d = {'a': 'hello', 1: 100, 'b': 'learn code'}\n",
    "for i in d:\n",
    "    print(f'{i}: {d[i]}') # to print the value along with it position \n",
    "print()"
   ]
  },
  {
   "cell_type": "code",
   "execution_count": 38,
   "metadata": {},
   "outputs": [
    {
     "name": "stdout",
     "output_type": "stream",
     "text": [
      "Current letter: p\n",
      "Current letter: y\n",
      "Current letter: t\n",
      "Current letter: h\n",
      "Current letter: o\n",
      "Current letter: n\n",
      "Current letter: f\n",
      "Current letter: o\n",
      "Current letter: r\n",
      "Current letter: m\n",
      "Current letter: a\n",
      "Current letter: c\n",
      "Current letter: h\n",
      "Current letter: i\n",
      "Current letter: n\n",
      "Current letter: l\n",
      "Current letter: a\n",
      "Current letter: r\n",
      "Current letter: n\n",
      "Current letter: i\n",
      "Current letter: n\n",
      "Current letter: g\n"
     ]
    }
   ],
   "source": [
    "# print all the letter except e and u \n",
    "for letter in 'pythonformachinelearning':\n",
    "    if letter == 'e' or letter == 'u':\n",
    "        continue\n",
    "    print(f'Current letter: {letter}')"
   ]
  },
  {
   "cell_type": "code",
   "execution_count": 39,
   "metadata": {},
   "outputs": [
    {
     "name": "stdout",
     "output_type": "stream",
     "text": [
      "Current letters: p\n",
      "Current letters: y\n",
      "Current letters: t\n",
      "Current letters: h\n",
      "Current letters: o\n",
      "Current letters: n\n",
      "Current letters: f\n",
      "Current letters: o\n",
      "Current letters: r\n",
      "Current letters: m\n",
      "Current letters: a\n",
      "Current letters: c\n",
      "Current letters: h\n",
      "Current letters: i\n",
      "Current letters: n\n"
     ]
    }
   ],
   "source": [
    "# break\n",
    "for letter in 'pythonformachinelearning':\n",
    "    # break as soon as loop see the e\n",
    "    if letter == 'e' or letter == 'u':\n",
    "        break\n",
    "    print(f\"Current letters: {letter}\")"
   ]
  },
  {
   "cell_type": "code",
   "execution_count": 40,
   "metadata": {},
   "outputs": [
    {
     "name": "stdout",
     "output_type": "stream",
     "text": [
      "last letter: n\n"
     ]
    }
   ],
   "source": [
    "# pass\n",
    "# an empty loop \n",
    "for letter in 'python':\n",
    "    pass\n",
    "print(f'last letter: {letter}') # though we pass the loop it will store \n",
    "# the last value that loop has pass"
   ]
  },
  {
   "cell_type": "code",
   "execution_count": 41,
   "metadata": {},
   "outputs": [
    {
     "name": "stdout",
     "output_type": "stream",
     "text": [
      "0 1 2 3 4 5 6 7 8 9 \n",
      "list iteration: 10 list iteration: 20 list iteration: 30 list iteration: 40 list iteration: 50 \n",
      "0\n",
      "1\n",
      "2\n",
      "3\n",
      "4\n",
      "5\n",
      "6\n",
      "7\n",
      "8\n",
      "9\n",
      "sum of first 10 number is: 45\n"
     ]
    }
   ],
   "source": [
    "# program to show the basic range () function\n",
    "# print a number with range function\n",
    "for i in range(10):\n",
    "    print(i, end=' ')\n",
    "print()\n",
    "\n",
    "# using range for iteration\n",
    "l = [10, 20, 30, 40 ,50]\n",
    "for i  in range(len(l)):\n",
    "    print(f'list iteration: {l[i]}', end=' ')\n",
    "print()\n",
    "\n",
    "# performing the first 10 number in range()\n",
    "sum = 0\n",
    "for i in range(10):\n",
    "    print(i)\n",
    "    sum += i\n",
    "print(f'sum of first 10 number is: {sum}')"
   ]
  },
  {
   "cell_type": "code",
   "execution_count": 42,
   "metadata": {},
   "outputs": [
    {
     "name": "stdout",
     "output_type": "stream",
     "text": [
      "0 1 2 3 4 5 6 7 8 9 \n",
      "list iteration: 10 list iteration: 20 list iteration: 30 list iteration: 40 list iteration: 50 \n",
      "0\n",
      "1\n",
      "2\n",
      "3\n",
      "4\n",
      "5\n",
      "6\n",
      "7\n",
      "8\n",
      "9\n",
      "sum of first 10 number is: 45\n"
     ]
    }
   ],
   "source": [
    "# program to show the basic range () function\n",
    "# print a number with range function\n",
    "for i in range(10):\n",
    "    print(i, end=' ')\n",
    "print()\n",
    "\n",
    "# using range for iteration\n",
    "l = [10, 20, 30, 40 ,50]\n",
    "for i  in range(len(l)):\n",
    "    print(f'list iteration: {l[i]}', end=' ')\n",
    "print()\n",
    "\n",
    "# performing the first 10 number in range()\n",
    "sum = 0\n",
    "for i in range(10):\n",
    "    print(i)\n",
    "    sum += i\n",
    "print(f'sum of first 10 number is: {sum}')"
   ]
  },
  {
   "cell_type": "code",
   "execution_count": 43,
   "metadata": {},
   "outputs": [
    {
     "name": "stdout",
     "output_type": "stream",
     "text": [
      "0\n",
      "1\n",
      "1\n",
      "2\n",
      "2\n",
      "3\n",
      "3\n",
      "4\n",
      "4\n",
      "5\n"
     ]
    }
   ],
   "source": [
    "# python program to illustrate while loop\n",
    "count = 0\n",
    "while count < 5:\n",
    "    print(count) \n",
    "    count = count + 1\n",
    "    print(count)"
   ]
  },
  {
   "cell_type": "code",
   "execution_count": 44,
   "metadata": {},
   "outputs": [
    {
     "name": "stdout",
     "output_type": "stream",
     "text": [
      "The Remaning items in list is: 2 The Remaning items in list is: 3 The Remaning items in list is: 4 The Remaning items in list is: 5 "
     ]
    }
   ],
   "source": [
    " # check if any list still contains any elements \n",
    "a = [1, 2, 3, 4, 5]\n",
    "b = 1\n",
    "while b < len(a):\n",
    "    b += 1\n",
    "    print(f'The Remaning items in list is: {b}', end=' ')"
   ]
  },
  {
   "cell_type": "code",
   "execution_count": 45,
   "metadata": {},
   "outputs": [
    {
     "name": "stdout",
     "output_type": "stream",
     "text": [
      "p\n",
      "y\n",
      "t\n",
      "h\n",
      "o\n",
      "n\n",
      "o\n",
      "f\n",
      "t\n",
      "w\n",
      "a\n",
      "r\n",
      "f\n",
      "o\n",
      "u\n",
      "n\n",
      "d\n",
      "a\n",
      "t\n",
      "i\n",
      "o\n",
      "n\n"
     ]
    }
   ],
   "source": [
    "# print all the letter except 'e' and 's' \n",
    "i = 0\n",
    "a = 'pythonsoftwarefoundation'\n",
    "while i< len(a):\n",
    "    if a[i] == 'e' or a[i] == 's':\n",
    "        i += 1\n",
    "        continue\n",
    "    else:\n",
    "        print(a[i])\n",
    "        i += 1"
   ]
  },
  {
   "cell_type": "code",
   "execution_count": 46,
   "metadata": {},
   "outputs": [
    {
     "name": "stdout",
     "output_type": "stream",
     "text": [
      "p y t h o n "
     ]
    }
   ],
   "source": [
    "# break the loop as soon as it sees the 'e' or 's'\n",
    "i = 0\n",
    "a = 'pythonsoftwarefoundation'\n",
    "while i < len(a):\n",
    "    if a[i] == 'e' or a[i] == 's':\n",
    "        break\n",
    "    else:\n",
    "        print(a[i], end=' ')\n",
    "        i += 1"
   ]
  },
  {
   "cell_type": "code",
   "execution_count": 47,
   "metadata": {},
   "outputs": [
    {
     "name": "stdout",
     "output_type": "stream",
     "text": [
      "value of i : 23\n"
     ]
    }
   ],
   "source": [
    "# an empty loop \n",
    "i = 0\n",
    "a = 'pythonsoftwarefoundatin'\n",
    "\n",
    "while i<len(a):\n",
    "    i += 1\n",
    "    pass\n",
    "print(f'value of i : {i}')"
   ]
  },
  {
   "cell_type": "code",
   "execution_count": 48,
   "metadata": {},
   "outputs": [
    {
     "name": "stdout",
     "output_type": "stream",
     "text": [
      "1\n",
      "2\n",
      "3\n",
      "4\n",
      "Executed\n"
     ]
    }
   ],
   "source": [
    "# python program to demostrate with while-else loop \n",
    "i = 0\n",
    "while i < 4:\n",
    "    i+= 1\n",
    "    print(i)\n",
    "else:\n",
    "    print('Executed')\n",
    "\n",
    "# python program demostrate the while else with brak \n",
    "i = 0\n",
    "while i <= 5:\n",
    "    i += 1\n",
    "    break\n",
    "else:\n",
    "    print('Condition is false.')"
   ]
  },
  {
   "cell_type": "code",
   "execution_count": 20,
   "metadata": {},
   "outputs": [
    {
     "name": "stdout",
     "output_type": "stream",
     "text": [
      "your output is 10\n",
      "your output is 10\n",
      "your output is 10\n",
      "your output is -1\n"
     ]
    }
   ],
   "source": [
    "a = int(input('Enter a number (-1): '))\n",
    "\n",
    "while a!= -1:\n",
    "    a = int(input('Enter a number (-1 to exit): '))\n",
    "    print(f'your output is {a}')"
   ]
  },
  {
   "cell_type": "code",
   "execution_count": 21,
   "metadata": {},
   "outputs": [
    {
     "name": "stdout",
     "output_type": "stream",
     "text": [
      "h e l l o t h i \n",
      "output is: s\n",
      "h 1 e 2 l 3 l 4 o 5 t 6 h 7 i 8 s 9 i 10 s 11 p \n",
      "output is: 11\n"
     ]
    }
   ],
   "source": [
    "# program to demostrate break statement \n",
    "# with for loop \n",
    "x = 'hellothisispythonprogramming'\n",
    "for letter in x:\n",
    "    if letter == 's' or letter == 'g':\n",
    "        break\n",
    "    print(letter, end=' ')\n",
    "print(f'\\noutput is: {letter}')\n",
    "\n",
    "# using while loop \n",
    "i = 0\n",
    "while i <= len(x):\n",
    "    print(x[i], end=' ')\n",
    "    if x[i] == 'p' or x[i] == 'g':\n",
    "        break\n",
    "    i += 1\n",
    "    print(i, end=' ')\n",
    "print(f'\\noutput is: {i}')"
   ]
  },
  {
   "cell_type": "code",
   "execution_count": 22,
   "metadata": {},
   "outputs": [
    {
     "name": "stdout",
     "output_type": "stream",
     "text": [
      "0 1 2 3 4 5 7 8 9 "
     ]
    }
   ],
   "source": [
    "# python program to demostrate the continue statemnet \n",
    "for i in range(10):\n",
    "    if i == 6:\n",
    "        continue\n",
    "    else:\n",
    "        print(i, end=' ')"
   ]
  },
  {
   "cell_type": "code",
   "execution_count": 23,
   "metadata": {},
   "outputs": [
    {
     "name": "stdout",
     "output_type": "stream",
     "text": [
      "b\n",
      "c\n",
      "d\n",
      "e\n"
     ]
    }
   ],
   "source": [
    "xc = 100\n",
    "for i in range(xc):\n",
    "    # when code is going to be added later \n",
    "    pass\n",
    "\n",
    "a = 10\n",
    "b = 30\n",
    "if (a > b):\n",
    "    pass\n",
    "else:\n",
    "    pass\n",
    "\n",
    "# using list in pass \n",
    "lis = ['a', 'b', 'c', 'd', 'e']\n",
    "for i in lis:\n",
    "    if i == 'a':\n",
    "        pass\n",
    "        # print(i)\n",
    "    else:\n",
    "        print(i)"
   ]
  },
  {
   "cell_type": "code",
   "execution_count": 24,
   "metadata": {},
   "outputs": [
    {
     "name": "stdout",
     "output_type": "stream",
     "text": [
      "name : yogesh\n",
      "color : white\n",
      "language : python\n"
     ]
    }
   ],
   "source": [
    "# zip()\n",
    "# python program to demostrate the working of zip()\n",
    "# initialize the list \n",
    "# returns a both key and value \n",
    "question = ['name', 'color', 'language']\n",
    "answer = ['yogesh', 'white', 'python']\n",
    "\n",
    "# using zip() to combine two containers and pint the value \n",
    "for question, answer in zip(question, answer):\n",
    "    print(f'{question} : {answer}')"
   ]
  },
  {
   "cell_type": "code",
   "execution_count": 25,
   "metadata": {},
   "outputs": [
    {
     "name": "stdout",
     "output_type": "stream",
     "text": [
      "name :  yogesh\n",
      "language :  pyhon\n"
     ]
    }
   ],
   "source": [
    "# items \n",
    "# python program to demostrate the items \n",
    "# returns both key and value \n",
    "d = {'name' : 'yogesh', 'language' : 'pyhon'}\n",
    "# using items to print the key value  \n",
    "for key, value in d.items():\n",
    "    print(key,': ', value)"
   ]
  },
  {
   "cell_type": "code",
   "execution_count": 26,
   "metadata": {},
   "outputs": [
    {
     "name": "stdout",
     "output_type": "stream",
     "text": [
      "name :  python\n",
      "language :  rectjs\n"
     ]
    }
   ],
   "source": [
    "# python code to demostrate the working of items()\n",
    "d = {'name':'python', 'language' : 'rectjs'}\n",
    "\n",
    "# using dictionary key value pairs \n",
    "for i, j in d.items():\n",
    "    print(i,': ', j)"
   ]
  },
  {
   "cell_type": "code",
   "execution_count": 27,
   "metadata": {},
   "outputs": [
    {
     "name": "stdout",
     "output_type": "stream",
     "text": [
      "1 3 4 5 20 40 100 105 \n",
      "1 3 4 5 20 40 100 105 "
     ]
    }
   ],
   "source": [
    "# python program to demostrate the sorted()\n",
    "# it will arrange the list items in order \n",
    "list = [1, 100, 4, 105, 20, 3, 40, 5]\n",
    "# using the sorted() to print the given list in shortwed form \n",
    "for i in sorted(list):\n",
    "    print(i, end=' ') # sort the order of numbers \n",
    "print('\\r')\n",
    "for i in sorted(set(list)):\n",
    "    print(i, end=' ')"
   ]
  },
  {
   "cell_type": "code",
   "execution_count": 28,
   "metadata": {},
   "outputs": [
    {
     "name": "stdout",
     "output_type": "stream",
     "text": [
      "9 7 8 1 6 5 3 2 4 \n"
     ]
    }
   ],
   "source": [
    "# revesed() \n",
    "# python code to demostrate the working of reserved()\n",
    "list = [4, 2, 3, 5, 6, 1, 8, 7, 9]\n",
    "for i in reversed(list):\n",
    "    print(i, end=' ')\n",
    "print('\\r')"
   ]
  },
  {
   "cell_type": "code",
   "execution_count": 29,
   "metadata": {},
   "outputs": [
    {
     "name": "stdout",
     "output_type": "stream",
     "text": [
      "19 18 17 16 15 14 13 12 11 10 9 8 7 6 5 4 3 2 1 "
     ]
    }
   ],
   "source": [
    "# reverse in range funcion \n",
    "for i in reversed(range(1, 20, 1)):\n",
    "    print(i, end=' ')"
   ]
  },
  {
   "cell_type": "code",
   "execution_count": 30,
   "metadata": {},
   "outputs": [
    {
     "name": "stdout",
     "output_type": "stream",
     "text": [
      "32 1 4 5 6 8 9 10 20 30 "
     ]
    }
   ],
   "source": [
    "# use of set in reserved() \n",
    "# it do not repeate the list items \n",
    "list = [ 1, 4, 5, 8, 4, 6, 9, 10, 20, 30, 32, 4, 1, 5, 8]\n",
    "for i in set(reversed(list)):\n",
    "    print(i, end=' ')"
   ]
  }
 ],
 "metadata": {
  "interpreter": {
   "hash": "73b4fb914614748e1b4d5ae3804a556d6d463f357c4fc043afe155ac08cb1c28"
  },
  "kernelspec": {
   "display_name": "Python 3.9.6 64-bit",
   "language": "python",
   "name": "python3"
  },
  "language_info": {
   "codemirror_mode": {
    "name": "ipython",
    "version": 3
   },
   "file_extension": ".py",
   "mimetype": "text/x-python",
   "name": "python",
   "nbconvert_exporter": "python",
   "pygments_lexer": "ipython3",
   "version": "3.9.6"
  },
  "orig_nbformat": 4
 },
 "nbformat": 4,
 "nbformat_minor": 2
}
