{
 "cells": [
  {
   "cell_type": "code",
   "execution_count": null,
   "metadata": {},
   "outputs": [
    {
     "name": "stdout",
     "output_type": "stream",
     "text": [
      "hello world\n"
     ]
    }
   ],
   "source": [
    "# first program\n",
    "print('hello world')"
   ]
  },
  {
   "cell_type": "code",
   "execution_count": null,
   "metadata": {},
   "outputs": [
    {
     "name": "stdout",
     "output_type": "stream",
     "text": [
      "the list of python keywords are:  ['False', 'None', 'True', '__peg_parser__', 'and', 'as', 'assert', 'async', 'await', 'break', 'class', 'continue', 'def', 'del', 'elif', 'else', 'except', 'finally', 'for', 'from', 'global', 'if', 'import', 'in', 'is', 'lambda', 'nonlocal', 'not', 'or', 'pass', 'raise', 'return', 'try', 'while', 'with', 'yield']\n"
     ]
    }
   ],
   "source": [
    "# printing keywords of python \n",
    "import keyword\n",
    "print('the list of python keywords are: ', keyword.kwlist) "
   ]
  },
  {
   "cell_type": "code",
   "execution_count": null,
   "metadata": {},
   "outputs": [
    {
     "name": "stdout",
     "output_type": "stream",
     "text": [
      "1 stting 2.5\n"
     ]
    }
   ],
   "source": [
    "# single line statement \n",
    "x = 1\n",
    "y = 'stting'\n",
    "z = 2.5\n",
    "print(x, y, z)"
   ]
  },
  {
   "cell_type": "code",
   "execution_count": null,
   "metadata": {},
   "outputs": [
    {
     "name": "stdout",
     "output_type": "stream",
     "text": [
      "the additional value of a is 21\n"
     ]
    }
   ],
   "source": [
    "# Declaration statement useing blackshash\n",
    "a = 1 + 2+ 3 + \\\n",
    "    4 + 5 + 6 # we need to use backshalsh to run this code \n",
    "print(f\"the additional value of a is {a}\") "
   ]
  },
  {
   "cell_type": "code",
   "execution_count": null,
   "metadata": {},
   "outputs": [
    {
     "name": "stdout",
     "output_type": "stream",
     "text": [
      "the additional value of x is 45\n"
     ]
    }
   ],
   "source": [
    "# Declaration statement using parentheses ():\n",
    "x = (4 + 5 + 6 + 9 +\n",
    "4 + 8 + 9)\n",
    "print(f'the additional value of x is {x}')"
   ]
  },
  {
   "cell_type": "code",
   "execution_count": null,
   "metadata": {},
   "outputs": [
    {
     "name": "stdout",
     "output_type": "stream",
     "text": [
      "some name if fruits are : ['mango', 'orange', 'apple', 'pineapple']\n"
     ]
    }
   ],
   "source": [
    "# Declaration statement using square brackets [];\n",
    "fruits = ['mango', \n",
    "'orange', \n",
    "'apple',\n",
    "'pineapple']\n",
    "print(f'some name if fruits are : {fruits}')"
   ]
  },
  {
   "cell_type": "code",
   "execution_count": null,
   "metadata": {},
   "outputs": [
    {
     "name": "stdout",
     "output_type": "stream",
     "text": [
      "Even Number\n"
     ]
    }
   ],
   "source": [
    "# indentation \n",
    "intake = 8\n",
    "if intake %2==0:\n",
    "    print('Even Number')\n",
    "else:\n",
    "    print('Odd Number')"
   ]
  },
  {
   "cell_type": "code",
   "execution_count": null,
   "metadata": {},
   "outputs": [
    {
     "data": {
      "text/plain": [
       "'hello \\nthis is multi line comments'"
      ]
     },
     "execution_count": 11,
     "metadata": {},
     "output_type": "execute_result"
    }
   ],
   "source": [
    "# simgle line comments \n",
    "'''hello \n",
    "this is multi line comments'''"
   ]
  },
  {
   "cell_type": "code",
   "execution_count": null,
   "metadata": {},
   "outputs": [
    {
     "name": "stdout",
     "output_type": "stream",
     "text": [
      "this is an int assignment 8\n",
      "assigning the float value to y and outcome is 8.5\n",
      "assigning string to variable Z is 'this is value assigning in string'\n"
     ]
    }
   ],
   "source": [
    "# different value assignment to variables \n",
    "# int assignment \n",
    "x = 8\n",
    "print(f\"this is an int assignment {x}\")\n",
    "#  float assignment \n",
    "y = 8.5\n",
    "print(f'assigning the float value to y and outcome is {y}')\n",
    "# string\n",
    "z = \"\\'this is value assigning in string\\'\"\n",
    "print(f'assigning string to variable Z is {z}')"
   ]
  },
  {
   "cell_type": "code",
   "execution_count": null,
   "metadata": {},
   "outputs": [
    {
     "name": "stdout",
     "output_type": "stream",
     "text": [
      "declaration of intiger value: 100\n",
      "after re-declaration: yogesh\n",
      "after declring an float value: 5.8\n"
     ]
    }
   ],
   "source": [
    "# re-declaration \n",
    "x = 100\n",
    "print(f'declaration of intiger value: {x}')\n",
    "x = 'yogesh'\n",
    "print(f'after re-declaration: {x}')\n",
    "x = 5.8\n",
    "print(f'after declring an float value: {x}')"
   ]
  },
  {
   "cell_type": "code",
   "execution_count": null,
   "metadata": {},
   "outputs": [
    {
     "name": "stdout",
     "output_type": "stream",
     "text": [
      "first:1, second: 2.5, third: programming\n"
     ]
    }
   ],
   "source": [
    "# single value to multi-variable \n",
    "a, b, c = 1, 2.5, \"programming\"\n",
    "print(f\"first:{a}, second: {b}, third: {c}\")"
   ]
  },
  {
   "cell_type": "code",
   "execution_count": null,
   "metadata": {},
   "outputs": [
    {
     "name": "stdout",
     "output_type": "stream",
     "text": [
      "int concidinate: 20\n",
      "string concidinate: python programming\n"
     ]
    }
   ],
   "source": [
    "# using of an operator a\n",
    "a = 5\n",
    "b = 15\n",
    "print(f'int concidinate: {a+b}')\n",
    "a = 'python'\n",
    "b = ' programming'\n",
    "print(f'string concidinate: {a+b}')"
   ]
  },
  {
   "cell_type": "code",
   "execution_count": null,
   "metadata": {},
   "outputs": [
    {
     "name": "stdout",
     "output_type": "stream",
     "text": [
      "hello  yogesh\n"
     ]
    }
   ],
   "source": [
    "# commands\n",
    "name = 'yogesh'\n",
    "print('hello ', name)"
   ]
  },
  {
   "cell_type": "code",
   "execution_count": null,
   "metadata": {},
   "outputs": [
    {
     "name": "stdout",
     "output_type": "stream",
     "text": [
      "9\n",
      "-1\n",
      "20\n",
      "0.8\n",
      "0\n"
     ]
    }
   ],
   "source": [
    "# simple calculation \n",
    "a = 4\n",
    "b = 5\n",
    "sum = a + b\n",
    "sub = a - b\n",
    "mult = a * b\n",
    "div = a/b\n",
    "floordiv = a // b\n",
    "print(sum)\n",
    "print(sub)\n",
    "print(mult)\n",
    "print(div)\n",
    "print(floordiv)"
   ]
  },
  {
   "cell_type": "code",
   "execution_count": null,
   "metadata": {},
   "outputs": [
    {
     "name": "stdout",
     "output_type": "stream",
     "text": [
      "1\n",
      "2\n",
      "3\n",
      "4\n",
      "5\n"
     ]
    }
   ],
   "source": [
    "# for loop\n",
    "list = [1, 2, 3, 4, 5]\n",
    "for item in list:\n",
    "    print(item)"
   ]
  },
  {
   "cell_type": "code",
   "execution_count": null,
   "metadata": {},
   "outputs": [
    {
     "name": "stdout",
     "output_type": "stream",
     "text": [
      "hello this is function in python\n",
      "we will use this by calling a function name when need an specific function command lines at a time.\n",
      "hello this is function in python\n",
      "we will use this by calling a function name when need an specific function command lines at a time.\n"
     ]
    }
   ],
   "source": [
    "# function \n",
    "def hello():\n",
    "    print('hello this is function in python')\n",
    "    print('we will use this by calling a function name when need an specific function command lines at a time.')\n",
    "# calling above function for 2 time here \n",
    "hello()\n",
    "hello()"
   ]
  },
  {
   "cell_type": "code",
   "execution_count": null,
   "metadata": {},
   "outputs": [
    {
     "name": "stdout",
     "output_type": "stream",
     "text": [
      "<class 'int'>\n",
      "<class 'float'>\n"
     ]
    }
   ],
   "source": [
    "# basic data type \n",
    "# numeric (int, float)\n",
    "a = 5\n",
    "print(type(a))\n",
    "b = 5.5\n",
    "print(type(b))"
   ]
  },
  {
   "cell_type": "code",
   "execution_count": null,
   "metadata": {},
   "outputs": [
    {
     "name": "stdout",
     "output_type": "stream",
     "text": [
      "hello i'm from coursly Nepal\n",
      "we are learning an python\n",
      "this is the use of triple quotetaion string\n",
      "this is a \n",
      "        multi-line \n",
      "        string\n"
     ]
    }
   ],
   "source": [
    "# sequence character \n",
    "# string :- group of character that are enclosed with single, double or triple quoted \n",
    "str = 'hello i\\'m from coursly Nepal'\n",
    "print(str)\n",
    "str1 = \"we are learning an python\"\n",
    "print(str1)\n",
    "str2 = '''this is the use of triple quotetaion string'''\n",
    "print(str2)\n",
    "str3 = '''this is a \n",
    "        multi-line \n",
    "        string'''\n",
    "print(str3)"
   ]
  },
  {
   "cell_type": "code",
   "execution_count": null,
   "metadata": {},
   "outputs": [
    {
     "name": "stdout",
     "output_type": "stream",
     "text": [
      "coursel\n",
      " Nepa\n"
     ]
    }
   ],
   "source": [
    "# accessing an string\n",
    "# printing a character from string\n",
    "a1 = 'coursely Nepal'\n",
    "print(a1[:7])\n",
    "print(a1[8:13])"
   ]
  },
  {
   "cell_type": "code",
   "execution_count": null,
   "metadata": {},
   "outputs": [
    {
     "name": "stdout",
     "output_type": "stream",
     "text": [
      "this is an empty list []\n"
     ]
    }
   ],
   "source": [
    "# list \n",
    "# creating an empty list \n",
    "list = []\n",
    "print('this is an empty list', list)"
   ]
  },
  {
   "cell_type": "code",
   "execution_count": null,
   "metadata": {},
   "outputs": [
    {
     "name": "stdout",
     "output_type": "stream",
     "text": [
      "['hello we are from coursely nepal']\n",
      "python\n",
      "for\n",
      "data science\n",
      "['coder', 'from', 'laliptput']\n",
      "from\n",
      "laliptput\n"
     ]
    }
   ],
   "source": [
    "# list with string   \n",
    "list = ['hello we are from coursely nepal']\n",
    "print(list)\n",
    "\n",
    "# list with multi value \n",
    "a = [\"python\", \"for\", \"data science\"]\n",
    "print(a[0])\n",
    "print(a[1])\n",
    "print(a[2])\n",
    "\n",
    "# nested list\n",
    "b = ['hello', 'this is', ['coder', 'from', 'laliptput']]\n",
    "print(b[2])\n",
    "print(b[2][1]) # print the value of nested list \n",
    "print(b[2][-1]) "
   ]
  },
  {
   "cell_type": "code",
   "execution_count": null,
   "metadata": {},
   "outputs": [
    {
     "name": "stdout",
     "output_type": "stream",
     "text": [
      "this is an empty tuplel ()\n"
     ]
    }
   ],
   "source": [
    "# tuples:- they are immutable because they cant be change after it created \n",
    "tuple = () # creating an empty tuple \n",
    "print(f'this is an empty tuplel {tuple}')"
   ]
  },
  {
   "cell_type": "code",
   "execution_count": null,
   "metadata": {},
   "outputs": [
    {
     "name": "stdout",
     "output_type": "stream",
     "text": [
      "('python', 'programming')\n"
     ]
    }
   ],
   "source": [
    "# tuple with string \n",
    "tuple = ('python', 'programming')\n",
    "print(tuple)"
   ]
  },
  {
   "cell_type": "code",
   "execution_count": null,
   "metadata": {},
   "outputs": [
    {
     "name": "stdout",
     "output_type": "stream",
     "text": [
      "('coursely', 'nepal')\n",
      "programming\n"
     ]
    }
   ],
   "source": [
    "tuple1 = (0, 1, 2)\n",
    "tuple2 = ('python', 'programming', ('coursely', 'nepal'))\n",
    "tuple3 = tuple1 + tuple2\n",
    "print(tuple3[5])\n",
    "print(tuple3[-2])"
   ]
  },
  {
   "cell_type": "code",
   "execution_count": 28,
   "metadata": {},
   "outputs": [],
   "source": [
    "# boolean have only two value True and False "
   ]
  },
  {
   "cell_type": "code",
   "execution_count": 29,
   "metadata": {},
   "outputs": [
    {
     "name": "stdout",
     "output_type": "stream",
     "text": [
      "this is an empty set: set()\n"
     ]
    }
   ],
   "source": [
    "# set:- it is an unoreder list, whixh can be mutable and dont have duplicate elements \n",
    "set1 = set()\n",
    "print(f'this is an empty set: {set1}')"
   ]
  },
  {
   "cell_type": "code",
   "execution_count": 30,
   "metadata": {},
   "outputs": [
    {
     "name": "stdout",
     "output_type": "stream",
     "text": [
      "the out put will not be in order but characters wont repete it self: {'o', ' ', 'h', 't', 'n', 'i', 'a', 'p', 'y', 'm', 'r', 'g'}\n"
     ]
    }
   ],
   "source": [
    "# set with the use of string \n",
    "ste1 = set(\"python programming\")\n",
    "print(f'the out put will not be in order but characters wont repete it self: {ste1}')"
   ]
  },
  {
   "cell_type": "code",
   "execution_count": 31,
   "metadata": {},
   "outputs": [
    {
     "name": "stdout",
     "output_type": "stream",
     "text": [
      "{'machinr learning', 'is for', 'python', 'programming'}\n"
     ]
    }
   ],
   "source": [
    "# set with list \n",
    "set1 = set(['python', 'programming', 'is for', 'machinr learning'])\n",
    "print(set1)"
   ]
  },
  {
   "cell_type": "code",
   "execution_count": 35,
   "metadata": {},
   "outputs": [
    {
     "name": "stdout",
     "output_type": "stream",
     "text": [
      "value of set: {1, 2, 5.8, 'python', 'machine learning'}\n",
      "typecasting the set to list: \n",
      "typecasting the set into tuple: \n"
     ]
    },
    {
     "ename": "TypeError",
     "evalue": "'tuple' object is not callable",
     "output_type": "error",
     "traceback": [
      "\u001b[1;31m---------------------------------------------------------------------------\u001b[0m",
      "\u001b[1;31mTypeError\u001b[0m                                 Traceback (most recent call last)",
      "\u001b[1;32m~\\AppData\\Local\\Temp/ipykernel_10276/921455915.py\u001b[0m in \u001b[0;36m<module>\u001b[1;34m\u001b[0m\n\u001b[0;32m      5\u001b[0m \u001b[1;31m# print(list(set1))\u001b[0m\u001b[1;33m\u001b[0m\u001b[1;33m\u001b[0m\u001b[1;33m\u001b[0m\u001b[0m\n\u001b[0;32m      6\u001b[0m \u001b[0mprint\u001b[0m\u001b[1;33m(\u001b[0m\u001b[1;34m'typecasting the set into tuple: '\u001b[0m\u001b[1;33m)\u001b[0m\u001b[1;33m\u001b[0m\u001b[1;33m\u001b[0m\u001b[0m\n\u001b[1;32m----> 7\u001b[1;33m \u001b[0mprint\u001b[0m\u001b[1;33m(\u001b[0m\u001b[0mtuple\u001b[0m\u001b[1;33m(\u001b[0m\u001b[0mset1\u001b[0m\u001b[1;33m)\u001b[0m\u001b[1;33m)\u001b[0m\u001b[1;33m\u001b[0m\u001b[1;33m\u001b[0m\u001b[0m\n\u001b[0m\u001b[0;32m      8\u001b[0m \u001b[0mprint\u001b[0m\u001b[1;33m(\u001b[0m\u001b[1;34m'the length of an set is: '\u001b[0m\u001b[1;33m,\u001b[0m \u001b[0mlen\u001b[0m\u001b[1;33m(\u001b[0m\u001b[0mset1\u001b[0m\u001b[1;33m)\u001b[0m\u001b[1;33m)\u001b[0m\u001b[1;33m\u001b[0m\u001b[1;33m\u001b[0m\u001b[0m\n",
      "\u001b[1;31mTypeError\u001b[0m: 'tuple' object is not callable"
     ]
    }
   ],
   "source": [
    "# set with mix type of value \n",
    "set1 = set(['python', 1, 2, 5.8, 'machine learning'])\n",
    "print(f'value of set: {set1}')\n",
    "print('typecasting the set to list: ')\n",
    "print(list(set1))\n",
    "print('typecasting the set into tuple: ')\n",
    "print(tuple(set1))\n",
    "print('the length of an set is: ', len(set1))"
   ]
  },
  {
   "cell_type": "code",
   "execution_count": null,
   "metadata": {},
   "outputs": [
    {
     "name": "stdout",
     "output_type": "stream",
     "text": [
      "this is set's value: {'is for', 'date science', 'machine learning', 'python'}\n",
      "is for date science machine learning python "
     ]
    }
   ],
   "source": [
    "# accessing elesmts of sets \n",
    "set1 = set(['python', 'is for', 'date science', 'machine learning'])\n",
    "print(f\"this is set's value: {set1}\")\n",
    "for i in set1:\n",
    "    print(i, end= \" \")\n",
    "    "
   ]
  },
  {
   "cell_type": "code",
   "execution_count": null,
   "metadata": {},
   "outputs": [
    {
     "name": "stdout",
     "output_type": "stream",
     "text": [
      "for machine learning\n",
      "programming is best\n",
      "python\n"
     ]
    }
   ],
   "source": [
    "set1 = set(['python', 'programming is best', 'for machine learning'])\n",
    "for items in set1:\n",
    "    print(items)"
   ]
  },
  {
   "cell_type": "code",
   "execution_count": null,
   "metadata": {},
   "outputs": [
    {
     "name": "stdout",
     "output_type": "stream",
     "text": [
      "empty dictionary: {}\n"
     ]
    }
   ],
   "source": [
    "# dictionary \n",
    "# dictionary is an unordeer collection of date which holda the key \n",
    "# value pair: it can be number, list, tuples etc\n",
    "dict1 = {}\n",
    "print(f'empty dictionary: {dict1}')"
   ]
  },
  {
   "cell_type": "markdown",
   "metadata": {},
   "source": []
  },
  {
   "cell_type": "code",
   "execution_count": null,
   "metadata": {},
   "outputs": [
    {
     "name": "stdout",
     "output_type": "stream",
     "text": [
      "{1: 'python', 2: 'is best for', 3: 'todays world to generate a third web', 4: 5, 5: 5.8}\n"
     ]
    }
   ],
   "source": [
    "# creating an dictionary & mixed dictionary \n",
    "dict =  {1: 'python', 2: 'is best for', 3: 'todays world to generate a third web', 4: 5, 5: 5.8}\n",
    "print(dict)"
   ]
  },
  {
   "cell_type": "code",
   "execution_count": null,
   "metadata": {},
   "outputs": [
    {
     "name": "stdout",
     "output_type": "stream",
     "text": [
      "python\n",
      "fro\n",
      "maching learning\n",
      "maching learning\n",
      "fro\n"
     ]
    }
   ],
   "source": [
    "# assiginig elements to dictionary \n",
    "Dict = {1: 'python', 'name': 'fro', 3: 'maching learning'}\n",
    "print(Dict[1])\n",
    "print(Dict['name'])\n",
    "print(Dict[3])\n",
    "print(Dict.get(3)) # print the value which is in given key\n",
    "print(Dict.get('name'))"
   ]
  },
  {
   "cell_type": "code",
   "execution_count": null,
   "metadata": {},
   "outputs": [],
   "source": []
  }
 ],
 "metadata": {
  "interpreter": {
   "hash": "73b4fb914614748e1b4d5ae3804a556d6d463f357c4fc043afe155ac08cb1c28"
  },
  "kernelspec": {
   "display_name": "Python 3.9.6 64-bit",
   "language": "python",
   "name": "python3"
  },
  "language_info": {
   "codemirror_mode": {
    "name": "ipython",
    "version": 3
   },
   "file_extension": ".py",
   "mimetype": "text/x-python",
   "name": "python",
   "nbconvert_exporter": "python",
   "pygments_lexer": "ipython3",
   "version": "3.9.6"
  },
  "orig_nbformat": 4
 },
 "nbformat": 4,
 "nbformat_minor": 2
}
