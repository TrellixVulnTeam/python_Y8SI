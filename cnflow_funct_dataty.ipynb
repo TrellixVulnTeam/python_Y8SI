{
 "cells": [
  {
   "cell_type": "code",
   "execution_count": 1,
   "metadata": {},
   "outputs": [
    {
     "name": "stdout",
     "output_type": "stream",
     "text": [
      "i am out of block\n"
     ]
    }
   ],
   "source": [
    "# if condition: if the certain condition willbe true then the block will continue \n",
    "i = 10 \n",
    "if (i> 15):\n",
    "    print('i am in block')\n",
    "print('i am out of block')"
   ]
  },
  {
   "cell_type": "code",
   "execution_count": 5,
   "metadata": {},
   "outputs": [
    {
     "name": "stdout",
     "output_type": "stream",
     "text": [
      "a 100\n",
      "b 200\n",
      "c 300\n"
     ]
    }
   ],
   "source": [
    "# iterating over dictionary \n",
    "d = {'a':100, 'b':200, 'c':300}\n",
    "for i in d :\n",
    "    print(i, d[i])\n",
    "    # here i represent a keys of dictionary and d[i] represent a value of dictionary "
   ]
  },
  {
   "cell_type": "code",
   "execution_count": 7,
   "metadata": {},
   "outputs": [
    {
     "name": "stdout",
     "output_type": "stream",
     "text": [
      "10 20 30 40 50 "
     ]
    }
   ],
   "source": [
    "# range for iteration \n",
    "l = [10, 20, 30, 40, 50]\n",
    "for i in range(len(l)):\n",
    "    print(l[i], end=' ')"
   ]
  },
  {
   "cell_type": "code",
   "execution_count": 13,
   "metadata": {},
   "outputs": [
    {
     "name": "stdout",
     "output_type": "stream",
     "text": [
      "4\n",
      "4\n",
      "4\n",
      "4\n",
      "4\n"
     ]
    }
   ],
   "source": [
    "# while loop \n",
    "a = [1, 2, 3, 4, 5, 6]\n",
    "b = 1\n",
    "while b < len(a):\n",
    "    b += 1\n",
    "    print(f\"{i}\")"
   ]
  },
  {
   "cell_type": "code",
   "execution_count": 14,
   "metadata": {},
   "outputs": [
    {
     "name": "stdout",
     "output_type": "stream",
     "text": [
      "hello yogesh\n",
      "hello mahesh\n",
      "hello khusal\n"
     ]
    }
   ],
   "source": [
    "count = 0\n",
    "while count < 3:\n",
    "    count += 1\n",
    "    a = input('Enter your name: ')\n",
    "    print(f'hello {a}')"
   ]
  },
  {
   "cell_type": "code",
   "execution_count": 15,
   "metadata": {},
   "outputs": [
    {
     "name": "stdout",
     "output_type": "stream",
     "text": [
      "0 The\n",
      "1 Big\n",
      "2 Bang\n",
      "3 Theory\n"
     ]
    }
   ],
   "source": [
    "for key, value in enumerate(['The', 'Big', 'Bang', 'Theory']):\n",
    "    print(key, value)\n"
   ]
  },
  {
   "cell_type": "code",
   "execution_count": 16,
   "metadata": {},
   "outputs": [
    {
     "name": "stdout",
     "output_type": "stream",
     "text": [
      "name : apple\n",
      "colour : red\n",
      "shape : a circle\n"
     ]
    }
   ],
   "source": [
    "# python code to demonstrate working of zip()\n",
    "# initializing list\n",
    "questions = ['name', 'colour', 'shape']\n",
    "answers = ['apple', 'red', 'a circle']\n",
    "# using zip() to combine two containers\n",
    "# and print values\n",
    "for question, answer in zip(questions, answers):\n",
    "    print(f\"{question} : {answer}\")\n",
    "#print(f'What is your {question}? I am {answer}.')"
   ]
  },
  {
   "cell_type": "code",
   "execution_count": 24,
   "metadata": {},
   "outputs": [
    {
     "name": "stdout",
     "output_type": "stream",
     "text": [
      "yogesh : khanal\n",
      "mahesh : khanal\n",
      "kusal : basnet\n"
     ]
    }
   ],
   "source": [
    "name = ['yogesh', 'mahesh', 'kusal']\n",
    "surname = ['khanal', 'khanal', 'basnet']\n",
    "for name, surname in zip(name, surname):\n",
    "    print(f'{name} : {surname}')"
   ]
  },
  {
   "cell_type": "code",
   "execution_count": 31,
   "metadata": {},
   "outputs": [
    {
     "name": "stdout",
     "output_type": "stream",
     "text": [
      "python : machine learning\n",
      "javascript : webdevelopemnt\n"
     ]
    }
   ],
   "source": [
    "# items \n",
    "a = {'python':'machine learning', 'javascript':'webdevelopemnt'}\n",
    "for key, value in a.items():\n",
    "    print(f'{key} : {value}')\n"
   ]
  },
  {
   "cell_type": "code",
   "execution_count": 34,
   "metadata": {},
   "outputs": [
    {
     "name": "stdout",
     "output_type": "stream",
     "text": [
      "1 2 2 3 4 5 8 9 10 10 15 20 45 "
     ]
    }
   ],
   "source": [
    "# sorted \n",
    "a = [1, 5, 4, 2, 8, 9, 10, 45, 10, 2, 3, 15, 20]\n",
    "for i in sorted(a):\n",
    "    print(i, end= ' ')"
   ]
  },
  {
   "cell_type": "code",
   "execution_count": 36,
   "metadata": {},
   "outputs": [
    {
     "name": "stdout",
     "output_type": "stream",
     "text": [
      "1 2 3 4 5 8 9 10 45 15 20 "
     ]
    }
   ],
   "source": [
    "# combination of sorted and set function \n",
    "a = [1, 5, 4, 2, 8, 9, 10, 45, 10, 2, 3, 15, 20]\n",
    "for i in set(sorted(a)):\n",
    "    print(i, end= ' ')\n",
    "    # removes all the duplicate values frome here "
   ]
  },
  {
   "cell_type": "code",
   "execution_count": 45,
   "metadata": {},
   "outputs": [
    {
     "name": "stdout",
     "output_type": "stream",
     "text": [
      "45 20 15 10 9 8 5 4 3 2 1 "
     ]
    }
   ],
   "source": [
    "# reversed ==> set ==> sorted\n",
    "a = [1, 5, 4, 2, 8, 9, 10, 45, 10, 2, 3, 15, 20]\n",
    "# for i in sorted(a):\n",
    "a = set(a)\n",
    "for i in reversed(sorted(a)):\n",
    "    print(i, end=' ')"
   ]
  },
  {
   "cell_type": "code",
   "execution_count": 58,
   "metadata": {},
   "outputs": [
    {
     "name": "stdout",
     "output_type": "stream",
     "text": [
      "9 8 7 6 5 4 3 2 1 "
     ]
    }
   ],
   "source": [
    "#  reverse in range \n",
    "for i in reversed(range(1, 10)):\n",
    "    print(i, end=' ')"
   ]
  },
  {
   "cell_type": "code",
   "execution_count": 61,
   "metadata": {},
   "outputs": [
    {
     "name": "stdout",
     "output_type": "stream",
     "text": [
      "10\n",
      "20\n"
     ]
    },
    {
     "data": {
      "text/plain": [
       "'this is docstring'"
      ]
     },
     "execution_count": 61,
     "metadata": {},
     "output_type": "execute_result"
    }
   ],
   "source": [
    "# functiona and module \n",
    "# default \n",
    "def a(a = 10, b = 20):\n",
    "    '''this is docstring'''\n",
    "    print(a)\n",
    "\n",
    "    print(b)\n",
    "\n",
    "a()\n",
    "a.__doc__"
   ]
  },
  {
   "cell_type": "code",
   "execution_count": 62,
   "metadata": {},
   "outputs": [
    {
     "name": "stdout",
     "output_type": "stream",
     "text": [
      "yogesh\n",
      "khanal\n",
      "Nakkhu\n"
     ]
    }
   ],
   "source": [
    "# keyword arguments \n",
    "# use just to be sure about the order of the data \n",
    "def name(fname, lname, address):\n",
    "    print(fname)\n",
    "    print(lname)\n",
    "    print(address)\n",
    "\n",
    "name(fname = 'yogesh', lname = 'khanal', address = 'Nakkhu')"
   ]
  },
  {
   "cell_type": "code",
   "execution_count": 67,
   "metadata": {},
   "outputs": [
    {
     "name": "stdout",
     "output_type": "stream",
     "text": [
      "hello <class 'tuple'>\n",
      "<class 'str'>\n",
      "python <class 'tuple'>\n",
      "<class 'str'>\n",
      "developers <class 'tuple'>\n",
      "<class 'str'>\n",
      "are u <class 'tuple'>\n",
      "<class 'str'>\n",
      "interested in ML? <class 'tuple'>\n",
      "<class 'str'>\n"
     ]
    }
   ],
   "source": [
    "# *args\n",
    "def args(*args):\n",
    "    for i in args:\n",
    "        print(i, end= ' ')\n",
    "        print(type(args))\n",
    "        print(type(i))\n",
    "\n",
    "args('hello', 'python', 'developers', 'are u', 'interested in ML?')"
   ]
  },
  {
   "cell_type": "code",
   "execution_count": 70,
   "metadata": {},
   "outputs": [
    {
     "name": "stdout",
     "output_type": "stream",
     "text": [
      "first : hello\n",
      "<class 'dict'>\n",
      "second : this is python class\n",
      "<class 'dict'>\n",
      "third : and we are python developer\n",
      "<class 'dict'>\n"
     ]
    }
   ],
   "source": [
    "# **kwargs\n",
    "def kwargs(**kwargs):\n",
    "    for key, value in kwargs.items():\n",
    "        print(f\"{key} : {value}\")\n",
    "        print(type(kwargs))\n",
    "\n",
    "kwargs(first='hello', second='this is python class', third='and we are python developer')"
   ]
  },
  {
   "cell_type": "code",
   "execution_count": 73,
   "metadata": {},
   "outputs": [],
   "source": [
    "# nestaed function \n",
    "def func1():\n",
    "    s = 'hey this is python course'\n",
    "\n",
    "    def func2():\n",
    "        print(s)\n",
    "\n",
    "    func2()\n",
    "\n",
    "func1()"
   ]
  },
  {
   "cell_type": "code",
   "execution_count": 75,
   "metadata": {},
   "outputs": [
    {
     "name": "stdout",
     "output_type": "stream",
     "text": [
      "python and java\n",
      "looking for python official documentions\n",
      "looking for python official documentions\n"
     ]
    }
   ],
   "source": [
    "# use of global keyword \n",
    "def f():\n",
    "    global s\n",
    "    s += ' and java'\n",
    "    print(s)\n",
    "\n",
    "    s = 'looking for python official documentions'\n",
    "    print(s)\n",
    "\n",
    "s = 'python'\n",
    "f()\n",
    "print(s) "
   ]
  },
  {
   "cell_type": "code",
   "execution_count": 76,
   "metadata": {},
   "outputs": [
    {
     "name": "stdout",
     "output_type": "stream",
     "text": [
      "global:  1\n",
      "inside f():  1\n",
      "global:  1\n",
      "inside g():  2\n",
      "global:  1\n",
      "inside h():  3\n",
      "global:  3\n"
     ]
    }
   ],
   "source": [
    "# using local and global variable \n",
    "a = 1\n",
    "def f():\n",
    "    print('inside f(): ', a)\n",
    "\n",
    "#  a is redefined \n",
    "def g():\n",
    "    a = 2\n",
    "    print('inside g(): ', a)\n",
    "\n",
    "# using global variable to modified global 'a'\n",
    "def h():\n",
    "    global a\n",
    "    a = 3\n",
    "    print('inside h(): ', a)\n",
    "\n",
    "# global scope \n",
    "print('global: ', a)\n",
    "f()\n",
    "print('global: ', a)\n",
    "g()\n",
    "print('global: ', a)\n",
    "h()\n",
    "print('global: ', a)\n"
   ]
  },
  {
   "cell_type": "code",
   "execution_count": 80,
   "metadata": {},
   "outputs": [
    {
     "name": "stdout",
     "output_type": "stream",
     "text": [
      "['__doc__', '__loader__', '__name__', '__package__', '__spec__', 'acos', 'acosh', 'asin', 'asinh', 'atan', 'atan2', 'atanh', 'ceil', 'comb', 'copysign', 'cos', 'cosh', 'degrees', 'dist', 'e', 'erf', 'erfc', 'exp', 'expm1', 'fabs', 'factorial', 'floor', 'fmod', 'frexp', 'fsum', 'gamma', 'gcd', 'hypot', 'inf', 'isclose', 'isfinite', 'isinf', 'isnan', 'isqrt', 'lcm', 'ldexp', 'lgamma', 'log', 'log10', 'log1p', 'log2', 'modf', 'nan', 'nextafter', 'perm', 'pi', 'pow', 'prod', 'radians', 'remainder', 'sin', 'sinh', 'sqrt', 'tan', 'tanh', 'tau', 'trunc', 'ulp']\n",
      "['In', 'Out', '_', '_61', '__', '___', '__builtin__', '__builtins__', '__doc__', '__loader__', '__name__', '__package__', '__spec__', '_dh', '_i', '_i1', '_i10', '_i11', '_i12', '_i13', '_i14', '_i15', '_i16', '_i17', '_i18', '_i19', '_i2', '_i20', '_i21', '_i22', '_i23', '_i24', '_i25', '_i26', '_i27', '_i28', '_i29', '_i3', '_i30', '_i31', '_i32', '_i33', '_i34', '_i35', '_i36', '_i37', '_i38', '_i39', '_i4', '_i40', '_i41', '_i42', '_i43', '_i44', '_i45', '_i46', '_i47', '_i48', '_i49', '_i5', '_i50', '_i51', '_i52', '_i53', '_i54', '_i55', '_i56', '_i57', '_i58', '_i59', '_i6', '_i60', '_i61', '_i62', '_i63', '_i64', '_i65', '_i66', '_i67', '_i68', '_i69', '_i7', '_i70', '_i71', '_i72', '_i73', '_i74', '_i75', '_i76', '_i77', '_i78', '_i79', '_i8', '_i80', '_i9', '_ih', '_ii', '_iii', '_oh', 'a', 'answer', 'answers', 'args', 'b', 'count', 'd', 'exit', 'f', 'func1', 'g', 'get_ipython', 'h', 'i', 'key', 'kwargs', 'l', 'math', 'name', 'os', 'question', 'questions', 'quit', 's', 'surname', 'sys', 'value']\n"
     ]
    }
   ],
   "source": [
    "import math\n",
    "print(dir(math))\n",
    "print(dir())"
   ]
  },
  {
   "cell_type": "code",
   "execution_count": 82,
   "metadata": {},
   "outputs": [
    {
     "name": "stdout",
     "output_type": "stream",
     "text": [
      "\n",
      "After the first shuffle : \n",
      "['E', 'C', 'A', 'B', 'D']\n",
      "\n",
      "After the second shuffle : \n",
      "['E', 'C', 'B', 'A', 'D']\n"
     ]
    }
   ],
   "source": [
    "# first shuffle\n",
    "import random\n",
    "\n",
    "sample_list = ['A', 'B', 'C', 'D', 'E']\n",
    "\n",
    "random.shuffle(sample_list)\n",
    "print(\"\\nAfter the first shuffle : \")\n",
    "print(sample_list)\n",
    "\n",
    "# second shuffle\n",
    "random.shuffle(sample_list)\n",
    "print(\"\\nAfter the second shuffle : \")\n",
    "print(sample_list)"
   ]
  },
  {
   "cell_type": "code",
   "execution_count": 84,
   "metadata": {},
   "outputs": [
    {
     "name": "stdout",
     "output_type": "stream",
     "text": [
      "242\n",
      "244\n",
      "607\n"
     ]
    }
   ],
   "source": [
    "# importing random module\n",
    "import random\n",
    "\n",
    "# Any number can be used in place of '3'.\n",
    "random.seed(4)\n",
    "# print a random number between 1 and 1000.\n",
    "print(random.randint(1, 1000))\n",
    "# if you want to get the same random number again then,\n",
    "random.seed(3)\n",
    "print(random.randint(1, 1000))\n",
    "# If seed function is not used\n",
    "# Gives totally unpredictable responses.\n",
    "print(random.randint(1, 1000))"
   ]
  },
  {
   "cell_type": "code",
   "execution_count": 85,
   "metadata": {},
   "outputs": [
    {
     "name": "stdout",
     "output_type": "stream",
     "text": [
      "\n",
      "Printing in HEX with the use of Escape Sequences: \n",
      "This is HEX representation\n",
      "\n",
      "Printing Raw String in HEX Format: \n",
      "This is \\x61 \\ngood example\n"
     ]
    }
   ],
   "source": [
    "# string \n",
    "# Printing Hex in HEX\n",
    "String1 = \"This is \\x48\\x45\\x58 representation\"\n",
    "print(\"\\nPrinting in HEX with the use of Escape Sequences: \")\n",
    "print(String1)\n",
    "# Using raw String to\n",
    "# ignore Escape Sequences\n",
    "String1 = r\"This is \\x61 \\ngood example\"\n",
    "print(\"\\nPrinting Raw String in HEX Format: \")\n",
    "print(String1)"
   ]
  },
  {
   "cell_type": "code",
   "execution_count": 86,
   "metadata": {},
   "outputs": [
    {
     "name": "stdout",
     "output_type": "stream",
     "text": [
      "HelloWorld\n",
      "Hello World\n"
     ]
    }
   ],
   "source": [
    "# Python program to demonstrate\n",
    "# string concatenation\n",
    "\n",
    "var1 = \"Hello\"\n",
    "var2 = \"World\"\n",
    "# join() method is used to combine the strings\n",
    "print(\"\".join([var1, var2]))\n",
    "# join() method is used here to combine\n",
    "# the string with a separator Space(\" \")\n",
    "var3 = \" \".join([var1, var2])\n",
    "print(var3)"
   ]
  },
  {
   "cell_type": "code",
   "execution_count": 92,
   "metadata": {},
   "outputs": [
    {
     "name": "stdout",
     "output_type": "stream",
     "text": [
      "P\n",
      "y\n",
      "t\n",
      "h\n",
      "o\n",
      "n\n"
     ]
    }
   ],
   "source": [
    "# Code #2\n",
    "string_name = \"Python\"\n",
    "# Iterate over index\n",
    "for element in range( len(string_name)):\n",
    "    print(string_name[element])"
   ]
  },
  {
   "cell_type": "code",
   "execution_count": 93,
   "metadata": {},
   "outputs": [
    {
     "name": "stdout",
     "output_type": "stream",
     "text": [
      "['Python', 'Javascript', 'C++']\n",
      "['Python', '\\nJavascript \\nC++']\n"
     ]
    }
   ],
   "source": [
    "line = \"Python \\nJavascript \\nC++\"\n",
    "print(line.split())\n",
    "print(line.split(' ', 1))"
   ]
  },
  {
   "cell_type": "code",
   "execution_count": 94,
   "metadata": {},
   "outputs": [
    {
     "name": "stdout",
     "output_type": "stream",
     "text": [
      "The first occurrence of str2 is at : 9\n",
      "The last occurrence of str2 is at : 23\n"
     ]
    }
   ],
   "source": [
    "# Python code to demonstrate working of\n",
    "# find() and rfind()\n",
    "str = \"pythonforpython is for python\"\n",
    "str2 = \"python\"\n",
    "# using find() to find first occurrence of str2\n",
    "# returns 8\n",
    "print (\"The first occurrence of str2 is at : \", end=\"\")\n",
    "print (str.find( str2, 4) )\n",
    "# using rfind() to find last occurrence of str2\n",
    "# returns 21\n",
    "print (\"The last occurrence of str2 is at : \", end=\"\")\n",
    "print ( str.rfind( str2, 4) )"
   ]
  },
  {
   "cell_type": "code",
   "execution_count": 96,
   "metadata": {},
   "outputs": [
    {
     "name": "stdout",
     "output_type": "stream",
     "text": [
      " The lower case converted string is : python is used for web development, machine learning and ai\n",
      " The upper case converted string is : PYTHON IS USED FOR WEB DEVELOPMENT, MACHINE LEARNING AND AI\n",
      " The swap case converted string is : pYTHON IS USED FOR wEB dEVELOPMENT, mACHINE lEARNING AND ai\n"
     ]
    }
   ],
   "source": [
    "# Python code to demonstrate working of\n",
    "# upper(), lower(), swapcase() and title()\n",
    "str = \"Python is used for Web Development, Machine Learning and AI\"\n",
    "# Converting string into its lower case\n",
    "str1 = str.lower()\n",
    "print (\" The lower case converted string is : \" + str1)\n",
    "# Converting string into its upper case\n",
    "str2 = str.upper()\n",
    "print (\" The upper case converted string is : \" + str2)\n",
    "# Converting string into its swapped case\n",
    "str3 = str.swapcase()\n",
    "print (\" The swap case converted string is : \" + str3)"
   ]
  },
  {
   "cell_type": "code",
   "execution_count": 97,
   "metadata": {},
   "outputs": [
    {
     "name": "stdout",
     "output_type": "stream",
     "text": [
      " The length of string is :  35\n",
      " Number of appearance of python is : 1\n"
     ]
    }
   ],
   "source": [
    "# Python code to demonstrate working of\n",
    "# len() and count()\n",
    "str = \"python for Automation and Scripting\"\n",
    "# Printing length of string using len()\n",
    "print (\" The length of string is : \", len(str));\n",
    "# Printing occurrence of \"python\" in string\n",
    "# Prints 2 as it only checks till 15th element\n",
    "print (\" Number of appearance of \"\"python\"\" is : \",end=\"\")\n",
    "print (str.count(\"python\",0,15))"
   ]
  },
  {
   "cell_type": "code",
   "execution_count": 2,
   "metadata": {},
   "outputs": [
    {
     "name": "stdout",
     "output_type": "stream",
     "text": [
      "All characters are not alphabets in str\n",
      "All characters are numbers in str1\n",
      "All characters are not spaces in str1\n"
     ]
    }
   ],
   "source": [
    "# Python code to demonstrate working of\n",
    "# isalpha(), isalnum(), isspace()\n",
    "str = \"Hello world\"\n",
    "str1 = \"123\"\n",
    "# Checking if str has all alphabets\n",
    "if (str.isalpha()):\n",
    "    print (\"All characters are alphabets in str\")\n",
    "else : print (\"All characters are not alphabets in str\")\n",
    "# Checking if str1 has all numbers\n",
    "if (str1.isalnum()):\n",
    "    print (\"All characters are numbers in str1\")\n",
    "else : print (\"All characters are not numbers in str1\")\n",
    "# Checking if str1 has all spaces\n",
    "if (str1.isspace()):\n",
    "    print (\"All characters are spaces in str1\")\n",
    "else : print (\"All characters are not spaces in str1\")"
   ]
  },
  {
   "cell_type": "code",
   "execution_count": 1,
   "metadata": {},
   "outputs": [
    {
     "name": "stdout",
     "output_type": "stream",
     "text": [
      "Initial String: \n",
      "Python Programming\n",
      "\n",
      "First character of String is: \n",
      "P\n",
      "\n",
      "Last character of String is: \n",
      "g\n"
     ]
    }
   ],
   "source": [
    "# Python Program to Access\n",
    "# characters of String\n",
    "String1 = \"Python Programming\"\n",
    "print(\"Initial String: \")\n",
    "print(String1)\n",
    "# Printing First character\n",
    "print(\"\\nFirst character of String is: \")\n",
    "print(String1[0])\n",
    "# Printing Last character\n",
    "print(\"\\nLast character of String is: \")\n",
    "print(String1[-1])"
   ]
  },
  {
   "cell_type": "code",
   "execution_count": 4,
   "metadata": {},
   "outputs": [
    {
     "name": "stdout",
     "output_type": "stream",
     "text": [
      "''\n",
      "''\n",
      "'python'\n"
     ]
    }
   ],
   "source": [
    "str1 = ''\n",
    "str2 = 'python'\n",
    "# repr is used to print the string along with the quotes\n",
    "# Returns str1\n",
    "print(repr(str1 and str2))\n",
    "# Returns str1\n",
    "print(repr(str2 and str1))\n",
    "# Returns str2\n",
    "print(repr(str1 or str2))"
   ]
  },
  {
   "cell_type": "code",
   "execution_count": 7,
   "metadata": {},
   "outputs": [
    {
     "name": "stdout",
     "output_type": "stream",
     "text": [
      "['Python', 'Javascript', 'C++']\n",
      "['Python', 'Javascript', 'C++']\n"
     ]
    }
   ],
   "source": [
    "line = \"Python \\nJavascript \\nC++\"\n",
    "print(line.split())\n",
    "print(line.split(' ', 1)) # split on space for one time"
   ]
  },
  {
   "cell_type": "code",
   "execution_count": 51,
   "metadata": {},
   "outputs": [
    {
     "name": "stdout",
     "output_type": "stream",
     "text": [
      "capatalize: Hello python developers\n",
      "casefold: hello python developers\n",
      "find: -1\n",
      "rfind: -1\n",
      "startwith: False\n",
      "Endswith: False\n",
      "islower: True\n",
      "isupper: False\n",
      "upper: HELLO PYTHON DEVELOPERS\n",
      "lower: hello python developers\n",
      "swapecase: HELLO PYTHON DEVELOPERS\n",
      "title: Hello Python Developers\n",
      "len: 23\n",
      "count: 3\n",
      "center: hello python developers\n",
      "ljust: hello python developers\n",
      "rjust: hello python developers\n",
      "isalpha: False\n",
      "isnum: False\n",
      "isspace: False\n",
      "join: -hello python developers-hello python developers hello python developerswhello python developersehello python developerslhello python developerschello python developersohello python developersmhello python developersehello python developers hello python developersthello python developersohello python developers hello python developersrhello python developersehello python developersahello python developerslhello python developers hello python developerswhello python developersohello python developersrhello python developerslhello python developersdhello python developers hello python developersphello python developersyhello python developersthello python developershhello python developersohello python developersnhello python developers hello python developers-hello python developers-\n",
      "strip: hello python developers\n",
      "ltrip: hello python developers\n",
      "rtrip: hello python developers\n",
      "min: ' '\n",
      "max: y\n",
      "replace: -- welcome to real world python --\n",
      "split: ['hello', 'python', 'developers']\n",
      "partation: ('hello ', 'python', ' developers')\n"
     ]
    }
   ],
   "source": [
    "# trying the function of string methods \n",
    "str1 = 'hello python developers'\n",
    "str2 = '-- welcome to real world python --'\n",
    "\n",
    "# capatalize\n",
    "print(f'capatalize: {str1.capitalize()}')\n",
    "\n",
    "# casefold\n",
    "print(f'casefold: {str1.casefold()}')\n",
    "\n",
    "# find\n",
    "print(f'find: {str1.find(str2)}') # if nothing is found return -1\n",
    "\n",
    "# rfind\n",
    "print(f'rfind: {str1.rfind(str2)}') # if nothing is found return -1\n",
    "\n",
    "# startwith\n",
    "print(f'startwith: {str1.startswith(str2)}')\n",
    "\n",
    "# endswith \n",
    "print(f'Endswith: {str1.endswith(str2)}')\n",
    "\n",
    "# islower\n",
    "print(f'islower: {str1.islower()}')\n",
    "\n",
    "# isupper\n",
    "print(f'isupper: {str1.isupper()}')\n",
    "\n",
    "# upper\n",
    "print(f'upper: {str1.upper()}')\n",
    "\n",
    "# lower\n",
    "print(f'lower: {str1.lower()}')\n",
    "\n",
    "# swapcase\n",
    "print(f'swapecase: {str1.swapcase()}')\n",
    "\n",
    "# title\n",
    "print(f'title: {str1.title()}')\n",
    "\n",
    "# len()\n",
    "print(f'len: {str1.__len__()}')\n",
    "\n",
    "# count\n",
    "# print(f'count: {str1.count(str2)}')\n",
    "print(f'count: {str1.count(\"l\")}')\n",
    "\n",
    "# center \n",
    "print(f'center: {str1.center(20, \"l\")}')\n",
    "\n",
    "# ljust\n",
    "print(f'ljust: {str1.ljust(20, \" \")}')\n",
    "\n",
    "# rjust\n",
    "print(f'rjust: {str1.rjust(20, \" \")}')\n",
    "\n",
    "# isalpha\n",
    "print(f'isalpha: {str1.isalpha()}')\n",
    "\n",
    "# isnum \n",
    "print(f'isnum: {str1.isalnum()}')\n",
    "\n",
    "# isspace \n",
    "print(f'isspace: {str1.isspace()}')\n",
    "\n",
    "# join \n",
    "print(f'join: {str1.join(str2)}')\n",
    "\n",
    "# strip\n",
    "print(f'strip: {str1.strip(\"-\")}')\n",
    "\n",
    "# ltrip\n",
    "print(f'ltrip: {str1.lstrip(\"-\")}')\n",
    "\n",
    "# rtrip\n",
    "print(f'rtrip: {str1.rstrip(\"-\")}')\n",
    "\n",
    "# min \n",
    "print(f'min: {repr(min(str1))}')\n",
    "\n",
    "# max\n",
    "print(f'max: {max(str1)}')\n",
    "\n",
    "# replace \n",
    "print(f'replace: {str1.replace(str1, str2)}')\n",
    "\n",
    "# split \n",
    "print(f'split: {str1.split(\" \")}')\n",
    "\n",
    "# partion\n",
    "print(f'partation: {str1.partition(\"python\")}')"
   ]
  },
  {
   "cell_type": "code",
   "execution_count": 57,
   "metadata": {},
   "outputs": [
    {
     "name": "stdout",
     "output_type": "stream",
     "text": [
      "1\n",
      "3\n",
      "5\n",
      "7\n",
      "9\n",
      "Concatenated list is :  [1, 4, 5, 6, 5, 3, 5, 7, 2, 5]\n",
      "[1, 4, 5, 6, 5, 3, 5, 7, 2, 5]\n"
     ]
    }
   ],
   "source": [
    "# Python3 code to iterate over a list\n",
    "l = [1, 3, 5, 7, 9]\n",
    "# Using list comprehension\n",
    "[print(i) for i in l]\n",
    "\n",
    "# Python3 code to demonstrate list\n",
    "# concatenation using list comprehension\n",
    "# Initializing lists\n",
    "l1 = [1, 4, 5, 6, 5]\n",
    "l2 = [3, 5, 7, 2, 5]\n",
    "# using list comprehension to concat\n",
    "res_list = [y for x in [l1, l2] for y in x]\n",
    "# Printing concatenated list\n",
    "print(\"Concatenated list is : \", res_list)\n",
    "\n",
    "# Initializing lists\n",
    "l3 = [1, 4, 5, 6, 5]\n",
    "l4 = [3, 5, 7, 2, 5]\n",
    "# using list.extend() to concat\n",
    "l3.extend(l4)\n",
    "# Printing concatenated list\n",
    "print(l3)"
   ]
  },
  {
   "cell_type": "code",
   "execution_count": 91,
   "metadata": {},
   "outputs": [
    {
     "name": "stdout",
     "output_type": "stream",
     "text": [
      "[1, 2, 3, 4]\n",
      "[1, 2, 3, 4, 5]\n",
      "[1, 2, 3, 4, 5, 5, 6, 7, 8]\n",
      "[1, 2, 20, 3, 4, 5, 5, 6, 7, 8]\n",
      "[2, 20, 3, 4, 5, 5, 6, 7, 8]\n",
      "5 os removerd from list\n",
      "[2, 20, 3, 4, 5, 6, 7, 8]\n",
      "[]\n",
      "20 at index of 1\n",
      "[2, 20, 3, 4, 5, 6, 7, 8]\n",
      "the number of 6 in the list is 1\n",
      "[2, 3, 4, 5, 6, 7, 8, 20]\n",
      "[20, 8, 7, 6, 5, 4, 3, 2]\n",
      "the copyed list is: [20, 8, 7, 6, 5, 4, 3, 2]\n",
      "20\n",
      "55\n",
      "2\n",
      "True\n",
      "True\n"
     ]
    }
   ],
   "source": [
    "list1 = [1, 2, 3, 4]\n",
    "list2 = [10, 20, 30, 40]\n",
    "print(list1)\n",
    "\n",
    "# append\n",
    "list1.append(5)\n",
    "print(list1)\n",
    "# extend \n",
    "a = [5, 6, 7, 8]\n",
    "list1.extend(a)\n",
    "print(list1)\n",
    "\n",
    "# insert\n",
    "list1.insert(2, 20)\n",
    "print(list1)\n",
    "\n",
    "# remove\n",
    "list1.remove(1)\n",
    "print(list1)\n",
    "\n",
    "# pop\n",
    "a = list1.pop(5)\n",
    "print(f'{a} os removerd from list')\n",
    "print(list1)\n",
    "\n",
    "# clear\n",
    "list2.clear()\n",
    "print(list2)\n",
    "\n",
    "# index \n",
    "b = list1.index(20)\n",
    "print(f'20 at index of {b}')\n",
    "print(list1)\n",
    "\n",
    "# count\n",
    "c = list1.count(6)\n",
    "print(f'the number of 6 in the list is {c}')\n",
    "\n",
    "# sort \n",
    "list1.sort()\n",
    "print(list1)\n",
    "\n",
    "# reverse \n",
    "list1.reverse()\n",
    "print(list1)\n",
    "\n",
    "# copy \n",
    "list2 = list1.copy()\n",
    "print(f'the copyed list is: {list2}')\n",
    "\n",
    "# max  \n",
    "d = max(list1)\n",
    "print(d)\n",
    "\n",
    "# sum\n",
    "e = sum(list1)\n",
    "print(e)\n",
    "\n",
    "# min \n",
    "f = min(list1)\n",
    "print(f)\n",
    "\n",
    "# all\n",
    "g = all(list1)\n",
    "print(g)\n",
    "\n",
    "# any\n",
    "h = any(list1)\n",
    "print(h)"
   ]
  },
  {
   "cell_type": "code",
   "execution_count": 101,
   "metadata": {},
   "outputs": [
    {
     "name": "stdout",
     "output_type": "stream",
     "text": [
      "(1, 2, 3, 4, 5)\n",
      "a at index 3\n",
      "1 is repeated for 1 times\n",
      "any: True\n",
      "any: True\n",
      "len: 5\n",
      "max: 5\n",
      "min: 1\n",
      "sum: 15\n",
      "sorted: [1, 2, 3, 4, 5]\n",
      "tuple: (1, 2, 3, 4, 5)\n"
     ]
    }
   ],
   "source": [
    "# tuple un-packing \n",
    "t = 1, 2, 3, 4, 5\n",
    "a, b, c, d, e = t\n",
    "print(t)\n",
    "\n",
    "# list and tuple cant be join\n",
    "# error \n",
    "# l = [1, 21, 3]\n",
    "# c = l + t\n",
    "# print(c)\n",
    "\n",
    "# index \n",
    "a = t.index(4)\n",
    "print(f'a at index {a}')\n",
    "\n",
    "# count\n",
    "b = t.count(1)\n",
    "print(f'1 is repeated for {b} times')\n",
    "\n",
    "# all\n",
    "c = all(t)\n",
    "print(f'any: {c}')\n",
    "\n",
    "# any\n",
    "d = any(t)\n",
    "print(f'any: {d}')\n",
    "\n",
    "# len\n",
    "e = len(t)\n",
    "print(f'len: {e}')\n",
    "\n",
    "# max\n",
    "f = max(t)\n",
    "print(f'max: {f}')\n",
    "\n",
    "# min\n",
    "g = min(t)\n",
    "print(f'min: {g}')\n",
    "\n",
    "# sum \n",
    "i = sum(t)\n",
    "print(f'sum: {i}')\n",
    "\n",
    "# sorted\n",
    "j= sorted(t)\n",
    "print(f'sorted: {j}')\n",
    "\n",
    "# tuple\n",
    "k = tuple(t)\n",
    "print(f'tuple: {k}')"
   ]
  },
  {
   "cell_type": "code",
   "execution_count": 111,
   "metadata": {},
   "outputs": [
    {
     "name": "stdout",
     "output_type": "stream",
     "text": [
      "set()\n",
      "{5}\n",
      "{1, 2, 3, 4, 5, 7, 8, 9, 10}\n",
      "{1, 3, 4, 5, 7, 8, 9, 10}\n",
      "{3, 4, 5, 7, 8, 9, 10}\n",
      "{4, 5, 7, 8, 9, 10}\n",
      "set()\n",
      "set1 U set2 :  {2, 4, 5, 6, 7, 8}\n",
      "set1 U set2 U set3 : {2, 4, 5, 6, 7, 8, 9, 10}\n",
      "{10, 20}\n",
      "{100, 60}\n",
      "{20, 10}\n",
      "set1 and set2 are disjoint? True\n",
      "set1 and set3 are disjoint? False\n"
     ]
    }
   ],
   "source": [
    "a = set()\n",
    "print(a)\n",
    "a.add(5)\n",
    "print(a)\n",
    "a.update({1, 2, 3, 4, 5, 7, 8, 9, 10})\n",
    "print(a)\n",
    "a.remove(2)\n",
    "print(a)\n",
    "a.discard(1)\n",
    "print(a)\n",
    "\n",
    "a.pop()\n",
    "print(a)\n",
    "\n",
    "a.clear()\n",
    "print(a)\n",
    "\n",
    "# Python3 program for union() function\n",
    "set1 = {2, 4, 5, 6}\n",
    "set2 = {4, 6, 7, 8}\n",
    "set3 = {7, 8, 9, 10}\n",
    "# union of two sets\n",
    "print(\"set1 U set2 : \", set1.union(set2))\n",
    "# union of three sets\n",
    "print(\"set1 U set2 U set3 :\", set1.union(set2, set3))\n",
    "\n",
    "# Python code to get the difference between two sets\n",
    "# using difference() between set A and set B\n",
    "# Driver Code\n",
    "A = {10, 20, 30, 40, 80}\n",
    "B = {100, 30, 80, 40, 60}\n",
    "print (A.difference(B))\n",
    "print (B.difference(A))\n",
    "#print (A - B)\n",
    "#print (B - A)\n",
    "\n",
    "\n",
    "# Python code to get the difference between two sets\n",
    "# using difference_update() between set A and set B\n",
    "# Driver Code\n",
    "A = {10, 20, 30, 40, 80}\n",
    "B = {100, 30, 80, 40, 60}\n",
    "# Modifies A and returns None\n",
    "A.difference_update(B)\n",
    "# Prints the modified set\n",
    "print(A)\n",
    "\n",
    "# Python3 program for isdisjoint() function\n",
    "set1 = {2, 4, 5, 6}\n",
    "set2 = {7, 8, 9, 10}\n",
    "set3 = {1, 2}\n",
    "# checking of disjoint of two sets\n",
    "print(\"set1 and set2 are disjoint?\",\n",
    "set1.isdisjoint(set2))\n",
    "print(\"set1 and set3 are disjoint?\",\n",
    "set1.isdisjoint(set3))"
   ]
  },
  {
   "cell_type": "code",
   "execution_count": 115,
   "metadata": {},
   "outputs": [
    {
     "name": "stdout",
     "output_type": "stream",
     "text": [
      "Dictionary: {'A': 'Python', 'B': 'Javascript', 'C': None}\n",
      "Third_value: None\n",
      "Dictionary: {'A': 'Python', 'B': 'Javascript', 'C': None, 'D': 'Geeks'}\n",
      "Fourth_value: Geeks\n"
     ]
    }
   ],
   "source": [
    "# Python program to show working\n",
    "# of setdefault() method in Dictionary\n",
    "# Dictionary with single item\n",
    "d = { 'A': 'Python', 'B': 'Javascript'}\n",
    "# using setdefault() method\n",
    "# when key is not in the Dictionary\n",
    "Third_value = d.setdefault('C')\n",
    "print(\"Dictionary:\", d)\n",
    "print(\"Third_value:\", Third_value)\n",
    "# using setdefault() method\n",
    "# when key is not in the Dictionary\n",
    "# but default value is provided\n",
    "Fourth_value = d.setdefault('D', 'Geeks')\n",
    "print(\"Dictionary:\", d)\n",
    "print(\"Fourth_value:\", Fourth_value)"
   ]
  },
  {
   "cell_type": "code",
   "execution_count": null,
   "metadata": {},
   "outputs": [],
   "source": []
  }
 ],
 "metadata": {
  "interpreter": {
   "hash": "73b4fb914614748e1b4d5ae3804a556d6d463f357c4fc043afe155ac08cb1c28"
  },
  "kernelspec": {
   "display_name": "Python 3.9.6 64-bit",
   "language": "python",
   "name": "python3"
  },
  "language_info": {
   "codemirror_mode": {
    "name": "ipython",
    "version": 3
   },
   "file_extension": ".py",
   "mimetype": "text/x-python",
   "name": "python",
   "nbconvert_exporter": "python",
   "pygments_lexer": "ipython3",
   "version": "3.9.6"
  },
  "orig_nbformat": 4
 },
 "nbformat": 4,
 "nbformat_minor": 2
}
