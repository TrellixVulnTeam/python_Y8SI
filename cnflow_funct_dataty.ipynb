{
 "cells": [
  {
   "cell_type": "code",
   "execution_count": 1,
   "metadata": {},
   "outputs": [
    {
     "name": "stdout",
     "output_type": "stream",
     "text": [
      "i am out of block\n"
     ]
    }
   ],
   "source": [
    "# if condition: if the certain condition willbe true then the block will continue \n",
    "i = 10 \n",
    "if (i> 15):\n",
    "    print('i am in block')\n",
    "print('i am out of block')"
   ]
  },
  {
   "cell_type": "code",
   "execution_count": 5,
   "metadata": {},
   "outputs": [
    {
     "name": "stdout",
     "output_type": "stream",
     "text": [
      "a 100\n",
      "b 200\n",
      "c 300\n"
     ]
    }
   ],
   "source": [
    "# iterating over dictionary \n",
    "d = {'a':100, 'b':200, 'c':300}\n",
    "for i in d :\n",
    "    print(i, d[i])\n",
    "    # here i represent a keys of dictionary and d[i] represent a value of dictionary "
   ]
  },
  {
   "cell_type": "code",
   "execution_count": 7,
   "metadata": {},
   "outputs": [
    {
     "name": "stdout",
     "output_type": "stream",
     "text": [
      "10 20 30 40 50 "
     ]
    }
   ],
   "source": [
    "# range for iteration \n",
    "l = [10, 20, 30, 40, 50]\n",
    "for i in range(len(l)):\n",
    "    print(l[i], end=' ')"
   ]
  },
  {
   "cell_type": "code",
   "execution_count": 13,
   "metadata": {},
   "outputs": [
    {
     "name": "stdout",
     "output_type": "stream",
     "text": [
      "4\n",
      "4\n",
      "4\n",
      "4\n",
      "4\n"
     ]
    }
   ],
   "source": [
    "# while loop \n",
    "a = [1, 2, 3, 4, 5, 6]\n",
    "b = 1\n",
    "while b < len(a):\n",
    "    b += 1\n",
    "    print(f\"{i}\")"
   ]
  },
  {
   "cell_type": "code",
   "execution_count": 14,
   "metadata": {},
   "outputs": [
    {
     "name": "stdout",
     "output_type": "stream",
     "text": [
      "hello yogesh\n",
      "hello mahesh\n",
      "hello khusal\n"
     ]
    }
   ],
   "source": [
    "count = 0\n",
    "while count < 3:\n",
    "    count += 1\n",
    "    a = input('Enter your name: ')\n",
    "    print(f'hello {a}')"
   ]
  },
  {
   "cell_type": "code",
   "execution_count": 15,
   "metadata": {},
   "outputs": [
    {
     "name": "stdout",
     "output_type": "stream",
     "text": [
      "0 The\n",
      "1 Big\n",
      "2 Bang\n",
      "3 Theory\n"
     ]
    }
   ],
   "source": [
    "for key, value in enumerate(['The', 'Big', 'Bang', 'Theory']):\n",
    "    print(key, value)\n"
   ]
  },
  {
   "cell_type": "code",
   "execution_count": 16,
   "metadata": {},
   "outputs": [
    {
     "name": "stdout",
     "output_type": "stream",
     "text": [
      "name : apple\n",
      "colour : red\n",
      "shape : a circle\n"
     ]
    }
   ],
   "source": [
    "# python code to demonstrate working of zip()\n",
    "# initializing list\n",
    "questions = ['name', 'colour', 'shape']\n",
    "answers = ['apple', 'red', 'a circle']\n",
    "# using zip() to combine two containers\n",
    "# and print values\n",
    "for question, answer in zip(questions, answers):\n",
    "    print(f\"{question} : {answer}\")\n",
    "#print(f'What is your {question}? I am {answer}.')"
   ]
  },
  {
   "cell_type": "code",
   "execution_count": 24,
   "metadata": {},
   "outputs": [
    {
     "name": "stdout",
     "output_type": "stream",
     "text": [
      "yogesh : khanal\n",
      "mahesh : khanal\n",
      "kusal : basnet\n"
     ]
    }
   ],
   "source": [
    "name = ['yogesh', 'mahesh', 'kusal']\n",
    "surname = ['khanal', 'khanal', 'basnet']\n",
    "for name, surname in zip(name, surname):\n",
    "    print(f'{name} : {surname}')"
   ]
  },
  {
   "cell_type": "code",
   "execution_count": 31,
   "metadata": {},
   "outputs": [
    {
     "name": "stdout",
     "output_type": "stream",
     "text": [
      "python : machine learning\n",
      "javascript : webdevelopemnt\n"
     ]
    }
   ],
   "source": [
    "# items \n",
    "a = {'python':'machine learning', 'javascript':'webdevelopemnt'}\n",
    "for key, value in a.items():\n",
    "    print(f'{key} : {value}')\n"
   ]
  },
  {
   "cell_type": "code",
   "execution_count": 34,
   "metadata": {},
   "outputs": [
    {
     "name": "stdout",
     "output_type": "stream",
     "text": [
      "1 2 2 3 4 5 8 9 10 10 15 20 45 "
     ]
    }
   ],
   "source": [
    "# sorted \n",
    "a = [1, 5, 4, 2, 8, 9, 10, 45, 10, 2, 3, 15, 20]\n",
    "for i in sorted(a):\n",
    "    print(i, end= ' ')"
   ]
  },
  {
   "cell_type": "code",
   "execution_count": 36,
   "metadata": {},
   "outputs": [
    {
     "name": "stdout",
     "output_type": "stream",
     "text": [
      "1 2 3 4 5 8 9 10 45 15 20 "
     ]
    }
   ],
   "source": [
    "# combination of sorted and set function \n",
    "a = [1, 5, 4, 2, 8, 9, 10, 45, 10, 2, 3, 15, 20]\n",
    "for i in set(sorted(a)):\n",
    "    print(i, end= ' ')\n",
    "    # removes all the duplicate values frome here "
   ]
  },
  {
   "cell_type": "code",
   "execution_count": 45,
   "metadata": {},
   "outputs": [
    {
     "name": "stdout",
     "output_type": "stream",
     "text": [
      "45 20 15 10 9 8 5 4 3 2 1 "
     ]
    }
   ],
   "source": [
    "# reversed ==> set ==> sorted\n",
    "a = [1, 5, 4, 2, 8, 9, 10, 45, 10, 2, 3, 15, 20]\n",
    "# for i in sorted(a):\n",
    "a = set(a)\n",
    "for i in reversed(sorted(a)):\n",
    "    print(i, end=' ')"
   ]
  },
  {
   "cell_type": "code",
   "execution_count": 58,
   "metadata": {},
   "outputs": [
    {
     "name": "stdout",
     "output_type": "stream",
     "text": [
      "9 8 7 6 5 4 3 2 1 "
     ]
    }
   ],
   "source": [
    "#  reverse in range \n",
    "for i in reversed(range(1, 10)):\n",
    "    print(i, end=' ')"
   ]
  },
  {
   "cell_type": "code",
   "execution_count": 61,
   "metadata": {},
   "outputs": [
    {
     "name": "stdout",
     "output_type": "stream",
     "text": [
      "10\n",
      "20\n"
     ]
    },
    {
     "data": {
      "text/plain": [
       "'this is docstring'"
      ]
     },
     "execution_count": 61,
     "metadata": {},
     "output_type": "execute_result"
    }
   ],
   "source": [
    "# functiona and module \n",
    "# default \n",
    "def a(a = 10, b = 20):\n",
    "    '''this is docstring'''\n",
    "    print(a)\n",
    "\n",
    "    print(b)\n",
    "\n",
    "a()\n",
    "a.__doc__"
   ]
  },
  {
   "cell_type": "code",
   "execution_count": 62,
   "metadata": {},
   "outputs": [
    {
     "name": "stdout",
     "output_type": "stream",
     "text": [
      "yogesh\n",
      "khanal\n",
      "Nakkhu\n"
     ]
    }
   ],
   "source": [
    "# keyword arguments \n",
    "# use just to be sure about the order of the data \n",
    "def name(fname, lname, address):\n",
    "    print(fname)\n",
    "    print(lname)\n",
    "    print(address)\n",
    "\n",
    "name(fname = 'yogesh', lname = 'khanal', address = 'Nakkhu')"
   ]
  },
  {
   "cell_type": "code",
   "execution_count": 67,
   "metadata": {},
   "outputs": [
    {
     "name": "stdout",
     "output_type": "stream",
     "text": [
      "hello <class 'tuple'>\n",
      "<class 'str'>\n",
      "python <class 'tuple'>\n",
      "<class 'str'>\n",
      "developers <class 'tuple'>\n",
      "<class 'str'>\n",
      "are u <class 'tuple'>\n",
      "<class 'str'>\n",
      "interested in ML? <class 'tuple'>\n",
      "<class 'str'>\n"
     ]
    }
   ],
   "source": [
    "# *args\n",
    "def args(*args):\n",
    "    for i in args:\n",
    "        print(i, end= ' ')\n",
    "        print(type(args))\n",
    "        print(type(i))\n",
    "\n",
    "args('hello', 'python', 'developers', 'are u', 'interested in ML?')"
   ]
  },
  {
   "cell_type": "code",
   "execution_count": 70,
   "metadata": {},
   "outputs": [
    {
     "name": "stdout",
     "output_type": "stream",
     "text": [
      "first : hello\n",
      "<class 'dict'>\n",
      "second : this is python class\n",
      "<class 'dict'>\n",
      "third : and we are python developer\n",
      "<class 'dict'>\n"
     ]
    }
   ],
   "source": [
    "# **kwargs\n",
    "def kwargs(**kwargs):\n",
    "    for key, value in kwargs.items():\n",
    "        print(f\"{key} : {value}\")\n",
    "        print(type(kwargs))\n",
    "\n",
    "kwargs(first='hello', second='this is python class', third='and we are python developer')"
   ]
  },
  {
   "cell_type": "code",
   "execution_count": 73,
   "metadata": {},
   "outputs": [],
   "source": [
    "# nestaed function \n",
    "def func1():\n",
    "    s = 'hey this is python course'\n",
    "\n",
    "    def func2():\n",
    "        print(s)\n",
    "\n",
    "    func2()\n",
    "\n",
    "func1()"
   ]
  },
  {
   "cell_type": "code",
   "execution_count": 75,
   "metadata": {},
   "outputs": [
    {
     "name": "stdout",
     "output_type": "stream",
     "text": [
      "python and java\n",
      "looking for python official documentions\n",
      "looking for python official documentions\n"
     ]
    }
   ],
   "source": [
    "# use of global keyword \n",
    "def f():\n",
    "    global s\n",
    "    s += ' and java'\n",
    "    print(s)\n",
    "\n",
    "    s = 'looking for python official documentions'\n",
    "    print(s)\n",
    "\n",
    "s = 'python'\n",
    "f()\n",
    "print(s) "
   ]
  },
  {
   "cell_type": "code",
   "execution_count": 76,
   "metadata": {},
   "outputs": [
    {
     "name": "stdout",
     "output_type": "stream",
     "text": [
      "global:  1\n",
      "inside f():  1\n",
      "global:  1\n",
      "inside g():  2\n",
      "global:  1\n",
      "inside h():  3\n",
      "global:  3\n"
     ]
    }
   ],
   "source": [
    "# using local and global variable \n",
    "a = 1\n",
    "def f():\n",
    "    print('inside f(): ', a)\n",
    "\n",
    "#  a is redefined \n",
    "def g():\n",
    "    a = 2\n",
    "    print('inside g(): ', a)\n",
    "\n",
    "# using global variable to modified global 'a'\n",
    "def h():\n",
    "    global a\n",
    "    a = 3\n",
    "    print('inside h(): ', a)\n",
    "\n",
    "# global scope \n",
    "print('global: ', a)\n",
    "f()\n",
    "print('global: ', a)\n",
    "g()\n",
    "print('global: ', a)\n",
    "h()\n",
    "print('global: ', a)\n"
   ]
  },
  {
   "cell_type": "code",
   "execution_count": 80,
   "metadata": {},
   "outputs": [
    {
     "name": "stdout",
     "output_type": "stream",
     "text": [
      "['__doc__', '__loader__', '__name__', '__package__', '__spec__', 'acos', 'acosh', 'asin', 'asinh', 'atan', 'atan2', 'atanh', 'ceil', 'comb', 'copysign', 'cos', 'cosh', 'degrees', 'dist', 'e', 'erf', 'erfc', 'exp', 'expm1', 'fabs', 'factorial', 'floor', 'fmod', 'frexp', 'fsum', 'gamma', 'gcd', 'hypot', 'inf', 'isclose', 'isfinite', 'isinf', 'isnan', 'isqrt', 'lcm', 'ldexp', 'lgamma', 'log', 'log10', 'log1p', 'log2', 'modf', 'nan', 'nextafter', 'perm', 'pi', 'pow', 'prod', 'radians', 'remainder', 'sin', 'sinh', 'sqrt', 'tan', 'tanh', 'tau', 'trunc', 'ulp']\n",
      "['In', 'Out', '_', '_61', '__', '___', '__builtin__', '__builtins__', '__doc__', '__loader__', '__name__', '__package__', '__spec__', '_dh', '_i', '_i1', '_i10', '_i11', '_i12', '_i13', '_i14', '_i15', '_i16', '_i17', '_i18', '_i19', '_i2', '_i20', '_i21', '_i22', '_i23', '_i24', '_i25', '_i26', '_i27', '_i28', '_i29', '_i3', '_i30', '_i31', '_i32', '_i33', '_i34', '_i35', '_i36', '_i37', '_i38', '_i39', '_i4', '_i40', '_i41', '_i42', '_i43', '_i44', '_i45', '_i46', '_i47', '_i48', '_i49', '_i5', '_i50', '_i51', '_i52', '_i53', '_i54', '_i55', '_i56', '_i57', '_i58', '_i59', '_i6', '_i60', '_i61', '_i62', '_i63', '_i64', '_i65', '_i66', '_i67', '_i68', '_i69', '_i7', '_i70', '_i71', '_i72', '_i73', '_i74', '_i75', '_i76', '_i77', '_i78', '_i79', '_i8', '_i80', '_i9', '_ih', '_ii', '_iii', '_oh', 'a', 'answer', 'answers', 'args', 'b', 'count', 'd', 'exit', 'f', 'func1', 'g', 'get_ipython', 'h', 'i', 'key', 'kwargs', 'l', 'math', 'name', 'os', 'question', 'questions', 'quit', 's', 'surname', 'sys', 'value']\n"
     ]
    }
   ],
   "source": [
    "import math\n",
    "print(dir(math))\n",
    "print(dir())"
   ]
  },
  {
   "cell_type": "code",
   "execution_count": 82,
   "metadata": {},
   "outputs": [
    {
     "name": "stdout",
     "output_type": "stream",
     "text": [
      "\n",
      "After the first shuffle : \n",
      "['E', 'C', 'A', 'B', 'D']\n",
      "\n",
      "After the second shuffle : \n",
      "['E', 'C', 'B', 'A', 'D']\n"
     ]
    }
   ],
   "source": [
    "# first shuffle\n",
    "import random\n",
    "\n",
    "sample_list = ['A', 'B', 'C', 'D', 'E']\n",
    "\n",
    "random.shuffle(sample_list)\n",
    "print(\"\\nAfter the first shuffle : \")\n",
    "print(sample_list)\n",
    "\n",
    "# second shuffle\n",
    "random.shuffle(sample_list)\n",
    "print(\"\\nAfter the second shuffle : \")\n",
    "print(sample_list)"
   ]
  },
  {
   "cell_type": "code",
   "execution_count": 84,
   "metadata": {},
   "outputs": [
    {
     "name": "stdout",
     "output_type": "stream",
     "text": [
      "242\n",
      "244\n",
      "607\n"
     ]
    }
   ],
   "source": [
    "# importing random module\n",
    "import random\n",
    "\n",
    "# Any number can be used in place of '3'.\n",
    "random.seed(4)\n",
    "# print a random number between 1 and 1000.\n",
    "print(random.randint(1, 1000))\n",
    "# if you want to get the same random number again then,\n",
    "random.seed(3)\n",
    "print(random.randint(1, 1000))\n",
    "# If seed function is not used\n",
    "# Gives totally unpredictable responses.\n",
    "print(random.randint(1, 1000))"
   ]
  },
  {
   "cell_type": "code",
   "execution_count": 85,
   "metadata": {},
   "outputs": [
    {
     "name": "stdout",
     "output_type": "stream",
     "text": [
      "\n",
      "Printing in HEX with the use of Escape Sequences: \n",
      "This is HEX representation\n",
      "\n",
      "Printing Raw String in HEX Format: \n",
      "This is \\x61 \\ngood example\n"
     ]
    }
   ],
   "source": [
    "# string \n",
    "# Printing Hex in HEX\n",
    "String1 = \"This is \\x48\\x45\\x58 representation\"\n",
    "print(\"\\nPrinting in HEX with the use of Escape Sequences: \")\n",
    "print(String1)\n",
    "# Using raw String to\n",
    "# ignore Escape Sequences\n",
    "String1 = r\"This is \\x61 \\ngood example\"\n",
    "print(\"\\nPrinting Raw String in HEX Format: \")\n",
    "print(String1)"
   ]
  },
  {
   "cell_type": "code",
   "execution_count": 86,
   "metadata": {},
   "outputs": [
    {
     "name": "stdout",
     "output_type": "stream",
     "text": [
      "HelloWorld\n",
      "Hello World\n"
     ]
    }
   ],
   "source": [
    "# Python program to demonstrate\n",
    "# string concatenation\n",
    "\n",
    "var1 = \"Hello\"\n",
    "var2 = \"World\"\n",
    "# join() method is used to combine the strings\n",
    "print(\"\".join([var1, var2]))\n",
    "# join() method is used here to combine\n",
    "# the string with a separator Space(\" \")\n",
    "var3 = \" \".join([var1, var2])\n",
    "print(var3)"
   ]
  },
  {
   "cell_type": "code",
   "execution_count": 92,
   "metadata": {},
   "outputs": [
    {
     "name": "stdout",
     "output_type": "stream",
     "text": [
      "P\n",
      "y\n",
      "t\n",
      "h\n",
      "o\n",
      "n\n"
     ]
    }
   ],
   "source": [
    "# Code #2\n",
    "string_name = \"Python\"\n",
    "# Iterate over index\n",
    "for element in range( len(string_name)):\n",
    "    print(string_name[element])"
   ]
  },
  {
   "cell_type": "code",
   "execution_count": 93,
   "metadata": {},
   "outputs": [
    {
     "name": "stdout",
     "output_type": "stream",
     "text": [
      "['Python', 'Javascript', 'C++']\n",
      "['Python', '\\nJavascript \\nC++']\n"
     ]
    }
   ],
   "source": [
    "line = \"Python \\nJavascript \\nC++\"\n",
    "print(line.split())\n",
    "print(line.split(' ', 1))"
   ]
  },
  {
   "cell_type": "code",
   "execution_count": 94,
   "metadata": {},
   "outputs": [
    {
     "name": "stdout",
     "output_type": "stream",
     "text": [
      "The first occurrence of str2 is at : 9\n",
      "The last occurrence of str2 is at : 23\n"
     ]
    }
   ],
   "source": [
    "# Python code to demonstrate working of\n",
    "# find() and rfind()\n",
    "str = \"pythonforpython is for python\"\n",
    "str2 = \"python\"\n",
    "# using find() to find first occurrence of str2\n",
    "# returns 8\n",
    "print (\"The first occurrence of str2 is at : \", end=\"\")\n",
    "print (str.find( str2, 4) )\n",
    "# using rfind() to find last occurrence of str2\n",
    "# returns 21\n",
    "print (\"The last occurrence of str2 is at : \", end=\"\")\n",
    "print ( str.rfind( str2, 4) )"
   ]
  },
  {
   "cell_type": "code",
   "execution_count": 96,
   "metadata": {},
   "outputs": [
    {
     "name": "stdout",
     "output_type": "stream",
     "text": [
      " The lower case converted string is : python is used for web development, machine learning and ai\n",
      " The upper case converted string is : PYTHON IS USED FOR WEB DEVELOPMENT, MACHINE LEARNING AND AI\n",
      " The swap case converted string is : pYTHON IS USED FOR wEB dEVELOPMENT, mACHINE lEARNING AND ai\n"
     ]
    }
   ],
   "source": [
    "# Python code to demonstrate working of\n",
    "# upper(), lower(), swapcase() and title()\n",
    "str = \"Python is used for Web Development, Machine Learning and AI\"\n",
    "# Converting string into its lower case\n",
    "str1 = str.lower()\n",
    "print (\" The lower case converted string is : \" + str1)\n",
    "# Converting string into its upper case\n",
    "str2 = str.upper()\n",
    "print (\" The upper case converted string is : \" + str2)\n",
    "# Converting string into its swapped case\n",
    "str3 = str.swapcase()\n",
    "print (\" The swap case converted string is : \" + str3)"
   ]
  },
  {
   "cell_type": "code",
   "execution_count": 97,
   "metadata": {},
   "outputs": [
    {
     "name": "stdout",
     "output_type": "stream",
     "text": [
      " The length of string is :  35\n",
      " Number of appearance of python is : 1\n"
     ]
    }
   ],
   "source": [
    "# Python code to demonstrate working of\n",
    "# len() and count()\n",
    "str = \"python for Automation and Scripting\"\n",
    "# Printing length of string using len()\n",
    "print (\" The length of string is : \", len(str));\n",
    "# Printing occurrence of \"python\" in string\n",
    "# Prints 2 as it only checks till 15th element\n",
    "print (\" Number of appearance of \"\"python\"\" is : \",end=\"\")\n",
    "print (str.count(\"python\",0,15))"
   ]
  },
  {
   "cell_type": "code",
   "execution_count": null,
   "metadata": {},
   "outputs": [],
   "source": [
    "# Python code to demonstrate working of\n",
    "# isalpha(), isalnum(), isspace()\n",
    "str = \"Hello world\"\n",
    "str1 = \"123\"\n",
    "# Checking if str has all alphabets\n",
    "if (str.isalpha()):\n",
    "    print (\"All characters are alphabets in str\")\n",
    "else : print (\"All characters are not alphabets in str\")\n",
    "# Checking if str1 has all numbers\n",
    "if (str1.isalnum()):\n",
    "    print (\"All characters are numbers in str1\")\n",
    "else : print (\"All characters are not numbers in str1\")\n",
    "# Checking if str1 has all spaces\n",
    "if (str1.isspace()):\n",
    "print (\"All characters are spaces in str1\")\n",
    "else : print (\"All characters are not spaces in str1\")"
   ]
  }
 ],
 "metadata": {
  "interpreter": {
   "hash": "73b4fb914614748e1b4d5ae3804a556d6d463f357c4fc043afe155ac08cb1c28"
  },
  "kernelspec": {
   "display_name": "Python 3.9.6 64-bit",
   "language": "python",
   "name": "python3"
  },
  "language_info": {
   "codemirror_mode": {
    "name": "ipython",
    "version": 3
   },
   "file_extension": ".py",
   "mimetype": "text/x-python",
   "name": "python",
   "nbconvert_exporter": "python",
   "pygments_lexer": "ipython3",
   "version": "3.9.6"
  },
  "orig_nbformat": 4
 },
 "nbformat": 4,
 "nbformat_minor": 2
}
