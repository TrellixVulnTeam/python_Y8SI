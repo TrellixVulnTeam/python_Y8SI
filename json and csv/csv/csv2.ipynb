{
 "cells": [
  {
   "cell_type": "code",
   "execution_count": 1,
   "metadata": {},
   "outputs": [
    {
     "name": "stdout",
     "output_type": "stream",
     "text": [
      "<csv.DictReader object at 0x000002539F3B5148>\n",
      "<class 'csv.DictReader'>\n",
      "John\n",
      "Mary\n",
      "Dave\n",
      "Jane\n",
      "Tom\n",
      "Steve\n",
      "Nicole\n",
      "Jane\n",
      "Jane\n",
      "Kurt\n",
      "Kurt\n",
      "Jane\n",
      "Neil\n",
      "Tom\n",
      "Sam\n",
      "Steve\n",
      "Maggie\n",
      "Maggie\n",
      "Jane\n",
      "Steve\n",
      "Dave\n",
      "Sam\n",
      "Kurt\n",
      "Sam\n",
      "Jane\n",
      "Dave\n",
      "Sam\n",
      "Tom\n",
      "Jane\n",
      "Maggie\n",
      "Mary\n",
      "Neil\n",
      "Corey\n",
      "Steve\n",
      "Jane\n",
      "John\n",
      "Neil\n",
      "Corey\n",
      "Corey\n",
      "Mary\n",
      "Jane\n",
      "Travis\n",
      "John\n",
      "Travis\n"
     ]
    }
   ],
   "source": [
    "import csv\n",
    "\n",
    "with open('names.csv', 'r') as csv_file:\n",
    "    csv_reader = csv.DictReader(csv_file)\n",
    "\n",
    "    print(csv_reader)\n",
    "    print(type(csv_reader))\n",
    "    for line in csv_reader:\n",
    "        print(line['first_name'])"
   ]
  },
  {
   "cell_type": "code",
   "execution_count": null,
   "metadata": {},
   "outputs": [],
   "source": []
  }
 ],
 "metadata": {
  "interpreter": {
   "hash": "d228e4a46486f17535ae5053cd36a1c5beabe34bcabcfa546a6958f5c5d52e5f"
  },
  "kernelspec": {
   "display_name": "Python 3.7.8rc1 64-bit",
   "language": "python",
   "name": "python3"
  },
  "language_info": {
   "codemirror_mode": {
    "name": "ipython",
    "version": 3
   },
   "file_extension": ".py",
   "mimetype": "text/x-python",
   "name": "python",
   "nbconvert_exporter": "python",
   "pygments_lexer": "ipython3",
   "version": "3.7.8rc1"
  },
  "orig_nbformat": 4
 },
 "nbformat": 4,
 "nbformat_minor": 2
}
