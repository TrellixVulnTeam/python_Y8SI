{
 "cells": [
  {
   "cell_type": "code",
   "execution_count": 2,
   "metadata": {},
   "outputs": [
    {
     "name": "stdout",
     "output_type": "stream",
     "text": [
      "<csv.DictReader object at 0x000001EEC29EBF08>\n",
      "<class 'csv.DictReader'>\n",
      "bagmati bhaktapur\n",
      "bagmati dhading\n",
      "bagmati kathmandu\n",
      "bagmati kavrepalanchok\n",
      "bagmati lalitpur\n",
      "bagmati nuwakot\n",
      "bagmati rasuwa\n",
      "bagmati sindhupalchok\n",
      "bheri banke\n",
      "bheri bardiya\n",
      "bheri dailekh\n",
      "bheri jajarkot\n",
      "bheri surkhet\n",
      "dhawalagiri baglung\n",
      "dhawalagiri mustang\n",
      "dhawalagiri myagdi\n",
      "dhawalagiri parbat\n",
      "gandaki gorkha\n",
      "gandaki kaski\n",
      "gandaki lamjung\n",
      "gandaki manang\n",
      "gandaki syangja\n",
      "gandaki tanahu\n",
      "janakpur dhanusa\n",
      "janakpur dholkha\n",
      "janakpur mahottari\n",
      "janakpur ramechhap\n",
      "janakpur sarlahi\n",
      "janakpur sindhuli\n",
      "karnali dolpa\n",
      "karnali humla\n",
      "karnali jumla\n",
      "karnali kalikot\n",
      "karnali mugu\n",
      "koshi bhojpur\n",
      "koshi dhankuta\n",
      "koshi morang\n",
      "koshi sankhuwasabha\n",
      "koshi sunsari\n",
      "koshi terhathum\n",
      "lumbini arghakhanchi\n",
      "lumbini gulmi\n",
      "lumbini kapilvastu\n",
      "lumbini nawalparasi\n",
      "lumbini palpa\n",
      "lumbini rupandehi\n",
      "mahakali baitadi\n",
      "mahakali dadeldhura\n",
      "mahakali darchula\n",
      "mahakali kanchanpur\n",
      "mechi ilam\n",
      "mechi jhapa\n",
      "mechi panchthar\n",
      "mechi taplejung\n",
      "narayani bara\n",
      "narayani chitwan\n",
      "narayani makwanpur\n",
      "narayani parsa\n",
      "narayani rautahat\n",
      "rapti dang deukhuri\n",
      "rapti pyuthan\n",
      "rapti rolpa\n",
      "rapti rukum\n",
      "rapti salyan\n",
      "sagarmatha khotang\n",
      "sagarmatha okhaldhunga\n",
      "sagarmatha saptari\n",
      "sagarmatha siraha\n",
      "sagarmatha solukhumbu\n",
      "sagarmatha udayapur\n",
      "seti achham\n",
      "seti bajhang\n",
      "seti bajura\n",
      "seti doti\n",
      "seti kailali\n"
     ]
    }
   ],
   "source": [
    "import csv\n",
    "\n",
    "with open('zone_with_district_headquater.csv', 'r') as csv_file:\n",
    "    csv_reader = csv.DictReader(csv_file)\n",
    "\n",
    "    print(csv_reader)\n",
    "    print(type(csv_reader))\n",
    "    for row in csv_reader:\n",
    "        print(row['Zone'], row['District'])"
   ]
  },
  {
   "cell_type": "code",
   "execution_count": null,
   "metadata": {},
   "outputs": [],
   "source": []
  }
 ],
 "metadata": {
  "interpreter": {
   "hash": "d228e4a46486f17535ae5053cd36a1c5beabe34bcabcfa546a6958f5c5d52e5f"
  },
  "kernelspec": {
   "display_name": "Python 3.7.8rc1 64-bit",
   "language": "python",
   "name": "python3"
  },
  "language_info": {
   "codemirror_mode": {
    "name": "ipython",
    "version": 3
   },
   "file_extension": ".py",
   "mimetype": "text/x-python",
   "name": "python",
   "nbconvert_exporter": "python",
   "pygments_lexer": "ipython3",
   "version": "3.7.8rc1"
  },
  "orig_nbformat": 4
 },
 "nbformat": 4,
 "nbformat_minor": 2
}
