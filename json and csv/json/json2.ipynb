{
 "cells": [
  {
   "cell_type": "code",
   "execution_count": 44,
   "metadata": {},
   "outputs": [
    {
     "name": "stdout",
     "output_type": "stream",
     "text": [
      "{'bagmati': [{'district': 'bhaktapur', 'headquarter': 'bhaktapur'}, {'district': 'dhading', 'headquarter': 'dhading besi'}, {'district': 'kathmandu', 'headquarter': 'kathmandu'}, {'district': 'kavrepalanchok', 'headquarter': 'dhulikhel'}, {'district': 'lalitpur', 'headquarter': 'patan'}, {'district': 'nuwakot', 'headquarter': 'bidur'}, {'district': 'rasuwa', 'headquarter': 'dhunche'}, {'district': 'sindhupalchok', 'headquarter': 'chautara'}], 'bheri': [{'district': 'banke', 'headquarter': 'nepalgunj'}, {'district': 'bardiya', 'headquarter': 'gulariya'}, {'district': 'dailekh', 'headquarter': 'dullu'}, {'district': 'jajarkot', 'headquarter': 'khalanga'}, {'district': 'surkhet', 'headquarter': 'surkhet'}], 'dhawalagiri': [{'district': 'baglung', 'headquarter': 'baglung'}, {'district': 'mustang', 'headquarter': 'jomsom'}, {'district': 'myagdi', 'headquarter': 'beni'}, {'district': 'parbat', 'headquarter': 'kusma'}], 'gandaki': [{'district': 'gorkha', 'headquarter': 'gorkha'}, {'district': 'kaski', 'headquarter': 'pokhara'}, {'district': 'lamjung', 'headquarter': 'bensi sahar'}, {'district': 'manang', 'headquarter': 'chame'}, {'district': 'syangja', 'headquarter': 'syangja'}, {'district': 'tanahu', 'headquarter': 'damauli'}], 'janakpur': [{'district': 'dhanusa', 'headquarter': 'janakpur'}, {'district': 'dholkha', 'headquarter': 'charikot'}, {'district': 'mahottari', 'headquarter': 'jaleswor'}, {'district': 'ramechhap', 'headquarter': 'manthali'}, {'district': 'sarlahi', 'headquarter': 'malangwa'}, {'district': 'sindhuli', 'headquarter': 'sindhuli madhi'}], 'karnali': [{'district': 'dolpa', 'headquarter': 'dolpa'}, {'district': 'humla', 'headquarter': 'simikot'}, {'district': 'jumla', 'headquarter': 'jumla khalanga'}, {'district': 'kalikot', 'headquarter': 'kalikot'}, {'district': 'mugu', 'headquarter': 'gamgadhi'}], 'koshi': [{'district': 'bhojpur', 'headquarter': 'bhojpur'}, {'district': 'dhankuta', 'headquarter': 'dhankuta'}, {'district': 'morang', 'headquarter': 'biratnagar'}, {'district': 'sankhuwasabha', 'headquarter': 'khandbari'}, {'district': 'sunsari', 'headquarter': 'inaruwa'}, {'district': 'terhathum', 'headquarter': 'manglung'}], 'lumbini': [{'district': 'arghakhanchi', 'headquarter': 'sandhikharka'}, {'district': 'gulmi', 'headquarter': 'tamghas'}, {'district': 'kapilvastu', 'headquarter': 'taulihawa'}, {'district': 'nawalparasi', 'headquarter': 'parasi'}, {'district': 'palpa', 'headquarter': 'tansen'}, {'district': 'rupandehi', 'headquarter': 'bhairahawa'}], 'mahakali': [{'district': 'baitadi', 'headquarter': 'baitadi'}, {'district': 'dadeldhura', 'headquarter': 'dadeldhura'}, {'district': 'darchula', 'headquarter': 'darchula'}, {'district': 'kanchanpur', 'headquarter': 'mahendara nagar'}], 'mechi': [{'district': 'ilam', 'headquarter': 'ilam'}, {'district': 'jhapa', 'headquarter': 'chandragadhi'}, {'district': 'panchthar', 'headquarter': 'phidim'}, {'district': 'taplejung', 'headquarter': 'taplejung'}], 'narayani': [{'district': 'bara', 'headquarter': 'kalaiya'}, {'district': 'chitwan', 'headquarter': 'bharatpur'}, {'district': 'makwanpur', 'headquarter': 'hetauda'}, {'district': 'parsa', 'headquarter': 'birgunj'}, {'district': 'rautahat', 'headquarter': 'gaur'}], 'rapti': [{'district': 'dang deukhuri', 'headquarter': 'ghorahi'}, {'district': 'pyuthan', 'headquarter': 'pyuthan khalanga'}, {'district': 'rolpa', 'headquarter': 'liwang'}, {'district': 'rukum', 'headquarter': 'musikot'}, {'district': 'salyan', 'headquarter': 'salyan khalanga'}], 'sagarmatha': [{'district': 'khotang', 'headquarter': 'diktel'}, {'district': 'okhaldhunga', 'headquarter': 'okhaldhunga'}, {'district': 'saptari', 'headquarter': 'rajbiraj'}, {'district': 'siraha', 'headquarter': 'siraha'}, {'district': 'solukhumbu', 'headquarter': 'salleri'}, {'district': 'udayapur', 'headquarter': 'gaighat'}], 'seti': [{'district': 'achham', 'headquarter': 'mangalsen'}, {'district': 'bajhang', 'headquarter': 'chainpur'}, {'district': 'bajura', 'headquarter': 'martadi'}, {'district': 'doti', 'headquarter': 'dipayal'}, {'district': 'kailali', 'headquarter': 'dhangadhi'}]}\n",
      "<class 'dict'>\n"
     ]
    }
   ],
   "source": [
    "import json \n",
    "with open('zones_with_district_headquaters.json') as a:\n",
    "    data = json.load(a)\n",
    "\n",
    "print(data)\n",
    "print(type(data))"
   ]
  },
  {
   "cell_type": "code",
   "execution_count": 45,
   "metadata": {},
   "outputs": [
    {
     "ename": "KeyError",
     "evalue": "('', 'district')",
     "output_type": "error",
     "traceback": [
      "\u001b[1;31m---------------------------------------------------------------------------\u001b[0m",
      "\u001b[1;31mKeyError\u001b[0m                                  Traceback (most recent call last)",
      "\u001b[1;32m~\\AppData\\Local\\Temp/ipykernel_11696/367105237.py\u001b[0m in \u001b[0;36m<module>\u001b[1;34m\u001b[0m\n\u001b[1;32m----> 1\u001b[1;33m \u001b[1;32mfor\u001b[0m \u001b[0mi\u001b[0m \u001b[1;32min\u001b[0m  \u001b[0mdata\u001b[0m\u001b[1;33m[\u001b[0m\u001b[1;34m''\u001b[0m\u001b[1;33m,\u001b[0m\u001b[1;34m'district'\u001b[0m\u001b[1;33m]\u001b[0m\u001b[1;33m:\u001b[0m\u001b[1;33m\u001b[0m\u001b[1;33m\u001b[0m\u001b[0m\n\u001b[0m\u001b[0;32m      2\u001b[0m     \u001b[0mprint\u001b[0m\u001b[1;33m(\u001b[0m\u001b[0mi\u001b[0m\u001b[1;33m)\u001b[0m\u001b[1;33m\u001b[0m\u001b[1;33m\u001b[0m\u001b[0m\n",
      "\u001b[1;31mKeyError\u001b[0m: ('', 'district')"
     ]
    }
   ],
   "source": [
    "for i in  data['','district']:\n",
    "    print(i)"
   ]
  },
  {
   "cell_type": "markdown",
   "metadata": {},
   "source": [
    "printing the districts of Bagmati zone"
   ]
  },
  {
   "cell_type": "code",
   "execution_count": 21,
   "metadata": {},
   "outputs": [
    {
     "name": "stdout",
     "output_type": "stream",
     "text": [
      "{'district': 'khotang', 'headquarter': 'diktel'}\n",
      "{'district': 'okhaldhunga', 'headquarter': 'okhaldhunga'}\n",
      "{'district': 'saptari', 'headquarter': 'rajbiraj'}\n",
      "{'district': 'siraha', 'headquarter': 'siraha'}\n",
      "{'district': 'solukhumbu', 'headquarter': 'salleri'}\n",
      "{'district': 'udayapur', 'headquarter': 'gaighat'}\n"
     ]
    }
   ],
   "source": [
    "for district1 in data['sagarmatha']:\n",
    "    print(district1)\n",
    "\n",
    "# sagarmatha_district = data['sagarmatha'] "
   ]
  },
  {
   "cell_type": "code",
   "execution_count": 22,
   "metadata": {},
   "outputs": [
    {
     "name": "stdout",
     "output_type": "stream",
     "text": [
      "{'district': 'bhaktapur', 'headquarter': 'bhaktapur'}\n",
      "{'district': 'dhading', 'headquarter': 'dhading besi'}\n",
      "{'district': 'kathmandu', 'headquarter': 'kathmandu'}\n",
      "{'district': 'kavrepalanchok', 'headquarter': 'dhulikhel'}\n",
      "{'district': 'lalitpur', 'headquarter': 'patan'}\n",
      "{'district': 'nuwakot', 'headquarter': 'bidur'}\n",
      "{'district': 'rasuwa', 'headquarter': 'dhunche'}\n",
      "{'district': 'sindhupalchok', 'headquarter': 'chautara'}\n",
      "<class 'dict'>\n"
     ]
    }
   ],
   "source": [
    "for district in data['bagmati']:\n",
    "    print(district)\n",
    "\n",
    "print(type(district))\n",
    "\n",
    "# storing the data in another variables \n",
    "bagmati_district = data['bagmati']"
   ]
  },
  {
   "cell_type": "markdown",
   "metadata": {},
   "source": [
    "storing the bagmati's district with their headquater  "
   ]
  },
  {
   "cell_type": "code",
   "execution_count": 23,
   "metadata": {},
   "outputs": [],
   "source": [
    "with open('bagmati_zone_with_district.json', 'w') as a:\n",
    "    json.dump(bagmati_district, a, indent=2) # dump() takes a dict and writes it to a file"
   ]
  },
  {
   "cell_type": "markdown",
   "metadata": {},
   "source": [
    "printing the data of file 'bagmati_zone_with_district.json'  "
   ]
  },
  {
   "cell_type": "code",
   "execution_count": 24,
   "metadata": {},
   "outputs": [
    {
     "name": "stdout",
     "output_type": "stream",
     "text": [
      "[{'district': 'bhaktapur', 'headquarter': 'bhaktapur'}, {'district': 'dhading', 'headquarter': 'dhading besi'}, {'district': 'kathmandu', 'headquarter': 'kathmandu'}, {'district': 'kavrepalanchok', 'headquarter': 'dhulikhel'}, {'district': 'lalitpur', 'headquarter': 'patan'}, {'district': 'nuwakot', 'headquarter': 'bidur'}, {'district': 'rasuwa', 'headquarter': 'dhunche'}, {'district': 'sindhupalchok', 'headquarter': 'chautara'}]\n",
      "<class 'list'>\n"
     ]
    }
   ],
   "source": [
    "with open('bagmati_zone_with_district.json', 'r') as a:\n",
    "    data = json.load(a)\n",
    "\n",
    "print(data)\n",
    "print(type(data)) "
   ]
  },
  {
   "cell_type": "code",
   "execution_count": 13,
   "metadata": {},
   "outputs": [
    {
     "name": "stdout",
     "output_type": "stream",
     "text": [
      "[\n",
      "  {\n",
      "    \"district\": \"bhaktapur\",\n",
      "    \"headquarter\": \"bhaktapur\"\n",
      "  },\n",
      "  {\n",
      "    \"district\": \"dhading\",\n",
      "    \"headquarter\": \"dhading besi\"\n",
      "  },\n",
      "  {\n",
      "    \"district\": \"kathmandu\",\n",
      "    \"headquarter\": \"kathmandu\"\n",
      "  },\n",
      "  {\n",
      "    \"district\": \"kavrepalanchok\",\n",
      "    \"headquarter\": \"dhulikhel\"\n",
      "  },\n",
      "  {\n",
      "    \"district\": \"lalitpur\",\n",
      "    \"headquarter\": \"patan\"\n",
      "  },\n",
      "  {\n",
      "    \"district\": \"nuwakot\",\n",
      "    \"headquarter\": \"bidur\"\n",
      "  },\n",
      "  {\n",
      "    \"district\": \"rasuwa\",\n",
      "    \"headquarter\": \"dhunche\"\n",
      "  },\n",
      "  {\n",
      "    \"district\": \"sindhupalchok\",\n",
      "    \"headquarter\": \"chautara\"\n",
      "  }\n",
      "]\n"
     ]
    }
   ],
   "source": [
    "new_data = json.dumps(data, indent=2)\n",
    "print(new_data)"
   ]
  }
 ],
 "metadata": {
  "interpreter": {
   "hash": "d228e4a46486f17535ae5053cd36a1c5beabe34bcabcfa546a6958f5c5d52e5f"
  },
  "kernelspec": {
   "display_name": "Python 3.7.8rc1 64-bit",
   "language": "python",
   "name": "python3"
  },
  "language_info": {
   "codemirror_mode": {
    "name": "ipython",
    "version": 3
   },
   "file_extension": ".py",
   "mimetype": "text/x-python",
   "name": "python",
   "nbconvert_exporter": "python",
   "pygments_lexer": "ipython3",
   "version": "3.7.8rc1"
  },
  "orig_nbformat": 4
 },
 "nbformat": 4,
 "nbformat_minor": 2
}
