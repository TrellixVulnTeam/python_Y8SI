{
 "cells": [
  {
   "cell_type": "markdown",
   "metadata": {},
   "source": [
    "Json in Python "
   ]
  },
  {
   "cell_type": "code",
   "execution_count": 35,
   "metadata": {},
   "outputs": [
    {
     "name": "stdout",
     "output_type": "stream",
     "text": [
      "\n",
      "{\n",
      "    \"people\" : [\n",
      "        {\n",
      "            \"name\" : \"yogesh khanal\",\n",
      "            \"phone\" : \"9876453210\", \n",
      "            \"email\" : \"example@gmail.com\", \n",
      "            \"has_license\" : false\n",
      "        },\n",
      "        {\n",
      "            \"name\" : \"Umesh kariki\",\n",
      "            \"phone\" : \"0123456789\",\n",
      "            \"email\" : \"example@gmail.com\",\n",
      "            \"has_license\" : true\n",
      "        },\n",
      "        {\n",
      "            \"name\": \"John Smith\",\n",
      "            \"phone\": \"615-555-7164\",\n",
      "            \"email\": [\"johnsmith@gmail.com\", \"johnsmith@outlook.com\"],\n",
      "            \"has_license\": false\n",
      "        },\n",
      "        {\n",
      "            \"name\": \"Jane Doe\",\n",
      "            \"phone\": \"560-555-5153\",\n",
      "            \"email\": null,\n",
      "            \"has_license\": true\n",
      "        }\n",
      "    ] \n",
      "}\n",
      "\n",
      "<class 'str'>\n",
      "{'people': [{'name': 'yogesh khanal', 'phone': '9876453210', 'email': 'example@gmail.com', 'has_license': False}, {'name': 'Umesh kariki', 'phone': '0123456789', 'email': 'example@gmail.com', 'has_license': True}, {'name': 'John Smith', 'phone': '615-555-7164', 'email': ['johnsmith@gmail.com', 'johnsmith@outlook.com'], 'has_license': False}, {'name': 'Jane Doe', 'phone': '560-555-5153', 'email': None, 'has_license': True}]}\n",
      "<class 'dict'>\n"
     ]
    }
   ],
   "source": [
    "import json\n",
    "\n",
    "people_string = '''\n",
    "{\n",
    "    \"people\" : [\n",
    "        {\n",
    "            \"name\" : \"yogesh khanal\",\n",
    "            \"phone\" : \"9876453210\", \n",
    "            \"email\" : \"example@gmail.com\", \n",
    "            \"has_license\" : false\n",
    "        },\n",
    "        {\n",
    "            \"name\" : \"Umesh kariki\",\n",
    "            \"phone\" : \"0123456789\",\n",
    "            \"email\" : \"example@gmail.com\",\n",
    "            \"has_license\" : true\n",
    "        },\n",
    "        {\n",
    "            \"name\": \"John Smith\",\n",
    "            \"phone\": \"615-555-7164\",\n",
    "            \"email\": [\"johnsmith@gmail.com\", \"johnsmith@outlook.com\"],\n",
    "            \"has_license\": false\n",
    "        },\n",
    "        {\n",
    "            \"name\": \"Jane Doe\",\n",
    "            \"phone\": \"560-555-5153\",\n",
    "            \"email\": null,\n",
    "            \"has_license\": true\n",
    "        }\n",
    "    ] \n",
    "}\n",
    "'''\n",
    "\n",
    "print(people_string)\n",
    "print(type(people_string))\n",
    "data =  json.loads(people_string)\n",
    "print(data)\n",
    "print(type(data))"
   ]
  },
  {
   "cell_type": "markdown",
   "metadata": {},
   "source": [
    "json.loads() convert JSON string to python object"
   ]
  },
  {
   "cell_type": "code",
   "execution_count": 36,
   "metadata": {},
   "outputs": [
    {
     "name": "stdout",
     "output_type": "stream",
     "text": [
      "{'people': [{'name': 'yogesh khanal', 'phone': '9876453210', 'email': 'example@gmail.com', 'has_license': False}, {'name': 'Umesh kariki', 'phone': '0123456789', 'email': 'example@gmail.com', 'has_license': True}, {'name': 'John Smith', 'phone': '615-555-7164', 'email': ['johnsmith@gmail.com', 'johnsmith@outlook.com'], 'has_license': False}, {'name': 'Jane Doe', 'phone': '560-555-5153', 'email': None, 'has_license': True}]}\n",
      "<class 'dict'>\n"
     ]
    }
   ],
   "source": [
    "data = json.loads(people_string)\n",
    "print(data)\n",
    "print(type(data))"
   ]
  },
  {
   "cell_type": "code",
   "execution_count": 37,
   "metadata": {},
   "outputs": [
    {
     "name": "stdout",
     "output_type": "stream",
     "text": [
      "yogesh khanal\n",
      "Umesh kariki\n",
      "John Smith\n",
      "Jane Doe\n",
      "\n",
      "accessing people\n",
      "[{'name': 'yogesh khanal', 'phone': '9876453210', 'email': 'example@gmail.com', 'has_license': False}, {'name': 'Umesh kariki', 'phone': '0123456789', 'email': 'example@gmail.com', 'has_license': True}, {'name': 'John Smith', 'phone': '615-555-7164', 'email': ['johnsmith@gmail.com', 'johnsmith@outlook.com'], 'has_license': False}, {'name': 'Jane Doe', 'phone': '560-555-5153', 'email': None, 'has_license': True}]\n",
      "<class 'list'>\n"
     ]
    }
   ],
   "source": [
    "print(data['people'][0]['name']) \n",
    "print(data['people'][1]['name']) \n",
    "print(data['people'][2]['name']) \n",
    "print(data['people'][3]['name']) \n",
    "print()\n",
    "print('accessing people')\n",
    "print(data['people'])\n",
    "print(type(data['people']))\n"
   ]
  },
  {
   "cell_type": "code",
   "execution_count": 38,
   "metadata": {},
   "outputs": [
    {
     "name": "stdout",
     "output_type": "stream",
     "text": [
      "yogesh khanal\n",
      "9876453210\n",
      "example@gmail.com\n",
      "False\n",
      "\n",
      "Umesh kariki\n",
      "0123456789\n",
      "example@gmail.com\n",
      "True\n",
      "\n",
      "John Smith\n",
      "615-555-7164\n",
      "['johnsmith@gmail.com', 'johnsmith@outlook.com']\n",
      "False\n",
      "\n",
      "Jane Doe\n",
      "560-555-5153\n",
      "None\n",
      "True\n",
      "\n"
     ]
    }
   ],
   "source": [
    "for person in data['people']:\n",
    "    print(person['name'])\n",
    "    print(person['phone'])\n",
    "    print(person['email'])\n",
    "    print(person['has_license'])\n",
    "    print()"
   ]
  },
  {
   "cell_type": "markdown",
   "metadata": {},
   "source": [
    "json.dumps() converts python object to JSON string "
   ]
  },
  {
   "cell_type": "code",
   "execution_count": 39,
   "metadata": {},
   "outputs": [
    {
     "name": "stdout",
     "output_type": "stream",
     "text": [
      "{'people': [{'name': 'yogesh khanal', 'phone': '9876453210', 'email': 'example@gmail.com', 'has_license': False}, {'name': 'Umesh kariki', 'phone': '0123456789', 'email': 'example@gmail.com', 'has_license': True}, {'name': 'John Smith', 'phone': '615-555-7164', 'email': ['johnsmith@gmail.com', 'johnsmith@outlook.com'], 'has_license': False}, {'name': 'Jane Doe', 'phone': '560-555-5153', 'email': None, 'has_license': True}]}\n"
     ]
    }
   ],
   "source": [
    "print(data)"
   ]
  },
  {
   "cell_type": "markdown",
   "metadata": {},
   "source": [
    "deleting email from Dictionary and converting to JSON file"
   ]
  },
  {
   "cell_type": "code",
   "execution_count": 40,
   "metadata": {},
   "outputs": [
    {
     "name": "stdout",
     "output_type": "stream",
     "text": [
      "{\n",
      "    \"people\": [\n",
      "        {\n",
      "            \"name\": \"yogesh khanal\",\n",
      "            \"phone\": \"9876453210\",\n",
      "            \"has_license\": false\n",
      "        },\n",
      "        {\n",
      "            \"name\": \"Umesh kariki\",\n",
      "            \"phone\": \"0123456789\",\n",
      "            \"has_license\": true\n",
      "        },\n",
      "        {\n",
      "            \"name\": \"John Smith\",\n",
      "            \"phone\": \"615-555-7164\",\n",
      "            \"has_license\": false\n",
      "        },\n",
      "        {\n",
      "            \"name\": \"Jane Doe\",\n",
      "            \"phone\": \"560-555-5153\",\n",
      "            \"has_license\": true\n",
      "        }\n",
      "    ]\n",
      "}\n",
      "<class 'str'>\n"
     ]
    }
   ],
   "source": [
    "for person in data['people']:\n",
    "    del person['email']\n",
    "\n",
    "new_data = json.dumps(data, indent=4)\n",
    "print(new_data)\n",
    "print(type(new_data))"
   ]
  },
  {
   "cell_type": "code",
   "execution_count": null,
   "metadata": {},
   "outputs": [],
   "source": []
  }
 ],
 "metadata": {
  "interpreter": {
   "hash": "d228e4a46486f17535ae5053cd36a1c5beabe34bcabcfa546a6958f5c5d52e5f"
  },
  "kernelspec": {
   "display_name": "Python 3.7.8rc1 64-bit",
   "language": "python",
   "name": "python3"
  },
  "language_info": {
   "codemirror_mode": {
    "name": "ipython",
    "version": 3
   },
   "file_extension": ".py",
   "mimetype": "text/x-python",
   "name": "python",
   "nbconvert_exporter": "python",
   "pygments_lexer": "ipython3",
   "version": "3.7.8"
  },
  "orig_nbformat": 4
 },
 "nbformat": 4,
 "nbformat_minor": 2
}
